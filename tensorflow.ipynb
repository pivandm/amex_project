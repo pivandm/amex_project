{
 "cells": [
  {
   "cell_type": "code",
   "execution_count": 3,
   "metadata": {
    "collapsed": true,
    "ExecuteTime": {
     "end_time": "2023-06-01T15:36:47.463083Z",
     "start_time": "2023-06-01T15:35:54.034939Z"
    }
   },
   "outputs": [
    {
     "data": {
      "text/plain": "                                         customer_ID         S_2       P_2  \\\n0  0000099d6bd597052cdcda90ffabf56573fe9d7c79be5f...  2017-03-09  0.938477   \n1  0000099d6bd597052cdcda90ffabf56573fe9d7c79be5f...  2017-04-07  0.936523   \n2  0000099d6bd597052cdcda90ffabf56573fe9d7c79be5f...  2017-05-28  0.954102   \n3  0000099d6bd597052cdcda90ffabf56573fe9d7c79be5f...  2017-06-13  0.960449   \n4  0000099d6bd597052cdcda90ffabf56573fe9d7c79be5f...  2017-07-16  0.947266   \n\n       D_39       B_1       B_2       R_1       S_3      D_41       B_3  ...  \\\n0  0.001734  0.008728  1.006836  0.009224  0.124023  0.008774  0.004707  ...   \n1  0.005775  0.004925  1.000977  0.006153  0.126709  0.000798  0.002714  ...   \n2  0.091492  0.021652  1.009766  0.006817  0.123962  0.007599  0.009422  ...   \n3  0.002455  0.013687  1.002930  0.001372  0.117188  0.000685  0.005531  ...   \n4  0.002483  0.015190  1.000977  0.007607  0.117310  0.004654  0.009308  ...   \n\n   D_136  D_137  D_138     D_139     D_140     D_141  D_142     D_143  \\\n0    NaN    NaN    NaN  0.002426  0.003706  0.003819    NaN  0.000569   \n1    NaN    NaN    NaN  0.003956  0.003166  0.005032    NaN  0.009575   \n2    NaN    NaN    NaN  0.003269  0.007328  0.000427    NaN  0.003429   \n3    NaN    NaN    NaN  0.006119  0.004517  0.003201    NaN  0.008423   \n4    NaN    NaN    NaN  0.003672  0.004944  0.008888    NaN  0.001670   \n\n      D_144     D_145  \n0  0.000610  0.002674  \n1  0.005493  0.009216  \n2  0.006985  0.002604  \n3  0.006527  0.009598  \n4  0.008125  0.009827  \n\n[5 rows x 190 columns]",
      "text/html": "<div>\n<style scoped>\n    .dataframe tbody tr th:only-of-type {\n        vertical-align: middle;\n    }\n\n    .dataframe tbody tr th {\n        vertical-align: top;\n    }\n\n    .dataframe thead th {\n        text-align: right;\n    }\n</style>\n<table border=\"1\" class=\"dataframe\">\n  <thead>\n    <tr style=\"text-align: right;\">\n      <th></th>\n      <th>customer_ID</th>\n      <th>S_2</th>\n      <th>P_2</th>\n      <th>D_39</th>\n      <th>B_1</th>\n      <th>B_2</th>\n      <th>R_1</th>\n      <th>S_3</th>\n      <th>D_41</th>\n      <th>B_3</th>\n      <th>...</th>\n      <th>D_136</th>\n      <th>D_137</th>\n      <th>D_138</th>\n      <th>D_139</th>\n      <th>D_140</th>\n      <th>D_141</th>\n      <th>D_142</th>\n      <th>D_143</th>\n      <th>D_144</th>\n      <th>D_145</th>\n    </tr>\n  </thead>\n  <tbody>\n    <tr>\n      <th>0</th>\n      <td>0000099d6bd597052cdcda90ffabf56573fe9d7c79be5f...</td>\n      <td>2017-03-09</td>\n      <td>0.938477</td>\n      <td>0.001734</td>\n      <td>0.008728</td>\n      <td>1.006836</td>\n      <td>0.009224</td>\n      <td>0.124023</td>\n      <td>0.008774</td>\n      <td>0.004707</td>\n      <td>...</td>\n      <td>NaN</td>\n      <td>NaN</td>\n      <td>NaN</td>\n      <td>0.002426</td>\n      <td>0.003706</td>\n      <td>0.003819</td>\n      <td>NaN</td>\n      <td>0.000569</td>\n      <td>0.000610</td>\n      <td>0.002674</td>\n    </tr>\n    <tr>\n      <th>1</th>\n      <td>0000099d6bd597052cdcda90ffabf56573fe9d7c79be5f...</td>\n      <td>2017-04-07</td>\n      <td>0.936523</td>\n      <td>0.005775</td>\n      <td>0.004925</td>\n      <td>1.000977</td>\n      <td>0.006153</td>\n      <td>0.126709</td>\n      <td>0.000798</td>\n      <td>0.002714</td>\n      <td>...</td>\n      <td>NaN</td>\n      <td>NaN</td>\n      <td>NaN</td>\n      <td>0.003956</td>\n      <td>0.003166</td>\n      <td>0.005032</td>\n      <td>NaN</td>\n      <td>0.009575</td>\n      <td>0.005493</td>\n      <td>0.009216</td>\n    </tr>\n    <tr>\n      <th>2</th>\n      <td>0000099d6bd597052cdcda90ffabf56573fe9d7c79be5f...</td>\n      <td>2017-05-28</td>\n      <td>0.954102</td>\n      <td>0.091492</td>\n      <td>0.021652</td>\n      <td>1.009766</td>\n      <td>0.006817</td>\n      <td>0.123962</td>\n      <td>0.007599</td>\n      <td>0.009422</td>\n      <td>...</td>\n      <td>NaN</td>\n      <td>NaN</td>\n      <td>NaN</td>\n      <td>0.003269</td>\n      <td>0.007328</td>\n      <td>0.000427</td>\n      <td>NaN</td>\n      <td>0.003429</td>\n      <td>0.006985</td>\n      <td>0.002604</td>\n    </tr>\n    <tr>\n      <th>3</th>\n      <td>0000099d6bd597052cdcda90ffabf56573fe9d7c79be5f...</td>\n      <td>2017-06-13</td>\n      <td>0.960449</td>\n      <td>0.002455</td>\n      <td>0.013687</td>\n      <td>1.002930</td>\n      <td>0.001372</td>\n      <td>0.117188</td>\n      <td>0.000685</td>\n      <td>0.005531</td>\n      <td>...</td>\n      <td>NaN</td>\n      <td>NaN</td>\n      <td>NaN</td>\n      <td>0.006119</td>\n      <td>0.004517</td>\n      <td>0.003201</td>\n      <td>NaN</td>\n      <td>0.008423</td>\n      <td>0.006527</td>\n      <td>0.009598</td>\n    </tr>\n    <tr>\n      <th>4</th>\n      <td>0000099d6bd597052cdcda90ffabf56573fe9d7c79be5f...</td>\n      <td>2017-07-16</td>\n      <td>0.947266</td>\n      <td>0.002483</td>\n      <td>0.015190</td>\n      <td>1.000977</td>\n      <td>0.007607</td>\n      <td>0.117310</td>\n      <td>0.004654</td>\n      <td>0.009308</td>\n      <td>...</td>\n      <td>NaN</td>\n      <td>NaN</td>\n      <td>NaN</td>\n      <td>0.003672</td>\n      <td>0.004944</td>\n      <td>0.008888</td>\n      <td>NaN</td>\n      <td>0.001670</td>\n      <td>0.008125</td>\n      <td>0.009827</td>\n    </tr>\n  </tbody>\n</table>\n<p>5 rows × 190 columns</p>\n</div>"
     },
     "execution_count": 3,
     "metadata": {},
     "output_type": "execute_result"
    }
   ],
   "source": [
    "import tensorflow\n",
    "import keras as k\n",
    "import pandas as pd\n",
    "import numpy as np\n",
    "import gc\n",
    "dtype_dict = {\n",
    "    'P_2': 'float16',\n",
    "    'D_39': 'float16',\n",
    "    'B_1': 'float16',\n",
    "    'B_2': 'float16',\n",
    "    'R_1': 'float16',\n",
    "    'S_3': 'float16',\n",
    "    'D_41': 'float16',\n",
    "    'B_3': 'float16',\n",
    "    'D_42': 'float16',\n",
    "    'D_43': 'float16',\n",
    "    'D_44': 'float16',\n",
    "    'B_4': 'float16',\n",
    "    'D_45': 'float16',\n",
    "    'B_5': 'float16',\n",
    "    'R_2': 'float16',\n",
    "    'D_46': 'float16',\n",
    "    'D_47': 'float16',\n",
    "    'D_48': 'float16',\n",
    "    'D_49': 'float16',\n",
    "    'B_6': 'float16',\n",
    "    'B_7': 'float16',\n",
    "    'B_8': 'float16',\n",
    "    'D_50': 'float16',\n",
    "    'D_51': 'float16',\n",
    "    'B_9': 'float16',\n",
    "    'R_3': 'float16',\n",
    "    'D_52': 'float16',\n",
    "    'P_3': 'float16',\n",
    "    'B_10': 'float16',\n",
    "    'D_53': 'float16',\n",
    "    'S_5': 'float16',\n",
    "    'B_11': 'float16',\n",
    "    'S_6': 'float16',\n",
    "    'D_54': 'float16',\n",
    "    'R_4': 'float16',\n",
    "    'S_7': 'float16',\n",
    "    'B_12': 'float16',\n",
    "    'S_8': 'float16',\n",
    "    'D_55': 'float16',\n",
    "    'D_56': 'float16',\n",
    "    'B_13': 'float16',\n",
    "    'R_5': 'float16',\n",
    "    'D_58': 'float16',\n",
    "    'S_9': 'float16',\n",
    "    'B_14': 'float16',\n",
    "    'D_59': 'float16',\n",
    "    'D_60': 'float16',\n",
    "    'D_61': 'float16',\n",
    "    'B_15': 'float16',\n",
    "    'S_11': 'float16',\n",
    "    'D_62': 'float16',\n",
    "    'D_63': 'object',\n",
    "    'D_64': 'object',\n",
    "    'D_65': 'float16',\n",
    "    'B_16': 'float16',\n",
    "    'B_17': 'float16',\n",
    "    'B_18': 'float16',\n",
    "    'B_19': 'float16',\n",
    "    'D_66': 'float16',\n",
    "    'B_20': 'float16',\n",
    "    'D_68': 'float16',\n",
    "    'S_12': 'float16',\n",
    "    'R_6': 'float16',\n",
    "    'S_13': 'float16',\n",
    "    'B_21': 'float16',\n",
    "    'D_69': 'float16',\n",
    "    'B_22': 'float16',\n",
    "    'D_70': 'float16',\n",
    "    'D_71': 'float16',\n",
    "    'D_72': 'float16',\n",
    "    'S_15': 'float16',\n",
    "    'B_23': 'float16',\n",
    "    'D_73': 'float16',\n",
    "    'P_4': 'float16',\n",
    "    'D_74': 'float16',\n",
    "    'D_75': 'float16',\n",
    "    'D_76': 'float16',\n",
    "    'B_24': 'float16',\n",
    "    'R_7': 'float16',\n",
    "    'D_77': 'float16',\n",
    "    'B_25': 'float16',\n",
    "    'B_26': 'float16',\n",
    "    'D_78': 'float16',\n",
    "    'D_79': 'float16',\n",
    "    'R_8': 'float16',\n",
    "    'R_9': 'float16',\n",
    "    'S_16': 'float16',\n",
    "    'D_80': 'float16',\n",
    "    'R_10': 'float16',\n",
    "    'R_11': 'float16',\n",
    "    'B_27': 'float16',\n",
    "    'D_81': 'float16',\n",
    "    'D_82': 'float16',\n",
    "    'S_17': 'float16',\n",
    "    'R_12': 'float16',\n",
    "    'B_28': 'float16',\n",
    "    'R_13': 'float16',\n",
    "    'D_83': 'float16',\n",
    "    'R_14': 'float16',\n",
    "    'R_15': 'float16',\n",
    "    'D_84': 'float16',\n",
    "    'R_16': 'float16',\n",
    "    'B_29': 'float16',\n",
    "    'B_30': 'float16',\n",
    "    'S_18': 'float16',\n",
    "    'D_86': 'float16',\n",
    "    'D_87': 'float16',\n",
    "    'R_17': 'float16',\n",
    "    'R_18': 'float16',\n",
    "    'D_88': 'float16',\n",
    "    'B_31': 'int64',\n",
    "    'S_19': 'float16',\n",
    "    'R_19': 'float16',\n",
    "    'B_32': 'float16',\n",
    "    'S_20': 'float16',\n",
    "    'R_20': 'float16',\n",
    "    'R_21': 'float16',\n",
    "    'B_33': 'float16',\n",
    "    'D_89': 'float16',\n",
    "    'R_22': 'float16',\n",
    "    'R_23': 'float16',\n",
    "    'D_91': 'float16',\n",
    "    'D_92': 'float16',\n",
    "    'D_93': 'float16',\n",
    "    'D_94': 'float16',\n",
    "    'R_24': 'float16',\n",
    "    'R_25': 'float16',\n",
    "    'D_96': 'float16',\n",
    "    'S_22': 'float16',\n",
    "    'S_23': 'float16',\n",
    "    'S_24': 'float16',\n",
    "    'S_25': 'float16',\n",
    "    'S_26': 'float16',\n",
    "    'D_102': 'float16',\n",
    "    'D_103': 'float16',\n",
    "    'D_104': 'float16',\n",
    "    'D_105': 'float16',\n",
    "    'D_106': 'float16',\n",
    "    'D_107': 'float16',\n",
    "    'B_36': 'float16',\n",
    "    'B_37': 'float16',\n",
    "    'R_26': 'float16',\n",
    "    'R_27': 'float16',\n",
    "    'B_38': 'float16',\n",
    "    'D_108': 'float16',\n",
    "    'D_109': 'float16',\n",
    "    'D_110': 'float16',\n",
    "    'D_111': 'float16',\n",
    "    'B_39': 'float16',\n",
    "    'D_112': 'float16',\n",
    "    'B_40': 'float16',\n",
    "    'S_27': 'float16',\n",
    "    'D_113': 'float16',\n",
    "    'D_114': 'float16',\n",
    "    'D_115': 'float16',\n",
    "    'D_116': 'float16',\n",
    "    'D_117': 'float16',\n",
    "    'D_118': 'float16',\n",
    "    'D_119': 'float16',\n",
    "    'D_120': 'float16',\n",
    "    'D_121': 'float16',\n",
    "    'D_122': 'float16',\n",
    "    'D_123': 'float16',\n",
    "    'D_124': 'float16',\n",
    "    'D_125': 'float16',\n",
    "    'D_126': 'float16',\n",
    "    'D_127': 'float16',\n",
    "    'D_128': 'float16',\n",
    "    'D_129': 'float16',\n",
    "    'B_41': 'float16',\n",
    "    'B_42': 'float16',\n",
    "    'D_130': 'float16',\n",
    "    'D_131': 'float16',\n",
    "    'D_132': 'float16',\n",
    "    'D_133': 'float16',\n",
    "    'R_28': 'float16',\n",
    "    'D_134': 'float16',\n",
    "    'D_135': 'float16',\n",
    "    'D_136': 'float16',\n",
    "    'D_137': 'float16',\n",
    "    'D_138': 'float16',\n",
    "    'D_139': 'float16',\n",
    "    'D_140': 'float16',\n",
    "    'D_141': 'float16',\n",
    "    'D_142': 'float16',\n",
    "    'D_143': 'float16',\n",
    "    'D_144': 'float16',\n",
    "    'D_145': 'float16'}\n",
    "data = pd.read_csv('train_data_3,5.csv', dtype = dtype_dict)\n",
    "data.drop(columns= [\"Unnamed: 0\"], inplace = True)\n",
    "data.head()"
   ]
  },
  {
   "cell_type": "code",
   "execution_count": 17,
   "outputs": [],
   "source": [],
   "metadata": {
    "collapsed": false,
    "ExecuteTime": {
     "end_time": "2023-06-01T15:55:02.037514Z",
     "start_time": "2023-06-01T15:55:02.011815Z"
    }
   }
  },
  {
   "cell_type": "code",
   "execution_count": 17,
   "outputs": [],
   "source": [
    "\n",
    "\n"
   ],
   "metadata": {
    "collapsed": false,
    "ExecuteTime": {
     "end_time": "2023-06-01T15:55:00.074584Z",
     "start_time": "2023-06-01T15:55:00.067007Z"
    }
   }
  },
  {
   "cell_type": "code",
   "execution_count": 37,
   "outputs": [
    {
     "data": {
      "text/plain": "                                         customer_ID         S_2       P_2  \\\n0  0000099d6bd597052cdcda90ffabf56573fe9d7c79be5f...  2017-03-09  0.938477   \n1  0000099d6bd597052cdcda90ffabf56573fe9d7c79be5f...  2017-04-07  0.936523   \n2  0000099d6bd597052cdcda90ffabf56573fe9d7c79be5f...  2017-05-28  0.954102   \n3  0000099d6bd597052cdcda90ffabf56573fe9d7c79be5f...  2017-06-13  0.960449   \n4  0000099d6bd597052cdcda90ffabf56573fe9d7c79be5f...  2017-07-16  0.947266   \n\n       D_39       B_1       B_2       R_1       S_3      D_41       B_3  ...  \\\n0  0.001734  0.008728  1.006836  0.009224  0.124023  0.008774  0.004707  ...   \n1  0.005775  0.004925  1.000977  0.006153  0.126709  0.000798  0.002714  ...   \n2  0.091492  0.021652  1.009766  0.006817  0.123962  0.007599  0.009422  ...   \n3  0.002455  0.013687  1.002930  0.001372  0.117188  0.000685  0.005531  ...   \n4  0.002483  0.015190  1.000977  0.007607  0.117310  0.004654  0.009308  ...   \n\n   D_136  D_137  D_138     D_139     D_140     D_141  D_142     D_143  \\\n0    NaN    NaN    NaN  0.002426  0.003706  0.003819    NaN  0.000569   \n1    NaN    NaN    NaN  0.003956  0.003166  0.005032    NaN  0.009575   \n2    NaN    NaN    NaN  0.003269  0.007328  0.000427    NaN  0.003429   \n3    NaN    NaN    NaN  0.006119  0.004517  0.003201    NaN  0.008423   \n4    NaN    NaN    NaN  0.003672  0.004944  0.008888    NaN  0.001670   \n\n      D_144     D_145  \n0  0.000610  0.002674  \n1  0.005493  0.009216  \n2  0.006985  0.002604  \n3  0.006527  0.009598  \n4  0.008125  0.009827  \n\n[5 rows x 190 columns]",
      "text/html": "<div>\n<style scoped>\n    .dataframe tbody tr th:only-of-type {\n        vertical-align: middle;\n    }\n\n    .dataframe tbody tr th {\n        vertical-align: top;\n    }\n\n    .dataframe thead th {\n        text-align: right;\n    }\n</style>\n<table border=\"1\" class=\"dataframe\">\n  <thead>\n    <tr style=\"text-align: right;\">\n      <th></th>\n      <th>customer_ID</th>\n      <th>S_2</th>\n      <th>P_2</th>\n      <th>D_39</th>\n      <th>B_1</th>\n      <th>B_2</th>\n      <th>R_1</th>\n      <th>S_3</th>\n      <th>D_41</th>\n      <th>B_3</th>\n      <th>...</th>\n      <th>D_136</th>\n      <th>D_137</th>\n      <th>D_138</th>\n      <th>D_139</th>\n      <th>D_140</th>\n      <th>D_141</th>\n      <th>D_142</th>\n      <th>D_143</th>\n      <th>D_144</th>\n      <th>D_145</th>\n    </tr>\n  </thead>\n  <tbody>\n    <tr>\n      <th>0</th>\n      <td>0000099d6bd597052cdcda90ffabf56573fe9d7c79be5f...</td>\n      <td>2017-03-09</td>\n      <td>0.938477</td>\n      <td>0.001734</td>\n      <td>0.008728</td>\n      <td>1.006836</td>\n      <td>0.009224</td>\n      <td>0.124023</td>\n      <td>0.008774</td>\n      <td>0.004707</td>\n      <td>...</td>\n      <td>NaN</td>\n      <td>NaN</td>\n      <td>NaN</td>\n      <td>0.002426</td>\n      <td>0.003706</td>\n      <td>0.003819</td>\n      <td>NaN</td>\n      <td>0.000569</td>\n      <td>0.000610</td>\n      <td>0.002674</td>\n    </tr>\n    <tr>\n      <th>1</th>\n      <td>0000099d6bd597052cdcda90ffabf56573fe9d7c79be5f...</td>\n      <td>2017-04-07</td>\n      <td>0.936523</td>\n      <td>0.005775</td>\n      <td>0.004925</td>\n      <td>1.000977</td>\n      <td>0.006153</td>\n      <td>0.126709</td>\n      <td>0.000798</td>\n      <td>0.002714</td>\n      <td>...</td>\n      <td>NaN</td>\n      <td>NaN</td>\n      <td>NaN</td>\n      <td>0.003956</td>\n      <td>0.003166</td>\n      <td>0.005032</td>\n      <td>NaN</td>\n      <td>0.009575</td>\n      <td>0.005493</td>\n      <td>0.009216</td>\n    </tr>\n    <tr>\n      <th>2</th>\n      <td>0000099d6bd597052cdcda90ffabf56573fe9d7c79be5f...</td>\n      <td>2017-05-28</td>\n      <td>0.954102</td>\n      <td>0.091492</td>\n      <td>0.021652</td>\n      <td>1.009766</td>\n      <td>0.006817</td>\n      <td>0.123962</td>\n      <td>0.007599</td>\n      <td>0.009422</td>\n      <td>...</td>\n      <td>NaN</td>\n      <td>NaN</td>\n      <td>NaN</td>\n      <td>0.003269</td>\n      <td>0.007328</td>\n      <td>0.000427</td>\n      <td>NaN</td>\n      <td>0.003429</td>\n      <td>0.006985</td>\n      <td>0.002604</td>\n    </tr>\n    <tr>\n      <th>3</th>\n      <td>0000099d6bd597052cdcda90ffabf56573fe9d7c79be5f...</td>\n      <td>2017-06-13</td>\n      <td>0.960449</td>\n      <td>0.002455</td>\n      <td>0.013687</td>\n      <td>1.002930</td>\n      <td>0.001372</td>\n      <td>0.117188</td>\n      <td>0.000685</td>\n      <td>0.005531</td>\n      <td>...</td>\n      <td>NaN</td>\n      <td>NaN</td>\n      <td>NaN</td>\n      <td>0.006119</td>\n      <td>0.004517</td>\n      <td>0.003201</td>\n      <td>NaN</td>\n      <td>0.008423</td>\n      <td>0.006527</td>\n      <td>0.009598</td>\n    </tr>\n    <tr>\n      <th>4</th>\n      <td>0000099d6bd597052cdcda90ffabf56573fe9d7c79be5f...</td>\n      <td>2017-07-16</td>\n      <td>0.947266</td>\n      <td>0.002483</td>\n      <td>0.015190</td>\n      <td>1.000977</td>\n      <td>0.007607</td>\n      <td>0.117310</td>\n      <td>0.004654</td>\n      <td>0.009308</td>\n      <td>...</td>\n      <td>NaN</td>\n      <td>NaN</td>\n      <td>NaN</td>\n      <td>0.003672</td>\n      <td>0.004944</td>\n      <td>0.008888</td>\n      <td>NaN</td>\n      <td>0.001670</td>\n      <td>0.008125</td>\n      <td>0.009827</td>\n    </tr>\n  </tbody>\n</table>\n<p>5 rows × 190 columns</p>\n</div>"
     },
     "execution_count": 37,
     "metadata": {},
     "output_type": "execute_result"
    }
   ],
   "source": [
    "data.head()"
   ],
   "metadata": {
    "collapsed": false,
    "ExecuteTime": {
     "end_time": "2023-05-31T18:02:47.835771Z",
     "start_time": "2023-05-31T18:02:47.799910Z"
    }
   }
  },
  {
   "cell_type": "code",
   "execution_count": 18,
   "outputs": [
    {
     "name": "stdout",
     "output_type": "stream",
     "text": [
      "There are 458913 unique customers in train.\n"
     ]
    }
   ],
   "source": [
    "train = pd.read_csv('train_data_3,5.csv', usecols=['customer_ID'])\n",
    "#train['customer_ID'] = train['customer_ID'].str[-16:].str.hex_to_int().astype('int64')\n",
    "train['customer_ID'] = train['customer_ID'].apply(lambda x: int(x[-16:],16) ).astype('int64')\n",
    "customers = train.drop_duplicates().sort_index().values.flatten()\n",
    "print(f'There are {len(customers)} unique customers in train.')\n"
   ],
   "metadata": {
    "collapsed": false,
    "ExecuteTime": {
     "end_time": "2023-06-01T15:56:45.035402Z",
     "start_time": "2023-06-01T15:56:23.130745Z"
    }
   }
  },
  {
   "cell_type": "code",
   "execution_count": 19,
   "outputs": [
    {
     "name": "stdout",
     "output_type": "stream",
     "text": [
      "There are 190 train dataframe columns\n"
     ]
    }
   ],
   "source": [
    "train = pd.read_csv('train_data_3,5.csv', dtype = dtype_dict)\n",
    "train.drop(columns= [\"Unnamed: 0\"], inplace = True)\n",
    "T_COLS = train.columns.tolist()\n",
    "cat_features = [\n",
    "    \"B_30\",\n",
    "    \"B_38\",\n",
    "    \"D_114\",\n",
    "    \"D_116\",\n",
    "    \"D_117\",\n",
    "    \"D_120\",\n",
    "    \"D_126\",\n",
    "    \"D_63\",\n",
    "    \"D_64\",\n",
    "    \"D_66\",\n",
    "    \"D_68\",\n",
    "]\n",
    "\n",
    "features = train.drop([\"customer_ID\", \"S_2\"], axis = 1).columns.to_list()\n",
    "num_features = [col for col in features if col not in cat_features]\n",
    "train['customer_ID'] = train['customer_ID'].apply(int, base = 16)\n",
    "train_num_agg = train.groupby(\"customer_ID\")[num_features].agg(['mean', 'std', 'min', 'max', 'last',])\n",
    "train_num_agg.columns = ['_'.join(x) for x in train_num_agg.columns]\n",
    "train_num_agg.reset_index(inplace=True)\n",
    "train_num_agg.head(10)\n",
    "print(f'There are {len(T_COLS)} train dataframe columns')\n",
    "train_cat_agg = train.groupby(\"customer_ID\")[cat_features].agg([\"count\", \"first\", \"last\", \"nunique\"])\n",
    "train_cat_agg.columns = [\"_\".join(x) for x in train_cat_agg.columns]\n",
    "train_cat_agg.reset_index(inplace = True)\n",
    "train = pd.concat([train_num_agg, train_cat_agg], axis= 1)"
   ],
   "metadata": {
    "collapsed": false,
    "ExecuteTime": {
     "end_time": "2023-06-01T15:58:53.194483Z",
     "start_time": "2023-06-01T15:56:57.443858Z"
    }
   }
  },
  {
   "cell_type": "code",
   "execution_count": 20,
   "outputs": [
    {
     "data": {
      "text/plain": "                                         customer_ID  P_2_mean   P_2_std  \\\n0  6635978502886406773010826685199967845994905621...  0.933782  0.024194   \n1  1093061640837817319177441599691335065335123126...  0.899827  0.022097   \n2  1872899361163577104068082309784527078783611191...  0.878418  0.028837   \n3  4537285761250958945491276275085370109811534787...  0.598933  0.020082   \n4  8319271895156225519915761395205995075045177131...  0.891752  0.042316   \n\n    P_2_min   P_2_max  P_2_last  D_39_mean  D_39_std  D_39_min  D_39_max  ...  \\\n0  0.868652  0.960449  0.934570   0.010702  0.024440  0.001082  0.091492  ...   \n1  0.861328  0.929199  0.880371   0.215171  0.199123  0.002224  0.567383  ...   \n2  0.797852  0.904297  0.880859   0.004181  0.002759  0.000802  0.009705  ...   \n3  0.567383  0.623535  0.621582   0.048873  0.088490  0.000660  0.268555  ...   \n4  0.805176  0.940430  0.872070   0.004644  0.002883  0.000030  0.008682  ...   \n\n   D_64_last  D_64_nunique  D_66_count  D_66_first  D_66_last  D_66_nunique  \\\n0          O             1           0         NaN        NaN             0   \n1          O             1           0         NaN        NaN             0   \n2          R             1           0         NaN        NaN             0   \n3          O             1           0         NaN        NaN             0   \n4          O             1          13         1.0        1.0             1   \n\n   D_68_count  D_68_first  D_68_last  D_68_nunique  \n0          13         6.0        6.0             1  \n1          13         6.0        6.0             1  \n2          13         6.0        6.0             1  \n3          13         2.0        3.0             3  \n4          13         6.0        6.0             1  \n\n[5 rows x 931 columns]",
      "text/html": "<div>\n<style scoped>\n    .dataframe tbody tr th:only-of-type {\n        vertical-align: middle;\n    }\n\n    .dataframe tbody tr th {\n        vertical-align: top;\n    }\n\n    .dataframe thead th {\n        text-align: right;\n    }\n</style>\n<table border=\"1\" class=\"dataframe\">\n  <thead>\n    <tr style=\"text-align: right;\">\n      <th></th>\n      <th>customer_ID</th>\n      <th>P_2_mean</th>\n      <th>P_2_std</th>\n      <th>P_2_min</th>\n      <th>P_2_max</th>\n      <th>P_2_last</th>\n      <th>D_39_mean</th>\n      <th>D_39_std</th>\n      <th>D_39_min</th>\n      <th>D_39_max</th>\n      <th>...</th>\n      <th>D_64_last</th>\n      <th>D_64_nunique</th>\n      <th>D_66_count</th>\n      <th>D_66_first</th>\n      <th>D_66_last</th>\n      <th>D_66_nunique</th>\n      <th>D_68_count</th>\n      <th>D_68_first</th>\n      <th>D_68_last</th>\n      <th>D_68_nunique</th>\n    </tr>\n  </thead>\n  <tbody>\n    <tr>\n      <th>0</th>\n      <td>6635978502886406773010826685199967845994905621...</td>\n      <td>0.933782</td>\n      <td>0.024194</td>\n      <td>0.868652</td>\n      <td>0.960449</td>\n      <td>0.934570</td>\n      <td>0.010702</td>\n      <td>0.024440</td>\n      <td>0.001082</td>\n      <td>0.091492</td>\n      <td>...</td>\n      <td>O</td>\n      <td>1</td>\n      <td>0</td>\n      <td>NaN</td>\n      <td>NaN</td>\n      <td>0</td>\n      <td>13</td>\n      <td>6.0</td>\n      <td>6.0</td>\n      <td>1</td>\n    </tr>\n    <tr>\n      <th>1</th>\n      <td>1093061640837817319177441599691335065335123126...</td>\n      <td>0.899827</td>\n      <td>0.022097</td>\n      <td>0.861328</td>\n      <td>0.929199</td>\n      <td>0.880371</td>\n      <td>0.215171</td>\n      <td>0.199123</td>\n      <td>0.002224</td>\n      <td>0.567383</td>\n      <td>...</td>\n      <td>O</td>\n      <td>1</td>\n      <td>0</td>\n      <td>NaN</td>\n      <td>NaN</td>\n      <td>0</td>\n      <td>13</td>\n      <td>6.0</td>\n      <td>6.0</td>\n      <td>1</td>\n    </tr>\n    <tr>\n      <th>2</th>\n      <td>1872899361163577104068082309784527078783611191...</td>\n      <td>0.878418</td>\n      <td>0.028837</td>\n      <td>0.797852</td>\n      <td>0.904297</td>\n      <td>0.880859</td>\n      <td>0.004181</td>\n      <td>0.002759</td>\n      <td>0.000802</td>\n      <td>0.009705</td>\n      <td>...</td>\n      <td>R</td>\n      <td>1</td>\n      <td>0</td>\n      <td>NaN</td>\n      <td>NaN</td>\n      <td>0</td>\n      <td>13</td>\n      <td>6.0</td>\n      <td>6.0</td>\n      <td>1</td>\n    </tr>\n    <tr>\n      <th>3</th>\n      <td>4537285761250958945491276275085370109811534787...</td>\n      <td>0.598933</td>\n      <td>0.020082</td>\n      <td>0.567383</td>\n      <td>0.623535</td>\n      <td>0.621582</td>\n      <td>0.048873</td>\n      <td>0.088490</td>\n      <td>0.000660</td>\n      <td>0.268555</td>\n      <td>...</td>\n      <td>O</td>\n      <td>1</td>\n      <td>0</td>\n      <td>NaN</td>\n      <td>NaN</td>\n      <td>0</td>\n      <td>13</td>\n      <td>2.0</td>\n      <td>3.0</td>\n      <td>3</td>\n    </tr>\n    <tr>\n      <th>4</th>\n      <td>8319271895156225519915761395205995075045177131...</td>\n      <td>0.891752</td>\n      <td>0.042316</td>\n      <td>0.805176</td>\n      <td>0.940430</td>\n      <td>0.872070</td>\n      <td>0.004644</td>\n      <td>0.002883</td>\n      <td>0.000030</td>\n      <td>0.008682</td>\n      <td>...</td>\n      <td>O</td>\n      <td>1</td>\n      <td>13</td>\n      <td>1.0</td>\n      <td>1.0</td>\n      <td>1</td>\n      <td>13</td>\n      <td>6.0</td>\n      <td>6.0</td>\n      <td>1</td>\n    </tr>\n  </tbody>\n</table>\n<p>5 rows × 931 columns</p>\n</div>"
     },
     "execution_count": 20,
     "metadata": {},
     "output_type": "execute_result"
    }
   ],
   "source": [
    "train.head()"
   ],
   "metadata": {
    "collapsed": false,
    "ExecuteTime": {
     "end_time": "2023-06-01T15:58:53.220439Z",
     "start_time": "2023-06-01T15:58:53.203775Z"
    }
   }
  },
  {
   "cell_type": "code",
   "execution_count": 21,
   "outputs": [
    {
     "data": {
      "text/plain": "<pandas.core.indexing._LocIndexer at 0x2ece54270>"
     },
     "execution_count": 21,
     "metadata": {},
     "output_type": "execute_result"
    }
   ],
   "source": [
    "train.loc"
   ],
   "metadata": {
    "collapsed": false,
    "ExecuteTime": {
     "end_time": "2023-06-01T15:59:13.690292Z",
     "start_time": "2023-06-01T15:59:13.637804Z"
    }
   }
  },
  {
   "cell_type": "code",
   "execution_count": 30,
   "outputs": [],
   "source": [
    "\n"
   ],
   "metadata": {
    "collapsed": false,
    "ExecuteTime": {
     "end_time": "2023-06-01T16:04:02.789509Z",
     "start_time": "2023-06-01T16:04:02.786291Z"
    }
   }
  },
  {
   "cell_type": "code",
   "execution_count": 32,
   "outputs": [
    {
     "data": {
      "text/plain": "['B_30_count',\n 'B_30_first',\n 'B_30_last',\n 'B_30_nunique',\n 'B_38_count',\n 'B_38_first',\n 'B_38_last',\n 'B_38_nunique',\n 'D_114_count',\n 'D_114_first',\n 'D_114_last',\n 'D_114_nunique',\n 'D_116_count',\n 'D_116_first',\n 'D_116_last',\n 'D_116_nunique',\n 'D_117_count',\n 'D_117_first',\n 'D_117_last',\n 'D_117_nunique',\n 'D_120_count',\n 'D_120_first',\n 'D_120_last',\n 'D_120_nunique',\n 'D_126_count',\n 'D_126_first',\n 'D_126_last',\n 'D_126_nunique',\n 'D_63_count',\n 'D_63_first',\n 'D_63_last',\n 'D_63_nunique',\n 'D_64_count',\n 'D_64_first',\n 'D_64_last',\n 'D_64_nunique',\n 'D_66_count',\n 'D_66_first',\n 'D_66_last',\n 'D_66_nunique',\n 'D_68_count',\n 'D_68_first',\n 'D_68_last',\n 'D_68_nunique']"
     },
     "execution_count": 32,
     "metadata": {},
     "output_type": "execute_result"
    }
   ],
   "source": [
    "list_train_cat_agg = train_cat_agg.columns.tolist()\n",
    "list_train_cat_agg.pop(0)\n",
    "list_train_cat_agg"
   ],
   "metadata": {
    "collapsed": false,
    "ExecuteTime": {
     "end_time": "2023-06-01T16:04:13.709499Z",
     "start_time": "2023-06-01T16:04:13.669626Z"
    }
   }
  },
  {
   "cell_type": "code",
   "execution_count": 33,
   "outputs": [
    {
     "data": {
      "text/plain": "(458913, 931)"
     },
     "execution_count": 33,
     "metadata": {},
     "output_type": "execute_result"
    }
   ],
   "source": [
    "train.shape"
   ],
   "metadata": {
    "collapsed": false,
    "ExecuteTime": {
     "end_time": "2023-06-01T16:04:15.778428Z",
     "start_time": "2023-06-01T16:04:15.707493Z"
    }
   }
  },
  {
   "cell_type": "code",
   "execution_count": 38,
   "outputs": [],
   "source": [
    "def feature_engineer(train, PAD_CUSTOMER_TO_13_ROWS = True, targets = None):\n",
    "\n",
    "    # REDUCE STRING COLUMNS\n",
    "    # from 64 bytes to 8 bytes, and 10 bytes to 3 bytes respectively\n",
    "\n",
    "    # LABEL ENCODE CAT COLUMNS (and reduce to 1 byte)\n",
    "    # with 0: padding, 1: nan, 2,3,4,etc: values\n",
    "    d_63_map = {'CL':2, 'CO':3, 'CR':4, 'XL':5, 'XM':6, 'XZ':7}\n",
    "    train['D_63_last'] = train.D_63_last.map(d_63_map).fillna(1).astype('int16')\n",
    "    train['D_63_first'] = train.D_63_first.map(d_63_map).fillna(1).astype('int16')\n",
    "\n",
    "    d_64_map = {'-1':2,'O':3, 'R':4, 'U':5}\n",
    "    train['D_64_last'] = train.D_64_last.map(d_64_map).fillna(1).astype('int16')\n",
    "    train['D_64_first'] = train.D_64_first.map(d_64_map).fillna(1).astype('int16')\n",
    "\n",
    "    CATS = [list_train_cat_agg]\n",
    "    OFFSETS = [2,1,2,2,3,2,3,2,2] #2 minus minimal value in full train csv\n",
    "    # then 0 will be padding, 1 will be NAN, 2,3,4,etc will be values\n",
    "    for c,s in zip(CATS,OFFSETS):\n",
    "        train[c] = train[c] + s\n",
    "        train[c] = train[c].fillna(1).astype('int16')\n",
    "    CATS += ['D_63_first','D_64_last']\n",
    "\n",
    "    # ADD NEW FEATURES HERE\n",
    "    # EXAMPLE: train['feature_189'] = etc etc etc\n",
    "    # EXAMPLE: train['feature_190'] = etc etc etc\n",
    "    # IF CATEGORICAL, THEN ADD TO CATS WITH: CATS += ['feaure_190'] etc etc etc\n",
    "\n",
    "    # PAD ROWS SO EACH CUSTOMER HAS 13 ROWS\n",
    "\n",
    "\n",
    "    # ADD TARGETS (and reduce to 1 byte)\n",
    "    if targets is not None:\n",
    "        train = train.merge(targets,on='customer_ID',how='left')\n",
    "        train.target = train.target.astype('int16')\n",
    "\n",
    "    # FILL NAN\n",
    "    d_63_map = {'CL':2, 'CO':3, 'CR':4, 'XL':5, 'XM':6, 'XZ':7}\n",
    "    train['D_63'] = train.D_63.map(d_63_map).fillna(1).astype('int8')\n",
    "\n",
    "    d_64_map = {'-1':2,'O':3, 'R':4, 'U':5}\n",
    "    train['D_64'] = train.D_64.map(d_64_map).fillna(1).astype('int8')\n",
    "\n",
    "    CATS = ['B_30', 'B_38', 'D_114', 'D_116', 'D_117', 'D_120', 'D_126', 'D_66', 'D_68']\n",
    "    OFFSETS = [2,1,2,2,3,2,3,2,2] #2 minus minimal value in full train csv\n",
    "    # then 0 will be padding, 1 will be NAN, 2,3,4,etc will be values\n",
    "    for c,s in zip(CATS,OFFSETS):\n",
    "        train[c] = train[c] + s\n",
    "        train[c] = train[c].fillna(1).astype('int8')\n",
    "    CATS += ['D_63','D_64']\n",
    "\n",
    "    # SORT BY CUSTOMER THEN DATE\n",
    "    train = train.sort_values(['customer_ID','year','month','day']).reset_index(drop=True)\n",
    "    train = train.drop(['year','month','day'],axis=1)\n",
    "\n",
    "    # REARRANGE COLUMNS WITH 11 CATS FIRST\n",
    "    COLS = list(train.columns[1:])\n",
    "    COLS = ['customer_ID'] + CATS + [c for c in COLS if c not in CATS]\n",
    "    train = train[COLS]\n",
    "\n",
    "    return train"
   ],
   "metadata": {
    "collapsed": false,
    "ExecuteTime": {
     "end_time": "2023-06-01T16:08:37.202833Z",
     "start_time": "2023-06-01T16:08:37.167933Z"
    }
   }
  },
  {
   "cell_type": "code",
   "execution_count": 39,
   "outputs": [
    {
     "ename": "ValueError",
     "evalue": "Grouper for 'customer_ID' not 1-dimensional",
     "output_type": "error",
     "traceback": [
      "\u001B[0;31m---------------------------------------------------------------------------\u001B[0m",
      "\u001B[0;31mValueError\u001B[0m                                Traceback (most recent call last)",
      "Cell \u001B[0;32mIn[39], line 1\u001B[0m\n\u001B[0;32m----> 1\u001B[0m train \u001B[38;5;241m=\u001B[39m \u001B[43mfeature_engineer\u001B[49m\u001B[43m(\u001B[49m\u001B[43mtrain\u001B[49m\u001B[43m,\u001B[49m\u001B[43m \u001B[49m\u001B[43mPAD_CUSTOMER_TO_13_ROWS\u001B[49m\u001B[43m \u001B[49m\u001B[38;5;241;43m=\u001B[39;49m\u001B[43m \u001B[49m\u001B[38;5;28;43;01mTrue\u001B[39;49;00m\u001B[43m,\u001B[49m\u001B[43m \u001B[49m\u001B[43mtargets\u001B[49m\u001B[43m \u001B[49m\u001B[38;5;241;43m=\u001B[39;49m\u001B[43m \u001B[49m\u001B[38;5;28;43;01mNone\u001B[39;49;00m\u001B[43m)\u001B[49m\n\u001B[1;32m      2\u001B[0m train\u001B[38;5;241m.\u001B[39mhead()\n",
      "Cell \u001B[0;32mIn[38], line 31\u001B[0m, in \u001B[0;36mfeature_engineer\u001B[0;34m(train, PAD_CUSTOMER_TO_13_ROWS, targets)\u001B[0m\n\u001B[1;32m     24\u001B[0m \u001B[38;5;66;03m# ADD NEW FEATURES HERE\u001B[39;00m\n\u001B[1;32m     25\u001B[0m \u001B[38;5;66;03m# EXAMPLE: train['feature_189'] = etc etc etc\u001B[39;00m\n\u001B[1;32m     26\u001B[0m \u001B[38;5;66;03m# EXAMPLE: train['feature_190'] = etc etc etc\u001B[39;00m\n\u001B[1;32m     27\u001B[0m \u001B[38;5;66;03m# IF CATEGORICAL, THEN ADD TO CATS WITH: CATS += ['feaure_190'] etc etc etc\u001B[39;00m\n\u001B[1;32m     28\u001B[0m \n\u001B[1;32m     29\u001B[0m \u001B[38;5;66;03m# PAD ROWS SO EACH CUSTOMER HAS 13 ROWS\u001B[39;00m\n\u001B[1;32m     30\u001B[0m \u001B[38;5;28;01mif\u001B[39;00m PAD_CUSTOMER_TO_13_ROWS:\n\u001B[0;32m---> 31\u001B[0m     tmp \u001B[38;5;241m=\u001B[39m \u001B[43mtrain\u001B[49m\u001B[43m[\u001B[49m\u001B[43m[\u001B[49m\u001B[38;5;124;43m'\u001B[39;49m\u001B[38;5;124;43mcustomer_ID\u001B[39;49m\u001B[38;5;124;43m'\u001B[39;49m\u001B[43m]\u001B[49m\u001B[43m]\u001B[49m\u001B[38;5;241;43m.\u001B[39;49m\u001B[43mgroupby\u001B[49m\u001B[43m(\u001B[49m\u001B[38;5;124;43m'\u001B[39;49m\u001B[38;5;124;43mcustomer_ID\u001B[39;49m\u001B[38;5;124;43m'\u001B[39;49m\u001B[43m)\u001B[49m\u001B[38;5;241m.\u001B[39mcustomer_ID\u001B[38;5;241m.\u001B[39magg(\u001B[38;5;124m'\u001B[39m\u001B[38;5;124mcount\u001B[39m\u001B[38;5;124m'\u001B[39m)\n\u001B[1;32m     32\u001B[0m     more \u001B[38;5;241m=\u001B[39m pd\u001B[38;5;241m.\u001B[39marray([],dtype\u001B[38;5;241m=\u001B[39m\u001B[38;5;124m'\u001B[39m\u001B[38;5;124mint64\u001B[39m\u001B[38;5;124m'\u001B[39m)\n\u001B[1;32m     33\u001B[0m     \u001B[38;5;28;01mfor\u001B[39;00m j \u001B[38;5;129;01min\u001B[39;00m \u001B[38;5;28mrange\u001B[39m(\u001B[38;5;241m1\u001B[39m,\u001B[38;5;241m13\u001B[39m):\n",
      "File \u001B[0;32m~/anaconda3/lib/python3.10/site-packages/pandas/core/frame.py:8402\u001B[0m, in \u001B[0;36mDataFrame.groupby\u001B[0;34m(self, by, axis, level, as_index, sort, group_keys, squeeze, observed, dropna)\u001B[0m\n\u001B[1;32m   8399\u001B[0m     \u001B[38;5;28;01mraise\u001B[39;00m \u001B[38;5;167;01mTypeError\u001B[39;00m(\u001B[38;5;124m\"\u001B[39m\u001B[38;5;124mYou have to supply one of \u001B[39m\u001B[38;5;124m'\u001B[39m\u001B[38;5;124mby\u001B[39m\u001B[38;5;124m'\u001B[39m\u001B[38;5;124m and \u001B[39m\u001B[38;5;124m'\u001B[39m\u001B[38;5;124mlevel\u001B[39m\u001B[38;5;124m'\u001B[39m\u001B[38;5;124m\"\u001B[39m)\n\u001B[1;32m   8400\u001B[0m axis \u001B[38;5;241m=\u001B[39m \u001B[38;5;28mself\u001B[39m\u001B[38;5;241m.\u001B[39m_get_axis_number(axis)\n\u001B[0;32m-> 8402\u001B[0m \u001B[38;5;28;01mreturn\u001B[39;00m \u001B[43mDataFrameGroupBy\u001B[49m\u001B[43m(\u001B[49m\n\u001B[1;32m   8403\u001B[0m \u001B[43m    \u001B[49m\u001B[43mobj\u001B[49m\u001B[38;5;241;43m=\u001B[39;49m\u001B[38;5;28;43mself\u001B[39;49m\u001B[43m,\u001B[49m\n\u001B[1;32m   8404\u001B[0m \u001B[43m    \u001B[49m\u001B[43mkeys\u001B[49m\u001B[38;5;241;43m=\u001B[39;49m\u001B[43mby\u001B[49m\u001B[43m,\u001B[49m\n\u001B[1;32m   8405\u001B[0m \u001B[43m    \u001B[49m\u001B[43maxis\u001B[49m\u001B[38;5;241;43m=\u001B[39;49m\u001B[43maxis\u001B[49m\u001B[43m,\u001B[49m\n\u001B[1;32m   8406\u001B[0m \u001B[43m    \u001B[49m\u001B[43mlevel\u001B[49m\u001B[38;5;241;43m=\u001B[39;49m\u001B[43mlevel\u001B[49m\u001B[43m,\u001B[49m\n\u001B[1;32m   8407\u001B[0m \u001B[43m    \u001B[49m\u001B[43mas_index\u001B[49m\u001B[38;5;241;43m=\u001B[39;49m\u001B[43mas_index\u001B[49m\u001B[43m,\u001B[49m\n\u001B[1;32m   8408\u001B[0m \u001B[43m    \u001B[49m\u001B[43msort\u001B[49m\u001B[38;5;241;43m=\u001B[39;49m\u001B[43msort\u001B[49m\u001B[43m,\u001B[49m\n\u001B[1;32m   8409\u001B[0m \u001B[43m    \u001B[49m\u001B[43mgroup_keys\u001B[49m\u001B[38;5;241;43m=\u001B[39;49m\u001B[43mgroup_keys\u001B[49m\u001B[43m,\u001B[49m\n\u001B[1;32m   8410\u001B[0m \u001B[43m    \u001B[49m\u001B[43msqueeze\u001B[49m\u001B[38;5;241;43m=\u001B[39;49m\u001B[43msqueeze\u001B[49m\u001B[43m,\u001B[49m\n\u001B[1;32m   8411\u001B[0m \u001B[43m    \u001B[49m\u001B[43mobserved\u001B[49m\u001B[38;5;241;43m=\u001B[39;49m\u001B[43mobserved\u001B[49m\u001B[43m,\u001B[49m\n\u001B[1;32m   8412\u001B[0m \u001B[43m    \u001B[49m\u001B[43mdropna\u001B[49m\u001B[38;5;241;43m=\u001B[39;49m\u001B[43mdropna\u001B[49m\u001B[43m,\u001B[49m\n\u001B[1;32m   8413\u001B[0m \u001B[43m\u001B[49m\u001B[43m)\u001B[49m\n",
      "File \u001B[0;32m~/anaconda3/lib/python3.10/site-packages/pandas/core/groupby/groupby.py:965\u001B[0m, in \u001B[0;36mGroupBy.__init__\u001B[0;34m(self, obj, keys, axis, level, grouper, exclusions, selection, as_index, sort, group_keys, squeeze, observed, mutated, dropna)\u001B[0m\n\u001B[1;32m    962\u001B[0m \u001B[38;5;28;01mif\u001B[39;00m grouper \u001B[38;5;129;01mis\u001B[39;00m \u001B[38;5;28;01mNone\u001B[39;00m:\n\u001B[1;32m    963\u001B[0m     \u001B[38;5;28;01mfrom\u001B[39;00m \u001B[38;5;21;01mpandas\u001B[39;00m\u001B[38;5;21;01m.\u001B[39;00m\u001B[38;5;21;01mcore\u001B[39;00m\u001B[38;5;21;01m.\u001B[39;00m\u001B[38;5;21;01mgroupby\u001B[39;00m\u001B[38;5;21;01m.\u001B[39;00m\u001B[38;5;21;01mgrouper\u001B[39;00m \u001B[38;5;28;01mimport\u001B[39;00m get_grouper\n\u001B[0;32m--> 965\u001B[0m     grouper, exclusions, obj \u001B[38;5;241m=\u001B[39m \u001B[43mget_grouper\u001B[49m\u001B[43m(\u001B[49m\n\u001B[1;32m    966\u001B[0m \u001B[43m        \u001B[49m\u001B[43mobj\u001B[49m\u001B[43m,\u001B[49m\n\u001B[1;32m    967\u001B[0m \u001B[43m        \u001B[49m\u001B[43mkeys\u001B[49m\u001B[43m,\u001B[49m\n\u001B[1;32m    968\u001B[0m \u001B[43m        \u001B[49m\u001B[43maxis\u001B[49m\u001B[38;5;241;43m=\u001B[39;49m\u001B[43maxis\u001B[49m\u001B[43m,\u001B[49m\n\u001B[1;32m    969\u001B[0m \u001B[43m        \u001B[49m\u001B[43mlevel\u001B[49m\u001B[38;5;241;43m=\u001B[39;49m\u001B[43mlevel\u001B[49m\u001B[43m,\u001B[49m\n\u001B[1;32m    970\u001B[0m \u001B[43m        \u001B[49m\u001B[43msort\u001B[49m\u001B[38;5;241;43m=\u001B[39;49m\u001B[43msort\u001B[49m\u001B[43m,\u001B[49m\n\u001B[1;32m    971\u001B[0m \u001B[43m        \u001B[49m\u001B[43mobserved\u001B[49m\u001B[38;5;241;43m=\u001B[39;49m\u001B[43mobserved\u001B[49m\u001B[43m,\u001B[49m\n\u001B[1;32m    972\u001B[0m \u001B[43m        \u001B[49m\u001B[43mmutated\u001B[49m\u001B[38;5;241;43m=\u001B[39;49m\u001B[38;5;28;43mself\u001B[39;49m\u001B[38;5;241;43m.\u001B[39;49m\u001B[43mmutated\u001B[49m\u001B[43m,\u001B[49m\n\u001B[1;32m    973\u001B[0m \u001B[43m        \u001B[49m\u001B[43mdropna\u001B[49m\u001B[38;5;241;43m=\u001B[39;49m\u001B[38;5;28;43mself\u001B[39;49m\u001B[38;5;241;43m.\u001B[39;49m\u001B[43mdropna\u001B[49m\u001B[43m,\u001B[49m\n\u001B[1;32m    974\u001B[0m \u001B[43m    \u001B[49m\u001B[43m)\u001B[49m\n\u001B[1;32m    976\u001B[0m \u001B[38;5;28mself\u001B[39m\u001B[38;5;241m.\u001B[39mobj \u001B[38;5;241m=\u001B[39m obj\n\u001B[1;32m    977\u001B[0m \u001B[38;5;28mself\u001B[39m\u001B[38;5;241m.\u001B[39maxis \u001B[38;5;241m=\u001B[39m obj\u001B[38;5;241m.\u001B[39m_get_axis_number(axis)\n",
      "File \u001B[0;32m~/anaconda3/lib/python3.10/site-packages/pandas/core/groupby/grouper.py:883\u001B[0m, in \u001B[0;36mget_grouper\u001B[0;34m(obj, key, axis, level, sort, observed, mutated, validate, dropna)\u001B[0m\n\u001B[1;32m    879\u001B[0m     in_axis, name, gpr \u001B[38;5;241m=\u001B[39m \u001B[38;5;28;01mTrue\u001B[39;00m, gpr, obj[gpr]\n\u001B[1;32m    880\u001B[0m     \u001B[38;5;28;01mif\u001B[39;00m gpr\u001B[38;5;241m.\u001B[39mndim \u001B[38;5;241m!=\u001B[39m \u001B[38;5;241m1\u001B[39m:\n\u001B[1;32m    881\u001B[0m         \u001B[38;5;66;03m# non-unique columns; raise here to get the name in the\u001B[39;00m\n\u001B[1;32m    882\u001B[0m         \u001B[38;5;66;03m# exception message\u001B[39;00m\n\u001B[0;32m--> 883\u001B[0m         \u001B[38;5;28;01mraise\u001B[39;00m \u001B[38;5;167;01mValueError\u001B[39;00m(\u001B[38;5;124mf\u001B[39m\u001B[38;5;124m\"\u001B[39m\u001B[38;5;124mGrouper for \u001B[39m\u001B[38;5;124m'\u001B[39m\u001B[38;5;132;01m{\u001B[39;00mname\u001B[38;5;132;01m}\u001B[39;00m\u001B[38;5;124m'\u001B[39m\u001B[38;5;124m not 1-dimensional\u001B[39m\u001B[38;5;124m\"\u001B[39m)\n\u001B[1;32m    884\u001B[0m     exclusions\u001B[38;5;241m.\u001B[39madd(name)\n\u001B[1;32m    885\u001B[0m \u001B[38;5;28;01melif\u001B[39;00m obj\u001B[38;5;241m.\u001B[39m_is_level_reference(gpr, axis\u001B[38;5;241m=\u001B[39maxis):\n",
      "\u001B[0;31mValueError\u001B[0m: Grouper for 'customer_ID' not 1-dimensional"
     ]
    }
   ],
   "source": [
    "train = feature_engineer(train, PAD_CUSTOMER_TO_13_ROWS = True, targets = None)\n",
    "train.head()"
   ],
   "metadata": {
    "collapsed": false,
    "ExecuteTime": {
     "end_time": "2023-06-01T16:08:39.997088Z",
     "start_time": "2023-06-01T16:08:39.437485Z"
    }
   }
  },
  {
   "cell_type": "code",
   "execution_count": null,
   "outputs": [],
   "source": [],
   "metadata": {
    "collapsed": false
   }
  }
 ],
 "metadata": {
  "kernelspec": {
   "display_name": "Python 3",
   "language": "python",
   "name": "python3"
  },
  "language_info": {
   "codemirror_mode": {
    "name": "ipython",
    "version": 2
   },
   "file_extension": ".py",
   "mimetype": "text/x-python",
   "name": "python",
   "nbconvert_exporter": "python",
   "pygments_lexer": "ipython2",
   "version": "2.7.6"
  }
 },
 "nbformat": 4,
 "nbformat_minor": 0
}

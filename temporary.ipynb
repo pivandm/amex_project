{
 "cells": [
  {
   "cell_type": "code",
   "execution_count": 52,
   "metadata": {
    "collapsed": true
   },
   "outputs": [],
   "source": [
    "import pandas as pd\n",
    "import pickle\n",
    "import numpy as np\n",
    "# from sklearn.model_selection import train_test_split\n",
    "# from xgboost import XGBClassifier\n",
    "import  xgboost as xgb\n",
    "# import os\n",
    "# import sys\n",
    "import gc\n",
    "# import catboost\n",
    "from sklearn.model_selection import StratifiedKFold\n",
    "\n",
    "# file = open('cat_cols.txt', 'rb')\n",
    "# cat_cols = pickle.load(file)\n",
    "# file.close()\n",
    "class CONFIG:\n",
    "    \"\"\"\n",
    "    Configuration of training\n",
    "\n",
    "    params: dict = Parameters of Tree Booster\n",
    "\n",
    "    n_folds: int = number of splits for Stratified K-Folds\n",
    "\n",
    "    n_rounds: int = number of boosting iterations\n",
    "\n",
    "    early_stopping: int = stop if there is little to no improvement\n",
    "    \"\"\"\n",
    "    # Parameters of Tree Booster\n",
    "    params = {\n",
    "        'eta': 0.03,\n",
    "        'gamma': 0,\n",
    "        'max_depth': 6,\n",
    "        'min_child_weight': 1,\n",
    "        'max_delta_step': 1, #suggested by xgb documentation for imbalanced dataset\n",
    "        'max_leaves': 100,\n",
    "        'objective': 'binary:logistic',\n",
    "        'disable_default_eval_metric': 1,\n",
    "        'tree_method': 'hist'\n",
    "    }\n",
    "    # number of folds\n",
    "    n_folds = 5\n",
    "    n_rounds = 3000\n",
    "    early_stopping = 1500\n",
    "    verbose_eval = 150\n",
    "    def output(self):\n",
    "        print('CONFIGURATION')\n",
    "        print('=' * 60)\n",
    "        print('Tree Booster parameters: ')\n",
    "        for k, v in self.params.items():\n",
    "            print(f'{k}: {v}')\n",
    "        print(f'Number of boosting rounds: {self.n_rounds}')\n",
    "        print(f'Early stopping rounds: {self.early_stopping}')\n",
    "        print('=' * 60)\n",
    "        print(f'Stratified K-Fold number of splits: {self.n_folds}')\n",
    "        print('END')\n",
    "def one_hot(train, test):\n",
    "    c_enc = train.columns.to_series().groupby(train.dtypes).groups[np.dtype('object')].tolist()\n",
    "    for col in c_enc:\n",
    "        dummies = pd.get_dummies(train[col], prefix=col, drop_first=False)\n",
    "        train = pd.concat([train, dummies], axis=1)\n",
    "        train.drop(columns=col, inplace=True)\n",
    "        dummies = pd.get_dummies(test[col], prefix=col, drop_first=False)\n",
    "        test = pd.concat([test, dummies], axis=1)\n",
    "        test.drop(columns=col, inplace=True)\n",
    "    gc.collect()\n",
    "    return train, test\n",
    "\n",
    "def amex_metric(y_true, y_pred):\n",
    "    labels = np.transpose(np.array([y_true, y_pred]))\n",
    "    labels = labels[labels[:, 1].argsort()[::-1]]\n",
    "    weights = np.where(labels[:,0]==0, 20, 1)\n",
    "    cut_vals = labels[np.cumsum(weights) <= int(0.04 * np.sum(weights))]\n",
    "    top_four = np.sum(cut_vals[:,0]) / np.sum(labels[:,0])\n",
    "    gini = [0,0]\n",
    "    for i in [1,0]:\n",
    "        labels = np.transpose(np.array([y_true, y_pred]))\n",
    "        labels = labels[labels[:, i].argsort()[::-1]]\n",
    "        weight = np.where(labels[:,0]==0, 20, 1)\n",
    "        weight_random = np.cumsum(weight / np.sum(weight))\n",
    "        total_pos = np.sum(labels[:, 0] *  weight)\n",
    "        cum_pos_found = np.cumsum(labels[:, 0] * weight)\n",
    "        lorentz = cum_pos_found / total_pos\n",
    "        gini[i] = np.sum((lorentz - weight_random) * weight)\n",
    "    return 0.5 * (gini[1]/gini[0] + top_four)\n",
    "def xgb_amex_metric(predt: np.ndarray, dtrain: xgb.DMatrix):\n",
    "    y_true = dtrain.get_label()\n",
    "    return 'amex_metric', amex_metric(y_true, predt)\n",
    "def dt_converter(dtype):\n",
    "    if dtype == 'float64':\n",
    "        return 'float16'\n",
    "    elif dtype == 'int64':\n",
    "        return 'int16'\n",
    "    else:\n",
    "        return 'object'\n",
    "\n",
    "def mem_usage_gb(df):\n",
    "    return round((df.memory_usage(deep=True).sum()/1073741824), 2)"
   ]
  },
  {
   "cell_type": "code",
   "execution_count": 56,
   "outputs": [],
   "source": [
    "def load_dataframes():\n",
    "    file = open('dtype_for_agg_catb.txt', 'rb')\n",
    "    dtypes = pickle.load(file)\n",
    "    file.close()\n",
    "    train = pd.read_csv('prep_catboost_train.csv', dtype=dtypes)\n",
    "    train.drop(columns=['customer_ID'], inplace=True)\n",
    "    test = pd.read_csv('prep_catboost_test.csv', dtype=dtypes)\n",
    "    test.drop(columns=['customer_ID'], inplace=True)\n",
    "    train, test = one_hot(train, test)\n",
    "    idx = train.columns.get_loc('D_64_last_-1')\n",
    "    test.insert(loc=idx, column='D_64_last_-1', value=[0] * len(test))\n",
    "    test['D_64_last_-1'] = test['D_64_last_-1'].astype('uint8')\n",
    "    print('encoded cols in train, test')\n",
    "    display(train.dtypes.loc[train.dtypes == 'uint8'], test.dtypes.loc[test.dtypes == 'uint8'])\n",
    "    print('train dataset mem usage:', mem_usage_gb(train), 'GB')\n",
    "    print('test dataset mem usage:', mem_usage_gb(test), 'GB')\n",
    "    labels = pd.read_csv('train_labels.csv', dtype={'target': 'int8'})\n",
    "    labels.drop(columns=['customer_ID'], inplace=True)\n",
    "    labels = np.ravel(labels)\n",
    "    print('datasets loaded, total mem usage: ', mem_usage_gb(train) + mem_usage_gb(test), 'GB')\n",
    "    gc.collect()\n",
    "    return train, test, labels\n",
    "def get_predictions(train_data, test_data, train_labels):\n",
    "    total_predictions = np.zeros(test_data.shape[0])\n",
    "    CONFIG().output()\n",
    "    print('Start training...')\n",
    "    results = dict()\n",
    "    skf = StratifiedKFold(n_splits=CONFIG.n_folds)\n",
    "    n = 1\n",
    "    for train_index, test_index in skf.split(train_data, train_labels):\n",
    "        print('=' * 60)\n",
    "        print(f'Fold number: {n}')\n",
    "        print('=' * 60)\n",
    "        n += 1\n",
    "        d_train = xgb.DMatrix(train_data.iloc[train_index], train_labels[train_index])\n",
    "        d_test = xgb.DMatrix(train_data.iloc[test_index], train_labels[test_index])\n",
    "        model = xgb.train(CONFIG.params,\n",
    "                          dtrain= d_train,\n",
    "                          num_boost_round= CONFIG.n_rounds,\n",
    "                          evals= [(d_train, 'train'), (d_test, 'eval')],\n",
    "                          custom_metric= xgb_amex_metric,\n",
    "                          early_stopping_rounds= CONFIG.early_stopping,\n",
    "                          evals_result= results,\n",
    "                          verbose_eval= CONFIG.verbose_eval,\n",
    "                          )\n",
    "        d_out = xgb.DMatrix(test_data)\n",
    "        fold_out_predictions = model.predict(d_out)\n",
    "        # adjust predictions according to n_folds\n",
    "        total_predictions += fold_out_predictions / CONFIG.n_folds\n",
    "    del d_train, d_test\n",
    "    gc.collect()\n",
    "    sample = pd.read_csv('sample_submission.csv')\n",
    "    output = pd.DataFrame({'customer_ID': sample.customer_ID, 'prediction': total_predictions})\n",
    "    return output, results"
   ],
   "metadata": {
    "collapsed": false
   }
  },
  {
   "cell_type": "markdown",
   "source": [
    "first\\\n",
    "eta = 0.04\n",
    "n_rounds = 1200\n",
    "early_stopping = 600\n",
    "second\\\n",
    "eta = 0.03\n",
    "n_rounds = 3000\n",
    "early stopping = 1500"
   ],
   "metadata": {
    "collapsed": false
   }
  },
  {
   "cell_type": "code",
   "execution_count": 54,
   "outputs": [
    {
     "name": "stdout",
     "output_type": "stream",
     "text": [
      "encoded cols in train, test\n"
     ]
    },
    {
     "data": {
      "text/plain": "D_63_last_CL    uint8\nD_63_last_CO    uint8\nD_63_last_CR    uint8\nD_63_last_XL    uint8\nD_63_last_XM    uint8\nD_63_last_XZ    uint8\nD_64_last_-1    uint8\nD_64_last_O     uint8\nD_64_last_R     uint8\nD_64_last_U     uint8\ndtype: object"
     },
     "metadata": {},
     "output_type": "display_data"
    },
    {
     "data": {
      "text/plain": "D_63_last_CL    uint8\nD_63_last_CO    uint8\nD_63_last_CR    uint8\nD_63_last_XL    uint8\nD_63_last_XM    uint8\nD_63_last_XZ    uint8\nD_64_last_-1    uint8\nD_64_last_O     uint8\nD_64_last_R     uint8\nD_64_last_U     uint8\ndtype: object"
     },
     "metadata": {},
     "output_type": "display_data"
    },
    {
     "name": "stdout",
     "output_type": "stream",
     "text": [
      "train dataset mem usage: 0.79 GB\n",
      "test dataset mem usage: 1.59 GB\n",
      "datasets loaded, total mem usage:  2.38 GB\n"
     ]
    }
   ],
   "source": [
    "train_d, test_d, train_l = load_dataframes()"
   ],
   "metadata": {
    "collapsed": false
   }
  },
  {
   "cell_type": "code",
   "execution_count": 57,
   "outputs": [
    {
     "name": "stdout",
     "output_type": "stream",
     "text": [
      "CONFIGURATION\n",
      "============================================================\n",
      "Tree Booster parameters: \n",
      "eta: 0.03\n",
      "gamma: 0\n",
      "max_depth: 6\n",
      "min_child_weight: 1\n",
      "max_delta_step: 1\n",
      "max_leaves: 100\n",
      "objective: binary:logistic\n",
      "disable_default_eval_metric: 1\n",
      "tree_method: hist\n",
      "Number of boosting rounds: 3000\n",
      "Early stopping rounds: 1500\n",
      "============================================================\n",
      "Stratified K-Fold number of splits: 5\n",
      "END\n",
      "Start training...\n",
      "============================================================\n",
      "Fold number: 1\n",
      "============================================================\n",
      "[0]\ttrain-amex_metric:0.65128\teval-amex_metric:0.65007\n",
      "[150]\ttrain-amex_metric:0.78518\teval-amex_metric:0.76906\n",
      "[300]\ttrain-amex_metric:0.80956\teval-amex_metric:0.78172\n",
      "[450]\ttrain-amex_metric:0.82619\teval-amex_metric:0.78652\n",
      "[600]\ttrain-amex_metric:0.83977\teval-amex_metric:0.78787\n",
      "[750]\ttrain-amex_metric:0.84849\teval-amex_metric:0.78894\n",
      "[900]\ttrain-amex_metric:0.85820\teval-amex_metric:0.79001\n",
      "[1050]\ttrain-amex_metric:0.86823\teval-amex_metric:0.79019\n",
      "[1200]\ttrain-amex_metric:0.87853\teval-amex_metric:0.79083\n",
      "[1350]\ttrain-amex_metric:0.88777\teval-amex_metric:0.79010\n",
      "[1499]\ttrain-amex_metric:0.89718\teval-amex_metric:0.79074\n",
      "============================================================\n",
      "Fold number: 2\n",
      "============================================================\n",
      "[0]\ttrain-amex_metric:0.65308\teval-amex_metric:0.63905\n",
      "[150]\ttrain-amex_metric:0.78542\teval-amex_metric:0.76703\n",
      "[300]\ttrain-amex_metric:0.81006\teval-amex_metric:0.78036\n",
      "[450]\ttrain-amex_metric:0.82669\teval-amex_metric:0.78384\n",
      "[600]\ttrain-amex_metric:0.83950\teval-amex_metric:0.78490\n",
      "[750]\ttrain-amex_metric:0.84854\teval-amex_metric:0.78583\n",
      "[900]\ttrain-amex_metric:0.85816\teval-amex_metric:0.78604\n",
      "[1050]\ttrain-amex_metric:0.86757\teval-amex_metric:0.78613\n",
      "[1200]\ttrain-amex_metric:0.87798\teval-amex_metric:0.78670\n",
      "[1350]\ttrain-amex_metric:0.88743\teval-amex_metric:0.78602\n",
      "[1500]\ttrain-amex_metric:0.89641\teval-amex_metric:0.78597\n",
      "============================================================\n",
      "Fold number: 3\n",
      "============================================================\n",
      "[0]\ttrain-amex_metric:0.64502\teval-amex_metric:0.63328\n",
      "[150]\ttrain-amex_metric:0.78422\teval-amex_metric:0.77443\n",
      "[300]\ttrain-amex_metric:0.81006\teval-amex_metric:0.78385\n",
      "[450]\ttrain-amex_metric:0.82712\teval-amex_metric:0.78665\n",
      "[600]\ttrain-amex_metric:0.84013\teval-amex_metric:0.78812\n",
      "[750]\ttrain-amex_metric:0.85051\teval-amex_metric:0.78915\n",
      "[900]\ttrain-amex_metric:0.86021\teval-amex_metric:0.78943\n",
      "[1050]\ttrain-amex_metric:0.86708\teval-amex_metric:0.78924\n",
      "[1200]\ttrain-amex_metric:0.87501\teval-amex_metric:0.78961\n",
      "[1350]\ttrain-amex_metric:0.88386\teval-amex_metric:0.78969\n",
      "[1499]\ttrain-amex_metric:0.89303\teval-amex_metric:0.78875\n",
      "============================================================\n",
      "Fold number: 4\n",
      "============================================================\n",
      "[0]\ttrain-amex_metric:0.65311\teval-amex_metric:0.64152\n",
      "[150]\ttrain-amex_metric:0.78387\teval-amex_metric:0.77387\n",
      "[300]\ttrain-amex_metric:0.80941\teval-amex_metric:0.78538\n",
      "[450]\ttrain-amex_metric:0.82600\teval-amex_metric:0.78858\n",
      "[600]\ttrain-amex_metric:0.83900\teval-amex_metric:0.79122\n",
      "[750]\ttrain-amex_metric:0.84758\teval-amex_metric:0.79160\n",
      "[900]\ttrain-amex_metric:0.85622\teval-amex_metric:0.79172\n",
      "[1050]\ttrain-amex_metric:0.86648\teval-amex_metric:0.79285\n",
      "[1200]\ttrain-amex_metric:0.87523\teval-amex_metric:0.79268\n",
      "[1350]\ttrain-amex_metric:0.88467\teval-amex_metric:0.79311\n",
      "[1500]\ttrain-amex_metric:0.89139\teval-amex_metric:0.79385\n",
      "============================================================\n",
      "Fold number: 5\n",
      "============================================================\n",
      "[0]\ttrain-amex_metric:0.65021\teval-amex_metric:0.64266\n",
      "[150]\ttrain-amex_metric:0.78344\teval-amex_metric:0.77307\n",
      "[300]\ttrain-amex_metric:0.80893\teval-amex_metric:0.78390\n",
      "[450]\ttrain-amex_metric:0.82606\teval-amex_metric:0.78825\n",
      "[600]\ttrain-amex_metric:0.83897\teval-amex_metric:0.78924\n",
      "[750]\ttrain-amex_metric:0.85084\teval-amex_metric:0.79028\n",
      "[900]\ttrain-amex_metric:0.85929\teval-amex_metric:0.79061\n",
      "[1050]\ttrain-amex_metric:0.86862\teval-amex_metric:0.79097\n",
      "[1200]\ttrain-amex_metric:0.87805\teval-amex_metric:0.79085\n",
      "[1350]\ttrain-amex_metric:0.88619\teval-amex_metric:0.79097\n",
      "[1500]\ttrain-amex_metric:0.89508\teval-amex_metric:0.79083\n"
     ]
    },
    {
     "data": {
      "text/plain": "{'train': OrderedDict([('amex_metric',\n               [0.650206,\n                0.673163,\n                0.673298,\n                0.678995,\n                0.685455,\n                0.69084,\n                0.692834,\n                0.701101,\n                0.707076,\n                0.710197,\n                0.711131,\n                0.715692,\n                0.718826,\n                0.720326,\n                0.723528,\n                0.725362,\n                0.72674,\n                0.729463,\n                0.730481,\n                0.730495,\n                0.732491,\n                0.735258,\n                0.73617,\n                0.73694,\n                0.738431,\n                0.739201,\n                0.740388,\n                0.741656,\n                0.741872,\n                0.742515,\n                0.7431,\n                0.74485,\n                0.74562,\n                0.746097,\n                0.746983,\n                0.747269,\n                0.748336,\n                0.74911,\n                0.749861,\n                0.750978,\n                0.751212,\n                0.751686,\n                0.752624,\n                0.753845,\n                0.754599,\n                0.755212,\n                0.755726,\n                0.756379,\n                0.75702,\n                0.757683,\n                0.758258,\n                0.75839,\n                0.758996,\n                0.759371,\n                0.76021,\n                0.76054,\n                0.760703,\n                0.761059,\n                0.761537,\n                0.761831,\n                0.762417,\n                0.762667,\n                0.763386,\n                0.763536,\n                0.763794,\n                0.763993,\n                0.764403,\n                0.76477,\n                0.764832,\n                0.765202,\n                0.76574,\n                0.766211,\n                0.766318,\n                0.766834,\n                0.767156,\n                0.76729,\n                0.767429,\n                0.76791,\n                0.768283,\n                0.768478,\n                0.768774,\n                0.768951,\n                0.769188,\n                0.769647,\n                0.76962,\n                0.769801,\n                0.770348,\n                0.770657,\n                0.770965,\n                0.771048,\n                0.771748,\n                0.771966,\n                0.772088,\n                0.772161,\n                0.772842,\n                0.772959,\n                0.773017,\n                0.773451,\n                0.773764,\n                0.773785,\n                0.773901,\n                0.77419,\n                0.774319,\n                0.774729,\n                0.774778,\n                0.775012,\n                0.775175,\n                0.775428,\n                0.775591,\n                0.775904,\n                0.776132,\n                0.776101,\n                0.776318,\n                0.776517,\n                0.776896,\n                0.776955,\n                0.777081,\n                0.777206,\n                0.777513,\n                0.777616,\n                0.777779,\n                0.778013,\n                0.778179,\n                0.778248,\n                0.778572,\n                0.778756,\n                0.779166,\n                0.779366,\n                0.779479,\n                0.779713,\n                0.779772,\n                0.779987,\n                0.780177,\n                0.780243,\n                0.780394,\n                0.780453,\n                0.780563,\n                0.780786,\n                0.780893,\n                0.781069,\n                0.781624,\n                0.781895,\n                0.782027,\n                0.782084,\n                0.782407,\n                0.782587,\n                0.782821,\n                0.782907,\n                0.78318,\n                0.783417,\n                0.78344,\n                0.783736,\n                0.783954,\n                0.784293,\n                0.784505,\n                0.784646,\n                0.784773,\n                0.78491,\n                0.785162,\n                0.785231,\n                0.785297,\n                0.785612,\n                0.785796,\n                0.786014,\n                0.786267,\n                0.786494,\n                0.786688,\n                0.786699,\n                0.787037,\n                0.787068,\n                0.787339,\n                0.787561,\n                0.787765,\n                0.787695,\n                0.787985,\n                0.788105,\n                0.788302,\n                0.788429,\n                0.788719,\n                0.789029,\n                0.789153,\n                0.789316,\n                0.789467,\n                0.789619,\n                0.789817,\n                0.789932,\n                0.790066,\n                0.790411,\n                0.790639,\n                0.790659,\n                0.790843,\n                0.791,\n                0.791105,\n                0.791412,\n                0.791676,\n                0.791733,\n                0.792041,\n                0.792167,\n                0.79252,\n                0.79266,\n                0.792869,\n                0.792938,\n                0.793239,\n                0.793507,\n                0.79348,\n                0.793831,\n                0.793861,\n                0.794133,\n                0.794318,\n                0.794494,\n                0.79463,\n                0.794852,\n                0.795137,\n                0.795257,\n                0.795431,\n                0.795647,\n                0.795832,\n                0.796047,\n                0.796247,\n                0.796435,\n                0.796714,\n                0.796944,\n                0.797146,\n                0.7974,\n                0.79749,\n                0.797742,\n                0.798179,\n                0.798241,\n                0.798444,\n                0.798599,\n                0.798687,\n                0.798764,\n                0.799004,\n                0.799088,\n                0.799356,\n                0.799547,\n                0.799637,\n                0.79975,\n                0.799992,\n                0.800324,\n                0.800407,\n                0.800634,\n                0.800746,\n                0.800806,\n                0.800876,\n                0.801107,\n                0.801284,\n                0.801415,\n                0.801594,\n                0.801796,\n                0.801987,\n                0.801942,\n                0.802076,\n                0.802309,\n                0.802322,\n                0.802572,\n                0.802845,\n                0.802858,\n                0.803012,\n                0.803235,\n                0.803471,\n                0.803551,\n                0.803756,\n                0.803881,\n                0.804111,\n                0.80431,\n                0.804427,\n                0.804567,\n                0.804705,\n                0.804906,\n                0.8049,\n                0.80513,\n                0.805182,\n                0.805454,\n                0.805508,\n                0.805674,\n                0.805801,\n                0.805894,\n                0.806141,\n                0.806224,\n                0.806296,\n                0.806298,\n                0.806466,\n                0.806653,\n                0.806734,\n                0.806986,\n                0.807102,\n                0.807323,\n                0.807414,\n                0.80752,\n                0.80768,\n                0.807797,\n                0.808004,\n                0.808102,\n                0.808215,\n                0.808308,\n                0.808342,\n                0.808523,\n                0.808728,\n                0.808704,\n                0.808929,\n                0.808939,\n                0.809089,\n                0.809069,\n                0.809188,\n                0.809304,\n                0.809409,\n                0.809621,\n                0.809517,\n                0.809791,\n                0.810002,\n                0.81015,\n                0.810418,\n                0.810506,\n                0.810758,\n                0.810777,\n                0.810942,\n                0.811147,\n                0.811268,\n                0.811403,\n                0.81155,\n                0.811574,\n                0.811756,\n                0.811996,\n                0.812085,\n                0.812152,\n                0.812435,\n                0.812368,\n                0.812533,\n                0.812588,\n                0.812677,\n                0.812815,\n                0.812955,\n                0.813034,\n                0.813162,\n                0.813252,\n                0.813316,\n                0.81339,\n                0.813482,\n                0.813623,\n                0.813708,\n                0.813853,\n                0.813932,\n                0.814132,\n                0.81423,\n                0.814404,\n                0.81438,\n                0.814539,\n                0.814713,\n                0.814901,\n                0.814913,\n                0.814957,\n                0.815055,\n                0.815181,\n                0.815359,\n                0.81555,\n                0.815827,\n                0.815835,\n                0.81605,\n                0.816129,\n                0.816188,\n                0.81632,\n                0.816346,\n                0.81643,\n                0.816561,\n                0.816658,\n                0.816785,\n                0.816911,\n                0.817025,\n                0.817311,\n                0.817394,\n                0.817321,\n                0.817406,\n                0.817589,\n                0.817829,\n                0.817964,\n                0.818188,\n                0.81835,\n                0.818478,\n                0.818499,\n                0.818613,\n                0.818679,\n                0.818802,\n                0.818979,\n                0.81911,\n                0.819198,\n                0.819207,\n                0.819382,\n                0.819513,\n                0.819626,\n                0.819675,\n                0.819762,\n                0.819917,\n                0.820013,\n                0.820189,\n                0.820192,\n                0.820299,\n                0.820372,\n                0.820568,\n                0.82074,\n                0.820831,\n                0.820884,\n                0.820926,\n                0.821212,\n                0.82132,\n                0.821344,\n                0.821487,\n                0.821567,\n                0.821605,\n                0.821749,\n                0.821974,\n                0.822073,\n                0.822152,\n                0.822286,\n                0.822403,\n                0.822384,\n                0.822523,\n                0.822677,\n                0.822747,\n                0.822823,\n                0.822974,\n                0.823122,\n                0.823217,\n                0.823443,\n                0.823548,\n                0.823644,\n                0.823751,\n                0.823878,\n                0.82399,\n                0.824146,\n                0.824139,\n                0.824232,\n                0.824276,\n                0.824349,\n                0.824403,\n                0.824513,\n                0.82462,\n                0.824752,\n                0.824916,\n                0.824927,\n                0.825064,\n                0.825161,\n                0.825243,\n                0.82528,\n                0.825349,\n                0.825437,\n                0.825539,\n                0.825682,\n                0.825832,\n                0.825973,\n                0.826057,\n                0.826112,\n                0.82618,\n                0.826233,\n                0.826368,\n                0.826444,\n                0.826552,\n                0.826646,\n                0.826729,\n                0.826809,\n                0.826895,\n                0.827108,\n                0.827225,\n                0.827311,\n                0.82741,\n                0.827432,\n                0.82755,\n                0.827759,\n                0.827809,\n                0.827936,\n                0.828013,\n                0.828285,\n                0.828481,\n                0.828543,\n                0.82873,\n                0.828825,\n                0.828787,\n                0.828815,\n                0.829033,\n                0.829086,\n                0.829162,\n                0.829195,\n                0.829458,\n                0.829388,\n                0.829592,\n                0.829668,\n                0.829826,\n                0.82983,\n                0.829873,\n                0.829998,\n                0.830155,\n                0.830207,\n                0.830261,\n                0.830382,\n                0.830514,\n                0.830664,\n                0.830718,\n                0.830728,\n                0.830851,\n                0.830844,\n                0.830888,\n                0.831043,\n                0.83101,\n                0.831099,\n                0.831229,\n                0.831295,\n                0.831351,\n                0.831418,\n                0.831352,\n                0.83137,\n                0.831518,\n                0.831585,\n                0.831658,\n                0.831712,\n                0.831839,\n                0.831866,\n                0.831993,\n                0.832075,\n                0.832126,\n                0.832262,\n                0.832396,\n                0.832492,\n                0.832638,\n                0.832708,\n                0.832698,\n                0.832797,\n                0.832913,\n                0.832956,\n                0.833063,\n                0.833114,\n                0.833186,\n                0.833351,\n                0.833481,\n                0.833582,\n                0.833639,\n                0.833702,\n                0.833782,\n                0.833858,\n                0.833914,\n                0.833966,\n                0.833978,\n                0.833917,\n                0.834185,\n                0.83423,\n                0.834328,\n                0.834395,\n                0.834422,\n                0.834522,\n                0.834595,\n                0.834676,\n                0.834823,\n                0.834854,\n                0.834925,\n                0.835041,\n                0.835082,\n                0.8352,\n                0.835398,\n                0.835432,\n                0.835486,\n                0.835566,\n                0.835644,\n                0.835705,\n                0.835774,\n                0.835849,\n                0.835947,\n                0.836059,\n                0.836059,\n                0.836141,\n                0.836199,\n                0.836324,\n                0.836567,\n                0.836755,\n                0.83691,\n                0.836916,\n                0.836958,\n                0.836889,\n                0.836929,\n                0.836959,\n                0.837063,\n                0.837139,\n                0.83724,\n                0.837347,\n                0.837558,\n                0.83769,\n                0.837731,\n                0.837793,\n                0.837897,\n                0.837991,\n                0.838088,\n                0.838147,\n                0.838216,\n                0.838303,\n                0.838278,\n                0.838315,\n                0.838401,\n                0.838563,\n                0.838616,\n                0.838677,\n                0.83882,\n                0.838927,\n                0.838971,\n                0.839186,\n                0.83927,\n                0.839388,\n                0.839522,\n                0.839547,\n                0.839744,\n                0.83971,\n                0.839831,\n                0.839949,\n                0.840087,\n                0.840114,\n                0.840156,\n                0.840341,\n                0.840422,\n                0.840421,\n                0.840438,\n                0.840448,\n                0.84056,\n                0.840629,\n                0.840826,\n                0.840928,\n                0.840941,\n                0.841024,\n                0.841209,\n                0.841243,\n                0.841393,\n                0.841537,\n                0.841597,\n                0.841641,\n                0.841716,\n                0.84184,\n                0.841833,\n                0.841979,\n                0.842116,\n                0.842202,\n                0.842268,\n                0.842345,\n                0.84236,\n                0.842477,\n                0.842591,\n                0.842621,\n                0.84269,\n                0.84265,\n                0.842759,\n                0.842863,\n                0.842894,\n                0.843014,\n                0.843038,\n                0.843142,\n                0.843218,\n                0.843384,\n                0.843508,\n                0.843567,\n                0.843588,\n                0.843648,\n                0.843671,\n                0.843781,\n                0.8439,\n                0.843996,\n                0.844061,\n                0.844231,\n                0.844335,\n                0.844321,\n                0.844377,\n                0.844431,\n                0.844525,\n                0.844556,\n                0.844599,\n                0.844655,\n                0.844746,\n                0.844905,\n                0.844897,\n                0.844977,\n                0.845108,\n                0.845188,\n                0.845301,\n                0.845355,\n                0.845422,\n                0.845523,\n                0.84556,\n                0.845535,\n                0.845647,\n                0.845812,\n                0.845896,\n                0.845981,\n                0.846113,\n                0.846162,\n                0.846161,\n                0.846283,\n                0.846311,\n                0.846406,\n                0.846462,\n                0.846542,\n                0.846644,\n                0.846764,\n                0.846883,\n                0.846898,\n                0.847003,\n                0.846975,\n                0.847096,\n                0.847143,\n                0.847261,\n                0.847279,\n                0.847426,\n                0.847527,\n                0.847561,\n                0.847646,\n                0.847701,\n                0.84767,\n                0.847872,\n                0.847979,\n                0.848087,\n                0.848118,\n                0.84817,\n                0.848154,\n                0.848243,\n                0.848248,\n                0.848269,\n                0.848388,\n                0.848451,\n                0.848527,\n                0.84857,\n                0.848686,\n                0.848709,\n                0.848786,\n                0.848828,\n                0.849025,\n                0.849178,\n                0.849158,\n                0.849246,\n                0.849214,\n                0.849387,\n                0.84942,\n                0.849444,\n                0.849549,\n                0.849675,\n                0.849711,\n                0.849717,\n                0.849935,\n                0.849983,\n                0.850095,\n                0.85018,\n                0.850291,\n                0.850327,\n                0.850397,\n                0.85052,\n                0.850561,\n                0.850698,\n                0.850706,\n                0.850836,\n                0.850921,\n                0.851005,\n                0.851075,\n                0.851193,\n                0.851293,\n                0.851315,\n                0.851356,\n                0.851437,\n                0.851584,\n                0.851637,\n                0.851653,\n                0.851712,\n                0.851774,\n                0.851843,\n                0.851939,\n                0.851907,\n                0.851957,\n                0.85209,\n                0.852248,\n                0.852357,\n                0.852395,\n                0.852515,\n                0.852555,\n                0.852598,\n                0.852647,\n                0.85268,\n                0.852787,\n                0.852917,\n                0.853019,\n                0.853094,\n                0.853178,\n                0.85325,\n                0.853302,\n                0.853352,\n                0.853373,\n                0.853421,\n                0.853531,\n                0.853574,\n                0.853629,\n                0.85369,\n                0.853805,\n                0.85386,\n                0.853937,\n                0.853845,\n                0.853966,\n                0.85401,\n                0.854081,\n                0.854139,\n                0.854129,\n                0.854221,\n                0.854398,\n                0.854358,\n                0.854309,\n                0.854386,\n                0.854415,\n                0.854492,\n                0.854596,\n                0.85468,\n                0.854722,\n                0.854772,\n                0.854785,\n                0.8548,\n                0.854896,\n                0.854875,\n                0.854951,\n                0.854937,\n                0.854944,\n                0.854966,\n                0.855082,\n                0.855173,\n                0.855233,\n                0.855284,\n                0.855333,\n                0.855388,\n                0.855468,\n                0.855497,\n                0.855502,\n                0.855616,\n                0.855633,\n                0.855717,\n                0.85581,\n                0.855838,\n                0.855898,\n                0.855912,\n                0.855934,\n                0.855959,\n                0.856052,\n                0.856092,\n                0.856082,\n                0.856168,\n                0.856116,\n                0.856192,\n                0.856299,\n                0.856254,\n                0.856315,\n                0.856352,\n                0.856327,\n                0.856431,\n                0.856478,\n                0.856493,\n                0.856552,\n                0.856582,\n                0.856596,\n                0.856579,\n                0.856634,\n                0.856702,\n                0.856726,\n                0.856766,\n                0.856761,\n                0.856877,\n                0.856972,\n                0.856999,\n                0.857088,\n                0.85719,\n                0.857225,\n                0.857369,\n                0.857462,\n                0.857514,\n                0.857625,\n                0.857692,\n                0.857795,\n                0.85796,\n                0.858,\n                0.858072,\n                0.858194,\n                0.858212,\n                0.858231,\n                0.858194,\n                0.858271,\n                0.858433,\n                0.858452,\n                0.8585,\n                0.858541,\n                0.858585,\n                0.858624,\n                0.858723,\n                0.858738,\n                0.85882,\n                0.858815,\n                0.858865,\n                0.85904,\n                0.85906,\n                0.859024,\n                0.859013,\n                0.859057,\n                0.859191,\n                0.859189,\n                0.859196,\n                0.859245,\n                0.859286,\n                0.859319,\n                0.85932,\n                0.859368,\n                0.859367,\n                0.859356,\n                0.859386,\n                0.859419,\n                0.859479,\n                0.859551,\n                0.859586,\n                0.859663,\n                0.859683,\n                0.859733,\n                0.859774,\n                0.859873,\n                0.859926,\n                0.859969,\n                0.860013,\n                0.860148,\n                0.860155,\n                0.860267,\n                0.860256,\n                0.860317,\n                0.860357,\n                0.860359,\n                0.860429,\n                0.860532,\n                0.860563,\n                0.860705,\n                0.860726,\n                0.860836,\n                0.860931,\n                0.861,\n                0.861061,\n                0.861016,\n                0.861145,\n                0.861233,\n                0.861277,\n                0.861364,\n                0.861337,\n                0.861499,\n                0.861548,\n                0.861558,\n                0.861584,\n                0.861671,\n                0.861758,\n                0.861789,\n                0.861878,\n                0.861895,\n                0.862033,\n                0.862096,\n                0.862136,\n                0.862238,\n                0.86229,\n                0.862277,\n                0.862358,\n                0.862402,\n                0.862562,\n                0.862613,\n                0.86261,\n                0.862634,\n                0.862742,\n                0.862763,\n                0.862831,\n                0.862866,\n                0.86291,\n                0.863079,\n                0.863185,\n                0.863183,\n                0.863265,\n                0.863294,\n                0.863327,\n                0.863445,\n                0.863505,\n                0.863599,\n                0.863678,\n                0.863831,\n                0.863905,\n                0.863912,\n                0.863928,\n                0.863916,\n                0.86405,\n                0.864099,\n                0.864173,\n                0.864251,\n                0.86429,\n                0.864412,\n                0.864415,\n                0.864417,\n                0.864646,\n                0.864696,\n                0.864802,\n                0.864919,\n                0.864953,\n                0.864999,\n                0.865058,\n                0.865145,\n                0.86526,\n                0.865221,\n                ...])]),\n 'eval': OrderedDict([('amex_metric',\n               [0.642658,\n                0.666197,\n                0.667719,\n                0.674342,\n                0.679601,\n                0.685338,\n                0.686321,\n                0.694174,\n                0.699771,\n                0.704682,\n                0.705858,\n                0.709938,\n                0.712579,\n                0.715113,\n                0.717194,\n                0.718933,\n                0.720109,\n                0.723148,\n                0.723341,\n                0.723878,\n                0.725545,\n                0.727543,\n                0.727704,\n                0.72931,\n                0.730592,\n                0.730633,\n                0.73166,\n                0.733085,\n                0.733824,\n                0.734265,\n                0.735152,\n                0.737108,\n                0.738981,\n                0.73869,\n                0.739731,\n                0.739959,\n                0.740689,\n                0.741393,\n                0.741793,\n                0.741893,\n                0.742155,\n                0.742368,\n                0.742902,\n                0.744504,\n                0.745143,\n                0.745798,\n                0.745632,\n                0.746769,\n                0.74708,\n                0.747859,\n                0.748387,\n                0.748789,\n                0.749663,\n                0.750012,\n                0.750843,\n                0.751461,\n                0.751602,\n                0.752308,\n                0.752903,\n                0.752935,\n                0.75368,\n                0.754182,\n                0.754485,\n                0.755172,\n                0.755496,\n                0.755544,\n                0.756128,\n                0.756256,\n                0.757122,\n                0.757196,\n                0.757397,\n                0.757303,\n                0.75801,\n                0.759016,\n                0.758904,\n                0.759337,\n                0.759878,\n                0.760368,\n                0.760388,\n                0.760869,\n                0.76127,\n                0.761647,\n                0.761931,\n                0.76243,\n                0.762203,\n                0.762566,\n                0.762951,\n                0.762858,\n                0.763301,\n                0.763747,\n                0.764123,\n                0.764271,\n                0.764364,\n                0.764759,\n                0.765315,\n                0.765789,\n                0.765905,\n                0.765979,\n                0.765931,\n                0.766059,\n                0.766761,\n                0.766998,\n                0.76694,\n                0.766857,\n                0.766825,\n                0.767177,\n                0.767421,\n                0.767353,\n                0.767901,\n                0.767725,\n                0.767625,\n                0.768004,\n                0.767998,\n                0.768026,\n                0.768485,\n                0.768383,\n                0.768417,\n                0.7692,\n                0.769355,\n                0.769753,\n                0.769957,\n                0.769963,\n                0.770068,\n                0.770215,\n                0.770177,\n                0.770341,\n                0.770738,\n                0.770931,\n                0.770944,\n                0.770916,\n                0.770976,\n                0.77104,\n                0.771186,\n                0.771604,\n                0.771503,\n                0.771821,\n                0.771762,\n                0.771749,\n                0.771657,\n                0.772178,\n                0.77197,\n                0.772442,\n                0.772779,\n                0.772766,\n                0.7727,\n                0.772666,\n                0.772682,\n                0.772935,\n                0.772796,\n                0.773006,\n                0.773071,\n                0.773455,\n                0.773444,\n                0.773868,\n                0.773591,\n                0.773739,\n                0.773822,\n                0.774124,\n                0.774269,\n                0.774363,\n                0.774393,\n                0.774259,\n                0.774586,\n                0.775107,\n                0.775369,\n                0.775358,\n                0.775208,\n                0.775485,\n                0.775507,\n                0.775537,\n                0.775715,\n                0.775868,\n                0.775919,\n                0.776043,\n                0.776185,\n                0.776219,\n                0.776182,\n                0.776169,\n                0.776196,\n                0.776705,\n                0.776511,\n                0.777031,\n                0.777118,\n                0.776892,\n                0.777094,\n                0.777377,\n                0.777254,\n                0.77747,\n                0.777332,\n                0.777652,\n                0.777634,\n                0.777787,\n                0.77792,\n                0.778093,\n                0.7781,\n                0.778019,\n                0.778231,\n                0.77823,\n                0.778003,\n                0.778217,\n                0.778247,\n                0.778291,\n                0.778355,\n                0.778168,\n                0.778595,\n                0.778517,\n                0.778603,\n                0.778711,\n                0.778816,\n                0.778843,\n                0.778969,\n                0.778904,\n                0.779155,\n                0.77929,\n                0.779477,\n                0.779506,\n                0.779712,\n                0.779798,\n                0.779677,\n                0.779842,\n                0.779927,\n                0.779926,\n                0.779844,\n                0.780093,\n                0.780246,\n                0.78037,\n                0.78054,\n                0.780596,\n                0.780805,\n                0.780887,\n                0.780901,\n                0.780949,\n                0.780926,\n                0.780902,\n                0.781042,\n                0.781231,\n                0.781225,\n                0.781433,\n                0.781322,\n                0.781612,\n                0.781461,\n                0.781391,\n                0.781303,\n                0.781321,\n                0.781669,\n                0.781732,\n                0.78163,\n                0.78177,\n                0.781825,\n                0.781794,\n                0.781952,\n                0.782007,\n                0.782169,\n                0.782169,\n                0.782286,\n                0.782091,\n                0.78204,\n                0.782435,\n                0.782576,\n                0.78272,\n                0.782863,\n                0.782791,\n                0.782956,\n                0.782906,\n                0.782835,\n                0.782824,\n                0.782669,\n                0.782644,\n                0.782508,\n                0.783006,\n                0.783018,\n                0.782977,\n                0.783243,\n                0.783341,\n                0.783392,\n                0.783493,\n                0.783503,\n                0.783765,\n                0.783654,\n                0.783492,\n                0.783609,\n                0.783517,\n                0.783568,\n                0.783537,\n                0.783528,\n                0.783393,\n                0.783487,\n                0.783538,\n                0.783683,\n                0.783477,\n                0.783347,\n                0.783908,\n                0.783647,\n                0.783598,\n                0.783437,\n                0.783616,\n                0.783478,\n                0.78351,\n                0.783686,\n                0.783779,\n                0.783895,\n                0.784054,\n                0.784211,\n                0.784163,\n                0.78413,\n                0.784321,\n                0.784541,\n                0.784612,\n                0.784517,\n                0.784659,\n                0.784479,\n                0.784789,\n                0.784778,\n                0.784827,\n                0.784967,\n                0.784662,\n                0.78452,\n                0.78474,\n                0.784748,\n                0.784944,\n                0.785269,\n                0.785192,\n                0.7852,\n                0.785228,\n                0.785218,\n                0.785563,\n                0.785238,\n                0.785245,\n                0.785401,\n                0.785261,\n                0.785311,\n                0.785506,\n                0.785677,\n                0.785663,\n                0.785713,\n                0.785449,\n                0.78531,\n                0.785428,\n                0.78552,\n                0.785546,\n                0.785388,\n                0.785586,\n                0.785554,\n                0.785625,\n                0.785568,\n                0.785593,\n                0.785855,\n                0.785821,\n                0.785826,\n                0.786233,\n                0.786477,\n                0.78636,\n                0.786258,\n                0.786478,\n                0.786931,\n                0.786954,\n                0.787091,\n                0.787138,\n                0.787063,\n                0.78684,\n                0.786909,\n                0.786873,\n                0.786965,\n                0.786953,\n                0.787187,\n                0.787049,\n                0.787185,\n                0.78719,\n                0.786965,\n                0.787079,\n                0.787084,\n                0.787133,\n                0.787138,\n                0.787165,\n                0.786859,\n                0.786845,\n                0.787001,\n                0.787008,\n                0.786844,\n                0.786958,\n                0.786963,\n                0.786986,\n                0.787098,\n                0.78715,\n                0.787342,\n                0.787455,\n                0.787422,\n                0.787283,\n                0.787354,\n                0.787193,\n                0.787304,\n                0.786991,\n                0.786976,\n                0.787062,\n                0.786984,\n                0.786988,\n                0.786993,\n                0.786913,\n                0.786876,\n                0.786716,\n                0.786829,\n                0.787022,\n                0.787047,\n                0.787009,\n                0.786909,\n                0.786974,\n                0.786874,\n                0.787112,\n                0.787223,\n                0.787461,\n                0.787216,\n                0.787205,\n                0.787061,\n                0.787092,\n                0.787097,\n                0.78717,\n                0.78751,\n                0.787577,\n                0.787622,\n                0.787776,\n                0.787591,\n                0.787575,\n                0.787687,\n                0.787859,\n                0.787737,\n                0.787617,\n                0.78764,\n                0.787581,\n                0.787647,\n                0.787886,\n                0.787889,\n                0.787914,\n                0.787962,\n                0.788008,\n                0.788058,\n                0.788128,\n                0.788259,\n                0.788431,\n                0.788393,\n                0.788439,\n                0.788527,\n                0.788339,\n                0.788367,\n                0.788453,\n                0.788413,\n                0.788312,\n                0.788148,\n                0.788194,\n                0.788159,\n                0.788208,\n                0.788253,\n                0.788364,\n                0.78845,\n                0.788118,\n                0.788121,\n                0.788316,\n                0.788386,\n                0.788582,\n                0.788459,\n                0.788292,\n                0.788275,\n                0.788408,\n                0.788556,\n                0.788391,\n                0.788162,\n                0.788164,\n                0.788332,\n                0.788272,\n                0.788424,\n                0.788533,\n                0.788788,\n                0.788686,\n                0.788457,\n                0.78859,\n                0.788594,\n                0.788615,\n                0.788449,\n                0.788536,\n                0.788416,\n                0.788462,\n                0.788401,\n                0.788404,\n                0.788553,\n                0.788472,\n                0.78858,\n                0.788479,\n                0.788693,\n                0.788634,\n                0.788678,\n                0.788682,\n                0.788536,\n                0.788537,\n                0.788565,\n                0.788693,\n                0.788616,\n                0.78839,\n                0.78839,\n                0.788623,\n                0.788499,\n                0.788375,\n                0.788357,\n                0.788491,\n                0.788284,\n                0.788285,\n                0.788245,\n                0.788291,\n                0.788508,\n                0.788491,\n                0.788618,\n                0.788684,\n                0.788601,\n                0.788581,\n                0.788583,\n                0.788735,\n                0.788737,\n                0.789011,\n                0.788869,\n                0.788743,\n                0.788744,\n                0.788559,\n                0.788643,\n                0.788876,\n                0.788983,\n                0.789095,\n                0.78918,\n                0.789058,\n                0.789079,\n                0.78906,\n                0.788959,\n                0.788772,\n                0.788647,\n                0.788627,\n                0.788674,\n                0.788486,\n                0.788655,\n                0.788447,\n                0.788471,\n                0.788468,\n                0.788449,\n                0.788682,\n                0.788643,\n                0.788519,\n                0.788544,\n                0.788672,\n                0.788378,\n                0.788276,\n                0.788469,\n                0.788222,\n                0.788122,\n                0.788335,\n                0.788317,\n                0.788317,\n                0.788278,\n                0.788301,\n                0.788405,\n                0.788405,\n                0.788408,\n                0.788329,\n                0.788394,\n                0.788332,\n                0.788333,\n                0.788316,\n                0.788316,\n                0.788359,\n                0.788384,\n                0.788366,\n                0.788434,\n                0.788539,\n                0.788416,\n                0.788484,\n                0.788468,\n                0.788516,\n                0.788393,\n                0.788479,\n                0.788563,\n                0.788711,\n                0.788772,\n                0.788713,\n                0.78884,\n                0.7888,\n                0.788845,\n                0.788889,\n                0.788831,\n                0.789003,\n                0.789091,\n                0.788966,\n                0.789094,\n                0.789221,\n                0.789137,\n                0.789202,\n                0.789225,\n                0.789206,\n                0.789167,\n                0.789147,\n                0.789086,\n                0.789152,\n                0.789132,\n                0.789135,\n                0.789159,\n                0.789182,\n                0.789245,\n                0.789289,\n                0.789459,\n                0.789337,\n                0.789444,\n                0.789467,\n                0.789552,\n                0.789534,\n                0.78952,\n                0.789627,\n                0.789524,\n                0.789548,\n                0.789696,\n                0.789716,\n                0.78955,\n                0.78951,\n                0.789389,\n                0.789391,\n                0.789391,\n                0.789244,\n                0.789414,\n                0.789479,\n                0.78946,\n                0.789525,\n                0.789612,\n                0.78957,\n                0.789827,\n                0.789894,\n                0.789853,\n                0.789855,\n                0.789836,\n                0.789731,\n                0.789668,\n                0.789715,\n                0.789565,\n                0.789486,\n                0.78949,\n                0.78985,\n                0.789639,\n                0.789598,\n                0.789492,\n                0.789514,\n                0.789473,\n                0.789433,\n                0.789434,\n                0.789499,\n                0.78952,\n                0.789436,\n                0.789668,\n                0.789668,\n                0.789648,\n                0.789629,\n                0.789443,\n                0.789508,\n                0.789447,\n                0.789449,\n                0.789344,\n                0.789365,\n                0.78945,\n                0.789328,\n                0.789496,\n                0.789476,\n                0.789266,\n                0.789269,\n                0.789229,\n                0.789294,\n                0.789274,\n                0.789254,\n                0.789275,\n                0.789276,\n                0.789276,\n                0.789238,\n                0.789217,\n                0.789178,\n                0.789199,\n                0.789264,\n                0.789328,\n                0.789246,\n                0.789183,\n                0.789374,\n                0.789332,\n                0.78938,\n                0.789485,\n                0.789487,\n                0.789445,\n                0.789405,\n                0.789469,\n                0.789554,\n                0.789556,\n                0.789894,\n                0.789895,\n                0.789788,\n                0.789915,\n                0.789663,\n                0.789664,\n                0.789558,\n                0.789688,\n                0.789733,\n                0.789884,\n                0.7898,\n                0.789612,\n                0.789758,\n                0.789907,\n                0.789845,\n                0.789697,\n                0.789654,\n                0.789611,\n                0.789758,\n                0.789762,\n                0.789826,\n                0.789703,\n                0.789895,\n                0.790001,\n                0.790108,\n                0.790047,\n                0.790049,\n                0.789774,\n                0.789815,\n                0.789628,\n                0.789629,\n                0.78967,\n                0.789717,\n                0.789738,\n                0.789782,\n                0.789699,\n                0.789806,\n                0.789998,\n                0.790041,\n                0.790085,\n                0.790232,\n                0.790212,\n                0.790295,\n                0.790128,\n                0.790126,\n                0.790043,\n                0.790216,\n                0.789863,\n                0.789949,\n                0.789652,\n                0.789633,\n                0.789762,\n                0.789782,\n                0.789994,\n                0.789974,\n                0.790079,\n                0.790039,\n                0.790378,\n                0.790378,\n                0.790506,\n                0.790401,\n                0.790276,\n                0.790361,\n                0.790404,\n                0.790343,\n                0.790048,\n                0.790217,\n                0.790321,\n                0.790322,\n                0.790428,\n                0.789968,\n                0.790137,\n                0.790095,\n                0.790137,\n                0.79018,\n                0.79001,\n                0.79001,\n                0.789927,\n                0.790092,\n                0.79001,\n                0.790075,\n                0.790413,\n                0.790371,\n                0.790247,\n                0.790164,\n                0.789975,\n                0.789997,\n                0.790249,\n                0.790226,\n                0.789998,\n                0.79,\n                0.790064,\n                0.790067,\n                0.790025,\n                0.790003,\n                0.78996,\n                0.789834,\n                0.790007,\n                0.790072,\n                0.790008,\n                0.789987,\n                0.790009,\n                0.789989,\n                0.789947,\n                0.789863,\n                0.789968,\n                0.790052,\n                0.79001,\n                0.790011,\n                0.790008,\n                0.789987,\n                0.789906,\n                0.789926,\n                0.790013,\n                0.790012,\n                0.790012,\n                0.790054,\n                0.790178,\n                0.790159,\n                0.790205,\n                0.790144,\n                0.790166,\n                0.790146,\n                0.790168,\n                0.790023,\n                0.790086,\n                0.79015,\n                0.79015,\n                0.790174,\n                0.790025,\n                0.790026,\n                0.790005,\n                0.790027,\n                0.790051,\n                0.790449,\n                0.790428,\n                0.790408,\n                0.790387,\n                0.790431,\n                0.790346,\n                0.790265,\n                0.789992,\n                0.790034,\n                0.78997,\n                0.78997,\n                0.790245,\n                0.790415,\n                0.79033,\n                0.790456,\n                0.790456,\n                0.790583,\n                0.790604,\n                0.790456,\n                0.790605,\n                0.790457,\n                0.790351,\n                0.790456,\n                0.790396,\n                0.790397,\n                0.790397,\n                0.790439,\n                0.790419,\n                0.790355,\n                0.790208,\n                0.790062,\n                0.79019,\n                0.79036,\n                0.790467,\n                0.790466,\n                0.790655,\n                0.790678,\n                0.790659,\n                0.790619,\n                0.790685,\n                0.790749,\n                0.790708,\n                0.790583,\n                0.790476,\n                0.790329,\n                0.790264,\n                0.790475,\n                0.790288,\n                0.790289,\n                0.790415,\n                0.790437,\n                0.79048,\n                0.790461,\n                0.790482,\n                0.790354,\n                0.790482,\n                0.790418,\n                0.790421,\n                0.79036,\n                0.790339,\n                0.790274,\n                0.790487,\n                0.790403,\n                0.790319,\n                0.790319,\n                0.79032,\n                0.790239,\n                0.790133,\n                0.790304,\n                0.790368,\n                0.790263,\n                0.790203,\n                0.790266,\n                0.790372,\n                0.790497,\n                0.790563,\n                0.790605,\n                0.790606,\n                0.790564,\n                0.790564,\n                0.790396,\n                0.790397,\n                0.790439,\n                0.790631,\n                0.790612,\n                0.790717,\n                0.790572,\n                0.79055,\n                0.790507,\n                0.79055,\n                0.790296,\n                0.790337,\n                0.790402,\n                0.790466,\n                0.790423,\n                0.790571,\n                0.790656,\n                0.790803,\n                0.790824,\n                0.790804,\n                0.790826,\n                0.790765,\n                0.79085,\n                0.790642,\n                0.790707,\n                0.790729,\n                0.790542,\n                0.790584,\n                0.790669,\n                0.790815,\n                0.790731,\n                0.790732,\n                0.790712,\n                0.790565,\n                0.790629,\n                0.790693,\n                0.790567,\n                0.790694,\n                0.790925,\n                0.790713,\n                0.790736,\n                0.790757,\n                0.790737,\n                0.790674,\n                0.790716,\n                0.790632,\n                0.790735,\n                0.790567,\n                0.790609,\n                0.790588,\n                0.790757,\n                0.790924,\n                0.790946,\n                0.790779,\n                0.790842,\n                0.790905,\n                0.790822,\n                0.790843,\n                0.790801,\n                0.790802,\n                0.790844,\n                0.790845,\n                0.790887,\n                0.790719,\n                0.790613,\n                0.790696,\n                0.790718,\n                0.790758,\n                0.790697,\n                0.790764,\n                0.790682,\n                0.790535,\n                0.790767,\n                0.790639,\n                0.790703,\n                0.790828,\n                0.790788,\n                0.790788,\n                0.790808,\n                0.790916,\n                0.790957,\n                0.79098,\n                0.790874,\n                0.790856,\n                0.790918,\n                0.790918,\n                0.790959,\n                0.790748,\n                0.790663,\n                0.790853,\n                0.790855,\n                0.790771,\n                0.790749,\n                0.79073,\n                0.790708,\n                0.790603,\n                0.79075,\n                ...])])}"
     },
     "execution_count": 57,
     "metadata": {},
     "output_type": "execute_result"
    }
   ],
   "source": [
    "ofile, result = get_predictions(train_d, test_d, train_l)\n",
    "result"
   ],
   "metadata": {
    "collapsed": false
   }
  },
  {
   "cell_type": "code",
   "execution_count": 58,
   "outputs": [],
   "source": [
    "ofile.to_csv('sub_k_folds.csv', index=False)"
   ],
   "metadata": {
    "collapsed": false
   }
  },
  {
   "cell_type": "code",
   "execution_count": null,
   "outputs": [],
   "source": [],
   "metadata": {
    "collapsed": false
   }
  }
 ],
 "metadata": {
  "kernelspec": {
   "display_name": "Python 3",
   "language": "python",
   "name": "python3"
  },
  "language_info": {
   "codemirror_mode": {
    "name": "ipython",
    "version": 2
   },
   "file_extension": ".py",
   "mimetype": "text/x-python",
   "name": "python",
   "nbconvert_exporter": "python",
   "pygments_lexer": "ipython2",
   "version": "2.7.6"
  }
 },
 "nbformat": 4,
 "nbformat_minor": 0
}

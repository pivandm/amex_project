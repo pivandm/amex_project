{
 "cells": [
  {
   "cell_type": "code",
   "execution_count": 9,
   "metadata": {
    "collapsed": true
   },
   "outputs": [],
   "source": [
    "import pandas as pd\n",
    "import pickle\n",
    "import numpy as np\n",
    "from sklearn.model_selection import train_test_split\n",
    "from xgboost import XGBClassifier\n",
    "import os\n",
    "import sys\n",
    "import gc\n",
    "import catboost\n",
    "from sklearn.model_selection import StratifiedKFold\n",
    "\n",
    "file = open('cat_cols.txt', 'rb')\n",
    "cat_cols = pickle.load(file)\n",
    "file.close()\n",
    "file = open('dtype_for_agg_catb.txt', 'rb')\n",
    "dtype_dict = pickle.load(file)\n",
    "file.close()\n",
    "\n",
    "def amex_metric_numpy(y_true: np.array, y_pred: np.array) -> float:\n",
    "\n",
    "    # count of positives and negatives\n",
    "    n_pos = y_true.sum()\n",
    "    n_neg = y_true.shape[0] - n_pos\n",
    "\n",
    "    # sorting by descring prediction values\n",
    "    indices = np.argsort(y_pred)[::-1]\n",
    "    probabilities, target = y_pred[indices], y_true[indices]\n",
    "\n",
    "    # filter the top 4% by cumulative row weights\n",
    "    weight = 20.0 - target * 19.0\n",
    "    cum_norm_weight = (weight / weight.sum()).cumsum()\n",
    "    four_pct_filter = cum_norm_weight <= 0.04\n",
    "\n",
    "    # default rate captured at 4%\n",
    "    d = target[four_pct_filter].sum() / n_pos\n",
    "\n",
    "    # weighted Gini coefficient\n",
    "    lorentz = (target / n_pos).cumsum()\n",
    "    gini = ((lorentz - cum_norm_weight) * weight).sum()\n",
    "\n",
    "    # max weighted Gini coefficient\n",
    "    gini_max = 10 * n_neg * (1 - 19 / (n_pos + 20 * n_neg))\n",
    "\n",
    "    # normalized weighted Gini coefficient\n",
    "    g = gini / gini_max\n",
    "\n",
    "    return 0.5 * (g + d)\n",
    "\n",
    "def amex_metric(y_true, y_pred):\n",
    "    labels = np.transpose(np.array([y_true, y_pred]))\n",
    "    labels = labels[labels[:, 1].argsort()[::-1]]\n",
    "    weights = np.where(labels[:,0]==0, 20, 1)\n",
    "    cut_vals = labels[np.cumsum(weights) <= int(0.04 * np.sum(weights))]\n",
    "    top_four = np.sum(cut_vals[:,0]) / np.sum(labels[:,0])\n",
    "    gini = [0,0]\n",
    "    for i in [1,0]:\n",
    "        labels = np.transpose(np.array([y_true, y_pred]))\n",
    "        labels = labels[labels[:, i].argsort()[::-1]]\n",
    "        weight = np.where(labels[:,0]==0, 20, 1)\n",
    "        weight_random = np.cumsum(weight / np.sum(weight))\n",
    "        total_pos = np.sum(labels[:, 0] *  weight)\n",
    "        cum_pos_found = np.cumsum(labels[:, 0] * weight)\n",
    "        lorentz = cum_pos_found / total_pos\n",
    "        gini[i] = np.sum((lorentz - weight_random) * weight)\n",
    "    return 0.5 * (gini[1]/gini[0] + top_four)\n",
    "\n",
    "def dt_converter(dtype):\n",
    "    if dtype == 'float64':\n",
    "        return 'float16'\n",
    "    elif dtype == 'int64':\n",
    "        return 'int16'\n",
    "    else:\n",
    "        return 'object'\n",
    "\n",
    "def mem_usage_gb(df):\n",
    "    return round((df.memory_usage(deep=True).sum()/1073741824), 2)"
   ]
  },
  {
   "cell_type": "code",
   "execution_count": 10,
   "outputs": [
    {
     "data": {
      "text/plain": "                                         customer_ID  P_2_mean   P_2_std  \\\n0  0000099d6bd597052cdcda90ffabf56573fe9d7c79be5f...  0.933594  0.024200   \n1  00000fd6641609c6ece5454664794f0340ad84dddce9a2...  0.899902  0.022095   \n2  00001b22f846c82c51f6e3958ccd81970162bae8b007e8...  0.878418  0.028839   \n3  000041bdba6ecadd89a52d11886e8eaaec9325906c9723...  0.599121  0.020081   \n4  00007889e4fcd2614b6cbe7f8f3d2e5c728eca32d9eb8a...  0.891602  0.042328   \n\n    P_2_min   P_2_max  P_2_last  D_39_mean  D_39_std  D_39_min  D_39_max  ...  \\\n0  0.868652  0.960449  0.934570   0.010704  0.024445  0.001082  0.091492  ...   \n1  0.861328  0.929199  0.880371   0.215210  0.199097  0.002224  0.567383  ...   \n2  0.797852  0.904297  0.880859   0.004181  0.002758  0.000802  0.009705  ...   \n3  0.567383  0.623535  0.621582   0.048859  0.088501  0.000660  0.268555  ...   \n4  0.805176  0.940430  0.872070   0.004642  0.002882  0.000030  0.008682  ...   \n\n   D_63_nunique  D_64_count  D_64_last  D_64_nunique  D_66_count  D_66_last  \\\n0             1          13          O             1           0        NaN   \n1             1          13          O             1           0        NaN   \n2             1          13          R             1           0        NaN   \n3             1          13          O             1           0        NaN   \n4             1          13          O             1          13        1.0   \n\n   D_66_nunique  D_68_count  D_68_last  D_68_nunique  \n0             0          13        6.0             1  \n1             0          13        6.0             1  \n2             0          13        6.0             1  \n3             0          13        3.0             3  \n4             1          13        6.0             1  \n\n[5 rows x 919 columns]",
      "text/html": "<div>\n<style scoped>\n    .dataframe tbody tr th:only-of-type {\n        vertical-align: middle;\n    }\n\n    .dataframe tbody tr th {\n        vertical-align: top;\n    }\n\n    .dataframe thead th {\n        text-align: right;\n    }\n</style>\n<table border=\"1\" class=\"dataframe\">\n  <thead>\n    <tr style=\"text-align: right;\">\n      <th></th>\n      <th>customer_ID</th>\n      <th>P_2_mean</th>\n      <th>P_2_std</th>\n      <th>P_2_min</th>\n      <th>P_2_max</th>\n      <th>P_2_last</th>\n      <th>D_39_mean</th>\n      <th>D_39_std</th>\n      <th>D_39_min</th>\n      <th>D_39_max</th>\n      <th>...</th>\n      <th>D_63_nunique</th>\n      <th>D_64_count</th>\n      <th>D_64_last</th>\n      <th>D_64_nunique</th>\n      <th>D_66_count</th>\n      <th>D_66_last</th>\n      <th>D_66_nunique</th>\n      <th>D_68_count</th>\n      <th>D_68_last</th>\n      <th>D_68_nunique</th>\n    </tr>\n  </thead>\n  <tbody>\n    <tr>\n      <th>0</th>\n      <td>0000099d6bd597052cdcda90ffabf56573fe9d7c79be5f...</td>\n      <td>0.933594</td>\n      <td>0.024200</td>\n      <td>0.868652</td>\n      <td>0.960449</td>\n      <td>0.934570</td>\n      <td>0.010704</td>\n      <td>0.024445</td>\n      <td>0.001082</td>\n      <td>0.091492</td>\n      <td>...</td>\n      <td>1</td>\n      <td>13</td>\n      <td>O</td>\n      <td>1</td>\n      <td>0</td>\n      <td>NaN</td>\n      <td>0</td>\n      <td>13</td>\n      <td>6.0</td>\n      <td>1</td>\n    </tr>\n    <tr>\n      <th>1</th>\n      <td>00000fd6641609c6ece5454664794f0340ad84dddce9a2...</td>\n      <td>0.899902</td>\n      <td>0.022095</td>\n      <td>0.861328</td>\n      <td>0.929199</td>\n      <td>0.880371</td>\n      <td>0.215210</td>\n      <td>0.199097</td>\n      <td>0.002224</td>\n      <td>0.567383</td>\n      <td>...</td>\n      <td>1</td>\n      <td>13</td>\n      <td>O</td>\n      <td>1</td>\n      <td>0</td>\n      <td>NaN</td>\n      <td>0</td>\n      <td>13</td>\n      <td>6.0</td>\n      <td>1</td>\n    </tr>\n    <tr>\n      <th>2</th>\n      <td>00001b22f846c82c51f6e3958ccd81970162bae8b007e8...</td>\n      <td>0.878418</td>\n      <td>0.028839</td>\n      <td>0.797852</td>\n      <td>0.904297</td>\n      <td>0.880859</td>\n      <td>0.004181</td>\n      <td>0.002758</td>\n      <td>0.000802</td>\n      <td>0.009705</td>\n      <td>...</td>\n      <td>1</td>\n      <td>13</td>\n      <td>R</td>\n      <td>1</td>\n      <td>0</td>\n      <td>NaN</td>\n      <td>0</td>\n      <td>13</td>\n      <td>6.0</td>\n      <td>1</td>\n    </tr>\n    <tr>\n      <th>3</th>\n      <td>000041bdba6ecadd89a52d11886e8eaaec9325906c9723...</td>\n      <td>0.599121</td>\n      <td>0.020081</td>\n      <td>0.567383</td>\n      <td>0.623535</td>\n      <td>0.621582</td>\n      <td>0.048859</td>\n      <td>0.088501</td>\n      <td>0.000660</td>\n      <td>0.268555</td>\n      <td>...</td>\n      <td>1</td>\n      <td>13</td>\n      <td>O</td>\n      <td>1</td>\n      <td>0</td>\n      <td>NaN</td>\n      <td>0</td>\n      <td>13</td>\n      <td>3.0</td>\n      <td>3</td>\n    </tr>\n    <tr>\n      <th>4</th>\n      <td>00007889e4fcd2614b6cbe7f8f3d2e5c728eca32d9eb8a...</td>\n      <td>0.891602</td>\n      <td>0.042328</td>\n      <td>0.805176</td>\n      <td>0.940430</td>\n      <td>0.872070</td>\n      <td>0.004642</td>\n      <td>0.002882</td>\n      <td>0.000030</td>\n      <td>0.008682</td>\n      <td>...</td>\n      <td>1</td>\n      <td>13</td>\n      <td>O</td>\n      <td>1</td>\n      <td>13</td>\n      <td>1.0</td>\n      <td>1</td>\n      <td>13</td>\n      <td>6.0</td>\n      <td>1</td>\n    </tr>\n  </tbody>\n</table>\n<p>5 rows × 919 columns</p>\n</div>"
     },
     "metadata": {},
     "output_type": "display_data"
    },
    {
     "name": "stdout",
     "output_type": "stream",
     "text": [
      "DataFrame memory usage: 0.88 GB\n"
     ]
    }
   ],
   "source": [
    "train_data = pd.read_csv('prep_catboost_train.csv', dtype=dtype_dict)\n",
    "features = train_data.drop(columns=['customer_ID']).columns.to_list()\n",
    "display(train_data.head())\n",
    "print('DataFrame memory usage:', mem_usage_gb(train_data), 'GB')"
   ],
   "metadata": {
    "collapsed": false
   }
  },
  {
   "cell_type": "code",
   "execution_count": 13,
   "outputs": [],
   "source": [
    "train_labels = pd.read_csv('train_labels.csv', dtype={'target': 'int8'})\n",
    "train_labels.drop(columns=['customer_ID'], inplace=True)\n",
    "train_labels = np.ravel(train_labels)"
   ],
   "metadata": {
    "collapsed": false
   }
  },
  {
   "cell_type": "code",
   "execution_count": 14,
   "outputs": [
    {
     "name": "stdout",
     "output_type": "stream",
     "text": [
      "TRAIN: [ 91365  91370  91372 ... 458910 458911 458912] TEST: [    0     1     2 ... 91967 91968 91970]\n",
      "TRAIN: [     0      1      2 ... 458910 458911 458912] TEST: [ 91365  91370  91372 ... 183738 183739 183741]\n",
      "TRAIN: [     0      1      2 ... 458910 458911 458912] TEST: [183102 183107 183110 ... 275769 275770 275772]\n",
      "TRAIN: [     0      1      2 ... 458910 458911 458912] TEST: [274193 274194 274195 ... 367328 367330 367331]\n",
      "TRAIN: [     0      1      2 ... 367328 367330 367331] TEST: [366545 366546 366547 ... 458910 458911 458912]\n"
     ]
    }
   ],
   "source": [
    "# X = np.array([[1, 2], [3, 4], [1, 2], [3, 4]])\n",
    "# y = np.array([0, 0, 1, 1])\n",
    "skf = StratifiedKFold(n_splits=5)\n",
    "\n",
    "for train_index, test_index in skf.split(train_data, train_labels):\n",
    "    print(\"TRAIN:\", train_index, \"TEST:\", test_index)\n",
    "    # X_train, X_test = X[train_index], X[test_index]\n",
    "    # y_train, y_test = y[train_index], y[test_index]"
   ],
   "metadata": {
    "collapsed": false
   }
  },
  {
   "cell_type": "code",
   "execution_count": 6,
   "outputs": [
    {
     "data": {
      "text/plain": "'float16'"
     },
     "execution_count": 6,
     "metadata": {},
     "output_type": "execute_result"
    }
   ],
   "source": [
    "\n",
    "import xgboost as xgb\n",
    "model = XGBClassifier(objective= 'binary:logistic', random_state= 42, n_estimators= 1200)\n",
    "# 'tree_method': 'gpu_hist',\n",
    "params = {\n",
    "    'objective': 'binary:logistic',\n",
    "    'random_state': 42,\n",
    "    'n_estimators': 1200\n",
    "}\n",
    "n_tests = 5\n",
    "metric_scores = []\n",
    "metric_scores2 = []\n",
    "for i in range(n_tests):\n",
    "    X_train, X_test, y_train, y_test = train_test_split(X, y, test_size=0.2, random_state=42)\n",
    "    model.fit(X_train, y_train)\n",
    "    # d_train = xgb.DMatrix(X_train, y_train)\n",
    "    # model = xgb.train(params, d_train)\n",
    "    predictions = model.predict_proba(X_test)[:, 1]\n",
    "    metric_scores.append(amex_metric_numpy(y_test, predictions))\n",
    "    metric_scores2.append(amex_metric(y_test, predictions))\n",
    "print('#' * 50)\n",
    "print('Accuracy_0: ', *metric_scores)\n",
    "print('#' * 50)\n",
    "print('')\n",
    "print('#' * 50)\n",
    "print('Accuracy_1: ', *metric_scores2)\n",
    "print('#' * 50)\n"
   ],
   "metadata": {
    "collapsed": false
   }
  },
  {
   "cell_type": "code",
   "execution_count": null,
   "outputs": [],
   "source": [],
   "metadata": {
    "collapsed": false
   }
  }
 ],
 "metadata": {
  "kernelspec": {
   "display_name": "Python 3",
   "language": "python",
   "name": "python3"
  },
  "language_info": {
   "codemirror_mode": {
    "name": "ipython",
    "version": 2
   },
   "file_extension": ".py",
   "mimetype": "text/x-python",
   "name": "python",
   "nbconvert_exporter": "python",
   "pygments_lexer": "ipython2",
   "version": "2.7.6"
  }
 },
 "nbformat": 4,
 "nbformat_minor": 0
}

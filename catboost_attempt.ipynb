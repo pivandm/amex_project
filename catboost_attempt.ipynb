{
 "cells": [
  {
   "cell_type": "code",
   "execution_count": 1,
   "metadata": {
    "collapsed": true
   },
   "outputs": [],
   "source": [
    "import pandas as pd\n",
    "import pickle\n",
    "import numpy as np\n",
    "import os\n",
    "import sys\n",
    "import gc\n",
    "import catboost\n",
    "\n",
    "file = open('cat_cols.txt', 'rb')\n",
    "cat_cols = pickle.load(file)\n",
    "file.close()\n",
    "\n",
    "\n",
    "# function to convert dtypes\n",
    "def encode_cat(x):\n",
    "    if isinstance(x, float):\n",
    "        return str(x)\n",
    "def dt_converter(dtype):\n",
    "    if dtype == 'float64':\n",
    "        return 'float16'\n",
    "    elif dtype == 'int64':\n",
    "        return 'int16'\n",
    "    else:\n",
    "        return 'object'\n",
    "\n",
    "def mem_usage_gb(df):\n",
    "    return round((df.memory_usage(deep=True).sum()/1073741824), 2)\n",
    "\n",
    "def file_mem_usage_gb(file_name):\n",
    "    return round((os.stat(file_name).st_size/1073741824), 2)"
   ]
  },
  {
   "cell_type": "markdown",
   "source": [
    "I pre-processed data in different file and saved to csv, now I only have to open it\n",
    "but there is an issue with dtypes\n",
    "beforehand I had dtypes_dict to convert float64 to float16 to reduce mem usage\n",
    "now columns are named differently and I have to redo the conversion"
   ],
   "metadata": {
    "collapsed": false
   }
  },
  {
   "cell_type": "code",
   "execution_count": 2,
   "outputs": [
    {
     "data": {
      "text/plain": "                                         customer_ID  P_2_mean   P_2_std  \\\n0  0000099d6bd597052cdcda90ffabf56573fe9d7c79be5f...    0.9336  0.024194   \n1  00000fd6641609c6ece5454664794f0340ad84dddce9a2...    0.9000  0.022097   \n2  00001b22f846c82c51f6e3958ccd81970162bae8b007e8...    0.8784  0.028837   \n3  000041bdba6ecadd89a52d11886e8eaaec9325906c9723...    0.5990  0.020082   \n4  00007889e4fcd2614b6cbe7f8f3d2e5c728eca32d9eb8a...    0.8916  0.042316   \n\n   P_2_min  P_2_max  P_2_last  D_39_mean  D_39_std  D_39_min  D_39_max  ...  \\\n0   0.8687   0.9604    0.9346   0.010704  0.024440  0.001082  0.091500  ...   \n1   0.8613   0.9290    0.8804   0.215200  0.199123  0.002224  0.567400  ...   \n2   0.7980   0.9043    0.8810   0.004180  0.002759  0.000802  0.009705  ...   \n3   0.5674   0.6235    0.6216   0.048860  0.088490  0.000660  0.268600  ...   \n4   0.8050   0.9404    0.8720   0.004642  0.002883  0.000030  0.008680  ...   \n\n   D_63_nunique  D_64_count  D_64_last  D_64_nunique  D_66_count  D_66_last  \\\n0             1          13          O             1           0        NaN   \n1             1          13          O             1           0        NaN   \n2             1          13          R             1           0        NaN   \n3             1          13          O             1           0        NaN   \n4             1          13          O             1          13        1.0   \n\n   D_66_nunique  D_68_count  D_68_last  D_68_nunique  \n0             0          13        6.0             1  \n1             0          13        6.0             1  \n2             0          13        6.0             1  \n3             0          13        3.0             3  \n4             1          13        6.0             1  \n\n[5 rows x 919 columns]",
      "text/html": "<div>\n<style scoped>\n    .dataframe tbody tr th:only-of-type {\n        vertical-align: middle;\n    }\n\n    .dataframe tbody tr th {\n        vertical-align: top;\n    }\n\n    .dataframe thead th {\n        text-align: right;\n    }\n</style>\n<table border=\"1\" class=\"dataframe\">\n  <thead>\n    <tr style=\"text-align: right;\">\n      <th></th>\n      <th>customer_ID</th>\n      <th>P_2_mean</th>\n      <th>P_2_std</th>\n      <th>P_2_min</th>\n      <th>P_2_max</th>\n      <th>P_2_last</th>\n      <th>D_39_mean</th>\n      <th>D_39_std</th>\n      <th>D_39_min</th>\n      <th>D_39_max</th>\n      <th>...</th>\n      <th>D_63_nunique</th>\n      <th>D_64_count</th>\n      <th>D_64_last</th>\n      <th>D_64_nunique</th>\n      <th>D_66_count</th>\n      <th>D_66_last</th>\n      <th>D_66_nunique</th>\n      <th>D_68_count</th>\n      <th>D_68_last</th>\n      <th>D_68_nunique</th>\n    </tr>\n  </thead>\n  <tbody>\n    <tr>\n      <th>0</th>\n      <td>0000099d6bd597052cdcda90ffabf56573fe9d7c79be5f...</td>\n      <td>0.9336</td>\n      <td>0.024194</td>\n      <td>0.8687</td>\n      <td>0.9604</td>\n      <td>0.9346</td>\n      <td>0.010704</td>\n      <td>0.024440</td>\n      <td>0.001082</td>\n      <td>0.091500</td>\n      <td>...</td>\n      <td>1</td>\n      <td>13</td>\n      <td>O</td>\n      <td>1</td>\n      <td>0</td>\n      <td>NaN</td>\n      <td>0</td>\n      <td>13</td>\n      <td>6.0</td>\n      <td>1</td>\n    </tr>\n    <tr>\n      <th>1</th>\n      <td>00000fd6641609c6ece5454664794f0340ad84dddce9a2...</td>\n      <td>0.9000</td>\n      <td>0.022097</td>\n      <td>0.8613</td>\n      <td>0.9290</td>\n      <td>0.8804</td>\n      <td>0.215200</td>\n      <td>0.199123</td>\n      <td>0.002224</td>\n      <td>0.567400</td>\n      <td>...</td>\n      <td>1</td>\n      <td>13</td>\n      <td>O</td>\n      <td>1</td>\n      <td>0</td>\n      <td>NaN</td>\n      <td>0</td>\n      <td>13</td>\n      <td>6.0</td>\n      <td>1</td>\n    </tr>\n    <tr>\n      <th>2</th>\n      <td>00001b22f846c82c51f6e3958ccd81970162bae8b007e8...</td>\n      <td>0.8784</td>\n      <td>0.028837</td>\n      <td>0.7980</td>\n      <td>0.9043</td>\n      <td>0.8810</td>\n      <td>0.004180</td>\n      <td>0.002759</td>\n      <td>0.000802</td>\n      <td>0.009705</td>\n      <td>...</td>\n      <td>1</td>\n      <td>13</td>\n      <td>R</td>\n      <td>1</td>\n      <td>0</td>\n      <td>NaN</td>\n      <td>0</td>\n      <td>13</td>\n      <td>6.0</td>\n      <td>1</td>\n    </tr>\n    <tr>\n      <th>3</th>\n      <td>000041bdba6ecadd89a52d11886e8eaaec9325906c9723...</td>\n      <td>0.5990</td>\n      <td>0.020082</td>\n      <td>0.5674</td>\n      <td>0.6235</td>\n      <td>0.6216</td>\n      <td>0.048860</td>\n      <td>0.088490</td>\n      <td>0.000660</td>\n      <td>0.268600</td>\n      <td>...</td>\n      <td>1</td>\n      <td>13</td>\n      <td>O</td>\n      <td>1</td>\n      <td>0</td>\n      <td>NaN</td>\n      <td>0</td>\n      <td>13</td>\n      <td>3.0</td>\n      <td>3</td>\n    </tr>\n    <tr>\n      <th>4</th>\n      <td>00007889e4fcd2614b6cbe7f8f3d2e5c728eca32d9eb8a...</td>\n      <td>0.8916</td>\n      <td>0.042316</td>\n      <td>0.8050</td>\n      <td>0.9404</td>\n      <td>0.8720</td>\n      <td>0.004642</td>\n      <td>0.002883</td>\n      <td>0.000030</td>\n      <td>0.008680</td>\n      <td>...</td>\n      <td>1</td>\n      <td>13</td>\n      <td>O</td>\n      <td>1</td>\n      <td>13</td>\n      <td>1.0</td>\n      <td>1</td>\n      <td>13</td>\n      <td>6.0</td>\n      <td>1</td>\n    </tr>\n  </tbody>\n</table>\n<p>5 rows × 919 columns</p>\n</div>"
     },
     "metadata": {},
     "output_type": "display_data"
    },
    {
     "name": "stdout",
     "output_type": "stream",
     "text": [
      "DataFrame memory usage: 3.23 GB     File size: 3.47 GB\n"
     ]
    }
   ],
   "source": [
    "train_data = pd.read_csv('prep_catboost_train.csv')\n",
    "display(train_data.head())\n",
    "print('DataFrame memory usage:', mem_usage_gb(train_data), 'GB    ', 'File size:', file_mem_usage_gb('prep_catboost_train.csv'), 'GB')"
   ],
   "metadata": {
    "collapsed": false
   }
  },
  {
   "cell_type": "markdown",
   "source": [
    "dataset is too big should be around 1 GB got 3.23 GB\n",
    "This is because dtypes by default are float64, int64, lets deal with that"
   ],
   "metadata": {
    "collapsed": false
   }
  },
  {
   "cell_type": "code",
   "execution_count": 3,
   "outputs": [
    {
     "data": {
      "text/plain": "array([dtype('O'), dtype('float64'), dtype('int64')], dtype=object)"
     },
     "execution_count": 3,
     "metadata": {},
     "output_type": "execute_result"
    }
   ],
   "source": [
    "dt = train_data.dtypes\n",
    "dt.unique()"
   ],
   "metadata": {
    "collapsed": false
   }
  },
  {
   "cell_type": "markdown",
   "source": [
    "There are only 3 dtypes in the DataFrame, converting should be easy\n",
    "Create dict {col_name : dtype} to convert while reading from file"
   ],
   "metadata": {
    "collapsed": false
   }
  },
  {
   "cell_type": "code",
   "execution_count": 4,
   "outputs": [
    {
     "data": {
      "text/plain": "{'customer_ID': 'object',\n 'P_2_mean': 'float16',\n 'P_2_std': 'float16',\n 'P_2_min': 'float16',\n 'P_2_max': 'float16',\n 'P_2_last': 'float16',\n 'D_39_mean': 'float16',\n 'D_39_std': 'float16',\n 'D_39_min': 'float16',\n 'D_39_max': 'float16',\n 'D_39_last': 'float16',\n 'B_1_mean': 'float16',\n 'B_1_std': 'float16',\n 'B_1_min': 'float16',\n 'B_1_max': 'float16',\n 'B_1_last': 'float16',\n 'B_2_mean': 'float16',\n 'B_2_std': 'float16',\n 'B_2_min': 'float16',\n 'B_2_max': 'float16',\n 'B_2_last': 'float16',\n 'R_1_mean': 'float16',\n 'R_1_std': 'float16',\n 'R_1_min': 'float16',\n 'R_1_max': 'float16',\n 'R_1_last': 'float16',\n 'S_3_mean': 'float16',\n 'S_3_std': 'float16',\n 'S_3_min': 'float16',\n 'S_3_max': 'float16',\n 'S_3_last': 'float16',\n 'D_41_mean': 'float16',\n 'D_41_std': 'float16',\n 'D_41_min': 'float16',\n 'D_41_max': 'float16',\n 'D_41_last': 'float16',\n 'B_3_mean': 'float16',\n 'B_3_std': 'float16',\n 'B_3_min': 'float16',\n 'B_3_max': 'float16',\n 'B_3_last': 'float16',\n 'D_42_mean': 'float16',\n 'D_42_std': 'float16',\n 'D_42_min': 'float16',\n 'D_42_max': 'float16',\n 'D_42_last': 'float16',\n 'D_43_mean': 'float16',\n 'D_43_std': 'float16',\n 'D_43_min': 'float16',\n 'D_43_max': 'float16',\n 'D_43_last': 'float16',\n 'D_44_mean': 'float16',\n 'D_44_std': 'float16',\n 'D_44_min': 'float16',\n 'D_44_max': 'float16',\n 'D_44_last': 'float16',\n 'B_4_mean': 'float16',\n 'B_4_std': 'float16',\n 'B_4_min': 'float16',\n 'B_4_max': 'float16',\n 'B_4_last': 'float16',\n 'D_45_mean': 'float16',\n 'D_45_std': 'float16',\n 'D_45_min': 'float16',\n 'D_45_max': 'float16',\n 'D_45_last': 'float16',\n 'B_5_mean': 'float16',\n 'B_5_std': 'float16',\n 'B_5_min': 'float16',\n 'B_5_max': 'float16',\n 'B_5_last': 'float16',\n 'R_2_mean': 'float16',\n 'R_2_std': 'float16',\n 'R_2_min': 'float16',\n 'R_2_max': 'float16',\n 'R_2_last': 'float16',\n 'D_46_mean': 'float16',\n 'D_46_std': 'float16',\n 'D_46_min': 'float16',\n 'D_46_max': 'float16',\n 'D_46_last': 'float16',\n 'D_47_mean': 'float16',\n 'D_47_std': 'float16',\n 'D_47_min': 'float16',\n 'D_47_max': 'float16',\n 'D_47_last': 'float16',\n 'D_48_mean': 'float16',\n 'D_48_std': 'float16',\n 'D_48_min': 'float16',\n 'D_48_max': 'float16',\n 'D_48_last': 'float16',\n 'D_49_mean': 'float16',\n 'D_49_std': 'float16',\n 'D_49_min': 'float16',\n 'D_49_max': 'float16',\n 'D_49_last': 'float16',\n 'B_6_mean': 'float16',\n 'B_6_std': 'float16',\n 'B_6_min': 'float16',\n 'B_6_max': 'float16',\n 'B_6_last': 'float16',\n 'B_7_mean': 'float16',\n 'B_7_std': 'float16',\n 'B_7_min': 'float16',\n 'B_7_max': 'float16',\n 'B_7_last': 'float16',\n 'B_8_mean': 'float16',\n 'B_8_std': 'float16',\n 'B_8_min': 'float16',\n 'B_8_max': 'float16',\n 'B_8_last': 'float16',\n 'D_50_mean': 'float16',\n 'D_50_std': 'float16',\n 'D_50_min': 'float16',\n 'D_50_max': 'float16',\n 'D_50_last': 'float16',\n 'D_51_mean': 'float16',\n 'D_51_std': 'float16',\n 'D_51_min': 'float16',\n 'D_51_max': 'float16',\n 'D_51_last': 'float16',\n 'B_9_mean': 'float16',\n 'B_9_std': 'float16',\n 'B_9_min': 'float16',\n 'B_9_max': 'float16',\n 'B_9_last': 'float16',\n 'R_3_mean': 'float16',\n 'R_3_std': 'float16',\n 'R_3_min': 'float16',\n 'R_3_max': 'float16',\n 'R_3_last': 'float16',\n 'D_52_mean': 'float16',\n 'D_52_std': 'float16',\n 'D_52_min': 'float16',\n 'D_52_max': 'float16',\n 'D_52_last': 'float16',\n 'P_3_mean': 'float16',\n 'P_3_std': 'float16',\n 'P_3_min': 'float16',\n 'P_3_max': 'float16',\n 'P_3_last': 'float16',\n 'B_10_mean': 'float16',\n 'B_10_std': 'float16',\n 'B_10_min': 'float16',\n 'B_10_max': 'float16',\n 'B_10_last': 'float16',\n 'D_53_mean': 'float16',\n 'D_53_std': 'float16',\n 'D_53_min': 'float16',\n 'D_53_max': 'float16',\n 'D_53_last': 'float16',\n 'S_5_mean': 'float16',\n 'S_5_std': 'float16',\n 'S_5_min': 'float16',\n 'S_5_max': 'float16',\n 'S_5_last': 'float16',\n 'B_11_mean': 'float16',\n 'B_11_std': 'float16',\n 'B_11_min': 'float16',\n 'B_11_max': 'float16',\n 'B_11_last': 'float16',\n 'S_6_mean': 'float16',\n 'S_6_std': 'float16',\n 'S_6_min': 'float16',\n 'S_6_max': 'float16',\n 'S_6_last': 'float16',\n 'D_54_mean': 'float16',\n 'D_54_std': 'float16',\n 'D_54_min': 'float16',\n 'D_54_max': 'float16',\n 'D_54_last': 'float16',\n 'R_4_mean': 'float16',\n 'R_4_std': 'float16',\n 'R_4_min': 'float16',\n 'R_4_max': 'float16',\n 'R_4_last': 'float16',\n 'S_7_mean': 'float16',\n 'S_7_std': 'float16',\n 'S_7_min': 'float16',\n 'S_7_max': 'float16',\n 'S_7_last': 'float16',\n 'B_12_mean': 'float16',\n 'B_12_std': 'float16',\n 'B_12_min': 'float16',\n 'B_12_max': 'float16',\n 'B_12_last': 'float16',\n 'S_8_mean': 'float16',\n 'S_8_std': 'float16',\n 'S_8_min': 'float16',\n 'S_8_max': 'float16',\n 'S_8_last': 'float16',\n 'D_55_mean': 'float16',\n 'D_55_std': 'float16',\n 'D_55_min': 'float16',\n 'D_55_max': 'float16',\n 'D_55_last': 'float16',\n 'D_56_mean': 'float16',\n 'D_56_std': 'float16',\n 'D_56_min': 'float16',\n 'D_56_max': 'float16',\n 'D_56_last': 'float16',\n 'B_13_mean': 'float16',\n 'B_13_std': 'float16',\n 'B_13_min': 'float16',\n 'B_13_max': 'float16',\n 'B_13_last': 'float16',\n 'R_5_mean': 'float16',\n 'R_5_std': 'float16',\n 'R_5_min': 'float16',\n 'R_5_max': 'float16',\n 'R_5_last': 'float16',\n 'D_58_mean': 'float16',\n 'D_58_std': 'float16',\n 'D_58_min': 'float16',\n 'D_58_max': 'float16',\n 'D_58_last': 'float16',\n 'S_9_mean': 'float16',\n 'S_9_std': 'float16',\n 'S_9_min': 'float16',\n 'S_9_max': 'float16',\n 'S_9_last': 'float16',\n 'B_14_mean': 'float16',\n 'B_14_std': 'float16',\n 'B_14_min': 'float16',\n 'B_14_max': 'float16',\n 'B_14_last': 'float16',\n 'D_59_mean': 'float16',\n 'D_59_std': 'float16',\n 'D_59_min': 'float16',\n 'D_59_max': 'float16',\n 'D_59_last': 'float16',\n 'D_60_mean': 'float16',\n 'D_60_std': 'float16',\n 'D_60_min': 'float16',\n 'D_60_max': 'float16',\n 'D_60_last': 'float16',\n 'D_61_mean': 'float16',\n 'D_61_std': 'float16',\n 'D_61_min': 'float16',\n 'D_61_max': 'float16',\n 'D_61_last': 'float16',\n 'B_15_mean': 'float16',\n 'B_15_std': 'float16',\n 'B_15_min': 'float16',\n 'B_15_max': 'float16',\n 'B_15_last': 'float16',\n 'S_11_mean': 'float16',\n 'S_11_std': 'float16',\n 'S_11_min': 'float16',\n 'S_11_max': 'float16',\n 'S_11_last': 'float16',\n 'D_62_mean': 'float16',\n 'D_62_std': 'float16',\n 'D_62_min': 'float16',\n 'D_62_max': 'float16',\n 'D_62_last': 'float16',\n 'D_65_mean': 'float16',\n 'D_65_std': 'float16',\n 'D_65_min': 'float16',\n 'D_65_max': 'float16',\n 'D_65_last': 'float16',\n 'B_16_mean': 'float16',\n 'B_16_std': 'float16',\n 'B_16_min': 'float16',\n 'B_16_max': 'float16',\n 'B_16_last': 'float16',\n 'B_17_mean': 'float16',\n 'B_17_std': 'float16',\n 'B_17_min': 'float16',\n 'B_17_max': 'float16',\n 'B_17_last': 'float16',\n 'B_18_mean': 'float16',\n 'B_18_std': 'float16',\n 'B_18_min': 'float16',\n 'B_18_max': 'float16',\n 'B_18_last': 'float16',\n 'B_19_mean': 'float16',\n 'B_19_std': 'float16',\n 'B_19_min': 'float16',\n 'B_19_max': 'float16',\n 'B_19_last': 'float16',\n 'B_20_mean': 'float16',\n 'B_20_std': 'float16',\n 'B_20_min': 'float16',\n 'B_20_max': 'float16',\n 'B_20_last': 'float16',\n 'S_12_mean': 'float16',\n 'S_12_std': 'float16',\n 'S_12_min': 'float16',\n 'S_12_max': 'float16',\n 'S_12_last': 'float16',\n 'R_6_mean': 'float16',\n 'R_6_std': 'float16',\n 'R_6_min': 'float16',\n 'R_6_max': 'float16',\n 'R_6_last': 'float16',\n 'S_13_mean': 'float16',\n 'S_13_std': 'float16',\n 'S_13_min': 'float16',\n 'S_13_max': 'float16',\n 'S_13_last': 'float16',\n 'B_21_mean': 'float16',\n 'B_21_std': 'float16',\n 'B_21_min': 'float16',\n 'B_21_max': 'float16',\n 'B_21_last': 'float16',\n 'D_69_mean': 'float16',\n 'D_69_std': 'float16',\n 'D_69_min': 'float16',\n 'D_69_max': 'float16',\n 'D_69_last': 'float16',\n 'B_22_mean': 'float16',\n 'B_22_std': 'float16',\n 'B_22_min': 'float16',\n 'B_22_max': 'float16',\n 'B_22_last': 'float16',\n 'D_70_mean': 'float16',\n 'D_70_std': 'float16',\n 'D_70_min': 'float16',\n 'D_70_max': 'float16',\n 'D_70_last': 'float16',\n 'D_71_mean': 'float16',\n 'D_71_std': 'float16',\n 'D_71_min': 'float16',\n 'D_71_max': 'float16',\n 'D_71_last': 'float16',\n 'D_72_mean': 'float16',\n 'D_72_std': 'float16',\n 'D_72_min': 'float16',\n 'D_72_max': 'float16',\n 'D_72_last': 'float16',\n 'S_15_mean': 'float16',\n 'S_15_std': 'float16',\n 'S_15_min': 'float16',\n 'S_15_max': 'float16',\n 'S_15_last': 'float16',\n 'B_23_mean': 'float16',\n 'B_23_std': 'float16',\n 'B_23_min': 'float16',\n 'B_23_max': 'float16',\n 'B_23_last': 'float16',\n 'D_73_mean': 'float16',\n 'D_73_std': 'float16',\n 'D_73_min': 'float16',\n 'D_73_max': 'float16',\n 'D_73_last': 'float16',\n 'P_4_mean': 'float16',\n 'P_4_std': 'float16',\n 'P_4_min': 'float16',\n 'P_4_max': 'float16',\n 'P_4_last': 'float16',\n 'D_74_mean': 'float16',\n 'D_74_std': 'float16',\n 'D_74_min': 'float16',\n 'D_74_max': 'float16',\n 'D_74_last': 'float16',\n 'D_75_mean': 'float16',\n 'D_75_std': 'float16',\n 'D_75_min': 'float16',\n 'D_75_max': 'float16',\n 'D_75_last': 'float16',\n 'D_76_mean': 'float16',\n 'D_76_std': 'float16',\n 'D_76_min': 'float16',\n 'D_76_max': 'float16',\n 'D_76_last': 'float16',\n 'B_24_mean': 'float16',\n 'B_24_std': 'float16',\n 'B_24_min': 'float16',\n 'B_24_max': 'float16',\n 'B_24_last': 'float16',\n 'R_7_mean': 'float16',\n 'R_7_std': 'float16',\n 'R_7_min': 'float16',\n 'R_7_max': 'float16',\n 'R_7_last': 'float16',\n 'D_77_mean': 'float16',\n 'D_77_std': 'float16',\n 'D_77_min': 'float16',\n 'D_77_max': 'float16',\n 'D_77_last': 'float16',\n 'B_25_mean': 'float16',\n 'B_25_std': 'float16',\n 'B_25_min': 'float16',\n 'B_25_max': 'float16',\n 'B_25_last': 'float16',\n 'B_26_mean': 'float16',\n 'B_26_std': 'float16',\n 'B_26_min': 'float16',\n 'B_26_max': 'float16',\n 'B_26_last': 'float16',\n 'D_78_mean': 'float16',\n 'D_78_std': 'float16',\n 'D_78_min': 'float16',\n 'D_78_max': 'float16',\n 'D_78_last': 'float16',\n 'D_79_mean': 'float16',\n 'D_79_std': 'float16',\n 'D_79_min': 'float16',\n 'D_79_max': 'float16',\n 'D_79_last': 'float16',\n 'R_8_mean': 'float16',\n 'R_8_std': 'float16',\n 'R_8_min': 'float16',\n 'R_8_max': 'float16',\n 'R_8_last': 'float16',\n 'R_9_mean': 'float16',\n 'R_9_std': 'float16',\n 'R_9_min': 'float16',\n 'R_9_max': 'float16',\n 'R_9_last': 'float16',\n 'S_16_mean': 'float16',\n 'S_16_std': 'float16',\n 'S_16_min': 'float16',\n 'S_16_max': 'float16',\n 'S_16_last': 'float16',\n 'D_80_mean': 'float16',\n 'D_80_std': 'float16',\n 'D_80_min': 'float16',\n 'D_80_max': 'float16',\n 'D_80_last': 'float16',\n 'R_10_mean': 'float16',\n 'R_10_std': 'float16',\n 'R_10_min': 'float16',\n 'R_10_max': 'float16',\n 'R_10_last': 'float16',\n 'R_11_mean': 'float16',\n 'R_11_std': 'float16',\n 'R_11_min': 'float16',\n 'R_11_max': 'float16',\n 'R_11_last': 'float16',\n 'B_27_mean': 'float16',\n 'B_27_std': 'float16',\n 'B_27_min': 'float16',\n 'B_27_max': 'float16',\n 'B_27_last': 'float16',\n 'D_81_mean': 'float16',\n 'D_81_std': 'float16',\n 'D_81_min': 'float16',\n 'D_81_max': 'float16',\n 'D_81_last': 'float16',\n 'D_82_mean': 'float16',\n 'D_82_std': 'float16',\n 'D_82_min': 'float16',\n 'D_82_max': 'float16',\n 'D_82_last': 'float16',\n 'S_17_mean': 'float16',\n 'S_17_std': 'float16',\n 'S_17_min': 'float16',\n 'S_17_max': 'float16',\n 'S_17_last': 'float16',\n 'R_12_mean': 'float16',\n 'R_12_std': 'float16',\n 'R_12_min': 'float16',\n 'R_12_max': 'float16',\n 'R_12_last': 'float16',\n 'B_28_mean': 'float16',\n 'B_28_std': 'float16',\n 'B_28_min': 'float16',\n 'B_28_max': 'float16',\n 'B_28_last': 'float16',\n 'R_13_mean': 'float16',\n 'R_13_std': 'float16',\n 'R_13_min': 'float16',\n 'R_13_max': 'float16',\n 'R_13_last': 'float16',\n 'D_83_mean': 'float16',\n 'D_83_std': 'float16',\n 'D_83_min': 'float16',\n 'D_83_max': 'float16',\n 'D_83_last': 'float16',\n 'R_14_mean': 'float16',\n 'R_14_std': 'float16',\n 'R_14_min': 'float16',\n 'R_14_max': 'float16',\n 'R_14_last': 'float16',\n 'R_15_mean': 'float16',\n 'R_15_std': 'float16',\n 'R_15_min': 'float16',\n 'R_15_max': 'float16',\n 'R_15_last': 'float16',\n 'D_84_mean': 'float16',\n 'D_84_std': 'float16',\n 'D_84_min': 'float16',\n 'D_84_max': 'float16',\n 'D_84_last': 'float16',\n 'R_16_mean': 'float16',\n 'R_16_std': 'float16',\n 'R_16_min': 'float16',\n 'R_16_max': 'float16',\n 'R_16_last': 'float16',\n 'B_29_mean': 'float16',\n 'B_29_std': 'float16',\n 'B_29_min': 'float16',\n 'B_29_max': 'float16',\n 'B_29_last': 'float16',\n 'S_18_mean': 'float16',\n 'S_18_std': 'float16',\n 'S_18_min': 'float16',\n 'S_18_max': 'float16',\n 'S_18_last': 'float16',\n 'D_86_mean': 'float16',\n 'D_86_std': 'float16',\n 'D_86_min': 'float16',\n 'D_86_max': 'float16',\n 'D_86_last': 'float16',\n 'D_87_mean': 'float16',\n 'D_87_std': 'float16',\n 'D_87_min': 'float16',\n 'D_87_max': 'float16',\n 'D_87_last': 'float16',\n 'R_17_mean': 'float16',\n 'R_17_std': 'float16',\n 'R_17_min': 'float16',\n 'R_17_max': 'float16',\n 'R_17_last': 'float16',\n 'R_18_mean': 'float16',\n 'R_18_std': 'float16',\n 'R_18_min': 'float16',\n 'R_18_max': 'float16',\n 'R_18_last': 'float16',\n 'D_88_mean': 'float16',\n 'D_88_std': 'float16',\n 'D_88_min': 'float16',\n 'D_88_max': 'float16',\n 'D_88_last': 'float16',\n 'B_31_mean': 'float16',\n 'B_31_std': 'float16',\n 'B_31_min': 'int16',\n 'B_31_max': 'int16',\n 'B_31_last': 'int16',\n 'S_19_mean': 'float16',\n 'S_19_std': 'float16',\n 'S_19_min': 'float16',\n 'S_19_max': 'float16',\n 'S_19_last': 'float16',\n 'R_19_mean': 'float16',\n 'R_19_std': 'float16',\n 'R_19_min': 'float16',\n 'R_19_max': 'float16',\n 'R_19_last': 'float16',\n 'B_32_mean': 'float16',\n 'B_32_std': 'float16',\n 'B_32_min': 'float16',\n 'B_32_max': 'float16',\n 'B_32_last': 'float16',\n 'S_20_mean': 'float16',\n 'S_20_std': 'float16',\n 'S_20_min': 'float16',\n 'S_20_max': 'float16',\n 'S_20_last': 'float16',\n 'R_20_mean': 'float16',\n 'R_20_std': 'float16',\n 'R_20_min': 'float16',\n 'R_20_max': 'float16',\n 'R_20_last': 'float16',\n 'R_21_mean': 'float16',\n 'R_21_std': 'float16',\n 'R_21_min': 'float16',\n 'R_21_max': 'float16',\n 'R_21_last': 'float16',\n 'B_33_mean': 'float16',\n 'B_33_std': 'float16',\n 'B_33_min': 'float16',\n 'B_33_max': 'float16',\n 'B_33_last': 'float16',\n 'D_89_mean': 'float16',\n 'D_89_std': 'float16',\n 'D_89_min': 'float16',\n 'D_89_max': 'float16',\n 'D_89_last': 'float16',\n 'R_22_mean': 'float16',\n 'R_22_std': 'float16',\n 'R_22_min': 'float16',\n 'R_22_max': 'float16',\n 'R_22_last': 'float16',\n 'R_23_mean': 'float16',\n 'R_23_std': 'float16',\n 'R_23_min': 'float16',\n 'R_23_max': 'float16',\n 'R_23_last': 'float16',\n 'D_91_mean': 'float16',\n 'D_91_std': 'float16',\n 'D_91_min': 'float16',\n 'D_91_max': 'float16',\n 'D_91_last': 'float16',\n 'D_92_mean': 'float16',\n 'D_92_std': 'float16',\n 'D_92_min': 'float16',\n 'D_92_max': 'float16',\n 'D_92_last': 'float16',\n 'D_93_mean': 'float16',\n 'D_93_std': 'float16',\n 'D_93_min': 'float16',\n 'D_93_max': 'float16',\n 'D_93_last': 'float16',\n 'D_94_mean': 'float16',\n 'D_94_std': 'float16',\n 'D_94_min': 'float16',\n 'D_94_max': 'float16',\n 'D_94_last': 'float16',\n 'R_24_mean': 'float16',\n 'R_24_std': 'float16',\n 'R_24_min': 'float16',\n 'R_24_max': 'float16',\n 'R_24_last': 'float16',\n 'R_25_mean': 'float16',\n 'R_25_std': 'float16',\n 'R_25_min': 'float16',\n 'R_25_max': 'float16',\n 'R_25_last': 'float16',\n 'D_96_mean': 'float16',\n 'D_96_std': 'float16',\n 'D_96_min': 'float16',\n 'D_96_max': 'float16',\n 'D_96_last': 'float16',\n 'S_22_mean': 'float16',\n 'S_22_std': 'float16',\n 'S_22_min': 'float16',\n 'S_22_max': 'float16',\n 'S_22_last': 'float16',\n 'S_23_mean': 'float16',\n 'S_23_std': 'float16',\n 'S_23_min': 'float16',\n 'S_23_max': 'float16',\n 'S_23_last': 'float16',\n 'S_24_mean': 'float16',\n 'S_24_std': 'float16',\n 'S_24_min': 'float16',\n 'S_24_max': 'float16',\n 'S_24_last': 'float16',\n 'S_25_mean': 'float16',\n 'S_25_std': 'float16',\n 'S_25_min': 'float16',\n 'S_25_max': 'float16',\n 'S_25_last': 'float16',\n 'S_26_mean': 'float16',\n 'S_26_std': 'float16',\n 'S_26_min': 'float16',\n 'S_26_max': 'float16',\n 'S_26_last': 'float16',\n 'D_102_mean': 'float16',\n 'D_102_std': 'float16',\n 'D_102_min': 'float16',\n 'D_102_max': 'float16',\n 'D_102_last': 'float16',\n 'D_103_mean': 'float16',\n 'D_103_std': 'float16',\n 'D_103_min': 'float16',\n 'D_103_max': 'float16',\n 'D_103_last': 'float16',\n 'D_104_mean': 'float16',\n 'D_104_std': 'float16',\n 'D_104_min': 'float16',\n 'D_104_max': 'float16',\n 'D_104_last': 'float16',\n 'D_105_mean': 'float16',\n 'D_105_std': 'float16',\n 'D_105_min': 'float16',\n 'D_105_max': 'float16',\n 'D_105_last': 'float16',\n 'D_106_mean': 'float16',\n 'D_106_std': 'float16',\n 'D_106_min': 'float16',\n 'D_106_max': 'float16',\n 'D_106_last': 'float16',\n 'D_107_mean': 'float16',\n 'D_107_std': 'float16',\n 'D_107_min': 'float16',\n 'D_107_max': 'float16',\n 'D_107_last': 'float16',\n 'B_36_mean': 'float16',\n 'B_36_std': 'float16',\n 'B_36_min': 'float16',\n 'B_36_max': 'float16',\n 'B_36_last': 'float16',\n 'B_37_mean': 'float16',\n 'B_37_std': 'float16',\n 'B_37_min': 'float16',\n 'B_37_max': 'float16',\n 'B_37_last': 'float16',\n 'R_26_mean': 'float16',\n 'R_26_std': 'float16',\n 'R_26_min': 'float16',\n 'R_26_max': 'float16',\n 'R_26_last': 'float16',\n 'R_27_mean': 'float16',\n 'R_27_std': 'float16',\n 'R_27_min': 'float16',\n 'R_27_max': 'float16',\n 'R_27_last': 'float16',\n 'D_108_mean': 'float16',\n 'D_108_std': 'float16',\n 'D_108_min': 'float16',\n 'D_108_max': 'float16',\n 'D_108_last': 'float16',\n 'D_109_mean': 'float16',\n 'D_109_std': 'float16',\n 'D_109_min': 'float16',\n 'D_109_max': 'float16',\n 'D_109_last': 'float16',\n 'D_110_mean': 'float16',\n 'D_110_std': 'float16',\n 'D_110_min': 'float16',\n 'D_110_max': 'float16',\n 'D_110_last': 'float16',\n 'D_111_mean': 'float16',\n 'D_111_std': 'float16',\n 'D_111_min': 'float16',\n 'D_111_max': 'float16',\n 'D_111_last': 'float16',\n 'B_39_mean': 'float16',\n 'B_39_std': 'float16',\n 'B_39_min': 'float16',\n 'B_39_max': 'float16',\n 'B_39_last': 'float16',\n 'D_112_mean': 'float16',\n 'D_112_std': 'float16',\n 'D_112_min': 'float16',\n 'D_112_max': 'float16',\n 'D_112_last': 'float16',\n 'B_40_mean': 'float16',\n 'B_40_std': 'float16',\n 'B_40_min': 'float16',\n 'B_40_max': 'float16',\n 'B_40_last': 'float16',\n 'S_27_mean': 'float16',\n 'S_27_std': 'float16',\n 'S_27_min': 'float16',\n 'S_27_max': 'float16',\n 'S_27_last': 'float16',\n 'D_113_mean': 'float16',\n 'D_113_std': 'float16',\n 'D_113_min': 'float16',\n 'D_113_max': 'float16',\n 'D_113_last': 'float16',\n 'D_115_mean': 'float16',\n 'D_115_std': 'float16',\n 'D_115_min': 'float16',\n 'D_115_max': 'float16',\n 'D_115_last': 'float16',\n 'D_118_mean': 'float16',\n 'D_118_std': 'float16',\n 'D_118_min': 'float16',\n 'D_118_max': 'float16',\n 'D_118_last': 'float16',\n 'D_119_mean': 'float16',\n 'D_119_std': 'float16',\n 'D_119_min': 'float16',\n 'D_119_max': 'float16',\n 'D_119_last': 'float16',\n 'D_121_mean': 'float16',\n 'D_121_std': 'float16',\n 'D_121_min': 'float16',\n 'D_121_max': 'float16',\n 'D_121_last': 'float16',\n 'D_122_mean': 'float16',\n 'D_122_std': 'float16',\n 'D_122_min': 'float16',\n 'D_122_max': 'float16',\n 'D_122_last': 'float16',\n 'D_123_mean': 'float16',\n 'D_123_std': 'float16',\n 'D_123_min': 'float16',\n 'D_123_max': 'float16',\n 'D_123_last': 'float16',\n 'D_124_mean': 'float16',\n 'D_124_std': 'float16',\n 'D_124_min': 'float16',\n 'D_124_max': 'float16',\n 'D_124_last': 'float16',\n 'D_125_mean': 'float16',\n 'D_125_std': 'float16',\n 'D_125_min': 'float16',\n 'D_125_max': 'float16',\n 'D_125_last': 'float16',\n 'D_127_mean': 'float16',\n 'D_127_std': 'float16',\n 'D_127_min': 'float16',\n 'D_127_max': 'float16',\n 'D_127_last': 'float16',\n 'D_128_mean': 'float16',\n 'D_128_std': 'float16',\n 'D_128_min': 'float16',\n 'D_128_max': 'float16',\n 'D_128_last': 'float16',\n 'D_129_mean': 'float16',\n 'D_129_std': 'float16',\n 'D_129_min': 'float16',\n 'D_129_max': 'float16',\n 'D_129_last': 'float16',\n 'B_41_mean': 'float16',\n 'B_41_std': 'float16',\n 'B_41_min': 'float16',\n 'B_41_max': 'float16',\n 'B_41_last': 'float16',\n 'B_42_mean': 'float16',\n 'B_42_std': 'float16',\n 'B_42_min': 'float16',\n 'B_42_max': 'float16',\n 'B_42_last': 'float16',\n 'D_130_mean': 'float16',\n 'D_130_std': 'float16',\n 'D_130_min': 'float16',\n 'D_130_max': 'float16',\n 'D_130_last': 'float16',\n 'D_131_mean': 'float16',\n 'D_131_std': 'float16',\n 'D_131_min': 'float16',\n 'D_131_max': 'float16',\n 'D_131_last': 'float16',\n 'D_132_mean': 'float16',\n 'D_132_std': 'float16',\n 'D_132_min': 'float16',\n 'D_132_max': 'float16',\n 'D_132_last': 'float16',\n 'D_133_mean': 'float16',\n 'D_133_std': 'float16',\n 'D_133_min': 'float16',\n 'D_133_max': 'float16',\n 'D_133_last': 'float16',\n 'R_28_mean': 'float16',\n 'R_28_std': 'float16',\n 'R_28_min': 'float16',\n 'R_28_max': 'float16',\n 'R_28_last': 'float16',\n 'D_134_mean': 'float16',\n 'D_134_std': 'float16',\n 'D_134_min': 'float16',\n 'D_134_max': 'float16',\n 'D_134_last': 'float16',\n 'D_135_mean': 'float16',\n 'D_135_std': 'float16',\n 'D_135_min': 'float16',\n 'D_135_max': 'float16',\n 'D_135_last': 'float16',\n 'D_136_mean': 'float16',\n 'D_136_std': 'float16',\n 'D_136_min': 'float16',\n 'D_136_max': 'float16',\n 'D_136_last': 'float16',\n 'D_137_mean': 'float16',\n 'D_137_std': 'float16',\n 'D_137_min': 'float16',\n 'D_137_max': 'float16',\n 'D_137_last': 'float16',\n 'D_138_mean': 'float16',\n 'D_138_std': 'float16',\n 'D_138_min': 'float16',\n 'D_138_max': 'float16',\n 'D_138_last': 'float16',\n 'D_139_mean': 'float16',\n 'D_139_std': 'float16',\n 'D_139_min': 'float16',\n 'D_139_max': 'float16',\n 'D_139_last': 'float16',\n 'D_140_mean': 'float16',\n 'D_140_std': 'float16',\n 'D_140_min': 'float16',\n 'D_140_max': 'float16',\n 'D_140_last': 'float16',\n 'D_141_mean': 'float16',\n 'D_141_std': 'float16',\n 'D_141_min': 'float16',\n 'D_141_max': 'float16',\n 'D_141_last': 'float16',\n 'D_142_mean': 'float16',\n 'D_142_std': 'float16',\n 'D_142_min': 'float16',\n 'D_142_max': 'float16',\n 'D_142_last': 'float16',\n 'D_143_mean': 'float16',\n 'D_143_std': 'float16',\n 'D_143_min': 'float16',\n 'D_143_max': 'float16',\n 'D_143_last': 'float16',\n 'D_144_mean': 'float16',\n 'D_144_std': 'float16',\n 'D_144_min': 'float16',\n 'D_144_max': 'float16',\n 'D_144_last': 'float16',\n 'D_145_mean': 'float16',\n 'D_145_std': 'float16',\n 'D_145_min': 'float16',\n 'D_145_max': 'float16',\n 'D_145_last': 'float16',\n 'B_30_count': 'int16',\n 'B_30_last': 'float16',\n 'B_30_nunique': 'int16',\n 'B_38_count': 'int16',\n 'B_38_last': 'float16',\n 'B_38_nunique': 'int16',\n 'D_114_count': 'int16',\n 'D_114_last': 'float16',\n 'D_114_nunique': 'int16',\n 'D_116_count': 'int16',\n 'D_116_last': 'float16',\n 'D_116_nunique': 'int16',\n 'D_117_count': 'int16',\n 'D_117_last': 'float16',\n 'D_117_nunique': 'int16',\n 'D_120_count': 'int16',\n 'D_120_last': 'float16',\n 'D_120_nunique': 'int16',\n 'D_126_count': 'int16',\n 'D_126_last': 'float16',\n 'D_126_nunique': 'int16',\n 'D_63_count': 'int16',\n 'D_63_last': 'object',\n 'D_63_nunique': 'int16',\n 'D_64_count': 'int16',\n 'D_64_last': 'object',\n 'D_64_nunique': 'int16',\n 'D_66_count': 'int16',\n 'D_66_last': 'float16',\n 'D_66_nunique': 'int16',\n 'D_68_count': 'int16',\n 'D_68_last': 'float16',\n 'D_68_nunique': 'int16'}"
     },
     "execution_count": 4,
     "metadata": {},
     "output_type": "execute_result"
    }
   ],
   "source": [
    "dtype_dict = dict(zip(dt.keys().tolist(), list(map(dt_converter, dt.values.tolist()))))\n",
    "del dt\n",
    "gc.collect()\n",
    "dtype_dict"
   ],
   "metadata": {
    "collapsed": false
   }
  },
  {
   "cell_type": "markdown",
   "source": [
    "now load DataFrame again using dtype_dict to convert dtypes\n",
    "and compare memory usage"
   ],
   "metadata": {
    "collapsed": false
   }
  },
  {
   "cell_type": "code",
   "execution_count": 5,
   "outputs": [
    {
     "name": "stdout",
     "output_type": "stream",
     "text": [
      "DataFrame memory usage: 0.88 GB     File size: 3.47 GB\n"
     ]
    }
   ],
   "source": [
    "train_data = pd.read_csv('prep_catboost_train.csv', dtype=dtype_dict)\n",
    "print('DataFrame memory usage:', mem_usage_gb(train_data), 'GB    ', 'File size:', file_mem_usage_gb('prep_catboost_train.csv'), 'GB')"
   ],
   "metadata": {
    "collapsed": false
   }
  },
  {
   "cell_type": "code",
   "execution_count": 6,
   "outputs": [],
   "source": [
    "train_labels = pd.read_csv('train_labels.csv', dtype={'target': 'int8'})\n",
    "train_labels.drop(columns=['customer_ID'], inplace=True)\n",
    "train_labels = np.ravel(train_labels)"
   ],
   "metadata": {
    "collapsed": false
   }
  },
  {
   "cell_type": "markdown",
   "source": [
    "Categoricals for catboost should be str or int, yet some are float\n",
    "lets change that"
   ],
   "metadata": {
    "collapsed": false
   }
  },
  {
   "cell_type": "code",
   "execution_count": 7,
   "outputs": [
    {
     "data": {
      "text/plain": "               NaN_count     type\nB_30_count             0    int16\nB_30_last             31  float16\nB_30_nunique           0    int16\nB_38_count             0    int16\nB_38_last             31  float16\nB_38_nunique           0    int16\nD_114_count            0    int16\nD_114_last          4739  float16\nD_114_nunique          0    int16\nD_116_count            0    int16\nD_116_last          4739  float16\nD_116_nunique          0    int16\nD_117_count            0    int16\nD_117_last          4739  float16\nD_117_nunique          0    int16\nD_120_count            0    int16\nD_120_last          4739  float16\nD_120_nunique          0    int16\nD_126_count            0    int16\nD_126_last             0  float16\nD_126_nunique          0    int16\nD_63_count             0    int16\nD_63_last              0   object\nD_63_nunique           0    int16\nD_64_count             0    int16\nD_64_last           5279   object\nD_64_nunique           0    int16\nD_66_count             0    int16\nD_66_last         399137  float16\nD_66_nunique           0    int16\nD_68_count             0    int16\nD_68_last           5251  float16\nD_68_nunique           0    int16",
      "text/html": "<div>\n<style scoped>\n    .dataframe tbody tr th:only-of-type {\n        vertical-align: middle;\n    }\n\n    .dataframe tbody tr th {\n        vertical-align: top;\n    }\n\n    .dataframe thead th {\n        text-align: right;\n    }\n</style>\n<table border=\"1\" class=\"dataframe\">\n  <thead>\n    <tr style=\"text-align: right;\">\n      <th></th>\n      <th>NaN_count</th>\n      <th>type</th>\n    </tr>\n  </thead>\n  <tbody>\n    <tr>\n      <th>B_30_count</th>\n      <td>0</td>\n      <td>int16</td>\n    </tr>\n    <tr>\n      <th>B_30_last</th>\n      <td>31</td>\n      <td>float16</td>\n    </tr>\n    <tr>\n      <th>B_30_nunique</th>\n      <td>0</td>\n      <td>int16</td>\n    </tr>\n    <tr>\n      <th>B_38_count</th>\n      <td>0</td>\n      <td>int16</td>\n    </tr>\n    <tr>\n      <th>B_38_last</th>\n      <td>31</td>\n      <td>float16</td>\n    </tr>\n    <tr>\n      <th>B_38_nunique</th>\n      <td>0</td>\n      <td>int16</td>\n    </tr>\n    <tr>\n      <th>D_114_count</th>\n      <td>0</td>\n      <td>int16</td>\n    </tr>\n    <tr>\n      <th>D_114_last</th>\n      <td>4739</td>\n      <td>float16</td>\n    </tr>\n    <tr>\n      <th>D_114_nunique</th>\n      <td>0</td>\n      <td>int16</td>\n    </tr>\n    <tr>\n      <th>D_116_count</th>\n      <td>0</td>\n      <td>int16</td>\n    </tr>\n    <tr>\n      <th>D_116_last</th>\n      <td>4739</td>\n      <td>float16</td>\n    </tr>\n    <tr>\n      <th>D_116_nunique</th>\n      <td>0</td>\n      <td>int16</td>\n    </tr>\n    <tr>\n      <th>D_117_count</th>\n      <td>0</td>\n      <td>int16</td>\n    </tr>\n    <tr>\n      <th>D_117_last</th>\n      <td>4739</td>\n      <td>float16</td>\n    </tr>\n    <tr>\n      <th>D_117_nunique</th>\n      <td>0</td>\n      <td>int16</td>\n    </tr>\n    <tr>\n      <th>D_120_count</th>\n      <td>0</td>\n      <td>int16</td>\n    </tr>\n    <tr>\n      <th>D_120_last</th>\n      <td>4739</td>\n      <td>float16</td>\n    </tr>\n    <tr>\n      <th>D_120_nunique</th>\n      <td>0</td>\n      <td>int16</td>\n    </tr>\n    <tr>\n      <th>D_126_count</th>\n      <td>0</td>\n      <td>int16</td>\n    </tr>\n    <tr>\n      <th>D_126_last</th>\n      <td>0</td>\n      <td>float16</td>\n    </tr>\n    <tr>\n      <th>D_126_nunique</th>\n      <td>0</td>\n      <td>int16</td>\n    </tr>\n    <tr>\n      <th>D_63_count</th>\n      <td>0</td>\n      <td>int16</td>\n    </tr>\n    <tr>\n      <th>D_63_last</th>\n      <td>0</td>\n      <td>object</td>\n    </tr>\n    <tr>\n      <th>D_63_nunique</th>\n      <td>0</td>\n      <td>int16</td>\n    </tr>\n    <tr>\n      <th>D_64_count</th>\n      <td>0</td>\n      <td>int16</td>\n    </tr>\n    <tr>\n      <th>D_64_last</th>\n      <td>5279</td>\n      <td>object</td>\n    </tr>\n    <tr>\n      <th>D_64_nunique</th>\n      <td>0</td>\n      <td>int16</td>\n    </tr>\n    <tr>\n      <th>D_66_count</th>\n      <td>0</td>\n      <td>int16</td>\n    </tr>\n    <tr>\n      <th>D_66_last</th>\n      <td>399137</td>\n      <td>float16</td>\n    </tr>\n    <tr>\n      <th>D_66_nunique</th>\n      <td>0</td>\n      <td>int16</td>\n    </tr>\n    <tr>\n      <th>D_68_count</th>\n      <td>0</td>\n      <td>int16</td>\n    </tr>\n    <tr>\n      <th>D_68_last</th>\n      <td>5251</td>\n      <td>float16</td>\n    </tr>\n    <tr>\n      <th>D_68_nunique</th>\n      <td>0</td>\n      <td>int16</td>\n    </tr>\n  </tbody>\n</table>\n</div>"
     },
     "execution_count": 7,
     "metadata": {},
     "output_type": "execute_result"
    }
   ],
   "source": [
    "nulls = train_data[cat_cols].isna().sum(); types = train_data[cat_cols].dtypes\n",
    "cat_stats = pd.concat([nulls, types], axis=1).rename(columns={0: \"NaN_count\", 1: \"type\"})\n",
    "cat_stats"
   ],
   "metadata": {
    "collapsed": false
   }
  },
  {
   "cell_type": "code",
   "execution_count": 8,
   "outputs": [
    {
     "data": {
      "text/plain": "['B_30_last',\n 'B_38_last',\n 'D_114_last',\n 'D_116_last',\n 'D_117_last',\n 'D_120_last',\n 'D_126_last',\n 'D_64_last',\n 'D_66_last',\n 'D_68_last']"
     },
     "execution_count": 8,
     "metadata": {},
     "output_type": "execute_result"
    }
   ],
   "source": [
    "cols_to_encode = cat_stats.loc[(cat_stats['NaN_count'] != 0) | (cat_stats['type'] == 'float16')].index.tolist()\n",
    "cols_to_encode"
   ],
   "metadata": {
    "collapsed": false
   }
  },
  {
   "cell_type": "code",
   "execution_count": 9,
   "outputs": [
    {
     "name": "stderr",
     "output_type": "stream",
     "text": [
      "C:\\Users\\boomb\\AppData\\Local\\Temp\\ipykernel_30484\\603337707.py:4: SettingWithCopyWarning: \n",
      "A value is trying to be set on a copy of a slice from a DataFrame\n",
      "\n",
      "See the caveats in the documentation: https://pandas.pydata.org/pandas-docs/stable/user_guide/indexing.html#returning-a-view-versus-a-copy\n",
      "  train_data[cat_cols].fillna('no_data', inplace=True)\n"
     ]
    },
    {
     "data": {
      "text/plain": "B_30_count        int16\nB_30_last        object\nB_30_nunique      int16\nB_38_count        int16\nB_38_last        object\nB_38_nunique      int16\nD_114_count       int16\nD_114_last       object\nD_114_nunique     int16\nD_116_count       int16\nD_116_last       object\nD_116_nunique     int16\nD_117_count       int16\nD_117_last       object\nD_117_nunique     int16\nD_120_count       int16\nD_120_last       object\nD_120_nunique     int16\nD_126_count       int16\nD_126_last       object\nD_126_nunique     int16\nD_63_count        int16\nD_63_last        object\nD_63_nunique      int16\nD_64_count        int16\nD_64_last        object\nD_64_nunique      int16\nD_66_count        int16\nD_66_last        object\nD_66_nunique      int16\nD_68_count        int16\nD_68_last        object\nD_68_nunique      int16\ndtype: object"
     },
     "execution_count": 9,
     "metadata": {},
     "output_type": "execute_result"
    }
   ],
   "source": [
    "for col in cols_to_encode:\n",
    "    train_data[col] = train_data[col].astype('object')\n",
    "    train_data[col] = train_data[col].map(str)\n",
    "train_data[cat_cols].fillna('no_data', inplace=True)\n",
    "train_data.drop(columns=['customer_ID'], inplace=True)\n",
    "train_data[cat_cols].dtypes"
   ],
   "metadata": {
    "collapsed": false
   }
  },
  {
   "cell_type": "code",
   "execution_count": 10,
   "outputs": [
    {
     "data": {
      "text/plain": "               NaN_count    type\nB_30_count             0   int16\nB_30_last              0  object\nB_30_nunique           0   int16\nB_38_count             0   int16\nB_38_last              0  object\nB_38_nunique           0   int16\nD_114_count            0   int16\nD_114_last             0  object\nD_114_nunique          0   int16\nD_116_count            0   int16\nD_116_last             0  object\nD_116_nunique          0   int16\nD_117_count            0   int16\nD_117_last             0  object\nD_117_nunique          0   int16\nD_120_count            0   int16\nD_120_last             0  object\nD_120_nunique          0   int16\nD_126_count            0   int16\nD_126_last             0  object\nD_126_nunique          0   int16\nD_63_count             0   int16\nD_63_last              0  object\nD_63_nunique           0   int16\nD_64_count             0   int16\nD_64_last              0  object\nD_64_nunique           0   int16\nD_66_count             0   int16\nD_66_last              0  object\nD_66_nunique           0   int16\nD_68_count             0   int16\nD_68_last              0  object\nD_68_nunique           0   int16",
      "text/html": "<div>\n<style scoped>\n    .dataframe tbody tr th:only-of-type {\n        vertical-align: middle;\n    }\n\n    .dataframe tbody tr th {\n        vertical-align: top;\n    }\n\n    .dataframe thead th {\n        text-align: right;\n    }\n</style>\n<table border=\"1\" class=\"dataframe\">\n  <thead>\n    <tr style=\"text-align: right;\">\n      <th></th>\n      <th>NaN_count</th>\n      <th>type</th>\n    </tr>\n  </thead>\n  <tbody>\n    <tr>\n      <th>B_30_count</th>\n      <td>0</td>\n      <td>int16</td>\n    </tr>\n    <tr>\n      <th>B_30_last</th>\n      <td>0</td>\n      <td>object</td>\n    </tr>\n    <tr>\n      <th>B_30_nunique</th>\n      <td>0</td>\n      <td>int16</td>\n    </tr>\n    <tr>\n      <th>B_38_count</th>\n      <td>0</td>\n      <td>int16</td>\n    </tr>\n    <tr>\n      <th>B_38_last</th>\n      <td>0</td>\n      <td>object</td>\n    </tr>\n    <tr>\n      <th>B_38_nunique</th>\n      <td>0</td>\n      <td>int16</td>\n    </tr>\n    <tr>\n      <th>D_114_count</th>\n      <td>0</td>\n      <td>int16</td>\n    </tr>\n    <tr>\n      <th>D_114_last</th>\n      <td>0</td>\n      <td>object</td>\n    </tr>\n    <tr>\n      <th>D_114_nunique</th>\n      <td>0</td>\n      <td>int16</td>\n    </tr>\n    <tr>\n      <th>D_116_count</th>\n      <td>0</td>\n      <td>int16</td>\n    </tr>\n    <tr>\n      <th>D_116_last</th>\n      <td>0</td>\n      <td>object</td>\n    </tr>\n    <tr>\n      <th>D_116_nunique</th>\n      <td>0</td>\n      <td>int16</td>\n    </tr>\n    <tr>\n      <th>D_117_count</th>\n      <td>0</td>\n      <td>int16</td>\n    </tr>\n    <tr>\n      <th>D_117_last</th>\n      <td>0</td>\n      <td>object</td>\n    </tr>\n    <tr>\n      <th>D_117_nunique</th>\n      <td>0</td>\n      <td>int16</td>\n    </tr>\n    <tr>\n      <th>D_120_count</th>\n      <td>0</td>\n      <td>int16</td>\n    </tr>\n    <tr>\n      <th>D_120_last</th>\n      <td>0</td>\n      <td>object</td>\n    </tr>\n    <tr>\n      <th>D_120_nunique</th>\n      <td>0</td>\n      <td>int16</td>\n    </tr>\n    <tr>\n      <th>D_126_count</th>\n      <td>0</td>\n      <td>int16</td>\n    </tr>\n    <tr>\n      <th>D_126_last</th>\n      <td>0</td>\n      <td>object</td>\n    </tr>\n    <tr>\n      <th>D_126_nunique</th>\n      <td>0</td>\n      <td>int16</td>\n    </tr>\n    <tr>\n      <th>D_63_count</th>\n      <td>0</td>\n      <td>int16</td>\n    </tr>\n    <tr>\n      <th>D_63_last</th>\n      <td>0</td>\n      <td>object</td>\n    </tr>\n    <tr>\n      <th>D_63_nunique</th>\n      <td>0</td>\n      <td>int16</td>\n    </tr>\n    <tr>\n      <th>D_64_count</th>\n      <td>0</td>\n      <td>int16</td>\n    </tr>\n    <tr>\n      <th>D_64_last</th>\n      <td>0</td>\n      <td>object</td>\n    </tr>\n    <tr>\n      <th>D_64_nunique</th>\n      <td>0</td>\n      <td>int16</td>\n    </tr>\n    <tr>\n      <th>D_66_count</th>\n      <td>0</td>\n      <td>int16</td>\n    </tr>\n    <tr>\n      <th>D_66_last</th>\n      <td>0</td>\n      <td>object</td>\n    </tr>\n    <tr>\n      <th>D_66_nunique</th>\n      <td>0</td>\n      <td>int16</td>\n    </tr>\n    <tr>\n      <th>D_68_count</th>\n      <td>0</td>\n      <td>int16</td>\n    </tr>\n    <tr>\n      <th>D_68_last</th>\n      <td>0</td>\n      <td>object</td>\n    </tr>\n    <tr>\n      <th>D_68_nunique</th>\n      <td>0</td>\n      <td>int16</td>\n    </tr>\n  </tbody>\n</table>\n</div>"
     },
     "execution_count": 10,
     "metadata": {},
     "output_type": "execute_result"
    }
   ],
   "source": [
    "nulls = train_data[cat_cols].isna().sum(); types = train_data[cat_cols].dtypes\n",
    "cat_stats = pd.concat([nulls, types], axis=1).rename(columns={0: \"NaN_count\", 1: \"type\"})\n",
    "cat_stats"
   ],
   "metadata": {
    "collapsed": false
   }
  },
  {
   "cell_type": "code",
   "execution_count": 12,
   "outputs": [
    {
     "name": "stdout",
     "output_type": "stream",
     "text": [
      "Learning rate set to 0.04414\n",
      "0:\tlearn: 0.4277469\ttotal: 1.67s\tremaining: 1h 23m 24s\n",
      "50:\tlearn: 0.2811990\ttotal: 1m 13s\tremaining: 1h 10m 59s\n",
      "100:\tlearn: 0.2728878\ttotal: 2m 20s\tremaining: 1h 7m 10s\n",
      "150:\tlearn: 0.2701289\ttotal: 3m 29s\tremaining: 1h 5m 50s\n",
      "200:\tlearn: 0.2684598\ttotal: 5m 32s\tremaining: 1h 17m 8s\n",
      "250:\tlearn: 0.2672184\ttotal: 7m 23s\tremaining: 1h 20m 54s\n",
      "300:\tlearn: 0.2661959\ttotal: 9m 13s\tremaining: 1h 22m 45s\n",
      "350:\tlearn: 0.2652140\ttotal: 11m 1s\tremaining: 1h 23m 16s\n",
      "400:\tlearn: 0.2643424\ttotal: 12m 52s\tremaining: 1h 23m 24s\n",
      "450:\tlearn: 0.2635833\ttotal: 14m 41s\tremaining: 1h 23m 2s\n",
      "500:\tlearn: 0.2629235\ttotal: 16m 29s\tremaining: 1h 22m 17s\n",
      "550:\tlearn: 0.2623057\ttotal: 18m 17s\tremaining: 1h 21m 18s\n",
      "600:\tlearn: 0.2617445\ttotal: 20m 5s\tremaining: 1h 20m 11s\n",
      "650:\tlearn: 0.2611958\ttotal: 21m 54s\tremaining: 1h 19m 4s\n",
      "700:\tlearn: 0.2606844\ttotal: 23m 42s\tremaining: 1h 17m 44s\n",
      "750:\tlearn: 0.2602186\ttotal: 25m 27s\tremaining: 1h 16m 14s\n",
      "800:\tlearn: 0.2597657\ttotal: 27m 12s\tremaining: 1h 14m 41s\n",
      "850:\tlearn: 0.2593078\ttotal: 28m 58s\tremaining: 1h 13m 9s\n",
      "900:\tlearn: 0.2588847\ttotal: 30m 43s\tremaining: 1h 11m 33s\n",
      "950:\tlearn: 0.2584848\ttotal: 32m 30s\tremaining: 1h 10m 2s\n",
      "1000:\tlearn: 0.2580948\ttotal: 34m 16s\tremaining: 1h 8m 27s\n",
      "1050:\tlearn: 0.2577061\ttotal: 36m 1s\tremaining: 1h 6m 48s\n",
      "1100:\tlearn: 0.2573360\ttotal: 37m 47s\tremaining: 1h 5m 10s\n",
      "1150:\tlearn: 0.2570295\ttotal: 39m 30s\tremaining: 1h 3m 27s\n",
      "1200:\tlearn: 0.2566514\ttotal: 41m 14s\tremaining: 1h 1m 46s\n",
      "1250:\tlearn: 0.2563213\ttotal: 42m 23s\tremaining: 59m 15s\n",
      "1300:\tlearn: 0.2559497\ttotal: 43m 28s\tremaining: 56m 46s\n",
      "1350:\tlearn: 0.2556289\ttotal: 44m 30s\tremaining: 54m 19s\n",
      "1400:\tlearn: 0.2552710\ttotal: 45m 35s\tremaining: 52m 2s\n",
      "1450:\tlearn: 0.2549348\ttotal: 46m 37s\tremaining: 49m 46s\n",
      "1500:\tlearn: 0.2546115\ttotal: 48m 7s\tremaining: 48m 4s\n",
      "1550:\tlearn: 0.2542996\ttotal: 49m 12s\tremaining: 45m 58s\n",
      "1600:\tlearn: 0.2539858\ttotal: 50m 16s\tremaining: 43m 56s\n",
      "1650:\tlearn: 0.2536687\ttotal: 51m 22s\tremaining: 41m 59s\n",
      "1700:\tlearn: 0.2533410\ttotal: 52m 28s\tremaining: 40m 4s\n",
      "1750:\tlearn: 0.2530288\ttotal: 53m 31s\tremaining: 38m 10s\n",
      "1800:\tlearn: 0.2527148\ttotal: 54m 37s\tremaining: 36m 22s\n",
      "1850:\tlearn: 0.2524100\ttotal: 55m 40s\tremaining: 34m 33s\n",
      "1900:\tlearn: 0.2521089\ttotal: 56m 46s\tremaining: 32m 49s\n",
      "1950:\tlearn: 0.2518044\ttotal: 57m 49s\tremaining: 31m 5s\n",
      "2000:\tlearn: 0.2514865\ttotal: 58m 57s\tremaining: 29m 25s\n",
      "2050:\tlearn: 0.2511762\ttotal: 1h 2s\tremaining: 27m 46s\n",
      "2100:\tlearn: 0.2508834\ttotal: 1h 1m 5s\tremaining: 26m 8s\n",
      "2150:\tlearn: 0.2505743\ttotal: 1h 2m 8s\tremaining: 24m 31s\n",
      "2200:\tlearn: 0.2503056\ttotal: 1h 3m 10s\tremaining: 22m 55s\n",
      "2250:\tlearn: 0.2500034\ttotal: 1h 4m 15s\tremaining: 21m 22s\n",
      "2300:\tlearn: 0.2497005\ttotal: 1h 5m 21s\tremaining: 19m 51s\n",
      "2350:\tlearn: 0.2494456\ttotal: 1h 6m 25s\tremaining: 18m 20s\n",
      "2400:\tlearn: 0.2491680\ttotal: 1h 7m 27s\tremaining: 16m 49s\n",
      "2450:\tlearn: 0.2488520\ttotal: 1h 8m 31s\tremaining: 15m 21s\n",
      "2500:\tlearn: 0.2485524\ttotal: 1h 9m 37s\tremaining: 13m 53s\n",
      "2550:\tlearn: 0.2482603\ttotal: 1h 10m 41s\tremaining: 12m 26s\n",
      "2600:\tlearn: 0.2479757\ttotal: 1h 11m 44s\tremaining: 11m\n",
      "2650:\tlearn: 0.2476845\ttotal: 1h 12m 47s\tremaining: 9m 34s\n",
      "2700:\tlearn: 0.2473978\ttotal: 1h 13m 50s\tremaining: 8m 10s\n",
      "2750:\tlearn: 0.2471214\ttotal: 1h 14m 54s\tremaining: 6m 46s\n",
      "2800:\tlearn: 0.2468536\ttotal: 1h 16m\tremaining: 5m 24s\n",
      "2850:\tlearn: 0.2465998\ttotal: 1h 17m 4s\tremaining: 4m 1s\n",
      "2900:\tlearn: 0.2463058\ttotal: 1h 18m 7s\tremaining: 2m 39s\n",
      "2950:\tlearn: 0.2460249\ttotal: 1h 19m 8s\tremaining: 1m 18s\n",
      "2999:\tlearn: 0.2457862\ttotal: 1h 20m 10s\tremaining: 0us\n"
     ]
    },
    {
     "data": {
      "text/plain": "<catboost.core.CatBoostRegressor at 0x214ccfa26a0>"
     },
     "execution_count": 12,
     "metadata": {},
     "output_type": "execute_result"
    }
   ],
   "source": [
    "params = {\n",
    "    'boosting_type': 'dart',\n",
    "    'objective': 'binary',\n",
    "    'learning_rate': 0.04,\n",
    "    'n_estimators': 1100,\n",
    "    'num_leaves': 127,\n",
    "    'task_type': 'GPU'\n",
    "}\n",
    "model = catboost.CatBoostRegressor(bagging_temperature = 0.2,\n",
    "                                   od_type='Iter',\n",
    "                                   metric_period = 50,\n",
    "                                   od_wait=20,\n",
    "                                   iterations=3000)\n",
    "model.fit(train_data, train_labels, cat_features=cat_cols)"
   ],
   "metadata": {
    "collapsed": false
   }
  },
  {
   "cell_type": "code",
   "execution_count": 14,
   "outputs": [
    {
     "name": "stderr",
     "output_type": "stream",
     "text": [
      "C:\\Users\\boomb\\AppData\\Local\\Temp\\ipykernel_30484\\1146656593.py:9: SettingWithCopyWarning: \n",
      "A value is trying to be set on a copy of a slice from a DataFrame\n",
      "\n",
      "See the caveats in the documentation: https://pandas.pydata.org/pandas-docs/stable/user_guide/indexing.html#returning-a-view-versus-a-copy\n",
      "  test_data[cat_cols].fillna('no_data', inplace=True)\n"
     ]
    },
    {
     "data": {
      "text/plain": "B_30_count        int16\nB_30_last        object\nB_30_nunique      int16\nB_38_count        int16\nB_38_last        object\nB_38_nunique      int16\nD_114_count       int16\nD_114_last       object\nD_114_nunique     int16\nD_116_count       int16\nD_116_last       object\nD_116_nunique     int16\nD_117_count       int16\nD_117_last       object\nD_117_nunique     int16\nD_120_count       int16\nD_120_last       object\nD_120_nunique     int16\nD_126_count       int16\nD_126_last       object\nD_126_nunique     int16\nD_63_count        int16\nD_63_last        object\nD_63_nunique      int16\nD_64_count        int16\nD_64_last        object\nD_64_nunique      int16\nD_66_count        int16\nD_66_last        object\nD_66_nunique      int16\nD_68_count        int16\nD_68_last        object\nD_68_nunique      int16\ndtype: object"
     },
     "execution_count": 14,
     "metadata": {},
     "output_type": "execute_result"
    }
   ],
   "source": [
    "test_data = pd.read_csv('prep_catboost_test.csv', dtype=dtype_dict)\n",
    "nulls = test_data[cat_cols].isna().sum(); types = test_data[cat_cols].dtypes\n",
    "cat_stats = pd.concat([nulls, types], axis=1).rename(columns={0: \"NaN_count\", 1: \"type\"})\n",
    "cols_to_encode = cat_stats.loc[(cat_stats['NaN_count'] != 0) | (cat_stats['type'] == 'float16')].index.tolist()\n",
    "\n",
    "for col in cols_to_encode:\n",
    "    test_data[col] = test_data[col].astype('object')\n",
    "    test_data[col] = test_data[col].map(str)\n",
    "test_data[cat_cols].fillna('no_data', inplace=True)\n",
    "test_data.drop(columns=['customer_ID'], inplace=True)\n",
    "test_data[cat_cols].dtypes"
   ],
   "metadata": {
    "collapsed": false
   }
  },
  {
   "cell_type": "code",
   "execution_count": 15,
   "outputs": [
    {
     "data": {
      "text/plain": "['C:/Users/boomb/DataspellProjects/dsProject_1/total_output_catb_w_params\\\\catb_w_params.joblib']"
     },
     "execution_count": 15,
     "metadata": {},
     "output_type": "execute_result"
    }
   ],
   "source": [
    "sample = pd.read_csv('sample_submission.csv')\n",
    "# loaded_model = joblib.load('model_third.joblib')\n",
    "predictions = model.predict(test_data)\n",
    "# p_clipped = np.clip(predictions, 0.025, 0.975)\n",
    "output_file = pd.DataFrame({'customer_ID': sample.customer_ID, 'prediction': predictions})\n",
    "# output_file.to_csv('submission_dart.csv', index= False)\n",
    "import os\n",
    "import joblib\n",
    "dir_name = str(input('Specify directory name: '))\n",
    "model_name = str(input('Specify model name: '))\n",
    "full_model_name = model_name + '.joblib'\n",
    "directory = 'total_output_' + dir_name\n",
    "parent_dir = 'C:/Users/boomb/DataspellProjects/dsProject_1/'\n",
    "path = os.path.join(parent_dir, directory)\n",
    "os.mkdir(path)\n",
    "open(os.path.join(path, full_model_name), 'x').close()\n",
    "with open(os.path.join(path, (model_name + '_params.txt')), 'w') as fp:\n",
    "    fp.write(str(params))\n",
    "sub_name = 'submission_' + str(input(\"Specify sub name: \")) + '.csv'\n",
    "open(os.path.join(path, sub_name), 'x').close()\n",
    "output_file.to_csv(os.path.join(path, sub_name), index=False)\n",
    "joblib.dump(model, os.path.join(path, full_model_name))"
   ],
   "metadata": {
    "collapsed": false
   }
  },
  {
   "cell_type": "code",
   "execution_count": null,
   "outputs": [],
   "source": [
    "output_file.shape"
   ],
   "metadata": {
    "collapsed": false
   }
  },
  {
   "cell_type": "code",
   "execution_count": null,
   "outputs": [],
   "source": [],
   "metadata": {
    "collapsed": false
   }
  }
 ],
 "metadata": {
  "kernelspec": {
   "display_name": "Python 3",
   "language": "python",
   "name": "python3"
  },
  "language_info": {
   "codemirror_mode": {
    "name": "ipython",
    "version": 2
   },
   "file_extension": ".py",
   "mimetype": "text/x-python",
   "name": "python",
   "nbconvert_exporter": "python",
   "pygments_lexer": "ipython2",
   "version": "2.7.6"
  }
 },
 "nbformat": 4,
 "nbformat_minor": 0
}

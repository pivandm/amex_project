{
 "cells": [
  {
   "cell_type": "code",
   "execution_count": 1,
   "metadata": {
    "collapsed": true
   },
   "outputs": [],
   "source": [
    "import pandas as pd\n",
    "import pickle\n",
    "import numpy as np\n",
    "import torch\n",
    "import os\n",
    "import sys\n",
    "import gc\n",
    "import catboost\n",
    "\n",
    "file = open('cat_cols.txt', 'rb')\n",
    "cat_cols = pickle.load(file)\n",
    "file.close()\n",
    "\n",
    "\n",
    "# function to convert dtypes\n",
    "def encode_cat(x):\n",
    "    if isinstance(x, float):\n",
    "        return str(x)\n",
    "def dt_converter(dtype):\n",
    "    if dtype == 'float64':\n",
    "        return 'float16'\n",
    "    elif dtype == 'int64':\n",
    "        return 'int16'\n",
    "    else:\n",
    "        return 'object'\n",
    "\n",
    "def mem_usage_gb(df):\n",
    "    return round((df.memory_usage(deep=True).sum()/1073741824), 2)\n",
    "\n",
    "def file_mem_usage_gb(file_name):\n",
    "    return round((os.stat(file_name).st_size/1073741824), 2)"
   ]
  },
  {
   "cell_type": "markdown",
   "source": [
    "I pre-processed data in different file and saved to csv, now I only have to open it\n",
    "but there is an issue with dtypes\n",
    "beforehand I had dtypes_dict to convert float64 to float16 to reduce mem usage\n",
    "now columns are named differently and I have to redo the conversion"
   ],
   "metadata": {
    "collapsed": false
   }
  },
  {
   "cell_type": "code",
   "execution_count": 22,
   "outputs": [
    {
     "data": {
      "text/plain": "                                         customer_ID  P_2_mean   P_2_std  \\\n0  0000099d6bd597052cdcda90ffabf56573fe9d7c79be5f...    0.9336  0.024194   \n1  00000fd6641609c6ece5454664794f0340ad84dddce9a2...    0.9000  0.022097   \n2  00001b22f846c82c51f6e3958ccd81970162bae8b007e8...    0.8784  0.028837   \n3  000041bdba6ecadd89a52d11886e8eaaec9325906c9723...    0.5990  0.020082   \n4  00007889e4fcd2614b6cbe7f8f3d2e5c728eca32d9eb8a...    0.8916  0.042316   \n\n   P_2_min  P_2_max  P_2_last  D_39_mean  D_39_std  D_39_min  D_39_max  ...  \\\n0   0.8687   0.9604    0.9346   0.010704  0.024440  0.001082  0.091500  ...   \n1   0.8613   0.9290    0.8804   0.215200  0.199123  0.002224  0.567400  ...   \n2   0.7980   0.9043    0.8810   0.004180  0.002759  0.000802  0.009705  ...   \n3   0.5674   0.6235    0.6216   0.048860  0.088490  0.000660  0.268600  ...   \n4   0.8050   0.9404    0.8720   0.004642  0.002883  0.000030  0.008680  ...   \n\n   D_63_nunique  D_64_count  D_64_last  D_64_nunique  D_66_count  D_66_last  \\\n0             1          13          O             1           0        NaN   \n1             1          13          O             1           0        NaN   \n2             1          13          R             1           0        NaN   \n3             1          13          O             1           0        NaN   \n4             1          13          O             1          13        1.0   \n\n   D_66_nunique  D_68_count  D_68_last  D_68_nunique  \n0             0          13        6.0             1  \n1             0          13        6.0             1  \n2             0          13        6.0             1  \n3             0          13        3.0             3  \n4             1          13        6.0             1  \n\n[5 rows x 919 columns]",
      "text/html": "<div>\n<style scoped>\n    .dataframe tbody tr th:only-of-type {\n        vertical-align: middle;\n    }\n\n    .dataframe tbody tr th {\n        vertical-align: top;\n    }\n\n    .dataframe thead th {\n        text-align: right;\n    }\n</style>\n<table border=\"1\" class=\"dataframe\">\n  <thead>\n    <tr style=\"text-align: right;\">\n      <th></th>\n      <th>customer_ID</th>\n      <th>P_2_mean</th>\n      <th>P_2_std</th>\n      <th>P_2_min</th>\n      <th>P_2_max</th>\n      <th>P_2_last</th>\n      <th>D_39_mean</th>\n      <th>D_39_std</th>\n      <th>D_39_min</th>\n      <th>D_39_max</th>\n      <th>...</th>\n      <th>D_63_nunique</th>\n      <th>D_64_count</th>\n      <th>D_64_last</th>\n      <th>D_64_nunique</th>\n      <th>D_66_count</th>\n      <th>D_66_last</th>\n      <th>D_66_nunique</th>\n      <th>D_68_count</th>\n      <th>D_68_last</th>\n      <th>D_68_nunique</th>\n    </tr>\n  </thead>\n  <tbody>\n    <tr>\n      <th>0</th>\n      <td>0000099d6bd597052cdcda90ffabf56573fe9d7c79be5f...</td>\n      <td>0.9336</td>\n      <td>0.024194</td>\n      <td>0.8687</td>\n      <td>0.9604</td>\n      <td>0.9346</td>\n      <td>0.010704</td>\n      <td>0.024440</td>\n      <td>0.001082</td>\n      <td>0.091500</td>\n      <td>...</td>\n      <td>1</td>\n      <td>13</td>\n      <td>O</td>\n      <td>1</td>\n      <td>0</td>\n      <td>NaN</td>\n      <td>0</td>\n      <td>13</td>\n      <td>6.0</td>\n      <td>1</td>\n    </tr>\n    <tr>\n      <th>1</th>\n      <td>00000fd6641609c6ece5454664794f0340ad84dddce9a2...</td>\n      <td>0.9000</td>\n      <td>0.022097</td>\n      <td>0.8613</td>\n      <td>0.9290</td>\n      <td>0.8804</td>\n      <td>0.215200</td>\n      <td>0.199123</td>\n      <td>0.002224</td>\n      <td>0.567400</td>\n      <td>...</td>\n      <td>1</td>\n      <td>13</td>\n      <td>O</td>\n      <td>1</td>\n      <td>0</td>\n      <td>NaN</td>\n      <td>0</td>\n      <td>13</td>\n      <td>6.0</td>\n      <td>1</td>\n    </tr>\n    <tr>\n      <th>2</th>\n      <td>00001b22f846c82c51f6e3958ccd81970162bae8b007e8...</td>\n      <td>0.8784</td>\n      <td>0.028837</td>\n      <td>0.7980</td>\n      <td>0.9043</td>\n      <td>0.8810</td>\n      <td>0.004180</td>\n      <td>0.002759</td>\n      <td>0.000802</td>\n      <td>0.009705</td>\n      <td>...</td>\n      <td>1</td>\n      <td>13</td>\n      <td>R</td>\n      <td>1</td>\n      <td>0</td>\n      <td>NaN</td>\n      <td>0</td>\n      <td>13</td>\n      <td>6.0</td>\n      <td>1</td>\n    </tr>\n    <tr>\n      <th>3</th>\n      <td>000041bdba6ecadd89a52d11886e8eaaec9325906c9723...</td>\n      <td>0.5990</td>\n      <td>0.020082</td>\n      <td>0.5674</td>\n      <td>0.6235</td>\n      <td>0.6216</td>\n      <td>0.048860</td>\n      <td>0.088490</td>\n      <td>0.000660</td>\n      <td>0.268600</td>\n      <td>...</td>\n      <td>1</td>\n      <td>13</td>\n      <td>O</td>\n      <td>1</td>\n      <td>0</td>\n      <td>NaN</td>\n      <td>0</td>\n      <td>13</td>\n      <td>3.0</td>\n      <td>3</td>\n    </tr>\n    <tr>\n      <th>4</th>\n      <td>00007889e4fcd2614b6cbe7f8f3d2e5c728eca32d9eb8a...</td>\n      <td>0.8916</td>\n      <td>0.042316</td>\n      <td>0.8050</td>\n      <td>0.9404</td>\n      <td>0.8720</td>\n      <td>0.004642</td>\n      <td>0.002883</td>\n      <td>0.000030</td>\n      <td>0.008680</td>\n      <td>...</td>\n      <td>1</td>\n      <td>13</td>\n      <td>O</td>\n      <td>1</td>\n      <td>13</td>\n      <td>1.0</td>\n      <td>1</td>\n      <td>13</td>\n      <td>6.0</td>\n      <td>1</td>\n    </tr>\n  </tbody>\n</table>\n<p>5 rows × 919 columns</p>\n</div>"
     },
     "metadata": {},
     "output_type": "display_data"
    },
    {
     "name": "stdout",
     "output_type": "stream",
     "text": [
      "DataFrame memory usage: 3.23 GB     File size: 3.47 GB\n"
     ]
    }
   ],
   "source": [
    "train_data = pd.read_csv('prep_catboost_train.csv')\n",
    "display(train_data.head())\n",
    "print('DataFrame memory usage:', mem_usage_gb(train_data), 'GB    ', 'File size:', file_mem_usage_gb('prep_catboost_train.csv'), 'GB')"
   ],
   "metadata": {
    "collapsed": false
   }
  },
  {
   "cell_type": "markdown",
   "source": [
    "dataset is too big should be around 1 GB got 3.23 GB\n",
    "This is because dtypes by default are float64, int64, lets deal with that"
   ],
   "metadata": {
    "collapsed": false
   }
  },
  {
   "cell_type": "code",
   "execution_count": 23,
   "outputs": [
    {
     "data": {
      "text/plain": "array([dtype('O'), dtype('float64'), dtype('int64')], dtype=object)"
     },
     "execution_count": 23,
     "metadata": {},
     "output_type": "execute_result"
    }
   ],
   "source": [
    "dt = train_data.dtypes\n",
    "dt.unique()"
   ],
   "metadata": {
    "collapsed": false
   }
  },
  {
   "cell_type": "markdown",
   "source": [
    "There are only 3 dtypes in the DataFrame, converting should be easy\n",
    "Create dict {col_name : dtype} to convert while reading from file"
   ],
   "metadata": {
    "collapsed": false
   }
  },
  {
   "cell_type": "code",
   "execution_count": 24,
   "outputs": [
    {
     "data": {
      "text/plain": "{'customer_ID': 'object',\n 'P_2_mean': 'float16',\n 'P_2_std': 'float16',\n 'P_2_min': 'float16',\n 'P_2_max': 'float16',\n 'P_2_last': 'float16',\n 'D_39_mean': 'float16',\n 'D_39_std': 'float16',\n 'D_39_min': 'float16',\n 'D_39_max': 'float16',\n 'D_39_last': 'float16',\n 'B_1_mean': 'float16',\n 'B_1_std': 'float16',\n 'B_1_min': 'float16',\n 'B_1_max': 'float16',\n 'B_1_last': 'float16',\n 'B_2_mean': 'float16',\n 'B_2_std': 'float16',\n 'B_2_min': 'float16',\n 'B_2_max': 'float16',\n 'B_2_last': 'float16',\n 'R_1_mean': 'float16',\n 'R_1_std': 'float16',\n 'R_1_min': 'float16',\n 'R_1_max': 'float16',\n 'R_1_last': 'float16',\n 'S_3_mean': 'float16',\n 'S_3_std': 'float16',\n 'S_3_min': 'float16',\n 'S_3_max': 'float16',\n 'S_3_last': 'float16',\n 'D_41_mean': 'float16',\n 'D_41_std': 'float16',\n 'D_41_min': 'float16',\n 'D_41_max': 'float16',\n 'D_41_last': 'float16',\n 'B_3_mean': 'float16',\n 'B_3_std': 'float16',\n 'B_3_min': 'float16',\n 'B_3_max': 'float16',\n 'B_3_last': 'float16',\n 'D_42_mean': 'float16',\n 'D_42_std': 'float16',\n 'D_42_min': 'float16',\n 'D_42_max': 'float16',\n 'D_42_last': 'float16',\n 'D_43_mean': 'float16',\n 'D_43_std': 'float16',\n 'D_43_min': 'float16',\n 'D_43_max': 'float16',\n 'D_43_last': 'float16',\n 'D_44_mean': 'float16',\n 'D_44_std': 'float16',\n 'D_44_min': 'float16',\n 'D_44_max': 'float16',\n 'D_44_last': 'float16',\n 'B_4_mean': 'float16',\n 'B_4_std': 'float16',\n 'B_4_min': 'float16',\n 'B_4_max': 'float16',\n 'B_4_last': 'float16',\n 'D_45_mean': 'float16',\n 'D_45_std': 'float16',\n 'D_45_min': 'float16',\n 'D_45_max': 'float16',\n 'D_45_last': 'float16',\n 'B_5_mean': 'float16',\n 'B_5_std': 'float16',\n 'B_5_min': 'float16',\n 'B_5_max': 'float16',\n 'B_5_last': 'float16',\n 'R_2_mean': 'float16',\n 'R_2_std': 'float16',\n 'R_2_min': 'float16',\n 'R_2_max': 'float16',\n 'R_2_last': 'float16',\n 'D_46_mean': 'float16',\n 'D_46_std': 'float16',\n 'D_46_min': 'float16',\n 'D_46_max': 'float16',\n 'D_46_last': 'float16',\n 'D_47_mean': 'float16',\n 'D_47_std': 'float16',\n 'D_47_min': 'float16',\n 'D_47_max': 'float16',\n 'D_47_last': 'float16',\n 'D_48_mean': 'float16',\n 'D_48_std': 'float16',\n 'D_48_min': 'float16',\n 'D_48_max': 'float16',\n 'D_48_last': 'float16',\n 'D_49_mean': 'float16',\n 'D_49_std': 'float16',\n 'D_49_min': 'float16',\n 'D_49_max': 'float16',\n 'D_49_last': 'float16',\n 'B_6_mean': 'float16',\n 'B_6_std': 'float16',\n 'B_6_min': 'float16',\n 'B_6_max': 'float16',\n 'B_6_last': 'float16',\n 'B_7_mean': 'float16',\n 'B_7_std': 'float16',\n 'B_7_min': 'float16',\n 'B_7_max': 'float16',\n 'B_7_last': 'float16',\n 'B_8_mean': 'float16',\n 'B_8_std': 'float16',\n 'B_8_min': 'float16',\n 'B_8_max': 'float16',\n 'B_8_last': 'float16',\n 'D_50_mean': 'float16',\n 'D_50_std': 'float16',\n 'D_50_min': 'float16',\n 'D_50_max': 'float16',\n 'D_50_last': 'float16',\n 'D_51_mean': 'float16',\n 'D_51_std': 'float16',\n 'D_51_min': 'float16',\n 'D_51_max': 'float16',\n 'D_51_last': 'float16',\n 'B_9_mean': 'float16',\n 'B_9_std': 'float16',\n 'B_9_min': 'float16',\n 'B_9_max': 'float16',\n 'B_9_last': 'float16',\n 'R_3_mean': 'float16',\n 'R_3_std': 'float16',\n 'R_3_min': 'float16',\n 'R_3_max': 'float16',\n 'R_3_last': 'float16',\n 'D_52_mean': 'float16',\n 'D_52_std': 'float16',\n 'D_52_min': 'float16',\n 'D_52_max': 'float16',\n 'D_52_last': 'float16',\n 'P_3_mean': 'float16',\n 'P_3_std': 'float16',\n 'P_3_min': 'float16',\n 'P_3_max': 'float16',\n 'P_3_last': 'float16',\n 'B_10_mean': 'float16',\n 'B_10_std': 'float16',\n 'B_10_min': 'float16',\n 'B_10_max': 'float16',\n 'B_10_last': 'float16',\n 'D_53_mean': 'float16',\n 'D_53_std': 'float16',\n 'D_53_min': 'float16',\n 'D_53_max': 'float16',\n 'D_53_last': 'float16',\n 'S_5_mean': 'float16',\n 'S_5_std': 'float16',\n 'S_5_min': 'float16',\n 'S_5_max': 'float16',\n 'S_5_last': 'float16',\n 'B_11_mean': 'float16',\n 'B_11_std': 'float16',\n 'B_11_min': 'float16',\n 'B_11_max': 'float16',\n 'B_11_last': 'float16',\n 'S_6_mean': 'float16',\n 'S_6_std': 'float16',\n 'S_6_min': 'float16',\n 'S_6_max': 'float16',\n 'S_6_last': 'float16',\n 'D_54_mean': 'float16',\n 'D_54_std': 'float16',\n 'D_54_min': 'float16',\n 'D_54_max': 'float16',\n 'D_54_last': 'float16',\n 'R_4_mean': 'float16',\n 'R_4_std': 'float16',\n 'R_4_min': 'float16',\n 'R_4_max': 'float16',\n 'R_4_last': 'float16',\n 'S_7_mean': 'float16',\n 'S_7_std': 'float16',\n 'S_7_min': 'float16',\n 'S_7_max': 'float16',\n 'S_7_last': 'float16',\n 'B_12_mean': 'float16',\n 'B_12_std': 'float16',\n 'B_12_min': 'float16',\n 'B_12_max': 'float16',\n 'B_12_last': 'float16',\n 'S_8_mean': 'float16',\n 'S_8_std': 'float16',\n 'S_8_min': 'float16',\n 'S_8_max': 'float16',\n 'S_8_last': 'float16',\n 'D_55_mean': 'float16',\n 'D_55_std': 'float16',\n 'D_55_min': 'float16',\n 'D_55_max': 'float16',\n 'D_55_last': 'float16',\n 'D_56_mean': 'float16',\n 'D_56_std': 'float16',\n 'D_56_min': 'float16',\n 'D_56_max': 'float16',\n 'D_56_last': 'float16',\n 'B_13_mean': 'float16',\n 'B_13_std': 'float16',\n 'B_13_min': 'float16',\n 'B_13_max': 'float16',\n 'B_13_last': 'float16',\n 'R_5_mean': 'float16',\n 'R_5_std': 'float16',\n 'R_5_min': 'float16',\n 'R_5_max': 'float16',\n 'R_5_last': 'float16',\n 'D_58_mean': 'float16',\n 'D_58_std': 'float16',\n 'D_58_min': 'float16',\n 'D_58_max': 'float16',\n 'D_58_last': 'float16',\n 'S_9_mean': 'float16',\n 'S_9_std': 'float16',\n 'S_9_min': 'float16',\n 'S_9_max': 'float16',\n 'S_9_last': 'float16',\n 'B_14_mean': 'float16',\n 'B_14_std': 'float16',\n 'B_14_min': 'float16',\n 'B_14_max': 'float16',\n 'B_14_last': 'float16',\n 'D_59_mean': 'float16',\n 'D_59_std': 'float16',\n 'D_59_min': 'float16',\n 'D_59_max': 'float16',\n 'D_59_last': 'float16',\n 'D_60_mean': 'float16',\n 'D_60_std': 'float16',\n 'D_60_min': 'float16',\n 'D_60_max': 'float16',\n 'D_60_last': 'float16',\n 'D_61_mean': 'float16',\n 'D_61_std': 'float16',\n 'D_61_min': 'float16',\n 'D_61_max': 'float16',\n 'D_61_last': 'float16',\n 'B_15_mean': 'float16',\n 'B_15_std': 'float16',\n 'B_15_min': 'float16',\n 'B_15_max': 'float16',\n 'B_15_last': 'float16',\n 'S_11_mean': 'float16',\n 'S_11_std': 'float16',\n 'S_11_min': 'float16',\n 'S_11_max': 'float16',\n 'S_11_last': 'float16',\n 'D_62_mean': 'float16',\n 'D_62_std': 'float16',\n 'D_62_min': 'float16',\n 'D_62_max': 'float16',\n 'D_62_last': 'float16',\n 'D_65_mean': 'float16',\n 'D_65_std': 'float16',\n 'D_65_min': 'float16',\n 'D_65_max': 'float16',\n 'D_65_last': 'float16',\n 'B_16_mean': 'float16',\n 'B_16_std': 'float16',\n 'B_16_min': 'float16',\n 'B_16_max': 'float16',\n 'B_16_last': 'float16',\n 'B_17_mean': 'float16',\n 'B_17_std': 'float16',\n 'B_17_min': 'float16',\n 'B_17_max': 'float16',\n 'B_17_last': 'float16',\n 'B_18_mean': 'float16',\n 'B_18_std': 'float16',\n 'B_18_min': 'float16',\n 'B_18_max': 'float16',\n 'B_18_last': 'float16',\n 'B_19_mean': 'float16',\n 'B_19_std': 'float16',\n 'B_19_min': 'float16',\n 'B_19_max': 'float16',\n 'B_19_last': 'float16',\n 'B_20_mean': 'float16',\n 'B_20_std': 'float16',\n 'B_20_min': 'float16',\n 'B_20_max': 'float16',\n 'B_20_last': 'float16',\n 'S_12_mean': 'float16',\n 'S_12_std': 'float16',\n 'S_12_min': 'float16',\n 'S_12_max': 'float16',\n 'S_12_last': 'float16',\n 'R_6_mean': 'float16',\n 'R_6_std': 'float16',\n 'R_6_min': 'float16',\n 'R_6_max': 'float16',\n 'R_6_last': 'float16',\n 'S_13_mean': 'float16',\n 'S_13_std': 'float16',\n 'S_13_min': 'float16',\n 'S_13_max': 'float16',\n 'S_13_last': 'float16',\n 'B_21_mean': 'float16',\n 'B_21_std': 'float16',\n 'B_21_min': 'float16',\n 'B_21_max': 'float16',\n 'B_21_last': 'float16',\n 'D_69_mean': 'float16',\n 'D_69_std': 'float16',\n 'D_69_min': 'float16',\n 'D_69_max': 'float16',\n 'D_69_last': 'float16',\n 'B_22_mean': 'float16',\n 'B_22_std': 'float16',\n 'B_22_min': 'float16',\n 'B_22_max': 'float16',\n 'B_22_last': 'float16',\n 'D_70_mean': 'float16',\n 'D_70_std': 'float16',\n 'D_70_min': 'float16',\n 'D_70_max': 'float16',\n 'D_70_last': 'float16',\n 'D_71_mean': 'float16',\n 'D_71_std': 'float16',\n 'D_71_min': 'float16',\n 'D_71_max': 'float16',\n 'D_71_last': 'float16',\n 'D_72_mean': 'float16',\n 'D_72_std': 'float16',\n 'D_72_min': 'float16',\n 'D_72_max': 'float16',\n 'D_72_last': 'float16',\n 'S_15_mean': 'float16',\n 'S_15_std': 'float16',\n 'S_15_min': 'float16',\n 'S_15_max': 'float16',\n 'S_15_last': 'float16',\n 'B_23_mean': 'float16',\n 'B_23_std': 'float16',\n 'B_23_min': 'float16',\n 'B_23_max': 'float16',\n 'B_23_last': 'float16',\n 'D_73_mean': 'float16',\n 'D_73_std': 'float16',\n 'D_73_min': 'float16',\n 'D_73_max': 'float16',\n 'D_73_last': 'float16',\n 'P_4_mean': 'float16',\n 'P_4_std': 'float16',\n 'P_4_min': 'float16',\n 'P_4_max': 'float16',\n 'P_4_last': 'float16',\n 'D_74_mean': 'float16',\n 'D_74_std': 'float16',\n 'D_74_min': 'float16',\n 'D_74_max': 'float16',\n 'D_74_last': 'float16',\n 'D_75_mean': 'float16',\n 'D_75_std': 'float16',\n 'D_75_min': 'float16',\n 'D_75_max': 'float16',\n 'D_75_last': 'float16',\n 'D_76_mean': 'float16',\n 'D_76_std': 'float16',\n 'D_76_min': 'float16',\n 'D_76_max': 'float16',\n 'D_76_last': 'float16',\n 'B_24_mean': 'float16',\n 'B_24_std': 'float16',\n 'B_24_min': 'float16',\n 'B_24_max': 'float16',\n 'B_24_last': 'float16',\n 'R_7_mean': 'float16',\n 'R_7_std': 'float16',\n 'R_7_min': 'float16',\n 'R_7_max': 'float16',\n 'R_7_last': 'float16',\n 'D_77_mean': 'float16',\n 'D_77_std': 'float16',\n 'D_77_min': 'float16',\n 'D_77_max': 'float16',\n 'D_77_last': 'float16',\n 'B_25_mean': 'float16',\n 'B_25_std': 'float16',\n 'B_25_min': 'float16',\n 'B_25_max': 'float16',\n 'B_25_last': 'float16',\n 'B_26_mean': 'float16',\n 'B_26_std': 'float16',\n 'B_26_min': 'float16',\n 'B_26_max': 'float16',\n 'B_26_last': 'float16',\n 'D_78_mean': 'float16',\n 'D_78_std': 'float16',\n 'D_78_min': 'float16',\n 'D_78_max': 'float16',\n 'D_78_last': 'float16',\n 'D_79_mean': 'float16',\n 'D_79_std': 'float16',\n 'D_79_min': 'float16',\n 'D_79_max': 'float16',\n 'D_79_last': 'float16',\n 'R_8_mean': 'float16',\n 'R_8_std': 'float16',\n 'R_8_min': 'float16',\n 'R_8_max': 'float16',\n 'R_8_last': 'float16',\n 'R_9_mean': 'float16',\n 'R_9_std': 'float16',\n 'R_9_min': 'float16',\n 'R_9_max': 'float16',\n 'R_9_last': 'float16',\n 'S_16_mean': 'float16',\n 'S_16_std': 'float16',\n 'S_16_min': 'float16',\n 'S_16_max': 'float16',\n 'S_16_last': 'float16',\n 'D_80_mean': 'float16',\n 'D_80_std': 'float16',\n 'D_80_min': 'float16',\n 'D_80_max': 'float16',\n 'D_80_last': 'float16',\n 'R_10_mean': 'float16',\n 'R_10_std': 'float16',\n 'R_10_min': 'float16',\n 'R_10_max': 'float16',\n 'R_10_last': 'float16',\n 'R_11_mean': 'float16',\n 'R_11_std': 'float16',\n 'R_11_min': 'float16',\n 'R_11_max': 'float16',\n 'R_11_last': 'float16',\n 'B_27_mean': 'float16',\n 'B_27_std': 'float16',\n 'B_27_min': 'float16',\n 'B_27_max': 'float16',\n 'B_27_last': 'float16',\n 'D_81_mean': 'float16',\n 'D_81_std': 'float16',\n 'D_81_min': 'float16',\n 'D_81_max': 'float16',\n 'D_81_last': 'float16',\n 'D_82_mean': 'float16',\n 'D_82_std': 'float16',\n 'D_82_min': 'float16',\n 'D_82_max': 'float16',\n 'D_82_last': 'float16',\n 'S_17_mean': 'float16',\n 'S_17_std': 'float16',\n 'S_17_min': 'float16',\n 'S_17_max': 'float16',\n 'S_17_last': 'float16',\n 'R_12_mean': 'float16',\n 'R_12_std': 'float16',\n 'R_12_min': 'float16',\n 'R_12_max': 'float16',\n 'R_12_last': 'float16',\n 'B_28_mean': 'float16',\n 'B_28_std': 'float16',\n 'B_28_min': 'float16',\n 'B_28_max': 'float16',\n 'B_28_last': 'float16',\n 'R_13_mean': 'float16',\n 'R_13_std': 'float16',\n 'R_13_min': 'float16',\n 'R_13_max': 'float16',\n 'R_13_last': 'float16',\n 'D_83_mean': 'float16',\n 'D_83_std': 'float16',\n 'D_83_min': 'float16',\n 'D_83_max': 'float16',\n 'D_83_last': 'float16',\n 'R_14_mean': 'float16',\n 'R_14_std': 'float16',\n 'R_14_min': 'float16',\n 'R_14_max': 'float16',\n 'R_14_last': 'float16',\n 'R_15_mean': 'float16',\n 'R_15_std': 'float16',\n 'R_15_min': 'float16',\n 'R_15_max': 'float16',\n 'R_15_last': 'float16',\n 'D_84_mean': 'float16',\n 'D_84_std': 'float16',\n 'D_84_min': 'float16',\n 'D_84_max': 'float16',\n 'D_84_last': 'float16',\n 'R_16_mean': 'float16',\n 'R_16_std': 'float16',\n 'R_16_min': 'float16',\n 'R_16_max': 'float16',\n 'R_16_last': 'float16',\n 'B_29_mean': 'float16',\n 'B_29_std': 'float16',\n 'B_29_min': 'float16',\n 'B_29_max': 'float16',\n 'B_29_last': 'float16',\n 'S_18_mean': 'float16',\n 'S_18_std': 'float16',\n 'S_18_min': 'float16',\n 'S_18_max': 'float16',\n 'S_18_last': 'float16',\n 'D_86_mean': 'float16',\n 'D_86_std': 'float16',\n 'D_86_min': 'float16',\n 'D_86_max': 'float16',\n 'D_86_last': 'float16',\n 'D_87_mean': 'float16',\n 'D_87_std': 'float16',\n 'D_87_min': 'float16',\n 'D_87_max': 'float16',\n 'D_87_last': 'float16',\n 'R_17_mean': 'float16',\n 'R_17_std': 'float16',\n 'R_17_min': 'float16',\n 'R_17_max': 'float16',\n 'R_17_last': 'float16',\n 'R_18_mean': 'float16',\n 'R_18_std': 'float16',\n 'R_18_min': 'float16',\n 'R_18_max': 'float16',\n 'R_18_last': 'float16',\n 'D_88_mean': 'float16',\n 'D_88_std': 'float16',\n 'D_88_min': 'float16',\n 'D_88_max': 'float16',\n 'D_88_last': 'float16',\n 'B_31_mean': 'float16',\n 'B_31_std': 'float16',\n 'B_31_min': 'int16',\n 'B_31_max': 'int16',\n 'B_31_last': 'int16',\n 'S_19_mean': 'float16',\n 'S_19_std': 'float16',\n 'S_19_min': 'float16',\n 'S_19_max': 'float16',\n 'S_19_last': 'float16',\n 'R_19_mean': 'float16',\n 'R_19_std': 'float16',\n 'R_19_min': 'float16',\n 'R_19_max': 'float16',\n 'R_19_last': 'float16',\n 'B_32_mean': 'float16',\n 'B_32_std': 'float16',\n 'B_32_min': 'float16',\n 'B_32_max': 'float16',\n 'B_32_last': 'float16',\n 'S_20_mean': 'float16',\n 'S_20_std': 'float16',\n 'S_20_min': 'float16',\n 'S_20_max': 'float16',\n 'S_20_last': 'float16',\n 'R_20_mean': 'float16',\n 'R_20_std': 'float16',\n 'R_20_min': 'float16',\n 'R_20_max': 'float16',\n 'R_20_last': 'float16',\n 'R_21_mean': 'float16',\n 'R_21_std': 'float16',\n 'R_21_min': 'float16',\n 'R_21_max': 'float16',\n 'R_21_last': 'float16',\n 'B_33_mean': 'float16',\n 'B_33_std': 'float16',\n 'B_33_min': 'float16',\n 'B_33_max': 'float16',\n 'B_33_last': 'float16',\n 'D_89_mean': 'float16',\n 'D_89_std': 'float16',\n 'D_89_min': 'float16',\n 'D_89_max': 'float16',\n 'D_89_last': 'float16',\n 'R_22_mean': 'float16',\n 'R_22_std': 'float16',\n 'R_22_min': 'float16',\n 'R_22_max': 'float16',\n 'R_22_last': 'float16',\n 'R_23_mean': 'float16',\n 'R_23_std': 'float16',\n 'R_23_min': 'float16',\n 'R_23_max': 'float16',\n 'R_23_last': 'float16',\n 'D_91_mean': 'float16',\n 'D_91_std': 'float16',\n 'D_91_min': 'float16',\n 'D_91_max': 'float16',\n 'D_91_last': 'float16',\n 'D_92_mean': 'float16',\n 'D_92_std': 'float16',\n 'D_92_min': 'float16',\n 'D_92_max': 'float16',\n 'D_92_last': 'float16',\n 'D_93_mean': 'float16',\n 'D_93_std': 'float16',\n 'D_93_min': 'float16',\n 'D_93_max': 'float16',\n 'D_93_last': 'float16',\n 'D_94_mean': 'float16',\n 'D_94_std': 'float16',\n 'D_94_min': 'float16',\n 'D_94_max': 'float16',\n 'D_94_last': 'float16',\n 'R_24_mean': 'float16',\n 'R_24_std': 'float16',\n 'R_24_min': 'float16',\n 'R_24_max': 'float16',\n 'R_24_last': 'float16',\n 'R_25_mean': 'float16',\n 'R_25_std': 'float16',\n 'R_25_min': 'float16',\n 'R_25_max': 'float16',\n 'R_25_last': 'float16',\n 'D_96_mean': 'float16',\n 'D_96_std': 'float16',\n 'D_96_min': 'float16',\n 'D_96_max': 'float16',\n 'D_96_last': 'float16',\n 'S_22_mean': 'float16',\n 'S_22_std': 'float16',\n 'S_22_min': 'float16',\n 'S_22_max': 'float16',\n 'S_22_last': 'float16',\n 'S_23_mean': 'float16',\n 'S_23_std': 'float16',\n 'S_23_min': 'float16',\n 'S_23_max': 'float16',\n 'S_23_last': 'float16',\n 'S_24_mean': 'float16',\n 'S_24_std': 'float16',\n 'S_24_min': 'float16',\n 'S_24_max': 'float16',\n 'S_24_last': 'float16',\n 'S_25_mean': 'float16',\n 'S_25_std': 'float16',\n 'S_25_min': 'float16',\n 'S_25_max': 'float16',\n 'S_25_last': 'float16',\n 'S_26_mean': 'float16',\n 'S_26_std': 'float16',\n 'S_26_min': 'float16',\n 'S_26_max': 'float16',\n 'S_26_last': 'float16',\n 'D_102_mean': 'float16',\n 'D_102_std': 'float16',\n 'D_102_min': 'float16',\n 'D_102_max': 'float16',\n 'D_102_last': 'float16',\n 'D_103_mean': 'float16',\n 'D_103_std': 'float16',\n 'D_103_min': 'float16',\n 'D_103_max': 'float16',\n 'D_103_last': 'float16',\n 'D_104_mean': 'float16',\n 'D_104_std': 'float16',\n 'D_104_min': 'float16',\n 'D_104_max': 'float16',\n 'D_104_last': 'float16',\n 'D_105_mean': 'float16',\n 'D_105_std': 'float16',\n 'D_105_min': 'float16',\n 'D_105_max': 'float16',\n 'D_105_last': 'float16',\n 'D_106_mean': 'float16',\n 'D_106_std': 'float16',\n 'D_106_min': 'float16',\n 'D_106_max': 'float16',\n 'D_106_last': 'float16',\n 'D_107_mean': 'float16',\n 'D_107_std': 'float16',\n 'D_107_min': 'float16',\n 'D_107_max': 'float16',\n 'D_107_last': 'float16',\n 'B_36_mean': 'float16',\n 'B_36_std': 'float16',\n 'B_36_min': 'float16',\n 'B_36_max': 'float16',\n 'B_36_last': 'float16',\n 'B_37_mean': 'float16',\n 'B_37_std': 'float16',\n 'B_37_min': 'float16',\n 'B_37_max': 'float16',\n 'B_37_last': 'float16',\n 'R_26_mean': 'float16',\n 'R_26_std': 'float16',\n 'R_26_min': 'float16',\n 'R_26_max': 'float16',\n 'R_26_last': 'float16',\n 'R_27_mean': 'float16',\n 'R_27_std': 'float16',\n 'R_27_min': 'float16',\n 'R_27_max': 'float16',\n 'R_27_last': 'float16',\n 'D_108_mean': 'float16',\n 'D_108_std': 'float16',\n 'D_108_min': 'float16',\n 'D_108_max': 'float16',\n 'D_108_last': 'float16',\n 'D_109_mean': 'float16',\n 'D_109_std': 'float16',\n 'D_109_min': 'float16',\n 'D_109_max': 'float16',\n 'D_109_last': 'float16',\n 'D_110_mean': 'float16',\n 'D_110_std': 'float16',\n 'D_110_min': 'float16',\n 'D_110_max': 'float16',\n 'D_110_last': 'float16',\n 'D_111_mean': 'float16',\n 'D_111_std': 'float16',\n 'D_111_min': 'float16',\n 'D_111_max': 'float16',\n 'D_111_last': 'float16',\n 'B_39_mean': 'float16',\n 'B_39_std': 'float16',\n 'B_39_min': 'float16',\n 'B_39_max': 'float16',\n 'B_39_last': 'float16',\n 'D_112_mean': 'float16',\n 'D_112_std': 'float16',\n 'D_112_min': 'float16',\n 'D_112_max': 'float16',\n 'D_112_last': 'float16',\n 'B_40_mean': 'float16',\n 'B_40_std': 'float16',\n 'B_40_min': 'float16',\n 'B_40_max': 'float16',\n 'B_40_last': 'float16',\n 'S_27_mean': 'float16',\n 'S_27_std': 'float16',\n 'S_27_min': 'float16',\n 'S_27_max': 'float16',\n 'S_27_last': 'float16',\n 'D_113_mean': 'float16',\n 'D_113_std': 'float16',\n 'D_113_min': 'float16',\n 'D_113_max': 'float16',\n 'D_113_last': 'float16',\n 'D_115_mean': 'float16',\n 'D_115_std': 'float16',\n 'D_115_min': 'float16',\n 'D_115_max': 'float16',\n 'D_115_last': 'float16',\n 'D_118_mean': 'float16',\n 'D_118_std': 'float16',\n 'D_118_min': 'float16',\n 'D_118_max': 'float16',\n 'D_118_last': 'float16',\n 'D_119_mean': 'float16',\n 'D_119_std': 'float16',\n 'D_119_min': 'float16',\n 'D_119_max': 'float16',\n 'D_119_last': 'float16',\n 'D_121_mean': 'float16',\n 'D_121_std': 'float16',\n 'D_121_min': 'float16',\n 'D_121_max': 'float16',\n 'D_121_last': 'float16',\n 'D_122_mean': 'float16',\n 'D_122_std': 'float16',\n 'D_122_min': 'float16',\n 'D_122_max': 'float16',\n 'D_122_last': 'float16',\n 'D_123_mean': 'float16',\n 'D_123_std': 'float16',\n 'D_123_min': 'float16',\n 'D_123_max': 'float16',\n 'D_123_last': 'float16',\n 'D_124_mean': 'float16',\n 'D_124_std': 'float16',\n 'D_124_min': 'float16',\n 'D_124_max': 'float16',\n 'D_124_last': 'float16',\n 'D_125_mean': 'float16',\n 'D_125_std': 'float16',\n 'D_125_min': 'float16',\n 'D_125_max': 'float16',\n 'D_125_last': 'float16',\n 'D_127_mean': 'float16',\n 'D_127_std': 'float16',\n 'D_127_min': 'float16',\n 'D_127_max': 'float16',\n 'D_127_last': 'float16',\n 'D_128_mean': 'float16',\n 'D_128_std': 'float16',\n 'D_128_min': 'float16',\n 'D_128_max': 'float16',\n 'D_128_last': 'float16',\n 'D_129_mean': 'float16',\n 'D_129_std': 'float16',\n 'D_129_min': 'float16',\n 'D_129_max': 'float16',\n 'D_129_last': 'float16',\n 'B_41_mean': 'float16',\n 'B_41_std': 'float16',\n 'B_41_min': 'float16',\n 'B_41_max': 'float16',\n 'B_41_last': 'float16',\n 'B_42_mean': 'float16',\n 'B_42_std': 'float16',\n 'B_42_min': 'float16',\n 'B_42_max': 'float16',\n 'B_42_last': 'float16',\n 'D_130_mean': 'float16',\n 'D_130_std': 'float16',\n 'D_130_min': 'float16',\n 'D_130_max': 'float16',\n 'D_130_last': 'float16',\n 'D_131_mean': 'float16',\n 'D_131_std': 'float16',\n 'D_131_min': 'float16',\n 'D_131_max': 'float16',\n 'D_131_last': 'float16',\n 'D_132_mean': 'float16',\n 'D_132_std': 'float16',\n 'D_132_min': 'float16',\n 'D_132_max': 'float16',\n 'D_132_last': 'float16',\n 'D_133_mean': 'float16',\n 'D_133_std': 'float16',\n 'D_133_min': 'float16',\n 'D_133_max': 'float16',\n 'D_133_last': 'float16',\n 'R_28_mean': 'float16',\n 'R_28_std': 'float16',\n 'R_28_min': 'float16',\n 'R_28_max': 'float16',\n 'R_28_last': 'float16',\n 'D_134_mean': 'float16',\n 'D_134_std': 'float16',\n 'D_134_min': 'float16',\n 'D_134_max': 'float16',\n 'D_134_last': 'float16',\n 'D_135_mean': 'float16',\n 'D_135_std': 'float16',\n 'D_135_min': 'float16',\n 'D_135_max': 'float16',\n 'D_135_last': 'float16',\n 'D_136_mean': 'float16',\n 'D_136_std': 'float16',\n 'D_136_min': 'float16',\n 'D_136_max': 'float16',\n 'D_136_last': 'float16',\n 'D_137_mean': 'float16',\n 'D_137_std': 'float16',\n 'D_137_min': 'float16',\n 'D_137_max': 'float16',\n 'D_137_last': 'float16',\n 'D_138_mean': 'float16',\n 'D_138_std': 'float16',\n 'D_138_min': 'float16',\n 'D_138_max': 'float16',\n 'D_138_last': 'float16',\n 'D_139_mean': 'float16',\n 'D_139_std': 'float16',\n 'D_139_min': 'float16',\n 'D_139_max': 'float16',\n 'D_139_last': 'float16',\n 'D_140_mean': 'float16',\n 'D_140_std': 'float16',\n 'D_140_min': 'float16',\n 'D_140_max': 'float16',\n 'D_140_last': 'float16',\n 'D_141_mean': 'float16',\n 'D_141_std': 'float16',\n 'D_141_min': 'float16',\n 'D_141_max': 'float16',\n 'D_141_last': 'float16',\n 'D_142_mean': 'float16',\n 'D_142_std': 'float16',\n 'D_142_min': 'float16',\n 'D_142_max': 'float16',\n 'D_142_last': 'float16',\n 'D_143_mean': 'float16',\n 'D_143_std': 'float16',\n 'D_143_min': 'float16',\n 'D_143_max': 'float16',\n 'D_143_last': 'float16',\n 'D_144_mean': 'float16',\n 'D_144_std': 'float16',\n 'D_144_min': 'float16',\n 'D_144_max': 'float16',\n 'D_144_last': 'float16',\n 'D_145_mean': 'float16',\n 'D_145_std': 'float16',\n 'D_145_min': 'float16',\n 'D_145_max': 'float16',\n 'D_145_last': 'float16',\n 'B_30_count': 'int16',\n 'B_30_last': 'float16',\n 'B_30_nunique': 'int16',\n 'B_38_count': 'int16',\n 'B_38_last': 'float16',\n 'B_38_nunique': 'int16',\n 'D_114_count': 'int16',\n 'D_114_last': 'float16',\n 'D_114_nunique': 'int16',\n 'D_116_count': 'int16',\n 'D_116_last': 'float16',\n 'D_116_nunique': 'int16',\n 'D_117_count': 'int16',\n 'D_117_last': 'float16',\n 'D_117_nunique': 'int16',\n 'D_120_count': 'int16',\n 'D_120_last': 'float16',\n 'D_120_nunique': 'int16',\n 'D_126_count': 'int16',\n 'D_126_last': 'float16',\n 'D_126_nunique': 'int16',\n 'D_63_count': 'int16',\n 'D_63_last': 'object',\n 'D_63_nunique': 'int16',\n 'D_64_count': 'int16',\n 'D_64_last': 'object',\n 'D_64_nunique': 'int16',\n 'D_66_count': 'int16',\n 'D_66_last': 'float16',\n 'D_66_nunique': 'int16',\n 'D_68_count': 'int16',\n 'D_68_last': 'float16',\n 'D_68_nunique': 'int16'}"
     },
     "execution_count": 24,
     "metadata": {},
     "output_type": "execute_result"
    }
   ],
   "source": [
    "dtype_dict = dict(zip(dt.keys().tolist(), list(map(dt_converter, dt.values.tolist()))))\n",
    "del dt\n",
    "gc.collect()\n",
    "dtype_dict"
   ],
   "metadata": {
    "collapsed": false
   }
  },
  {
   "cell_type": "markdown",
   "source": [
    "now load DataFrame again using dtype_dict to convert dtypes\n",
    "and compare memory usage"
   ],
   "metadata": {
    "collapsed": false
   }
  },
  {
   "cell_type": "code",
   "execution_count": 25,
   "outputs": [
    {
     "name": "stdout",
     "output_type": "stream",
     "text": [
      "DataFrame memory usage: 0.88 GB     File size: 3.47 GB\n"
     ]
    }
   ],
   "source": [
    "train_data = pd.read_csv('prep_catboost_train.csv', dtype=dtype_dict)\n",
    "print('DataFrame memory usage:', mem_usage_gb(train_data), 'GB    ', 'File size:', file_mem_usage_gb('prep_catboost_train.csv'), 'GB')"
   ],
   "metadata": {
    "collapsed": false
   }
  },
  {
   "cell_type": "code",
   "execution_count": 26,
   "outputs": [],
   "source": [
    "train_labels = pd.read_csv('train_labels.csv', dtype={'target': 'int8'})\n",
    "train_labels.drop(columns=['customer_ID'], inplace=True)\n",
    "train_labels = np.ravel(train_labels)"
   ],
   "metadata": {
    "collapsed": false
   }
  },
  {
   "cell_type": "markdown",
   "source": [
    "Categoricals for catboost should be str or int, yet some are float\n",
    "lets change that"
   ],
   "metadata": {
    "collapsed": false
   }
  },
  {
   "cell_type": "code",
   "execution_count": 27,
   "outputs": [
    {
     "data": {
      "text/plain": "               NaN_count     type\nB_30_count             0    int16\nB_30_last             31  float16\nB_30_nunique           0    int16\nB_38_count             0    int16\nB_38_last             31  float16\nB_38_nunique           0    int16\nD_114_count            0    int16\nD_114_last          4739  float16\nD_114_nunique          0    int16\nD_116_count            0    int16\nD_116_last          4739  float16\nD_116_nunique          0    int16\nD_117_count            0    int16\nD_117_last          4739  float16\nD_117_nunique          0    int16\nD_120_count            0    int16\nD_120_last          4739  float16\nD_120_nunique          0    int16\nD_126_count            0    int16\nD_126_last             0  float16\nD_126_nunique          0    int16\nD_63_count             0    int16\nD_63_last              0   object\nD_63_nunique           0    int16\nD_64_count             0    int16\nD_64_last           5279   object\nD_64_nunique           0    int16\nD_66_count             0    int16\nD_66_last         399137  float16\nD_66_nunique           0    int16\nD_68_count             0    int16\nD_68_last           5251  float16\nD_68_nunique           0    int16",
      "text/html": "<div>\n<style scoped>\n    .dataframe tbody tr th:only-of-type {\n        vertical-align: middle;\n    }\n\n    .dataframe tbody tr th {\n        vertical-align: top;\n    }\n\n    .dataframe thead th {\n        text-align: right;\n    }\n</style>\n<table border=\"1\" class=\"dataframe\">\n  <thead>\n    <tr style=\"text-align: right;\">\n      <th></th>\n      <th>NaN_count</th>\n      <th>type</th>\n    </tr>\n  </thead>\n  <tbody>\n    <tr>\n      <th>B_30_count</th>\n      <td>0</td>\n      <td>int16</td>\n    </tr>\n    <tr>\n      <th>B_30_last</th>\n      <td>31</td>\n      <td>float16</td>\n    </tr>\n    <tr>\n      <th>B_30_nunique</th>\n      <td>0</td>\n      <td>int16</td>\n    </tr>\n    <tr>\n      <th>B_38_count</th>\n      <td>0</td>\n      <td>int16</td>\n    </tr>\n    <tr>\n      <th>B_38_last</th>\n      <td>31</td>\n      <td>float16</td>\n    </tr>\n    <tr>\n      <th>B_38_nunique</th>\n      <td>0</td>\n      <td>int16</td>\n    </tr>\n    <tr>\n      <th>D_114_count</th>\n      <td>0</td>\n      <td>int16</td>\n    </tr>\n    <tr>\n      <th>D_114_last</th>\n      <td>4739</td>\n      <td>float16</td>\n    </tr>\n    <tr>\n      <th>D_114_nunique</th>\n      <td>0</td>\n      <td>int16</td>\n    </tr>\n    <tr>\n      <th>D_116_count</th>\n      <td>0</td>\n      <td>int16</td>\n    </tr>\n    <tr>\n      <th>D_116_last</th>\n      <td>4739</td>\n      <td>float16</td>\n    </tr>\n    <tr>\n      <th>D_116_nunique</th>\n      <td>0</td>\n      <td>int16</td>\n    </tr>\n    <tr>\n      <th>D_117_count</th>\n      <td>0</td>\n      <td>int16</td>\n    </tr>\n    <tr>\n      <th>D_117_last</th>\n      <td>4739</td>\n      <td>float16</td>\n    </tr>\n    <tr>\n      <th>D_117_nunique</th>\n      <td>0</td>\n      <td>int16</td>\n    </tr>\n    <tr>\n      <th>D_120_count</th>\n      <td>0</td>\n      <td>int16</td>\n    </tr>\n    <tr>\n      <th>D_120_last</th>\n      <td>4739</td>\n      <td>float16</td>\n    </tr>\n    <tr>\n      <th>D_120_nunique</th>\n      <td>0</td>\n      <td>int16</td>\n    </tr>\n    <tr>\n      <th>D_126_count</th>\n      <td>0</td>\n      <td>int16</td>\n    </tr>\n    <tr>\n      <th>D_126_last</th>\n      <td>0</td>\n      <td>float16</td>\n    </tr>\n    <tr>\n      <th>D_126_nunique</th>\n      <td>0</td>\n      <td>int16</td>\n    </tr>\n    <tr>\n      <th>D_63_count</th>\n      <td>0</td>\n      <td>int16</td>\n    </tr>\n    <tr>\n      <th>D_63_last</th>\n      <td>0</td>\n      <td>object</td>\n    </tr>\n    <tr>\n      <th>D_63_nunique</th>\n      <td>0</td>\n      <td>int16</td>\n    </tr>\n    <tr>\n      <th>D_64_count</th>\n      <td>0</td>\n      <td>int16</td>\n    </tr>\n    <tr>\n      <th>D_64_last</th>\n      <td>5279</td>\n      <td>object</td>\n    </tr>\n    <tr>\n      <th>D_64_nunique</th>\n      <td>0</td>\n      <td>int16</td>\n    </tr>\n    <tr>\n      <th>D_66_count</th>\n      <td>0</td>\n      <td>int16</td>\n    </tr>\n    <tr>\n      <th>D_66_last</th>\n      <td>399137</td>\n      <td>float16</td>\n    </tr>\n    <tr>\n      <th>D_66_nunique</th>\n      <td>0</td>\n      <td>int16</td>\n    </tr>\n    <tr>\n      <th>D_68_count</th>\n      <td>0</td>\n      <td>int16</td>\n    </tr>\n    <tr>\n      <th>D_68_last</th>\n      <td>5251</td>\n      <td>float16</td>\n    </tr>\n    <tr>\n      <th>D_68_nunique</th>\n      <td>0</td>\n      <td>int16</td>\n    </tr>\n  </tbody>\n</table>\n</div>"
     },
     "execution_count": 27,
     "metadata": {},
     "output_type": "execute_result"
    }
   ],
   "source": [
    "nulls = train_data[cat_cols].isna().sum(); types = train_data[cat_cols].dtypes\n",
    "cat_stats = pd.concat([nulls, types], axis=1).rename(columns={0: \"NaN_count\", 1: \"type\"})\n",
    "cat_stats"
   ],
   "metadata": {
    "collapsed": false
   }
  },
  {
   "cell_type": "code",
   "execution_count": 28,
   "outputs": [
    {
     "data": {
      "text/plain": "['B_30_last',\n 'B_38_last',\n 'D_114_last',\n 'D_116_last',\n 'D_117_last',\n 'D_120_last',\n 'D_126_last',\n 'D_64_last',\n 'D_66_last',\n 'D_68_last']"
     },
     "execution_count": 28,
     "metadata": {},
     "output_type": "execute_result"
    }
   ],
   "source": [
    "cols_to_encode = cat_stats.loc[(cat_stats['NaN_count'] != 0) | (cat_stats['type'] == 'float16')].index.tolist()\n",
    "cols_to_encode"
   ],
   "metadata": {
    "collapsed": false
   }
  },
  {
   "cell_type": "code",
   "execution_count": 29,
   "outputs": [
    {
     "name": "stderr",
     "output_type": "stream",
     "text": [
      "C:\\Users\\user\\AppData\\Local\\Temp\\ipykernel_31528\\603337707.py:4: SettingWithCopyWarning: \n",
      "A value is trying to be set on a copy of a slice from a DataFrame\n",
      "\n",
      "See the caveats in the documentation: https://pandas.pydata.org/pandas-docs/stable/user_guide/indexing.html#returning-a-view-versus-a-copy\n",
      "  train_data[cat_cols].fillna('no_data', inplace=True)\n"
     ]
    },
    {
     "data": {
      "text/plain": "B_30_count        int16\nB_30_last        object\nB_30_nunique      int16\nB_38_count        int16\nB_38_last        object\nB_38_nunique      int16\nD_114_count       int16\nD_114_last       object\nD_114_nunique     int16\nD_116_count       int16\nD_116_last       object\nD_116_nunique     int16\nD_117_count       int16\nD_117_last       object\nD_117_nunique     int16\nD_120_count       int16\nD_120_last       object\nD_120_nunique     int16\nD_126_count       int16\nD_126_last       object\nD_126_nunique     int16\nD_63_count        int16\nD_63_last        object\nD_63_nunique      int16\nD_64_count        int16\nD_64_last        object\nD_64_nunique      int16\nD_66_count        int16\nD_66_last        object\nD_66_nunique      int16\nD_68_count        int16\nD_68_last        object\nD_68_nunique      int16\ndtype: object"
     },
     "execution_count": 29,
     "metadata": {},
     "output_type": "execute_result"
    }
   ],
   "source": [
    "for col in cols_to_encode:\n",
    "    train_data[col] = train_data[col].astype('object')\n",
    "    train_data[col] = train_data[col].map(str)\n",
    "train_data[cat_cols].fillna('no_data', inplace=True)\n",
    "train_data.drop(columns=['customer_ID'], inplace=True)\n",
    "train_data[cat_cols].dtypes"
   ],
   "metadata": {
    "collapsed": false
   }
  },
  {
   "cell_type": "code",
   "execution_count": 30,
   "outputs": [
    {
     "data": {
      "text/plain": "               NaN_count    type\nB_30_count             0   int16\nB_30_last              0  object\nB_30_nunique           0   int16\nB_38_count             0   int16\nB_38_last              0  object\nB_38_nunique           0   int16\nD_114_count            0   int16\nD_114_last             0  object\nD_114_nunique          0   int16\nD_116_count            0   int16\nD_116_last             0  object\nD_116_nunique          0   int16\nD_117_count            0   int16\nD_117_last             0  object\nD_117_nunique          0   int16\nD_120_count            0   int16\nD_120_last             0  object\nD_120_nunique          0   int16\nD_126_count            0   int16\nD_126_last             0  object\nD_126_nunique          0   int16\nD_63_count             0   int16\nD_63_last              0  object\nD_63_nunique           0   int16\nD_64_count             0   int16\nD_64_last              0  object\nD_64_nunique           0   int16\nD_66_count             0   int16\nD_66_last              0  object\nD_66_nunique           0   int16\nD_68_count             0   int16\nD_68_last              0  object\nD_68_nunique           0   int16",
      "text/html": "<div>\n<style scoped>\n    .dataframe tbody tr th:only-of-type {\n        vertical-align: middle;\n    }\n\n    .dataframe tbody tr th {\n        vertical-align: top;\n    }\n\n    .dataframe thead th {\n        text-align: right;\n    }\n</style>\n<table border=\"1\" class=\"dataframe\">\n  <thead>\n    <tr style=\"text-align: right;\">\n      <th></th>\n      <th>NaN_count</th>\n      <th>type</th>\n    </tr>\n  </thead>\n  <tbody>\n    <tr>\n      <th>B_30_count</th>\n      <td>0</td>\n      <td>int16</td>\n    </tr>\n    <tr>\n      <th>B_30_last</th>\n      <td>0</td>\n      <td>object</td>\n    </tr>\n    <tr>\n      <th>B_30_nunique</th>\n      <td>0</td>\n      <td>int16</td>\n    </tr>\n    <tr>\n      <th>B_38_count</th>\n      <td>0</td>\n      <td>int16</td>\n    </tr>\n    <tr>\n      <th>B_38_last</th>\n      <td>0</td>\n      <td>object</td>\n    </tr>\n    <tr>\n      <th>B_38_nunique</th>\n      <td>0</td>\n      <td>int16</td>\n    </tr>\n    <tr>\n      <th>D_114_count</th>\n      <td>0</td>\n      <td>int16</td>\n    </tr>\n    <tr>\n      <th>D_114_last</th>\n      <td>0</td>\n      <td>object</td>\n    </tr>\n    <tr>\n      <th>D_114_nunique</th>\n      <td>0</td>\n      <td>int16</td>\n    </tr>\n    <tr>\n      <th>D_116_count</th>\n      <td>0</td>\n      <td>int16</td>\n    </tr>\n    <tr>\n      <th>D_116_last</th>\n      <td>0</td>\n      <td>object</td>\n    </tr>\n    <tr>\n      <th>D_116_nunique</th>\n      <td>0</td>\n      <td>int16</td>\n    </tr>\n    <tr>\n      <th>D_117_count</th>\n      <td>0</td>\n      <td>int16</td>\n    </tr>\n    <tr>\n      <th>D_117_last</th>\n      <td>0</td>\n      <td>object</td>\n    </tr>\n    <tr>\n      <th>D_117_nunique</th>\n      <td>0</td>\n      <td>int16</td>\n    </tr>\n    <tr>\n      <th>D_120_count</th>\n      <td>0</td>\n      <td>int16</td>\n    </tr>\n    <tr>\n      <th>D_120_last</th>\n      <td>0</td>\n      <td>object</td>\n    </tr>\n    <tr>\n      <th>D_120_nunique</th>\n      <td>0</td>\n      <td>int16</td>\n    </tr>\n    <tr>\n      <th>D_126_count</th>\n      <td>0</td>\n      <td>int16</td>\n    </tr>\n    <tr>\n      <th>D_126_last</th>\n      <td>0</td>\n      <td>object</td>\n    </tr>\n    <tr>\n      <th>D_126_nunique</th>\n      <td>0</td>\n      <td>int16</td>\n    </tr>\n    <tr>\n      <th>D_63_count</th>\n      <td>0</td>\n      <td>int16</td>\n    </tr>\n    <tr>\n      <th>D_63_last</th>\n      <td>0</td>\n      <td>object</td>\n    </tr>\n    <tr>\n      <th>D_63_nunique</th>\n      <td>0</td>\n      <td>int16</td>\n    </tr>\n    <tr>\n      <th>D_64_count</th>\n      <td>0</td>\n      <td>int16</td>\n    </tr>\n    <tr>\n      <th>D_64_last</th>\n      <td>0</td>\n      <td>object</td>\n    </tr>\n    <tr>\n      <th>D_64_nunique</th>\n      <td>0</td>\n      <td>int16</td>\n    </tr>\n    <tr>\n      <th>D_66_count</th>\n      <td>0</td>\n      <td>int16</td>\n    </tr>\n    <tr>\n      <th>D_66_last</th>\n      <td>0</td>\n      <td>object</td>\n    </tr>\n    <tr>\n      <th>D_66_nunique</th>\n      <td>0</td>\n      <td>int16</td>\n    </tr>\n    <tr>\n      <th>D_68_count</th>\n      <td>0</td>\n      <td>int16</td>\n    </tr>\n    <tr>\n      <th>D_68_last</th>\n      <td>0</td>\n      <td>object</td>\n    </tr>\n    <tr>\n      <th>D_68_nunique</th>\n      <td>0</td>\n      <td>int16</td>\n    </tr>\n  </tbody>\n</table>\n</div>"
     },
     "execution_count": 30,
     "metadata": {},
     "output_type": "execute_result"
    }
   ],
   "source": [
    "nulls = train_data[cat_cols].isna().sum(); types = train_data[cat_cols].dtypes\n",
    "cat_stats = pd.concat([nulls, types], axis=1).rename(columns={0: \"NaN_count\", 1: \"type\"})\n",
    "cat_stats"
   ],
   "metadata": {
    "collapsed": false
   }
  },
  {
   "cell_type": "code",
   "execution_count": 40,
   "outputs": [
    {
     "data": {
      "text/plain": "<torch.cuda.cudaStatus at 0x1aba6696e20>"
     },
     "execution_count": 40,
     "metadata": {},
     "output_type": "execute_result"
    }
   ],
   "source": [
    "# import torch\n",
    "# import torch.multiprocessing as mp\n",
    "# mp.set_start_method('spawn')\n"
   ],
   "metadata": {
    "collapsed": false
   }
  },
  {
   "cell_type": "code",
   "execution_count": 37,
   "outputs": [
    {
     "ename": "CatBoostError",
     "evalue": "C:/Go_Agent/pipelines/BuildMaster/catboost.git/catboost/cuda/cuda_lib/cuda_manager.cpp:201: Condition violated: `State == nullptr'",
     "output_type": "error",
     "traceback": [
      "\u001B[1;31m---------------------------------------------------------------------------\u001B[0m",
      "\u001B[1;31mCatBoostError\u001B[0m                             Traceback (most recent call last)",
      "Cell \u001B[1;32mIn[37], line 17\u001B[0m\n\u001B[0;32m      3\u001B[0m params \u001B[38;5;241m=\u001B[39m {\n\u001B[0;32m      4\u001B[0m     \u001B[38;5;124m'\u001B[39m\u001B[38;5;124mbagging_temperature\u001B[39m\u001B[38;5;124m'\u001B[39m: \u001B[38;5;241m0.2\u001B[39m,\n\u001B[0;32m      5\u001B[0m     \u001B[38;5;124m'\u001B[39m\u001B[38;5;124mod_type\u001B[39m\u001B[38;5;124m'\u001B[39m: \u001B[38;5;124m'\u001B[39m\u001B[38;5;124mIter\u001B[39m\u001B[38;5;124m'\u001B[39m,\n\u001B[1;32m   (...)\u001B[0m\n\u001B[0;32m      9\u001B[0m     \u001B[38;5;124m'\u001B[39m\u001B[38;5;124mtask_type\u001B[39m\u001B[38;5;124m'\u001B[39m: \u001B[38;5;124m'\u001B[39m\u001B[38;5;124mGPU\u001B[39m\u001B[38;5;124m'\u001B[39m\n\u001B[0;32m     10\u001B[0m }\n\u001B[0;32m     11\u001B[0m model \u001B[38;5;241m=\u001B[39m catboost\u001B[38;5;241m.\u001B[39mCatBoostRegressor(bagging_temperature \u001B[38;5;241m=\u001B[39m \u001B[38;5;241m0.2\u001B[39m,\n\u001B[0;32m     12\u001B[0m                                    od_type\u001B[38;5;241m=\u001B[39m\u001B[38;5;124m'\u001B[39m\u001B[38;5;124mIter\u001B[39m\u001B[38;5;124m'\u001B[39m,\n\u001B[0;32m     13\u001B[0m                                    metric_period \u001B[38;5;241m=\u001B[39m \u001B[38;5;241m50\u001B[39m,\n\u001B[0;32m     14\u001B[0m                                    od_wait\u001B[38;5;241m=\u001B[39m\u001B[38;5;241m20\u001B[39m,\n\u001B[0;32m     15\u001B[0m                                    iterations\u001B[38;5;241m=\u001B[39m\u001B[38;5;241m3000\u001B[39m,\n\u001B[0;32m     16\u001B[0m                                    task_type\u001B[38;5;241m=\u001B[39m\u001B[38;5;124m'\u001B[39m\u001B[38;5;124mGPU\u001B[39m\u001B[38;5;124m'\u001B[39m)\n\u001B[1;32m---> 17\u001B[0m \u001B[43mmodel\u001B[49m\u001B[38;5;241;43m.\u001B[39;49m\u001B[43mfit\u001B[49m\u001B[43m(\u001B[49m\u001B[43mtrain_data\u001B[49m\u001B[43m,\u001B[49m\u001B[43m \u001B[49m\u001B[43mtrain_labels\u001B[49m\u001B[43m,\u001B[49m\u001B[43m \u001B[49m\u001B[43mcat_features\u001B[49m\u001B[38;5;241;43m=\u001B[39;49m\u001B[43mcat_cols\u001B[49m\u001B[43m)\u001B[49m\n",
      "File \u001B[1;32m~\\.conda\\envs\\newConda\\lib\\site-packages\\catboost\\core.py:5734\u001B[0m, in \u001B[0;36mCatBoostRegressor.fit\u001B[1;34m(self, X, y, cat_features, text_features, embedding_features, sample_weight, baseline, use_best_model, eval_set, verbose, logging_level, plot, plot_file, column_description, verbose_eval, metric_period, silent, early_stopping_rounds, save_snapshot, snapshot_file, snapshot_interval, init_model, callbacks, log_cout, log_cerr)\u001B[0m\n\u001B[0;32m   5731\u001B[0m \u001B[38;5;28;01mif\u001B[39;00m \u001B[38;5;124m'\u001B[39m\u001B[38;5;124mloss_function\u001B[39m\u001B[38;5;124m'\u001B[39m \u001B[38;5;129;01min\u001B[39;00m params:\n\u001B[0;32m   5732\u001B[0m     CatBoostRegressor\u001B[38;5;241m.\u001B[39m_check_is_compatible_loss(params[\u001B[38;5;124m'\u001B[39m\u001B[38;5;124mloss_function\u001B[39m\u001B[38;5;124m'\u001B[39m])\n\u001B[1;32m-> 5734\u001B[0m \u001B[38;5;28;01mreturn\u001B[39;00m \u001B[38;5;28;43mself\u001B[39;49m\u001B[38;5;241;43m.\u001B[39;49m\u001B[43m_fit\u001B[49m\u001B[43m(\u001B[49m\u001B[43mX\u001B[49m\u001B[43m,\u001B[49m\u001B[43m \u001B[49m\u001B[43my\u001B[49m\u001B[43m,\u001B[49m\u001B[43m \u001B[49m\u001B[43mcat_features\u001B[49m\u001B[43m,\u001B[49m\u001B[43m \u001B[49m\u001B[43mtext_features\u001B[49m\u001B[43m,\u001B[49m\u001B[43m \u001B[49m\u001B[43membedding_features\u001B[49m\u001B[43m,\u001B[49m\u001B[43m \u001B[49m\u001B[38;5;28;43;01mNone\u001B[39;49;00m\u001B[43m,\u001B[49m\u001B[43m \u001B[49m\u001B[43msample_weight\u001B[49m\u001B[43m,\u001B[49m\u001B[43m \u001B[49m\u001B[38;5;28;43;01mNone\u001B[39;49;00m\u001B[43m,\u001B[49m\u001B[43m \u001B[49m\u001B[38;5;28;43;01mNone\u001B[39;49;00m\u001B[43m,\u001B[49m\u001B[43m \u001B[49m\u001B[38;5;28;43;01mNone\u001B[39;49;00m\u001B[43m,\u001B[49m\u001B[43m \u001B[49m\u001B[38;5;28;43;01mNone\u001B[39;49;00m\u001B[43m,\u001B[49m\u001B[43m \u001B[49m\u001B[43mbaseline\u001B[49m\u001B[43m,\u001B[49m\n\u001B[0;32m   5735\u001B[0m \u001B[43m                 \u001B[49m\u001B[43muse_best_model\u001B[49m\u001B[43m,\u001B[49m\u001B[43m \u001B[49m\u001B[43meval_set\u001B[49m\u001B[43m,\u001B[49m\u001B[43m \u001B[49m\u001B[43mverbose\u001B[49m\u001B[43m,\u001B[49m\u001B[43m \u001B[49m\u001B[43mlogging_level\u001B[49m\u001B[43m,\u001B[49m\u001B[43m \u001B[49m\u001B[43mplot\u001B[49m\u001B[43m,\u001B[49m\u001B[43m \u001B[49m\u001B[43mplot_file\u001B[49m\u001B[43m,\u001B[49m\u001B[43m \u001B[49m\u001B[43mcolumn_description\u001B[49m\u001B[43m,\u001B[49m\n\u001B[0;32m   5736\u001B[0m \u001B[43m                 \u001B[49m\u001B[43mverbose_eval\u001B[49m\u001B[43m,\u001B[49m\u001B[43m \u001B[49m\u001B[43mmetric_period\u001B[49m\u001B[43m,\u001B[49m\u001B[43m \u001B[49m\u001B[43msilent\u001B[49m\u001B[43m,\u001B[49m\u001B[43m \u001B[49m\u001B[43mearly_stopping_rounds\u001B[49m\u001B[43m,\u001B[49m\n\u001B[0;32m   5737\u001B[0m \u001B[43m                 \u001B[49m\u001B[43msave_snapshot\u001B[49m\u001B[43m,\u001B[49m\u001B[43m \u001B[49m\u001B[43msnapshot_file\u001B[49m\u001B[43m,\u001B[49m\u001B[43m \u001B[49m\u001B[43msnapshot_interval\u001B[49m\u001B[43m,\u001B[49m\u001B[43m \u001B[49m\u001B[43minit_model\u001B[49m\u001B[43m,\u001B[49m\u001B[43m \u001B[49m\u001B[43mcallbacks\u001B[49m\u001B[43m,\u001B[49m\u001B[43m \u001B[49m\u001B[43mlog_cout\u001B[49m\u001B[43m,\u001B[49m\u001B[43m \u001B[49m\u001B[43mlog_cerr\u001B[49m\u001B[43m)\u001B[49m\n",
      "File \u001B[1;32m~\\.conda\\envs\\newConda\\lib\\site-packages\\catboost\\core.py:2357\u001B[0m, in \u001B[0;36mCatBoost._fit\u001B[1;34m(self, X, y, cat_features, text_features, embedding_features, pairs, sample_weight, group_id, group_weight, subgroup_id, pairs_weight, baseline, use_best_model, eval_set, verbose, logging_level, plot, plot_file, column_description, verbose_eval, metric_period, silent, early_stopping_rounds, save_snapshot, snapshot_file, snapshot_interval, init_model, callbacks, log_cout, log_cerr)\u001B[0m\n\u001B[0;32m   2353\u001B[0m allow_clear_pool \u001B[38;5;241m=\u001B[39m train_params[\u001B[38;5;124m\"\u001B[39m\u001B[38;5;124mallow_clear_pool\u001B[39m\u001B[38;5;124m\"\u001B[39m]\n\u001B[0;32m   2355\u001B[0m \u001B[38;5;28;01mwith\u001B[39;00m log_fixup(log_cout, log_cerr), \\\n\u001B[0;32m   2356\u001B[0m     plot_wrapper(plot, plot_file, \u001B[38;5;124m'\u001B[39m\u001B[38;5;124mTraining plots\u001B[39m\u001B[38;5;124m'\u001B[39m, [_get_train_dir(\u001B[38;5;28mself\u001B[39m\u001B[38;5;241m.\u001B[39mget_params())]):\n\u001B[1;32m-> 2357\u001B[0m     \u001B[38;5;28;43mself\u001B[39;49m\u001B[38;5;241;43m.\u001B[39;49m\u001B[43m_train\u001B[49m\u001B[43m(\u001B[49m\n\u001B[0;32m   2358\u001B[0m \u001B[43m        \u001B[49m\u001B[43mtrain_pool\u001B[49m\u001B[43m,\u001B[49m\n\u001B[0;32m   2359\u001B[0m \u001B[43m        \u001B[49m\u001B[43mtrain_params\u001B[49m\u001B[43m[\u001B[49m\u001B[38;5;124;43m\"\u001B[39;49m\u001B[38;5;124;43meval_sets\u001B[39;49m\u001B[38;5;124;43m\"\u001B[39;49m\u001B[43m]\u001B[49m\u001B[43m,\u001B[49m\n\u001B[0;32m   2360\u001B[0m \u001B[43m        \u001B[49m\u001B[43mparams\u001B[49m\u001B[43m,\u001B[49m\n\u001B[0;32m   2361\u001B[0m \u001B[43m        \u001B[49m\u001B[43mallow_clear_pool\u001B[49m\u001B[43m,\u001B[49m\n\u001B[0;32m   2362\u001B[0m \u001B[43m        \u001B[49m\u001B[43mtrain_params\u001B[49m\u001B[43m[\u001B[49m\u001B[38;5;124;43m\"\u001B[39;49m\u001B[38;5;124;43minit_model\u001B[39;49m\u001B[38;5;124;43m\"\u001B[39;49m\u001B[43m]\u001B[49m\n\u001B[0;32m   2363\u001B[0m \u001B[43m    \u001B[49m\u001B[43m)\u001B[49m\n\u001B[0;32m   2365\u001B[0m \u001B[38;5;66;03m# Have property feature_importance possibly set\u001B[39;00m\n\u001B[0;32m   2366\u001B[0m loss \u001B[38;5;241m=\u001B[39m \u001B[38;5;28mself\u001B[39m\u001B[38;5;241m.\u001B[39m_object\u001B[38;5;241m.\u001B[39m_get_loss_function_name()\n",
      "File \u001B[1;32m~\\.conda\\envs\\newConda\\lib\\site-packages\\catboost\\core.py:1761\u001B[0m, in \u001B[0;36m_CatBoostBase._train\u001B[1;34m(self, train_pool, test_pool, params, allow_clear_pool, init_model)\u001B[0m\n\u001B[0;32m   1760\u001B[0m \u001B[38;5;28;01mdef\u001B[39;00m \u001B[38;5;21m_train\u001B[39m(\u001B[38;5;28mself\u001B[39m, train_pool, test_pool, params, allow_clear_pool, init_model):\n\u001B[1;32m-> 1761\u001B[0m     \u001B[38;5;28;43mself\u001B[39;49m\u001B[38;5;241;43m.\u001B[39;49m\u001B[43m_object\u001B[49m\u001B[38;5;241;43m.\u001B[39;49m\u001B[43m_train\u001B[49m\u001B[43m(\u001B[49m\u001B[43mtrain_pool\u001B[49m\u001B[43m,\u001B[49m\u001B[43m \u001B[49m\u001B[43mtest_pool\u001B[49m\u001B[43m,\u001B[49m\u001B[43m \u001B[49m\u001B[43mparams\u001B[49m\u001B[43m,\u001B[49m\u001B[43m \u001B[49m\u001B[43mallow_clear_pool\u001B[49m\u001B[43m,\u001B[49m\u001B[43m \u001B[49m\u001B[43minit_model\u001B[49m\u001B[38;5;241;43m.\u001B[39;49m\u001B[43m_object\u001B[49m\u001B[43m \u001B[49m\u001B[38;5;28;43;01mif\u001B[39;49;00m\u001B[43m \u001B[49m\u001B[43minit_model\u001B[49m\u001B[43m \u001B[49m\u001B[38;5;28;43;01melse\u001B[39;49;00m\u001B[43m \u001B[49m\u001B[38;5;28;43;01mNone\u001B[39;49;00m\u001B[43m)\u001B[49m\n\u001B[0;32m   1762\u001B[0m     \u001B[38;5;28mself\u001B[39m\u001B[38;5;241m.\u001B[39m_set_trained_model_attributes()\n",
      "File \u001B[1;32m_catboost.pyx:4624\u001B[0m, in \u001B[0;36m_catboost._CatBoost._train\u001B[1;34m()\u001B[0m\n",
      "File \u001B[1;32m_catboost.pyx:4673\u001B[0m, in \u001B[0;36m_catboost._CatBoost._train\u001B[1;34m()\u001B[0m\n",
      "\u001B[1;31mCatBoostError\u001B[0m: C:/Go_Agent/pipelines/BuildMaster/catboost.git/catboost/cuda/cuda_lib/cuda_manager.cpp:201: Condition violated: `State == nullptr'"
     ]
    }
   ],
   "source": [
    "params = {\n",
    "    'bagging_temperature': 0.2,\n",
    "    'od_type': 'Iter',\n",
    "    'metric_period': 50,\n",
    "    'od_wait': 20,\n",
    "    'iterations': 3000,\n",
    "    'task_type': 'GPU'\n",
    "}\n",
    "model = catboost.CatBoostRegressor(bagging_temperature = 0.2,\n",
    "                                   od_type='Iter',\n",
    "                                   metric_period = 50,\n",
    "                                   od_wait=20,\n",
    "                                   iterations=3000,\n",
    "                                   task_type='GPU')\n",
    "model.fit(train_data, train_labels, cat_features=cat_cols)"
   ],
   "metadata": {
    "collapsed": false
   }
  },
  {
   "cell_type": "code",
   "execution_count": 12,
   "outputs": [
    {
     "data": {
      "text/plain": "False"
     },
     "execution_count": 12,
     "metadata": {},
     "output_type": "execute_result"
    }
   ],
   "source": [],
   "metadata": {
    "collapsed": false
   }
  },
  {
   "cell_type": "code",
   "execution_count": 9,
   "outputs": [
    {
     "ename": "NameError",
     "evalue": "name 'dtype_dict' is not defined",
     "output_type": "error",
     "traceback": [
      "\u001B[1;31m---------------------------------------------------------------------------\u001B[0m",
      "\u001B[1;31mNameError\u001B[0m                                 Traceback (most recent call last)",
      "Cell \u001B[1;32mIn[9], line 1\u001B[0m\n\u001B[1;32m----> 1\u001B[0m test_data \u001B[38;5;241m=\u001B[39m pd\u001B[38;5;241m.\u001B[39mread_csv(\u001B[38;5;124m'\u001B[39m\u001B[38;5;124mprep_catboost_test.csv\u001B[39m\u001B[38;5;124m'\u001B[39m, dtype\u001B[38;5;241m=\u001B[39m\u001B[43mdtype_dict\u001B[49m)\n\u001B[0;32m      2\u001B[0m nulls \u001B[38;5;241m=\u001B[39m test_data[cat_cols]\u001B[38;5;241m.\u001B[39misna()\u001B[38;5;241m.\u001B[39msum(); types \u001B[38;5;241m=\u001B[39m test_data[cat_cols]\u001B[38;5;241m.\u001B[39mdtypes\n\u001B[0;32m      3\u001B[0m cat_stats \u001B[38;5;241m=\u001B[39m pd\u001B[38;5;241m.\u001B[39mconcat([nulls, types], axis\u001B[38;5;241m=\u001B[39m\u001B[38;5;241m1\u001B[39m)\u001B[38;5;241m.\u001B[39mrename(columns\u001B[38;5;241m=\u001B[39m{\u001B[38;5;241m0\u001B[39m: \u001B[38;5;124m\"\u001B[39m\u001B[38;5;124mNaN_count\u001B[39m\u001B[38;5;124m\"\u001B[39m, \u001B[38;5;241m1\u001B[39m: \u001B[38;5;124m\"\u001B[39m\u001B[38;5;124mtype\u001B[39m\u001B[38;5;124m\"\u001B[39m})\n",
      "\u001B[1;31mNameError\u001B[0m: name 'dtype_dict' is not defined"
     ]
    }
   ],
   "source": [
    "test_data = pd.read_csv('prep_catboost_test.csv', dtype=dtype_dict)\n",
    "nulls = test_data[cat_cols].isna().sum(); types = test_data[cat_cols].dtypes\n",
    "cat_stats = pd.concat([nulls, types], axis=1).rename(columns={0: \"NaN_count\", 1: \"type\"})\n",
    "cols_to_encode = cat_stats.loc[(cat_stats['NaN_count'] != 0) | (cat_stats['type'] == 'float16')].index.tolist()\n",
    "\n",
    "for col in cols_to_encode:\n",
    "    test_data[col] = test_data[col].astype('object')\n",
    "    test_data[col] = test_data[col].map(str)\n",
    "test_data[cat_cols].fillna('no_data', inplace=True)\n",
    "test_data.drop(columns=['customer_ID'], inplace=True)\n",
    "test_data[cat_cols].dtypes"
   ],
   "metadata": {
    "collapsed": false
   }
  },
  {
   "cell_type": "code",
   "execution_count": null,
   "outputs": [],
   "source": [
    "sample = pd.read_csv('sample_submission.csv')\n",
    "# loaded_model = joblib.load('model_third.joblib')\n",
    "predictions = model.predict(test_data)\n",
    "# p_clipped = np.clip(predictions, 0.025, 0.975)\n",
    "output_file = pd.DataFrame({'customer_ID': sample.customer_ID, 'prediction': predictions})\n",
    "# output_file.to_csv('submission_dart.csv', index= False)\n",
    "import os\n",
    "import joblib\n",
    "dir_name = str(input('Specify directory name: '))\n",
    "model_name = str(input('Specify model name: '))\n",
    "full_model_name = model_name + '.joblib'\n",
    "directory = 'total_output_' + dir_name\n",
    "parent_dir = 'E:/amex_data_notebooks/subs/'\n",
    "path = os.path.join(parent_dir, directory)\n",
    "os.mkdir(path)\n",
    "open(os.path.join(path, full_model_name), 'x').close()\n",
    "with open(os.path.join(path, (model_name + '_params.txt')), 'w') as fp:\n",
    "    fp.write(str(params))\n",
    "sub_name = 'submission_' + str(input(\"Specify sub name: \")) + '.csv'\n",
    "open(os.path.join(path, sub_name), 'x').close()\n",
    "output_file.to_csv(os.path.join(path, sub_name), index=False)\n",
    "joblib.dump(model, os.path.join(path, full_model_name))"
   ],
   "metadata": {
    "collapsed": false
   }
  },
  {
   "cell_type": "code",
   "execution_count": null,
   "outputs": [],
   "source": [
    "output_file.shape"
   ],
   "metadata": {
    "collapsed": false
   }
  },
  {
   "cell_type": "code",
   "execution_count": null,
   "outputs": [],
   "source": [],
   "metadata": {
    "collapsed": false
   }
  }
 ],
 "metadata": {
  "kernelspec": {
   "display_name": "Python 3",
   "language": "python",
   "name": "python3"
  },
  "language_info": {
   "codemirror_mode": {
    "name": "ipython",
    "version": 2
   },
   "file_extension": ".py",
   "mimetype": "text/x-python",
   "name": "python",
   "nbconvert_exporter": "python",
   "pygments_lexer": "ipython2",
   "version": "2.7.6"
  }
 },
 "nbformat": 4,
 "nbformat_minor": 0
}

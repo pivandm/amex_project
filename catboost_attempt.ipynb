{
 "cells": [
  {
   "cell_type": "code",
   "execution_count": 1,
   "metadata": {
    "collapsed": true
   },
   "outputs": [],
   "source": [
    "import pandas as pd\n",
    "import pickle\n",
    "import numpy as np\n",
    "import os\n",
    "import sys\n",
    "import gc\n",
    "import catboost\n",
    "\n",
    "file = open('cat_cols.txt', 'rb')\n",
    "cat_cols = pickle.load(file)\n",
    "file.close()\n",
    "\n",
    "\n",
    "# function to convert dtypes\n",
    "def dt_converter(dtype):\n",
    "    if dtype == 'float64':\n",
    "        return 'float16'\n",
    "    elif dtype == 'int64':\n",
    "        return 'int16'\n",
    "    else:\n",
    "        return 'object'\n",
    "\n",
    "def mem_usage_gb(df):\n",
    "    return round((df.memory_usage(deep=True).sum()/1073741824), 2)\n",
    "\n",
    "def file_mem_usage_gb(file_name):\n",
    "    return round((os.stat(file_name).st_size/1073741824), 2)"
   ]
  },
  {
   "cell_type": "markdown",
   "source": [
    "I pre-processed data in different file and saved to csv, now I only have to open it\n",
    "but there is an issue with dtypes\n",
    "beforehand I had dtypes_dict to convert float64 to float16 to reduce mem usage\n",
    "now columns are named differently and I have to redo the conversion"
   ],
   "metadata": {
    "collapsed": false
   }
  },
  {
   "cell_type": "code",
   "execution_count": 2,
   "outputs": [
    {
     "data": {
      "text/plain": "                                         customer_ID  P_2_mean   P_2_std  \\\n0  0000099d6bd597052cdcda90ffabf56573fe9d7c79be5f...    0.9336  0.024194   \n1  00000fd6641609c6ece5454664794f0340ad84dddce9a2...    0.9000  0.022097   \n2  00001b22f846c82c51f6e3958ccd81970162bae8b007e8...    0.8784  0.028837   \n3  000041bdba6ecadd89a52d11886e8eaaec9325906c9723...    0.5990  0.020082   \n4  00007889e4fcd2614b6cbe7f8f3d2e5c728eca32d9eb8a...    0.8916  0.042316   \n\n   P_2_min  P_2_max  P_2_last  D_39_mean  D_39_std  D_39_min  D_39_max  ...  \\\n0   0.8687   0.9604    0.9346   0.010704  0.024440  0.001082  0.091500  ...   \n1   0.8613   0.9290    0.8804   0.215200  0.199123  0.002224  0.567400  ...   \n2   0.7980   0.9043    0.8810   0.004180  0.002759  0.000802  0.009705  ...   \n3   0.5674   0.6235    0.6216   0.048860  0.088490  0.000660  0.268600  ...   \n4   0.8050   0.9404    0.8720   0.004642  0.002883  0.000030  0.008680  ...   \n\n   D_63_nunique  D_64_count  D_64_last  D_64_nunique  D_66_count  D_66_last  \\\n0             1          13          O             1           0        NaN   \n1             1          13          O             1           0        NaN   \n2             1          13          R             1           0        NaN   \n3             1          13          O             1           0        NaN   \n4             1          13          O             1          13        1.0   \n\n   D_66_nunique  D_68_count  D_68_last  D_68_nunique  \n0             0          13        6.0             1  \n1             0          13        6.0             1  \n2             0          13        6.0             1  \n3             0          13        3.0             3  \n4             1          13        6.0             1  \n\n[5 rows x 919 columns]",
      "text/html": "<div>\n<style scoped>\n    .dataframe tbody tr th:only-of-type {\n        vertical-align: middle;\n    }\n\n    .dataframe tbody tr th {\n        vertical-align: top;\n    }\n\n    .dataframe thead th {\n        text-align: right;\n    }\n</style>\n<table border=\"1\" class=\"dataframe\">\n  <thead>\n    <tr style=\"text-align: right;\">\n      <th></th>\n      <th>customer_ID</th>\n      <th>P_2_mean</th>\n      <th>P_2_std</th>\n      <th>P_2_min</th>\n      <th>P_2_max</th>\n      <th>P_2_last</th>\n      <th>D_39_mean</th>\n      <th>D_39_std</th>\n      <th>D_39_min</th>\n      <th>D_39_max</th>\n      <th>...</th>\n      <th>D_63_nunique</th>\n      <th>D_64_count</th>\n      <th>D_64_last</th>\n      <th>D_64_nunique</th>\n      <th>D_66_count</th>\n      <th>D_66_last</th>\n      <th>D_66_nunique</th>\n      <th>D_68_count</th>\n      <th>D_68_last</th>\n      <th>D_68_nunique</th>\n    </tr>\n  </thead>\n  <tbody>\n    <tr>\n      <th>0</th>\n      <td>0000099d6bd597052cdcda90ffabf56573fe9d7c79be5f...</td>\n      <td>0.9336</td>\n      <td>0.024194</td>\n      <td>0.8687</td>\n      <td>0.9604</td>\n      <td>0.9346</td>\n      <td>0.010704</td>\n      <td>0.024440</td>\n      <td>0.001082</td>\n      <td>0.091500</td>\n      <td>...</td>\n      <td>1</td>\n      <td>13</td>\n      <td>O</td>\n      <td>1</td>\n      <td>0</td>\n      <td>NaN</td>\n      <td>0</td>\n      <td>13</td>\n      <td>6.0</td>\n      <td>1</td>\n    </tr>\n    <tr>\n      <th>1</th>\n      <td>00000fd6641609c6ece5454664794f0340ad84dddce9a2...</td>\n      <td>0.9000</td>\n      <td>0.022097</td>\n      <td>0.8613</td>\n      <td>0.9290</td>\n      <td>0.8804</td>\n      <td>0.215200</td>\n      <td>0.199123</td>\n      <td>0.002224</td>\n      <td>0.567400</td>\n      <td>...</td>\n      <td>1</td>\n      <td>13</td>\n      <td>O</td>\n      <td>1</td>\n      <td>0</td>\n      <td>NaN</td>\n      <td>0</td>\n      <td>13</td>\n      <td>6.0</td>\n      <td>1</td>\n    </tr>\n    <tr>\n      <th>2</th>\n      <td>00001b22f846c82c51f6e3958ccd81970162bae8b007e8...</td>\n      <td>0.8784</td>\n      <td>0.028837</td>\n      <td>0.7980</td>\n      <td>0.9043</td>\n      <td>0.8810</td>\n      <td>0.004180</td>\n      <td>0.002759</td>\n      <td>0.000802</td>\n      <td>0.009705</td>\n      <td>...</td>\n      <td>1</td>\n      <td>13</td>\n      <td>R</td>\n      <td>1</td>\n      <td>0</td>\n      <td>NaN</td>\n      <td>0</td>\n      <td>13</td>\n      <td>6.0</td>\n      <td>1</td>\n    </tr>\n    <tr>\n      <th>3</th>\n      <td>000041bdba6ecadd89a52d11886e8eaaec9325906c9723...</td>\n      <td>0.5990</td>\n      <td>0.020082</td>\n      <td>0.5674</td>\n      <td>0.6235</td>\n      <td>0.6216</td>\n      <td>0.048860</td>\n      <td>0.088490</td>\n      <td>0.000660</td>\n      <td>0.268600</td>\n      <td>...</td>\n      <td>1</td>\n      <td>13</td>\n      <td>O</td>\n      <td>1</td>\n      <td>0</td>\n      <td>NaN</td>\n      <td>0</td>\n      <td>13</td>\n      <td>3.0</td>\n      <td>3</td>\n    </tr>\n    <tr>\n      <th>4</th>\n      <td>00007889e4fcd2614b6cbe7f8f3d2e5c728eca32d9eb8a...</td>\n      <td>0.8916</td>\n      <td>0.042316</td>\n      <td>0.8050</td>\n      <td>0.9404</td>\n      <td>0.8720</td>\n      <td>0.004642</td>\n      <td>0.002883</td>\n      <td>0.000030</td>\n      <td>0.008680</td>\n      <td>...</td>\n      <td>1</td>\n      <td>13</td>\n      <td>O</td>\n      <td>1</td>\n      <td>13</td>\n      <td>1.0</td>\n      <td>1</td>\n      <td>13</td>\n      <td>6.0</td>\n      <td>1</td>\n    </tr>\n  </tbody>\n</table>\n<p>5 rows × 919 columns</p>\n</div>"
     },
     "metadata": {},
     "output_type": "display_data"
    },
    {
     "name": "stdout",
     "output_type": "stream",
     "text": [
      "DataFrame memory usage: 3.23 GB     File size: 3.47 GB\n"
     ]
    }
   ],
   "source": [
    "X = pd.read_csv('prep_catboost_train.csv')\n",
    "display(X.head())\n",
    "print('DataFrame memory usage:', mem_usage_gb(X), 'GB    ', 'File size:', file_mem_usage_gb('prep_catboost_train.csv'), 'GB')"
   ],
   "metadata": {
    "collapsed": false
   }
  },
  {
   "cell_type": "markdown",
   "source": [
    "dataset is too big should be around 1 GB got 3.23 GB\n",
    "This is because dtypes by default are float64, int64, lets deal with that"
   ],
   "metadata": {
    "collapsed": false
   }
  },
  {
   "cell_type": "code",
   "execution_count": 3,
   "outputs": [
    {
     "data": {
      "text/plain": "array([dtype('O'), dtype('float64'), dtype('int64')], dtype=object)"
     },
     "execution_count": 3,
     "metadata": {},
     "output_type": "execute_result"
    }
   ],
   "source": [
    "dt = X.dtypes\n",
    "dt.unique()"
   ],
   "metadata": {
    "collapsed": false
   }
  },
  {
   "cell_type": "markdown",
   "source": [
    "There are only 3 dtypes in the DataFrame, converting should be easy\n",
    "Create dict {col_name : dtype} to convert while reading from file"
   ],
   "metadata": {
    "collapsed": false
   }
  },
  {
   "cell_type": "code",
   "execution_count": 4,
   "outputs": [
    {
     "data": {
      "text/plain": "{'customer_ID': 'object',\n 'P_2_mean': 'float16',\n 'P_2_std': 'float16',\n 'P_2_min': 'float16',\n 'P_2_max': 'float16',\n 'P_2_last': 'float16',\n 'D_39_mean': 'float16',\n 'D_39_std': 'float16',\n 'D_39_min': 'float16',\n 'D_39_max': 'float16',\n 'D_39_last': 'float16',\n 'B_1_mean': 'float16',\n 'B_1_std': 'float16',\n 'B_1_min': 'float16',\n 'B_1_max': 'float16',\n 'B_1_last': 'float16',\n 'B_2_mean': 'float16',\n 'B_2_std': 'float16',\n 'B_2_min': 'float16',\n 'B_2_max': 'float16',\n 'B_2_last': 'float16',\n 'R_1_mean': 'float16',\n 'R_1_std': 'float16',\n 'R_1_min': 'float16',\n 'R_1_max': 'float16',\n 'R_1_last': 'float16',\n 'S_3_mean': 'float16',\n 'S_3_std': 'float16',\n 'S_3_min': 'float16',\n 'S_3_max': 'float16',\n 'S_3_last': 'float16',\n 'D_41_mean': 'float16',\n 'D_41_std': 'float16',\n 'D_41_min': 'float16',\n 'D_41_max': 'float16',\n 'D_41_last': 'float16',\n 'B_3_mean': 'float16',\n 'B_3_std': 'float16',\n 'B_3_min': 'float16',\n 'B_3_max': 'float16',\n 'B_3_last': 'float16',\n 'D_42_mean': 'float16',\n 'D_42_std': 'float16',\n 'D_42_min': 'float16',\n 'D_42_max': 'float16',\n 'D_42_last': 'float16',\n 'D_43_mean': 'float16',\n 'D_43_std': 'float16',\n 'D_43_min': 'float16',\n 'D_43_max': 'float16',\n 'D_43_last': 'float16',\n 'D_44_mean': 'float16',\n 'D_44_std': 'float16',\n 'D_44_min': 'float16',\n 'D_44_max': 'float16',\n 'D_44_last': 'float16',\n 'B_4_mean': 'float16',\n 'B_4_std': 'float16',\n 'B_4_min': 'float16',\n 'B_4_max': 'float16',\n 'B_4_last': 'float16',\n 'D_45_mean': 'float16',\n 'D_45_std': 'float16',\n 'D_45_min': 'float16',\n 'D_45_max': 'float16',\n 'D_45_last': 'float16',\n 'B_5_mean': 'float16',\n 'B_5_std': 'float16',\n 'B_5_min': 'float16',\n 'B_5_max': 'float16',\n 'B_5_last': 'float16',\n 'R_2_mean': 'float16',\n 'R_2_std': 'float16',\n 'R_2_min': 'float16',\n 'R_2_max': 'float16',\n 'R_2_last': 'float16',\n 'D_46_mean': 'float16',\n 'D_46_std': 'float16',\n 'D_46_min': 'float16',\n 'D_46_max': 'float16',\n 'D_46_last': 'float16',\n 'D_47_mean': 'float16',\n 'D_47_std': 'float16',\n 'D_47_min': 'float16',\n 'D_47_max': 'float16',\n 'D_47_last': 'float16',\n 'D_48_mean': 'float16',\n 'D_48_std': 'float16',\n 'D_48_min': 'float16',\n 'D_48_max': 'float16',\n 'D_48_last': 'float16',\n 'D_49_mean': 'float16',\n 'D_49_std': 'float16',\n 'D_49_min': 'float16',\n 'D_49_max': 'float16',\n 'D_49_last': 'float16',\n 'B_6_mean': 'float16',\n 'B_6_std': 'float16',\n 'B_6_min': 'float16',\n 'B_6_max': 'float16',\n 'B_6_last': 'float16',\n 'B_7_mean': 'float16',\n 'B_7_std': 'float16',\n 'B_7_min': 'float16',\n 'B_7_max': 'float16',\n 'B_7_last': 'float16',\n 'B_8_mean': 'float16',\n 'B_8_std': 'float16',\n 'B_8_min': 'float16',\n 'B_8_max': 'float16',\n 'B_8_last': 'float16',\n 'D_50_mean': 'float16',\n 'D_50_std': 'float16',\n 'D_50_min': 'float16',\n 'D_50_max': 'float16',\n 'D_50_last': 'float16',\n 'D_51_mean': 'float16',\n 'D_51_std': 'float16',\n 'D_51_min': 'float16',\n 'D_51_max': 'float16',\n 'D_51_last': 'float16',\n 'B_9_mean': 'float16',\n 'B_9_std': 'float16',\n 'B_9_min': 'float16',\n 'B_9_max': 'float16',\n 'B_9_last': 'float16',\n 'R_3_mean': 'float16',\n 'R_3_std': 'float16',\n 'R_3_min': 'float16',\n 'R_3_max': 'float16',\n 'R_3_last': 'float16',\n 'D_52_mean': 'float16',\n 'D_52_std': 'float16',\n 'D_52_min': 'float16',\n 'D_52_max': 'float16',\n 'D_52_last': 'float16',\n 'P_3_mean': 'float16',\n 'P_3_std': 'float16',\n 'P_3_min': 'float16',\n 'P_3_max': 'float16',\n 'P_3_last': 'float16',\n 'B_10_mean': 'float16',\n 'B_10_std': 'float16',\n 'B_10_min': 'float16',\n 'B_10_max': 'float16',\n 'B_10_last': 'float16',\n 'D_53_mean': 'float16',\n 'D_53_std': 'float16',\n 'D_53_min': 'float16',\n 'D_53_max': 'float16',\n 'D_53_last': 'float16',\n 'S_5_mean': 'float16',\n 'S_5_std': 'float16',\n 'S_5_min': 'float16',\n 'S_5_max': 'float16',\n 'S_5_last': 'float16',\n 'B_11_mean': 'float16',\n 'B_11_std': 'float16',\n 'B_11_min': 'float16',\n 'B_11_max': 'float16',\n 'B_11_last': 'float16',\n 'S_6_mean': 'float16',\n 'S_6_std': 'float16',\n 'S_6_min': 'float16',\n 'S_6_max': 'float16',\n 'S_6_last': 'float16',\n 'D_54_mean': 'float16',\n 'D_54_std': 'float16',\n 'D_54_min': 'float16',\n 'D_54_max': 'float16',\n 'D_54_last': 'float16',\n 'R_4_mean': 'float16',\n 'R_4_std': 'float16',\n 'R_4_min': 'float16',\n 'R_4_max': 'float16',\n 'R_4_last': 'float16',\n 'S_7_mean': 'float16',\n 'S_7_std': 'float16',\n 'S_7_min': 'float16',\n 'S_7_max': 'float16',\n 'S_7_last': 'float16',\n 'B_12_mean': 'float16',\n 'B_12_std': 'float16',\n 'B_12_min': 'float16',\n 'B_12_max': 'float16',\n 'B_12_last': 'float16',\n 'S_8_mean': 'float16',\n 'S_8_std': 'float16',\n 'S_8_min': 'float16',\n 'S_8_max': 'float16',\n 'S_8_last': 'float16',\n 'D_55_mean': 'float16',\n 'D_55_std': 'float16',\n 'D_55_min': 'float16',\n 'D_55_max': 'float16',\n 'D_55_last': 'float16',\n 'D_56_mean': 'float16',\n 'D_56_std': 'float16',\n 'D_56_min': 'float16',\n 'D_56_max': 'float16',\n 'D_56_last': 'float16',\n 'B_13_mean': 'float16',\n 'B_13_std': 'float16',\n 'B_13_min': 'float16',\n 'B_13_max': 'float16',\n 'B_13_last': 'float16',\n 'R_5_mean': 'float16',\n 'R_5_std': 'float16',\n 'R_5_min': 'float16',\n 'R_5_max': 'float16',\n 'R_5_last': 'float16',\n 'D_58_mean': 'float16',\n 'D_58_std': 'float16',\n 'D_58_min': 'float16',\n 'D_58_max': 'float16',\n 'D_58_last': 'float16',\n 'S_9_mean': 'float16',\n 'S_9_std': 'float16',\n 'S_9_min': 'float16',\n 'S_9_max': 'float16',\n 'S_9_last': 'float16',\n 'B_14_mean': 'float16',\n 'B_14_std': 'float16',\n 'B_14_min': 'float16',\n 'B_14_max': 'float16',\n 'B_14_last': 'float16',\n 'D_59_mean': 'float16',\n 'D_59_std': 'float16',\n 'D_59_min': 'float16',\n 'D_59_max': 'float16',\n 'D_59_last': 'float16',\n 'D_60_mean': 'float16',\n 'D_60_std': 'float16',\n 'D_60_min': 'float16',\n 'D_60_max': 'float16',\n 'D_60_last': 'float16',\n 'D_61_mean': 'float16',\n 'D_61_std': 'float16',\n 'D_61_min': 'float16',\n 'D_61_max': 'float16',\n 'D_61_last': 'float16',\n 'B_15_mean': 'float16',\n 'B_15_std': 'float16',\n 'B_15_min': 'float16',\n 'B_15_max': 'float16',\n 'B_15_last': 'float16',\n 'S_11_mean': 'float16',\n 'S_11_std': 'float16',\n 'S_11_min': 'float16',\n 'S_11_max': 'float16',\n 'S_11_last': 'float16',\n 'D_62_mean': 'float16',\n 'D_62_std': 'float16',\n 'D_62_min': 'float16',\n 'D_62_max': 'float16',\n 'D_62_last': 'float16',\n 'D_65_mean': 'float16',\n 'D_65_std': 'float16',\n 'D_65_min': 'float16',\n 'D_65_max': 'float16',\n 'D_65_last': 'float16',\n 'B_16_mean': 'float16',\n 'B_16_std': 'float16',\n 'B_16_min': 'float16',\n 'B_16_max': 'float16',\n 'B_16_last': 'float16',\n 'B_17_mean': 'float16',\n 'B_17_std': 'float16',\n 'B_17_min': 'float16',\n 'B_17_max': 'float16',\n 'B_17_last': 'float16',\n 'B_18_mean': 'float16',\n 'B_18_std': 'float16',\n 'B_18_min': 'float16',\n 'B_18_max': 'float16',\n 'B_18_last': 'float16',\n 'B_19_mean': 'float16',\n 'B_19_std': 'float16',\n 'B_19_min': 'float16',\n 'B_19_max': 'float16',\n 'B_19_last': 'float16',\n 'B_20_mean': 'float16',\n 'B_20_std': 'float16',\n 'B_20_min': 'float16',\n 'B_20_max': 'float16',\n 'B_20_last': 'float16',\n 'S_12_mean': 'float16',\n 'S_12_std': 'float16',\n 'S_12_min': 'float16',\n 'S_12_max': 'float16',\n 'S_12_last': 'float16',\n 'R_6_mean': 'float16',\n 'R_6_std': 'float16',\n 'R_6_min': 'float16',\n 'R_6_max': 'float16',\n 'R_6_last': 'float16',\n 'S_13_mean': 'float16',\n 'S_13_std': 'float16',\n 'S_13_min': 'float16',\n 'S_13_max': 'float16',\n 'S_13_last': 'float16',\n 'B_21_mean': 'float16',\n 'B_21_std': 'float16',\n 'B_21_min': 'float16',\n 'B_21_max': 'float16',\n 'B_21_last': 'float16',\n 'D_69_mean': 'float16',\n 'D_69_std': 'float16',\n 'D_69_min': 'float16',\n 'D_69_max': 'float16',\n 'D_69_last': 'float16',\n 'B_22_mean': 'float16',\n 'B_22_std': 'float16',\n 'B_22_min': 'float16',\n 'B_22_max': 'float16',\n 'B_22_last': 'float16',\n 'D_70_mean': 'float16',\n 'D_70_std': 'float16',\n 'D_70_min': 'float16',\n 'D_70_max': 'float16',\n 'D_70_last': 'float16',\n 'D_71_mean': 'float16',\n 'D_71_std': 'float16',\n 'D_71_min': 'float16',\n 'D_71_max': 'float16',\n 'D_71_last': 'float16',\n 'D_72_mean': 'float16',\n 'D_72_std': 'float16',\n 'D_72_min': 'float16',\n 'D_72_max': 'float16',\n 'D_72_last': 'float16',\n 'S_15_mean': 'float16',\n 'S_15_std': 'float16',\n 'S_15_min': 'float16',\n 'S_15_max': 'float16',\n 'S_15_last': 'float16',\n 'B_23_mean': 'float16',\n 'B_23_std': 'float16',\n 'B_23_min': 'float16',\n 'B_23_max': 'float16',\n 'B_23_last': 'float16',\n 'D_73_mean': 'float16',\n 'D_73_std': 'float16',\n 'D_73_min': 'float16',\n 'D_73_max': 'float16',\n 'D_73_last': 'float16',\n 'P_4_mean': 'float16',\n 'P_4_std': 'float16',\n 'P_4_min': 'float16',\n 'P_4_max': 'float16',\n 'P_4_last': 'float16',\n 'D_74_mean': 'float16',\n 'D_74_std': 'float16',\n 'D_74_min': 'float16',\n 'D_74_max': 'float16',\n 'D_74_last': 'float16',\n 'D_75_mean': 'float16',\n 'D_75_std': 'float16',\n 'D_75_min': 'float16',\n 'D_75_max': 'float16',\n 'D_75_last': 'float16',\n 'D_76_mean': 'float16',\n 'D_76_std': 'float16',\n 'D_76_min': 'float16',\n 'D_76_max': 'float16',\n 'D_76_last': 'float16',\n 'B_24_mean': 'float16',\n 'B_24_std': 'float16',\n 'B_24_min': 'float16',\n 'B_24_max': 'float16',\n 'B_24_last': 'float16',\n 'R_7_mean': 'float16',\n 'R_7_std': 'float16',\n 'R_7_min': 'float16',\n 'R_7_max': 'float16',\n 'R_7_last': 'float16',\n 'D_77_mean': 'float16',\n 'D_77_std': 'float16',\n 'D_77_min': 'float16',\n 'D_77_max': 'float16',\n 'D_77_last': 'float16',\n 'B_25_mean': 'float16',\n 'B_25_std': 'float16',\n 'B_25_min': 'float16',\n 'B_25_max': 'float16',\n 'B_25_last': 'float16',\n 'B_26_mean': 'float16',\n 'B_26_std': 'float16',\n 'B_26_min': 'float16',\n 'B_26_max': 'float16',\n 'B_26_last': 'float16',\n 'D_78_mean': 'float16',\n 'D_78_std': 'float16',\n 'D_78_min': 'float16',\n 'D_78_max': 'float16',\n 'D_78_last': 'float16',\n 'D_79_mean': 'float16',\n 'D_79_std': 'float16',\n 'D_79_min': 'float16',\n 'D_79_max': 'float16',\n 'D_79_last': 'float16',\n 'R_8_mean': 'float16',\n 'R_8_std': 'float16',\n 'R_8_min': 'float16',\n 'R_8_max': 'float16',\n 'R_8_last': 'float16',\n 'R_9_mean': 'float16',\n 'R_9_std': 'float16',\n 'R_9_min': 'float16',\n 'R_9_max': 'float16',\n 'R_9_last': 'float16',\n 'S_16_mean': 'float16',\n 'S_16_std': 'float16',\n 'S_16_min': 'float16',\n 'S_16_max': 'float16',\n 'S_16_last': 'float16',\n 'D_80_mean': 'float16',\n 'D_80_std': 'float16',\n 'D_80_min': 'float16',\n 'D_80_max': 'float16',\n 'D_80_last': 'float16',\n 'R_10_mean': 'float16',\n 'R_10_std': 'float16',\n 'R_10_min': 'float16',\n 'R_10_max': 'float16',\n 'R_10_last': 'float16',\n 'R_11_mean': 'float16',\n 'R_11_std': 'float16',\n 'R_11_min': 'float16',\n 'R_11_max': 'float16',\n 'R_11_last': 'float16',\n 'B_27_mean': 'float16',\n 'B_27_std': 'float16',\n 'B_27_min': 'float16',\n 'B_27_max': 'float16',\n 'B_27_last': 'float16',\n 'D_81_mean': 'float16',\n 'D_81_std': 'float16',\n 'D_81_min': 'float16',\n 'D_81_max': 'float16',\n 'D_81_last': 'float16',\n 'D_82_mean': 'float16',\n 'D_82_std': 'float16',\n 'D_82_min': 'float16',\n 'D_82_max': 'float16',\n 'D_82_last': 'float16',\n 'S_17_mean': 'float16',\n 'S_17_std': 'float16',\n 'S_17_min': 'float16',\n 'S_17_max': 'float16',\n 'S_17_last': 'float16',\n 'R_12_mean': 'float16',\n 'R_12_std': 'float16',\n 'R_12_min': 'float16',\n 'R_12_max': 'float16',\n 'R_12_last': 'float16',\n 'B_28_mean': 'float16',\n 'B_28_std': 'float16',\n 'B_28_min': 'float16',\n 'B_28_max': 'float16',\n 'B_28_last': 'float16',\n 'R_13_mean': 'float16',\n 'R_13_std': 'float16',\n 'R_13_min': 'float16',\n 'R_13_max': 'float16',\n 'R_13_last': 'float16',\n 'D_83_mean': 'float16',\n 'D_83_std': 'float16',\n 'D_83_min': 'float16',\n 'D_83_max': 'float16',\n 'D_83_last': 'float16',\n 'R_14_mean': 'float16',\n 'R_14_std': 'float16',\n 'R_14_min': 'float16',\n 'R_14_max': 'float16',\n 'R_14_last': 'float16',\n 'R_15_mean': 'float16',\n 'R_15_std': 'float16',\n 'R_15_min': 'float16',\n 'R_15_max': 'float16',\n 'R_15_last': 'float16',\n 'D_84_mean': 'float16',\n 'D_84_std': 'float16',\n 'D_84_min': 'float16',\n 'D_84_max': 'float16',\n 'D_84_last': 'float16',\n 'R_16_mean': 'float16',\n 'R_16_std': 'float16',\n 'R_16_min': 'float16',\n 'R_16_max': 'float16',\n 'R_16_last': 'float16',\n 'B_29_mean': 'float16',\n 'B_29_std': 'float16',\n 'B_29_min': 'float16',\n 'B_29_max': 'float16',\n 'B_29_last': 'float16',\n 'S_18_mean': 'float16',\n 'S_18_std': 'float16',\n 'S_18_min': 'float16',\n 'S_18_max': 'float16',\n 'S_18_last': 'float16',\n 'D_86_mean': 'float16',\n 'D_86_std': 'float16',\n 'D_86_min': 'float16',\n 'D_86_max': 'float16',\n 'D_86_last': 'float16',\n 'D_87_mean': 'float16',\n 'D_87_std': 'float16',\n 'D_87_min': 'float16',\n 'D_87_max': 'float16',\n 'D_87_last': 'float16',\n 'R_17_mean': 'float16',\n 'R_17_std': 'float16',\n 'R_17_min': 'float16',\n 'R_17_max': 'float16',\n 'R_17_last': 'float16',\n 'R_18_mean': 'float16',\n 'R_18_std': 'float16',\n 'R_18_min': 'float16',\n 'R_18_max': 'float16',\n 'R_18_last': 'float16',\n 'D_88_mean': 'float16',\n 'D_88_std': 'float16',\n 'D_88_min': 'float16',\n 'D_88_max': 'float16',\n 'D_88_last': 'float16',\n 'B_31_mean': 'float16',\n 'B_31_std': 'float16',\n 'B_31_min': 'int16',\n 'B_31_max': 'int16',\n 'B_31_last': 'int16',\n 'S_19_mean': 'float16',\n 'S_19_std': 'float16',\n 'S_19_min': 'float16',\n 'S_19_max': 'float16',\n 'S_19_last': 'float16',\n 'R_19_mean': 'float16',\n 'R_19_std': 'float16',\n 'R_19_min': 'float16',\n 'R_19_max': 'float16',\n 'R_19_last': 'float16',\n 'B_32_mean': 'float16',\n 'B_32_std': 'float16',\n 'B_32_min': 'float16',\n 'B_32_max': 'float16',\n 'B_32_last': 'float16',\n 'S_20_mean': 'float16',\n 'S_20_std': 'float16',\n 'S_20_min': 'float16',\n 'S_20_max': 'float16',\n 'S_20_last': 'float16',\n 'R_20_mean': 'float16',\n 'R_20_std': 'float16',\n 'R_20_min': 'float16',\n 'R_20_max': 'float16',\n 'R_20_last': 'float16',\n 'R_21_mean': 'float16',\n 'R_21_std': 'float16',\n 'R_21_min': 'float16',\n 'R_21_max': 'float16',\n 'R_21_last': 'float16',\n 'B_33_mean': 'float16',\n 'B_33_std': 'float16',\n 'B_33_min': 'float16',\n 'B_33_max': 'float16',\n 'B_33_last': 'float16',\n 'D_89_mean': 'float16',\n 'D_89_std': 'float16',\n 'D_89_min': 'float16',\n 'D_89_max': 'float16',\n 'D_89_last': 'float16',\n 'R_22_mean': 'float16',\n 'R_22_std': 'float16',\n 'R_22_min': 'float16',\n 'R_22_max': 'float16',\n 'R_22_last': 'float16',\n 'R_23_mean': 'float16',\n 'R_23_std': 'float16',\n 'R_23_min': 'float16',\n 'R_23_max': 'float16',\n 'R_23_last': 'float16',\n 'D_91_mean': 'float16',\n 'D_91_std': 'float16',\n 'D_91_min': 'float16',\n 'D_91_max': 'float16',\n 'D_91_last': 'float16',\n 'D_92_mean': 'float16',\n 'D_92_std': 'float16',\n 'D_92_min': 'float16',\n 'D_92_max': 'float16',\n 'D_92_last': 'float16',\n 'D_93_mean': 'float16',\n 'D_93_std': 'float16',\n 'D_93_min': 'float16',\n 'D_93_max': 'float16',\n 'D_93_last': 'float16',\n 'D_94_mean': 'float16',\n 'D_94_std': 'float16',\n 'D_94_min': 'float16',\n 'D_94_max': 'float16',\n 'D_94_last': 'float16',\n 'R_24_mean': 'float16',\n 'R_24_std': 'float16',\n 'R_24_min': 'float16',\n 'R_24_max': 'float16',\n 'R_24_last': 'float16',\n 'R_25_mean': 'float16',\n 'R_25_std': 'float16',\n 'R_25_min': 'float16',\n 'R_25_max': 'float16',\n 'R_25_last': 'float16',\n 'D_96_mean': 'float16',\n 'D_96_std': 'float16',\n 'D_96_min': 'float16',\n 'D_96_max': 'float16',\n 'D_96_last': 'float16',\n 'S_22_mean': 'float16',\n 'S_22_std': 'float16',\n 'S_22_min': 'float16',\n 'S_22_max': 'float16',\n 'S_22_last': 'float16',\n 'S_23_mean': 'float16',\n 'S_23_std': 'float16',\n 'S_23_min': 'float16',\n 'S_23_max': 'float16',\n 'S_23_last': 'float16',\n 'S_24_mean': 'float16',\n 'S_24_std': 'float16',\n 'S_24_min': 'float16',\n 'S_24_max': 'float16',\n 'S_24_last': 'float16',\n 'S_25_mean': 'float16',\n 'S_25_std': 'float16',\n 'S_25_min': 'float16',\n 'S_25_max': 'float16',\n 'S_25_last': 'float16',\n 'S_26_mean': 'float16',\n 'S_26_std': 'float16',\n 'S_26_min': 'float16',\n 'S_26_max': 'float16',\n 'S_26_last': 'float16',\n 'D_102_mean': 'float16',\n 'D_102_std': 'float16',\n 'D_102_min': 'float16',\n 'D_102_max': 'float16',\n 'D_102_last': 'float16',\n 'D_103_mean': 'float16',\n 'D_103_std': 'float16',\n 'D_103_min': 'float16',\n 'D_103_max': 'float16',\n 'D_103_last': 'float16',\n 'D_104_mean': 'float16',\n 'D_104_std': 'float16',\n 'D_104_min': 'float16',\n 'D_104_max': 'float16',\n 'D_104_last': 'float16',\n 'D_105_mean': 'float16',\n 'D_105_std': 'float16',\n 'D_105_min': 'float16',\n 'D_105_max': 'float16',\n 'D_105_last': 'float16',\n 'D_106_mean': 'float16',\n 'D_106_std': 'float16',\n 'D_106_min': 'float16',\n 'D_106_max': 'float16',\n 'D_106_last': 'float16',\n 'D_107_mean': 'float16',\n 'D_107_std': 'float16',\n 'D_107_min': 'float16',\n 'D_107_max': 'float16',\n 'D_107_last': 'float16',\n 'B_36_mean': 'float16',\n 'B_36_std': 'float16',\n 'B_36_min': 'float16',\n 'B_36_max': 'float16',\n 'B_36_last': 'float16',\n 'B_37_mean': 'float16',\n 'B_37_std': 'float16',\n 'B_37_min': 'float16',\n 'B_37_max': 'float16',\n 'B_37_last': 'float16',\n 'R_26_mean': 'float16',\n 'R_26_std': 'float16',\n 'R_26_min': 'float16',\n 'R_26_max': 'float16',\n 'R_26_last': 'float16',\n 'R_27_mean': 'float16',\n 'R_27_std': 'float16',\n 'R_27_min': 'float16',\n 'R_27_max': 'float16',\n 'R_27_last': 'float16',\n 'D_108_mean': 'float16',\n 'D_108_std': 'float16',\n 'D_108_min': 'float16',\n 'D_108_max': 'float16',\n 'D_108_last': 'float16',\n 'D_109_mean': 'float16',\n 'D_109_std': 'float16',\n 'D_109_min': 'float16',\n 'D_109_max': 'float16',\n 'D_109_last': 'float16',\n 'D_110_mean': 'float16',\n 'D_110_std': 'float16',\n 'D_110_min': 'float16',\n 'D_110_max': 'float16',\n 'D_110_last': 'float16',\n 'D_111_mean': 'float16',\n 'D_111_std': 'float16',\n 'D_111_min': 'float16',\n 'D_111_max': 'float16',\n 'D_111_last': 'float16',\n 'B_39_mean': 'float16',\n 'B_39_std': 'float16',\n 'B_39_min': 'float16',\n 'B_39_max': 'float16',\n 'B_39_last': 'float16',\n 'D_112_mean': 'float16',\n 'D_112_std': 'float16',\n 'D_112_min': 'float16',\n 'D_112_max': 'float16',\n 'D_112_last': 'float16',\n 'B_40_mean': 'float16',\n 'B_40_std': 'float16',\n 'B_40_min': 'float16',\n 'B_40_max': 'float16',\n 'B_40_last': 'float16',\n 'S_27_mean': 'float16',\n 'S_27_std': 'float16',\n 'S_27_min': 'float16',\n 'S_27_max': 'float16',\n 'S_27_last': 'float16',\n 'D_113_mean': 'float16',\n 'D_113_std': 'float16',\n 'D_113_min': 'float16',\n 'D_113_max': 'float16',\n 'D_113_last': 'float16',\n 'D_115_mean': 'float16',\n 'D_115_std': 'float16',\n 'D_115_min': 'float16',\n 'D_115_max': 'float16',\n 'D_115_last': 'float16',\n 'D_118_mean': 'float16',\n 'D_118_std': 'float16',\n 'D_118_min': 'float16',\n 'D_118_max': 'float16',\n 'D_118_last': 'float16',\n 'D_119_mean': 'float16',\n 'D_119_std': 'float16',\n 'D_119_min': 'float16',\n 'D_119_max': 'float16',\n 'D_119_last': 'float16',\n 'D_121_mean': 'float16',\n 'D_121_std': 'float16',\n 'D_121_min': 'float16',\n 'D_121_max': 'float16',\n 'D_121_last': 'float16',\n 'D_122_mean': 'float16',\n 'D_122_std': 'float16',\n 'D_122_min': 'float16',\n 'D_122_max': 'float16',\n 'D_122_last': 'float16',\n 'D_123_mean': 'float16',\n 'D_123_std': 'float16',\n 'D_123_min': 'float16',\n 'D_123_max': 'float16',\n 'D_123_last': 'float16',\n 'D_124_mean': 'float16',\n 'D_124_std': 'float16',\n 'D_124_min': 'float16',\n 'D_124_max': 'float16',\n 'D_124_last': 'float16',\n 'D_125_mean': 'float16',\n 'D_125_std': 'float16',\n 'D_125_min': 'float16',\n 'D_125_max': 'float16',\n 'D_125_last': 'float16',\n 'D_127_mean': 'float16',\n 'D_127_std': 'float16',\n 'D_127_min': 'float16',\n 'D_127_max': 'float16',\n 'D_127_last': 'float16',\n 'D_128_mean': 'float16',\n 'D_128_std': 'float16',\n 'D_128_min': 'float16',\n 'D_128_max': 'float16',\n 'D_128_last': 'float16',\n 'D_129_mean': 'float16',\n 'D_129_std': 'float16',\n 'D_129_min': 'float16',\n 'D_129_max': 'float16',\n 'D_129_last': 'float16',\n 'B_41_mean': 'float16',\n 'B_41_std': 'float16',\n 'B_41_min': 'float16',\n 'B_41_max': 'float16',\n 'B_41_last': 'float16',\n 'B_42_mean': 'float16',\n 'B_42_std': 'float16',\n 'B_42_min': 'float16',\n 'B_42_max': 'float16',\n 'B_42_last': 'float16',\n 'D_130_mean': 'float16',\n 'D_130_std': 'float16',\n 'D_130_min': 'float16',\n 'D_130_max': 'float16',\n 'D_130_last': 'float16',\n 'D_131_mean': 'float16',\n 'D_131_std': 'float16',\n 'D_131_min': 'float16',\n 'D_131_max': 'float16',\n 'D_131_last': 'float16',\n 'D_132_mean': 'float16',\n 'D_132_std': 'float16',\n 'D_132_min': 'float16',\n 'D_132_max': 'float16',\n 'D_132_last': 'float16',\n 'D_133_mean': 'float16',\n 'D_133_std': 'float16',\n 'D_133_min': 'float16',\n 'D_133_max': 'float16',\n 'D_133_last': 'float16',\n 'R_28_mean': 'float16',\n 'R_28_std': 'float16',\n 'R_28_min': 'float16',\n 'R_28_max': 'float16',\n 'R_28_last': 'float16',\n 'D_134_mean': 'float16',\n 'D_134_std': 'float16',\n 'D_134_min': 'float16',\n 'D_134_max': 'float16',\n 'D_134_last': 'float16',\n 'D_135_mean': 'float16',\n 'D_135_std': 'float16',\n 'D_135_min': 'float16',\n 'D_135_max': 'float16',\n 'D_135_last': 'float16',\n 'D_136_mean': 'float16',\n 'D_136_std': 'float16',\n 'D_136_min': 'float16',\n 'D_136_max': 'float16',\n 'D_136_last': 'float16',\n 'D_137_mean': 'float16',\n 'D_137_std': 'float16',\n 'D_137_min': 'float16',\n 'D_137_max': 'float16',\n 'D_137_last': 'float16',\n 'D_138_mean': 'float16',\n 'D_138_std': 'float16',\n 'D_138_min': 'float16',\n 'D_138_max': 'float16',\n 'D_138_last': 'float16',\n 'D_139_mean': 'float16',\n 'D_139_std': 'float16',\n 'D_139_min': 'float16',\n 'D_139_max': 'float16',\n 'D_139_last': 'float16',\n 'D_140_mean': 'float16',\n 'D_140_std': 'float16',\n 'D_140_min': 'float16',\n 'D_140_max': 'float16',\n 'D_140_last': 'float16',\n 'D_141_mean': 'float16',\n 'D_141_std': 'float16',\n 'D_141_min': 'float16',\n 'D_141_max': 'float16',\n 'D_141_last': 'float16',\n 'D_142_mean': 'float16',\n 'D_142_std': 'float16',\n 'D_142_min': 'float16',\n 'D_142_max': 'float16',\n 'D_142_last': 'float16',\n 'D_143_mean': 'float16',\n 'D_143_std': 'float16',\n 'D_143_min': 'float16',\n 'D_143_max': 'float16',\n 'D_143_last': 'float16',\n 'D_144_mean': 'float16',\n 'D_144_std': 'float16',\n 'D_144_min': 'float16',\n 'D_144_max': 'float16',\n 'D_144_last': 'float16',\n 'D_145_mean': 'float16',\n 'D_145_std': 'float16',\n 'D_145_min': 'float16',\n 'D_145_max': 'float16',\n 'D_145_last': 'float16',\n 'B_30_count': 'int16',\n 'B_30_last': 'float16',\n 'B_30_nunique': 'int16',\n 'B_38_count': 'int16',\n 'B_38_last': 'float16',\n 'B_38_nunique': 'int16',\n 'D_114_count': 'int16',\n 'D_114_last': 'float16',\n 'D_114_nunique': 'int16',\n 'D_116_count': 'int16',\n 'D_116_last': 'float16',\n 'D_116_nunique': 'int16',\n 'D_117_count': 'int16',\n 'D_117_last': 'float16',\n 'D_117_nunique': 'int16',\n 'D_120_count': 'int16',\n 'D_120_last': 'float16',\n 'D_120_nunique': 'int16',\n 'D_126_count': 'int16',\n 'D_126_last': 'float16',\n 'D_126_nunique': 'int16',\n 'D_63_count': 'int16',\n 'D_63_last': 'object',\n 'D_63_nunique': 'int16',\n 'D_64_count': 'int16',\n 'D_64_last': 'object',\n 'D_64_nunique': 'int16',\n 'D_66_count': 'int16',\n 'D_66_last': 'float16',\n 'D_66_nunique': 'int16',\n 'D_68_count': 'int16',\n 'D_68_last': 'float16',\n 'D_68_nunique': 'int16'}"
     },
     "execution_count": 4,
     "metadata": {},
     "output_type": "execute_result"
    }
   ],
   "source": [
    "dtype_dict = dict(zip(dt.keys().tolist(), list(map(dt_converter, dt.values.tolist()))))\n",
    "del dt\n",
    "gc.collect()\n",
    "dtype_dict"
   ],
   "metadata": {
    "collapsed": false
   }
  },
  {
   "cell_type": "markdown",
   "source": [
    "now load DataFrame again using dtype_dict to convert dtypes\n",
    "and compare memory usage"
   ],
   "metadata": {
    "collapsed": false
   }
  },
  {
   "cell_type": "code",
   "execution_count": 5,
   "outputs": [
    {
     "name": "stdout",
     "output_type": "stream",
     "text": [
      "DataFrame memory usage: 0.88 GB     File size: 3.47 GB\n"
     ]
    }
   ],
   "source": [
    "X = pd.read_csv('prep_catboost_train.csv', dtype=dtype_dict)\n",
    "print('DataFrame memory usage:', mem_usage_gb(X), 'GB    ', 'File size:', file_mem_usage_gb('prep_catboost_train.csv'), 'GB')"
   ],
   "metadata": {
    "collapsed": false
   }
  },
  {
   "cell_type": "code",
   "execution_count": null,
   "outputs": [],
   "source": [
    "y = pd.read_csv('train_labels.csv', dtype={'target': 'int8'})\n",
    "y.drop(columns=['customer_ID'], inplace=True)\n",
    "y = np.ravel(y)"
   ],
   "metadata": {
    "collapsed": false
   }
  },
  {
   "cell_type": "code",
   "execution_count": null,
   "outputs": [],
   "source": [
    "model = catboost.CatBoostRegressor(iterations=2,\n",
    "                          learning_rate=1,\n",
    "                          depth=2)"
   ],
   "metadata": {
    "collapsed": false
   }
  }
 ],
 "metadata": {
  "kernelspec": {
   "display_name": "Python 3",
   "language": "python",
   "name": "python3"
  },
  "language_info": {
   "codemirror_mode": {
    "name": "ipython",
    "version": 2
   },
   "file_extension": ".py",
   "mimetype": "text/x-python",
   "name": "python",
   "nbconvert_exporter": "python",
   "pygments_lexer": "ipython2",
   "version": "2.7.6"
  }
 },
 "nbformat": 4,
 "nbformat_minor": 0
}

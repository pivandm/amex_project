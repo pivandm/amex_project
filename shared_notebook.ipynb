{
 "cells": [
  {
   "cell_type": "code",
   "execution_count": 2,
   "metadata": {
    "collapsed": true,
    "ExecuteTime": {
     "end_time": "2023-05-30T12:53:23.977916Z",
     "start_time": "2023-05-30T12:53:23.522037Z"
    }
   },
   "outputs": [],
   "source": [
    "import pandas as pd\n",
    "import gc\n",
    "import numpy as np\n",
    "import numpy as np\n",
    "import matplotlib.pyplot as plt\n",
    "import scipy.interpolate\n",
    "import scipy.integrate"
   ]
  },
  {
   "cell_type": "code",
   "execution_count": 5,
   "outputs": [],
   "source": [
    "dtype_dict = {\n",
    "    'P_2': 'float16',\n",
    "    'D_39': 'float16',\n",
    "    'B_1': 'float16',\n",
    "    'B_2': 'float16',\n",
    "    'R_1': 'float16',\n",
    "    'S_3': 'float16',\n",
    "    'D_41': 'float16',\n",
    "    'B_3': 'float16',\n",
    "    'D_42': 'float16',\n",
    "    'D_43': 'float16',\n",
    "    'D_44': 'float16',\n",
    "    'B_4': 'float16',\n",
    "    'D_45': 'float16',\n",
    "    'B_5': 'float16',\n",
    "    'R_2': 'float16',\n",
    "    'D_46': 'float16',\n",
    "    'D_47': 'float16',\n",
    "    'D_48': 'float16',\n",
    "    'D_49': 'float16',\n",
    "    'B_6': 'float16',\n",
    "    'B_7': 'float16',\n",
    "    'B_8': 'float16',\n",
    "    'D_50': 'float16',\n",
    "    'D_51': 'float16',\n",
    "    'B_9': 'float16',\n",
    "    'R_3': 'float16',\n",
    "    'D_52': 'float16',\n",
    "    'P_3': 'float16',\n",
    "    'B_10': 'float16',\n",
    "    'D_53': 'float16',\n",
    "    'S_5': 'float16',\n",
    "    'B_11': 'float16',\n",
    "    'S_6': 'float16',\n",
    "    'D_54': 'float16',\n",
    "    'R_4': 'float16',\n",
    "    'S_7': 'float16',\n",
    "    'B_12': 'float16',\n",
    "    'S_8': 'float16',\n",
    "    'D_55': 'float16',\n",
    "    'D_56': 'float16',\n",
    "    'B_13': 'float16',\n",
    "    'R_5': 'float16',\n",
    "    'D_58': 'float16',\n",
    "    'S_9': 'float16',\n",
    "    'B_14': 'float16',\n",
    "    'D_59': 'float16',\n",
    "    'D_60': 'float16',\n",
    "    'D_61': 'float16',\n",
    "    'B_15': 'float16',\n",
    "    'S_11': 'float16',\n",
    "    'D_62': 'float16',\n",
    "    'D_63': 'object',\n",
    "    'D_64': 'object',\n",
    "    'D_65': 'float16',\n",
    "    'B_16': 'float16',\n",
    "    'B_17': 'float16',\n",
    "    'B_18': 'float16',\n",
    "    'B_19': 'float16',\n",
    "    'D_66': 'float16',\n",
    "    'B_20': 'float16',\n",
    "    'D_68': 'float16',\n",
    "    'S_12': 'float16',\n",
    "    'R_6': 'float16',\n",
    "    'S_13': 'float16',\n",
    "    'B_21': 'float16',\n",
    "    'D_69': 'float16',\n",
    "    'B_22': 'float16',\n",
    "    'D_70': 'float16',\n",
    "    'D_71': 'float16',\n",
    "    'D_72': 'float16',\n",
    "    'S_15': 'float16',\n",
    "    'B_23': 'float16',\n",
    "    'D_73': 'float16',\n",
    "    'P_4': 'float16',\n",
    "    'D_74': 'float16',\n",
    "    'D_75': 'float16',\n",
    "    'D_76': 'float16',\n",
    "    'B_24': 'float16',\n",
    "    'R_7': 'float16',\n",
    "    'D_77': 'float16',\n",
    "    'B_25': 'float16',\n",
    "    'B_26': 'float16',\n",
    "    'D_78': 'float16',\n",
    "    'D_79': 'float16',\n",
    "    'R_8': 'float16',\n",
    "    'R_9': 'float16',\n",
    "    'S_16': 'float16',\n",
    "    'D_80': 'float16',\n",
    "    'R_10': 'float16',\n",
    "    'R_11': 'float16',\n",
    "    'B_27': 'float16',\n",
    "    'D_81': 'float16',\n",
    "    'D_82': 'float16',\n",
    "    'S_17': 'float16',\n",
    "    'R_12': 'float16',\n",
    "    'B_28': 'float16',\n",
    "    'R_13': 'float16',\n",
    "    'D_83': 'float16',\n",
    "    'R_14': 'float16',\n",
    "    'R_15': 'float16',\n",
    "    'D_84': 'float16',\n",
    "    'R_16': 'float16',\n",
    "    'B_29': 'float16',\n",
    "    'B_30': 'float16',\n",
    "    'S_18': 'float16',\n",
    "    'D_86': 'float16',\n",
    "    'D_87': 'float16',\n",
    "    'R_17': 'float16',\n",
    "    'R_18': 'float16',\n",
    "    'D_88': 'float16',\n",
    "    'B_31': 'int64',\n",
    "    'S_19': 'float16',\n",
    "    'R_19': 'float16',\n",
    "    'B_32': 'float16',\n",
    "    'S_20': 'float16',\n",
    "    'R_20': 'float16',\n",
    "    'R_21': 'float16',\n",
    "    'B_33': 'float16',\n",
    "    'D_89': 'float16',\n",
    "    'R_22': 'float16',\n",
    "    'R_23': 'float16',\n",
    "    'D_91': 'float16',\n",
    "    'D_92': 'float16',\n",
    "    'D_93': 'float16',\n",
    "    'D_94': 'float16',\n",
    "    'R_24': 'float16',\n",
    "    'R_25': 'float16',\n",
    "    'D_96': 'float16',\n",
    "    'S_22': 'float16',\n",
    "    'S_23': 'float16',\n",
    "    'S_24': 'float16',\n",
    "    'S_25': 'float16',\n",
    "    'S_26': 'float16',\n",
    "    'D_102': 'float16',\n",
    "    'D_103': 'float16',\n",
    "    'D_104': 'float16',\n",
    "    'D_105': 'float16',\n",
    "    'D_106': 'float16',\n",
    "    'D_107': 'float16',\n",
    "    'B_36': 'float16',\n",
    "    'B_37': 'float16',\n",
    "    'R_26': 'float16',\n",
    "    'R_27': 'float16',\n",
    "    'B_38': 'float16',\n",
    "    'D_108': 'float16',\n",
    "    'D_109': 'float16',\n",
    "    'D_110': 'float16',\n",
    "    'D_111': 'float16',\n",
    "    'B_39': 'float16',\n",
    "    'D_112': 'float16',\n",
    "    'B_40': 'float16',\n",
    "    'S_27': 'float16',\n",
    "    'D_113': 'float16',\n",
    "    'D_114': 'float16',\n",
    "    'D_115': 'float16',\n",
    "    'D_116': 'float16',\n",
    "    'D_117': 'float16',\n",
    "    'D_118': 'float16',\n",
    "    'D_119': 'float16',\n",
    "    'D_120': 'float16',\n",
    "    'D_121': 'float16',\n",
    "    'D_122': 'float16',\n",
    "    'D_123': 'float16',\n",
    "    'D_124': 'float16',\n",
    "    'D_125': 'float16',\n",
    "    'D_126': 'float16',\n",
    "    'D_127': 'float16',\n",
    "    'D_128': 'float16',\n",
    "    'D_129': 'float16',\n",
    "    'B_41': 'float16',\n",
    "    'B_42': 'float16',\n",
    "    'D_130': 'float16',\n",
    "    'D_131': 'float16',\n",
    "    'D_132': 'float16',\n",
    "    'D_133': 'float16',\n",
    "    'R_28': 'float16',\n",
    "    'D_134': 'float16',\n",
    "    'D_135': 'float16',\n",
    "    'D_136': 'float16',\n",
    "    'D_137': 'float16',\n",
    "    'D_138': 'float16',\n",
    "    'D_139': 'float16',\n",
    "    'D_140': 'float16',\n",
    "    'D_141': 'float16',\n",
    "    'D_142': 'float16',\n",
    "    'D_143': 'float16',\n",
    "    'D_144': 'float16',\n",
    "    'D_145': 'float16'}"
   ],
   "metadata": {
    "collapsed": false,
    "ExecuteTime": {
     "end_time": "2023-05-30T12:55:18.731135Z",
     "start_time": "2023-05-30T12:55:18.663509Z"
    }
   }
  },
  {
   "cell_type": "code",
   "execution_count": 2,
   "outputs": [],
   "source": [],
   "metadata": {
    "collapsed": false,
    "ExecuteTime": {
     "end_time": "2023-05-29T14:54:11.173298Z",
     "start_time": "2023-05-29T14:54:11.165774Z"
    }
   }
  },
  {
   "cell_type": "code",
   "execution_count": 6,
   "outputs": [
    {
     "data": {
      "text/plain": "                                         customer_ID         S_2       P_2  \\\n0  0000099d6bd597052cdcda90ffabf56573fe9d7c79be5f...  2017-03-09  0.938477   \n1  0000099d6bd597052cdcda90ffabf56573fe9d7c79be5f...  2017-04-07  0.936523   \n2  0000099d6bd597052cdcda90ffabf56573fe9d7c79be5f...  2017-05-28  0.954102   \n3  0000099d6bd597052cdcda90ffabf56573fe9d7c79be5f...  2017-06-13  0.960449   \n4  0000099d6bd597052cdcda90ffabf56573fe9d7c79be5f...  2017-07-16  0.947266   \n\n       D_39       B_1       B_2       R_1       S_3      D_41       B_3  ...  \\\n0  0.001734  0.008728  1.006836  0.009224  0.124023  0.008774  0.004707  ...   \n1  0.005775  0.004925  1.000977  0.006153  0.126709  0.000798  0.002714  ...   \n2  0.091492  0.021652  1.009766  0.006817  0.123962  0.007599  0.009422  ...   \n3  0.002455  0.013687  1.002930  0.001372  0.117188  0.000685  0.005531  ...   \n4  0.002483  0.015190  1.000977  0.007607  0.117310  0.004654  0.009308  ...   \n\n   D_136  D_137  D_138     D_139     D_140     D_141  D_142     D_143  \\\n0    NaN    NaN    NaN  0.002426  0.003706  0.003819    NaN  0.000569   \n1    NaN    NaN    NaN  0.003956  0.003166  0.005032    NaN  0.009575   \n2    NaN    NaN    NaN  0.003269  0.007328  0.000427    NaN  0.003429   \n3    NaN    NaN    NaN  0.006119  0.004517  0.003201    NaN  0.008423   \n4    NaN    NaN    NaN  0.003672  0.004944  0.008888    NaN  0.001670   \n\n      D_144     D_145  \n0  0.000610  0.002674  \n1  0.005493  0.009216  \n2  0.006985  0.002604  \n3  0.006527  0.009598  \n4  0.008125  0.009827  \n\n[5 rows x 190 columns]",
      "text/html": "<div>\n<style scoped>\n    .dataframe tbody tr th:only-of-type {\n        vertical-align: middle;\n    }\n\n    .dataframe tbody tr th {\n        vertical-align: top;\n    }\n\n    .dataframe thead th {\n        text-align: right;\n    }\n</style>\n<table border=\"1\" class=\"dataframe\">\n  <thead>\n    <tr style=\"text-align: right;\">\n      <th></th>\n      <th>customer_ID</th>\n      <th>S_2</th>\n      <th>P_2</th>\n      <th>D_39</th>\n      <th>B_1</th>\n      <th>B_2</th>\n      <th>R_1</th>\n      <th>S_3</th>\n      <th>D_41</th>\n      <th>B_3</th>\n      <th>...</th>\n      <th>D_136</th>\n      <th>D_137</th>\n      <th>D_138</th>\n      <th>D_139</th>\n      <th>D_140</th>\n      <th>D_141</th>\n      <th>D_142</th>\n      <th>D_143</th>\n      <th>D_144</th>\n      <th>D_145</th>\n    </tr>\n  </thead>\n  <tbody>\n    <tr>\n      <th>0</th>\n      <td>0000099d6bd597052cdcda90ffabf56573fe9d7c79be5f...</td>\n      <td>2017-03-09</td>\n      <td>0.938477</td>\n      <td>0.001734</td>\n      <td>0.008728</td>\n      <td>1.006836</td>\n      <td>0.009224</td>\n      <td>0.124023</td>\n      <td>0.008774</td>\n      <td>0.004707</td>\n      <td>...</td>\n      <td>NaN</td>\n      <td>NaN</td>\n      <td>NaN</td>\n      <td>0.002426</td>\n      <td>0.003706</td>\n      <td>0.003819</td>\n      <td>NaN</td>\n      <td>0.000569</td>\n      <td>0.000610</td>\n      <td>0.002674</td>\n    </tr>\n    <tr>\n      <th>1</th>\n      <td>0000099d6bd597052cdcda90ffabf56573fe9d7c79be5f...</td>\n      <td>2017-04-07</td>\n      <td>0.936523</td>\n      <td>0.005775</td>\n      <td>0.004925</td>\n      <td>1.000977</td>\n      <td>0.006153</td>\n      <td>0.126709</td>\n      <td>0.000798</td>\n      <td>0.002714</td>\n      <td>...</td>\n      <td>NaN</td>\n      <td>NaN</td>\n      <td>NaN</td>\n      <td>0.003956</td>\n      <td>0.003166</td>\n      <td>0.005032</td>\n      <td>NaN</td>\n      <td>0.009575</td>\n      <td>0.005493</td>\n      <td>0.009216</td>\n    </tr>\n    <tr>\n      <th>2</th>\n      <td>0000099d6bd597052cdcda90ffabf56573fe9d7c79be5f...</td>\n      <td>2017-05-28</td>\n      <td>0.954102</td>\n      <td>0.091492</td>\n      <td>0.021652</td>\n      <td>1.009766</td>\n      <td>0.006817</td>\n      <td>0.123962</td>\n      <td>0.007599</td>\n      <td>0.009422</td>\n      <td>...</td>\n      <td>NaN</td>\n      <td>NaN</td>\n      <td>NaN</td>\n      <td>0.003269</td>\n      <td>0.007328</td>\n      <td>0.000427</td>\n      <td>NaN</td>\n      <td>0.003429</td>\n      <td>0.006985</td>\n      <td>0.002604</td>\n    </tr>\n    <tr>\n      <th>3</th>\n      <td>0000099d6bd597052cdcda90ffabf56573fe9d7c79be5f...</td>\n      <td>2017-06-13</td>\n      <td>0.960449</td>\n      <td>0.002455</td>\n      <td>0.013687</td>\n      <td>1.002930</td>\n      <td>0.001372</td>\n      <td>0.117188</td>\n      <td>0.000685</td>\n      <td>0.005531</td>\n      <td>...</td>\n      <td>NaN</td>\n      <td>NaN</td>\n      <td>NaN</td>\n      <td>0.006119</td>\n      <td>0.004517</td>\n      <td>0.003201</td>\n      <td>NaN</td>\n      <td>0.008423</td>\n      <td>0.006527</td>\n      <td>0.009598</td>\n    </tr>\n    <tr>\n      <th>4</th>\n      <td>0000099d6bd597052cdcda90ffabf56573fe9d7c79be5f...</td>\n      <td>2017-07-16</td>\n      <td>0.947266</td>\n      <td>0.002483</td>\n      <td>0.015190</td>\n      <td>1.000977</td>\n      <td>0.007607</td>\n      <td>0.117310</td>\n      <td>0.004654</td>\n      <td>0.009308</td>\n      <td>...</td>\n      <td>NaN</td>\n      <td>NaN</td>\n      <td>NaN</td>\n      <td>0.003672</td>\n      <td>0.004944</td>\n      <td>0.008888</td>\n      <td>NaN</td>\n      <td>0.001670</td>\n      <td>0.008125</td>\n      <td>0.009827</td>\n    </tr>\n  </tbody>\n</table>\n<p>5 rows × 190 columns</p>\n</div>"
     },
     "execution_count": 6,
     "metadata": {},
     "output_type": "execute_result"
    }
   ],
   "source": [
    "data = pd.read_csv('train_data.csv', dtype = dtype_dict)\n",
    "data.head()\n"
   ],
   "metadata": {
    "collapsed": false,
    "ExecuteTime": {
     "end_time": "2023-05-30T12:56:34.143365Z",
     "start_time": "2023-05-30T12:55:21.535130Z"
    }
   }
  },
  {
   "cell_type": "code",
   "execution_count": 7,
   "outputs": [
    {
     "name": "stdout",
     "output_type": "stream",
     "text": [
      "<class 'pandas.core.frame.DataFrame'>\n",
      "RangeIndex: 5531451 entries, 0 to 5531450\n",
      "Columns: 190 entries, customer_ID to D_145\n",
      "dtypes: float16(185), int64(1), object(4)\n",
      "memory usage: 3.5 GB\n"
     ]
    }
   ],
   "source": [
    "data.info(memory_usage = \"deep\")"
   ],
   "metadata": {
    "collapsed": false,
    "ExecuteTime": {
     "end_time": "2023-05-30T12:57:03.109063Z",
     "start_time": "2023-05-30T12:57:03.105398Z"
    }
   }
  },
  {
   "cell_type": "code",
   "execution_count": 1,
   "outputs": [
    {
     "ename": "NameError",
     "evalue": "name 'pd' is not defined",
     "output_type": "error",
     "traceback": [
      "\u001B[0;31m---------------------------------------------------------------------------\u001B[0m",
      "\u001B[0;31mNameError\u001B[0m                                 Traceback (most recent call last)",
      "Cell \u001B[0;32mIn[1], line 1\u001B[0m\n\u001B[0;32m----> 1\u001B[0m data \u001B[38;5;241m=\u001B[39m \u001B[43mpd\u001B[49m\u001B[38;5;241m.\u001B[39mread_csv(\u001B[38;5;124m'\u001B[39m\u001B[38;5;124mtrain_data.csv\u001B[39m\u001B[38;5;124m'\u001B[39m, dtype\u001B[38;5;241m=\u001B[39mdtype_dict)\n\u001B[1;32m      2\u001B[0m cat_features \u001B[38;5;241m=\u001B[39m [\n\u001B[1;32m      3\u001B[0m         \u001B[38;5;124m\"\u001B[39m\u001B[38;5;124mB_30\u001B[39m\u001B[38;5;124m\"\u001B[39m,\n\u001B[1;32m      4\u001B[0m         \u001B[38;5;124m\"\u001B[39m\u001B[38;5;124mB_38\u001B[39m\u001B[38;5;124m\"\u001B[39m,\n\u001B[0;32m   (...)\u001B[0m\n\u001B[1;32m     13\u001B[0m         \u001B[38;5;124m\"\u001B[39m\u001B[38;5;124mD_68\u001B[39m\u001B[38;5;124m\"\u001B[39m,\n\u001B[1;32m     14\u001B[0m ]\n\u001B[1;32m     16\u001B[0m features \u001B[38;5;241m=\u001B[39m train_data\u001B[38;5;241m.\u001B[39mdrop([\u001B[38;5;124m\"\u001B[39m\u001B[38;5;124mcustomer_ID\u001B[39m\u001B[38;5;124m\"\u001B[39m, \u001B[38;5;124m\"\u001B[39m\u001B[38;5;124mS_2\u001B[39m\u001B[38;5;124m\"\u001B[39m], axis \u001B[38;5;241m=\u001B[39m \u001B[38;5;241m1\u001B[39m)\u001B[38;5;241m.\u001B[39mcolumns\u001B[38;5;241m.\u001B[39mto_list()\n",
      "\u001B[0;31mNameError\u001B[0m: name 'pd' is not defined"
     ]
    }
   ],
   "source": [
    "train_data = pd.read_csv('train_data.csv', dtype=dtype_dict)\n",
    "cat_features = [\n",
    "        \"B_30\",\n",
    "        \"B_38\",\n",
    "        \"D_114\",\n",
    "        \"D_116\",\n",
    "        \"D_117\",\n",
    "        \"D_120\",\n",
    "        \"D_126\",\n",
    "        \"D_63\",\n",
    "        \"D_64\",\n",
    "        \"D_66\",\n",
    "        \"D_68\",\n",
    "]\n",
    "\n",
    "features = train_data.drop([\"customer_ID\", \"S_2\"], axis = 1).columns.to_list()\n",
    "num_features = [col for col in features if col not in cat_features]\n",
    "\n",
    "data_num_agg = train_data.groupby(\"customer_ID\")[num_features].agg(['mean', 'std', 'min', 'max', 'last',])\n",
    "data_num_agg.columns = ['_'.join(x) for x in data_num_agg.columns]\n",
    "data_num_agg.reset_index(inplace=True)\n",
    "data_num_agg.head(10)\n",
    "df_cat_agg = df.groupby(\"customer_ID\")[cat_features].agg([\"count\", \"first\", \"last\", \"nunique\"])\n",
    "df_cat_agg.columns = [\"_\".join(x) for x in df_cat_agg.columns]\n",
    "df_cat_agg.reset_index(inplace = True)\n",
    "\n"
   ],
   "metadata": {
    "collapsed": false,
    "ExecuteTime": {
     "end_time": "2023-05-31T15:57:31.274980Z",
     "start_time": "2023-05-31T15:57:31.080777Z"
    }
   }
  },
  {
   "cell_type": "code",
   "execution_count": 30,
   "outputs": [],
   "source": [],
   "metadata": {
    "collapsed": false,
    "ExecuteTime": {
     "end_time": "2023-05-30T16:06:41.905222Z",
     "start_time": "2023-05-30T16:06:41.877058Z"
    }
   }
  },
  {
   "cell_type": "code",
   "execution_count": 19,
   "outputs": [],
   "source": [],
   "metadata": {
    "collapsed": false,
    "ExecuteTime": {
     "end_time": "2023-05-30T13:18:17.824497Z",
     "start_time": "2023-05-30T13:18:17.820515Z"
    }
   }
  },
  {
   "cell_type": "code",
   "execution_count": 16,
   "outputs": [],
   "source": [],
   "metadata": {
    "collapsed": false,
    "ExecuteTime": {
     "end_time": "2023-05-30T13:09:28.739491Z",
     "start_time": "2023-05-30T13:09:28.661213Z"
    }
   }
  },
  {
   "cell_type": "code",
   "execution_count": null,
   "outputs": [],
   "source": [],
   "metadata": {
    "collapsed": false
   }
  }
 ],
 "metadata": {
  "kernelspec": {
   "display_name": "Python 3",
   "language": "python",
   "name": "python3"
  },
  "language_info": {
   "codemirror_mode": {
    "name": "ipython",
    "version": 2
   },
   "file_extension": ".py",
   "mimetype": "text/x-python",
   "name": "python",
   "nbconvert_exporter": "python",
   "pygments_lexer": "ipython2",
   "version": "2.7.6"
  }
 },
 "nbformat": 4,
 "nbformat_minor": 0
}

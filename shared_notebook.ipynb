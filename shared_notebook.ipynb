{
 "cells": [
  {
   "cell_type": "code",
   "execution_count": 2,
   "metadata": {
    "collapsed": true,
    "ExecuteTime": {
     "end_time": "2023-05-30T12:53:23.977916Z",
     "start_time": "2023-05-30T12:53:23.522037Z"
    }
   },
   "outputs": [],
   "source": [
    "import pandas as pd\n",
    "import gc\n",
    "import numpy as np\n",
    "import numpy as np\n",
    "import matplotlib.pyplot as plt\n",
    "import scipy.interpolate\n",
    "import scipy.integrate"
   ]
  },
  {
   "cell_type": "code",
   "execution_count": 5,
   "outputs": [],
   "source": [
    "dtype_dict = {\n",
    "    'P_2': 'float16',\n",
    "    'D_39': 'float16',\n",
    "    'B_1': 'float16',\n",
    "    'B_2': 'float16',\n",
    "    'R_1': 'float16',\n",
    "    'S_3': 'float16',\n",
    "    'D_41': 'float16',\n",
    "    'B_3': 'float16',\n",
    "    'D_42': 'float16',\n",
    "    'D_43': 'float16',\n",
    "    'D_44': 'float16',\n",
    "    'B_4': 'float16',\n",
    "    'D_45': 'float16',\n",
    "    'B_5': 'float16',\n",
    "    'R_2': 'float16',\n",
    "    'D_46': 'float16',\n",
    "    'D_47': 'float16',\n",
    "    'D_48': 'float16',\n",
    "    'D_49': 'float16',\n",
    "    'B_6': 'float16',\n",
    "    'B_7': 'float16',\n",
    "    'B_8': 'float16',\n",
    "    'D_50': 'float16',\n",
    "    'D_51': 'float16',\n",
    "    'B_9': 'float16',\n",
    "    'R_3': 'float16',\n",
    "    'D_52': 'float16',\n",
    "    'P_3': 'float16',\n",
    "    'B_10': 'float16',\n",
    "    'D_53': 'float16',\n",
    "    'S_5': 'float16',\n",
    "    'B_11': 'float16',\n",
    "    'S_6': 'float16',\n",
    "    'D_54': 'float16',\n",
    "    'R_4': 'float16',\n",
    "    'S_7': 'float16',\n",
    "    'B_12': 'float16',\n",
    "    'S_8': 'float16',\n",
    "    'D_55': 'float16',\n",
    "    'D_56': 'float16',\n",
    "    'B_13': 'float16',\n",
    "    'R_5': 'float16',\n",
    "    'D_58': 'float16',\n",
    "    'S_9': 'float16',\n",
    "    'B_14': 'float16',\n",
    "    'D_59': 'float16',\n",
    "    'D_60': 'float16',\n",
    "    'D_61': 'float16',\n",
    "    'B_15': 'float16',\n",
    "    'S_11': 'float16',\n",
    "    'D_62': 'float16',\n",
    "    'D_63': 'object',\n",
    "    'D_64': 'object',\n",
    "    'D_65': 'float16',\n",
    "    'B_16': 'float16',\n",
    "    'B_17': 'float16',\n",
    "    'B_18': 'float16',\n",
    "    'B_19': 'float16',\n",
    "    'D_66': 'float16',\n",
    "    'B_20': 'float16',\n",
    "    'D_68': 'float16',\n",
    "    'S_12': 'float16',\n",
    "    'R_6': 'float16',\n",
    "    'S_13': 'float16',\n",
    "    'B_21': 'float16',\n",
    "    'D_69': 'float16',\n",
    "    'B_22': 'float16',\n",
    "    'D_70': 'float16',\n",
    "    'D_71': 'float16',\n",
    "    'D_72': 'float16',\n",
    "    'S_15': 'float16',\n",
    "    'B_23': 'float16',\n",
    "    'D_73': 'float16',\n",
    "    'P_4': 'float16',\n",
    "    'D_74': 'float16',\n",
    "    'D_75': 'float16',\n",
    "    'D_76': 'float16',\n",
    "    'B_24': 'float16',\n",
    "    'R_7': 'float16',\n",
    "    'D_77': 'float16',\n",
    "    'B_25': 'float16',\n",
    "    'B_26': 'float16',\n",
    "    'D_78': 'float16',\n",
    "    'D_79': 'float16',\n",
    "    'R_8': 'float16',\n",
    "    'R_9': 'float16',\n",
    "    'S_16': 'float16',\n",
    "    'D_80': 'float16',\n",
    "    'R_10': 'float16',\n",
    "    'R_11': 'float16',\n",
    "    'B_27': 'float16',\n",
    "    'D_81': 'float16',\n",
    "    'D_82': 'float16',\n",
    "    'S_17': 'float16',\n",
    "    'R_12': 'float16',\n",
    "    'B_28': 'float16',\n",
    "    'R_13': 'float16',\n",
    "    'D_83': 'float16',\n",
    "    'R_14': 'float16',\n",
    "    'R_15': 'float16',\n",
    "    'D_84': 'float16',\n",
    "    'R_16': 'float16',\n",
    "    'B_29': 'float16',\n",
    "    'B_30': 'float16',\n",
    "    'S_18': 'float16',\n",
    "    'D_86': 'float16',\n",
    "    'D_87': 'float16',\n",
    "    'R_17': 'float16',\n",
    "    'R_18': 'float16',\n",
    "    'D_88': 'float16',\n",
    "    'B_31': 'int64',\n",
    "    'S_19': 'float16',\n",
    "    'R_19': 'float16',\n",
    "    'B_32': 'float16',\n",
    "    'S_20': 'float16',\n",
    "    'R_20': 'float16',\n",
    "    'R_21': 'float16',\n",
    "    'B_33': 'float16',\n",
    "    'D_89': 'float16',\n",
    "    'R_22': 'float16',\n",
    "    'R_23': 'float16',\n",
    "    'D_91': 'float16',\n",
    "    'D_92': 'float16',\n",
    "    'D_93': 'float16',\n",
    "    'D_94': 'float16',\n",
    "    'R_24': 'float16',\n",
    "    'R_25': 'float16',\n",
    "    'D_96': 'float16',\n",
    "    'S_22': 'float16',\n",
    "    'S_23': 'float16',\n",
    "    'S_24': 'float16',\n",
    "    'S_25': 'float16',\n",
    "    'S_26': 'float16',\n",
    "    'D_102': 'float16',\n",
    "    'D_103': 'float16',\n",
    "    'D_104': 'float16',\n",
    "    'D_105': 'float16',\n",
    "    'D_106': 'float16',\n",
    "    'D_107': 'float16',\n",
    "    'B_36': 'float16',\n",
    "    'B_37': 'float16',\n",
    "    'R_26': 'float16',\n",
    "    'R_27': 'float16',\n",
    "    'B_38': 'float16',\n",
    "    'D_108': 'float16',\n",
    "    'D_109': 'float16',\n",
    "    'D_110': 'float16',\n",
    "    'D_111': 'float16',\n",
    "    'B_39': 'float16',\n",
    "    'D_112': 'float16',\n",
    "    'B_40': 'float16',\n",
    "    'S_27': 'float16',\n",
    "    'D_113': 'float16',\n",
    "    'D_114': 'float16',\n",
    "    'D_115': 'float16',\n",
    "    'D_116': 'float16',\n",
    "    'D_117': 'float16',\n",
    "    'D_118': 'float16',\n",
    "    'D_119': 'float16',\n",
    "    'D_120': 'float16',\n",
    "    'D_121': 'float16',\n",
    "    'D_122': 'float16',\n",
    "    'D_123': 'float16',\n",
    "    'D_124': 'float16',\n",
    "    'D_125': 'float16',\n",
    "    'D_126': 'float16',\n",
    "    'D_127': 'float16',\n",
    "    'D_128': 'float16',\n",
    "    'D_129': 'float16',\n",
    "    'B_41': 'float16',\n",
    "    'B_42': 'float16',\n",
    "    'D_130': 'float16',\n",
    "    'D_131': 'float16',\n",
    "    'D_132': 'float16',\n",
    "    'D_133': 'float16',\n",
    "    'R_28': 'float16',\n",
    "    'D_134': 'float16',\n",
    "    'D_135': 'float16',\n",
    "    'D_136': 'float16',\n",
    "    'D_137': 'float16',\n",
    "    'D_138': 'float16',\n",
    "    'D_139': 'float16',\n",
    "    'D_140': 'float16',\n",
    "    'D_141': 'float16',\n",
    "    'D_142': 'float16',\n",
    "    'D_143': 'float16',\n",
    "    'D_144': 'float16',\n",
    "    'D_145': 'float16'}"
   ],
   "metadata": {
    "collapsed": false,
    "ExecuteTime": {
     "end_time": "2023-05-30T12:55:18.731135Z",
     "start_time": "2023-05-30T12:55:18.663509Z"
    }
   }
  },
  {
   "cell_type": "code",
   "execution_count": 2,
   "outputs": [],
   "source": [],
   "metadata": {
    "collapsed": false,
    "ExecuteTime": {
     "end_time": "2023-05-29T14:54:11.173298Z",
     "start_time": "2023-05-29T14:54:11.165774Z"
    }
   }
  },
  {
   "cell_type": "code",
   "execution_count": 6,
   "outputs": [
    {
     "data": {
      "text/plain": "                                         customer_ID         S_2       P_2  \\\n0  0000099d6bd597052cdcda90ffabf56573fe9d7c79be5f...  2017-03-09  0.938477   \n1  0000099d6bd597052cdcda90ffabf56573fe9d7c79be5f...  2017-04-07  0.936523   \n2  0000099d6bd597052cdcda90ffabf56573fe9d7c79be5f...  2017-05-28  0.954102   \n3  0000099d6bd597052cdcda90ffabf56573fe9d7c79be5f...  2017-06-13  0.960449   \n4  0000099d6bd597052cdcda90ffabf56573fe9d7c79be5f...  2017-07-16  0.947266   \n\n       D_39       B_1       B_2       R_1       S_3      D_41       B_3  ...  \\\n0  0.001734  0.008728  1.006836  0.009224  0.124023  0.008774  0.004707  ...   \n1  0.005775  0.004925  1.000977  0.006153  0.126709  0.000798  0.002714  ...   \n2  0.091492  0.021652  1.009766  0.006817  0.123962  0.007599  0.009422  ...   \n3  0.002455  0.013687  1.002930  0.001372  0.117188  0.000685  0.005531  ...   \n4  0.002483  0.015190  1.000977  0.007607  0.117310  0.004654  0.009308  ...   \n\n   D_136  D_137  D_138     D_139     D_140     D_141  D_142     D_143  \\\n0    NaN    NaN    NaN  0.002426  0.003706  0.003819    NaN  0.000569   \n1    NaN    NaN    NaN  0.003956  0.003166  0.005032    NaN  0.009575   \n2    NaN    NaN    NaN  0.003269  0.007328  0.000427    NaN  0.003429   \n3    NaN    NaN    NaN  0.006119  0.004517  0.003201    NaN  0.008423   \n4    NaN    NaN    NaN  0.003672  0.004944  0.008888    NaN  0.001670   \n\n      D_144     D_145  \n0  0.000610  0.002674  \n1  0.005493  0.009216  \n2  0.006985  0.002604  \n3  0.006527  0.009598  \n4  0.008125  0.009827  \n\n[5 rows x 190 columns]",
      "text/html": "<div>\n<style scoped>\n    .dataframe tbody tr th:only-of-type {\n        vertical-align: middle;\n    }\n\n    .dataframe tbody tr th {\n        vertical-align: top;\n    }\n\n    .dataframe thead th {\n        text-align: right;\n    }\n</style>\n<table border=\"1\" class=\"dataframe\">\n  <thead>\n    <tr style=\"text-align: right;\">\n      <th></th>\n      <th>customer_ID</th>\n      <th>S_2</th>\n      <th>P_2</th>\n      <th>D_39</th>\n      <th>B_1</th>\n      <th>B_2</th>\n      <th>R_1</th>\n      <th>S_3</th>\n      <th>D_41</th>\n      <th>B_3</th>\n      <th>...</th>\n      <th>D_136</th>\n      <th>D_137</th>\n      <th>D_138</th>\n      <th>D_139</th>\n      <th>D_140</th>\n      <th>D_141</th>\n      <th>D_142</th>\n      <th>D_143</th>\n      <th>D_144</th>\n      <th>D_145</th>\n    </tr>\n  </thead>\n  <tbody>\n    <tr>\n      <th>0</th>\n      <td>0000099d6bd597052cdcda90ffabf56573fe9d7c79be5f...</td>\n      <td>2017-03-09</td>\n      <td>0.938477</td>\n      <td>0.001734</td>\n      <td>0.008728</td>\n      <td>1.006836</td>\n      <td>0.009224</td>\n      <td>0.124023</td>\n      <td>0.008774</td>\n      <td>0.004707</td>\n      <td>...</td>\n      <td>NaN</td>\n      <td>NaN</td>\n      <td>NaN</td>\n      <td>0.002426</td>\n      <td>0.003706</td>\n      <td>0.003819</td>\n      <td>NaN</td>\n      <td>0.000569</td>\n      <td>0.000610</td>\n      <td>0.002674</td>\n    </tr>\n    <tr>\n      <th>1</th>\n      <td>0000099d6bd597052cdcda90ffabf56573fe9d7c79be5f...</td>\n      <td>2017-04-07</td>\n      <td>0.936523</td>\n      <td>0.005775</td>\n      <td>0.004925</td>\n      <td>1.000977</td>\n      <td>0.006153</td>\n      <td>0.126709</td>\n      <td>0.000798</td>\n      <td>0.002714</td>\n      <td>...</td>\n      <td>NaN</td>\n      <td>NaN</td>\n      <td>NaN</td>\n      <td>0.003956</td>\n      <td>0.003166</td>\n      <td>0.005032</td>\n      <td>NaN</td>\n      <td>0.009575</td>\n      <td>0.005493</td>\n      <td>0.009216</td>\n    </tr>\n    <tr>\n      <th>2</th>\n      <td>0000099d6bd597052cdcda90ffabf56573fe9d7c79be5f...</td>\n      <td>2017-05-28</td>\n      <td>0.954102</td>\n      <td>0.091492</td>\n      <td>0.021652</td>\n      <td>1.009766</td>\n      <td>0.006817</td>\n      <td>0.123962</td>\n      <td>0.007599</td>\n      <td>0.009422</td>\n      <td>...</td>\n      <td>NaN</td>\n      <td>NaN</td>\n      <td>NaN</td>\n      <td>0.003269</td>\n      <td>0.007328</td>\n      <td>0.000427</td>\n      <td>NaN</td>\n      <td>0.003429</td>\n      <td>0.006985</td>\n      <td>0.002604</td>\n    </tr>\n    <tr>\n      <th>3</th>\n      <td>0000099d6bd597052cdcda90ffabf56573fe9d7c79be5f...</td>\n      <td>2017-06-13</td>\n      <td>0.960449</td>\n      <td>0.002455</td>\n      <td>0.013687</td>\n      <td>1.002930</td>\n      <td>0.001372</td>\n      <td>0.117188</td>\n      <td>0.000685</td>\n      <td>0.005531</td>\n      <td>...</td>\n      <td>NaN</td>\n      <td>NaN</td>\n      <td>NaN</td>\n      <td>0.006119</td>\n      <td>0.004517</td>\n      <td>0.003201</td>\n      <td>NaN</td>\n      <td>0.008423</td>\n      <td>0.006527</td>\n      <td>0.009598</td>\n    </tr>\n    <tr>\n      <th>4</th>\n      <td>0000099d6bd597052cdcda90ffabf56573fe9d7c79be5f...</td>\n      <td>2017-07-16</td>\n      <td>0.947266</td>\n      <td>0.002483</td>\n      <td>0.015190</td>\n      <td>1.000977</td>\n      <td>0.007607</td>\n      <td>0.117310</td>\n      <td>0.004654</td>\n      <td>0.009308</td>\n      <td>...</td>\n      <td>NaN</td>\n      <td>NaN</td>\n      <td>NaN</td>\n      <td>0.003672</td>\n      <td>0.004944</td>\n      <td>0.008888</td>\n      <td>NaN</td>\n      <td>0.001670</td>\n      <td>0.008125</td>\n      <td>0.009827</td>\n    </tr>\n  </tbody>\n</table>\n<p>5 rows × 190 columns</p>\n</div>"
     },
     "execution_count": 6,
     "metadata": {},
     "output_type": "execute_result"
    }
   ],
   "source": [
    "data = pd.read_csv('train_data.csv', dtype = dtype_dict)\n",
    "data.head()\n"
   ],
   "metadata": {
    "collapsed": false,
    "ExecuteTime": {
     "end_time": "2023-05-30T12:56:34.143365Z",
     "start_time": "2023-05-30T12:55:21.535130Z"
    }
   }
  },
  {
   "cell_type": "code",
   "execution_count": 7,
   "outputs": [
    {
     "name": "stdout",
     "output_type": "stream",
     "text": [
      "<class 'pandas.core.frame.DataFrame'>\n",
      "RangeIndex: 5531451 entries, 0 to 5531450\n",
      "Columns: 190 entries, customer_ID to D_145\n",
      "dtypes: float16(185), int64(1), object(4)\n",
      "memory usage: 3.5 GB\n"
     ]
    }
   ],
   "source": [
    "data.info(memory_usage = \"deep\")"
   ],
   "metadata": {
    "collapsed": false,
    "ExecuteTime": {
     "end_time": "2023-05-30T12:57:03.109063Z",
     "start_time": "2023-05-30T12:57:03.105398Z"
    }
   }
  },
  {
   "cell_type": "code",
   "execution_count": 31,
   "outputs": [
    {
     "data": {
      "text/plain": "                                         customer_ID  P_2_mean   P_2_std  \\\n0  0000099d6bd597052cdcda90ffabf56573fe9d7c79be5f...  0.933782  0.024194   \n1  00000fd6641609c6ece5454664794f0340ad84dddce9a2...  0.899827  0.022097   \n2  00001b22f846c82c51f6e3958ccd81970162bae8b007e8...  0.878418  0.028837   \n3  000041bdba6ecadd89a52d11886e8eaaec9325906c9723...  0.598933  0.020082   \n4  00007889e4fcd2614b6cbe7f8f3d2e5c728eca32d9eb8a...  0.891752  0.042316   \n5  000084e5023181993c2e1b665ac88dbb1ce9ef621ec537...  0.794133  0.019159   \n6  000098081fde4fd64bc4d503a5d6f86a0aedc425c96f52...  0.444636  0.065091   \n7  0000d17a1447b25a01e42e1ac56b091bb7cbb06317be4c...  1.005859  0.003383   \n8  0000f99513770170a1aba690daeeb8a96da4a39f11fc27...  0.406701  0.009081   \n9  00013181a0c5fc8f1ea38cd2b90fe8ad2fa8cad9d9f13e...  0.447341  0.058662   \n\n    P_2_min   P_2_max  P_2_last  D_39_mean  D_39_std  D_39_min  D_39_max  ...  \\\n0  0.868652  0.960449  0.934570   0.010702  0.024440  0.001082  0.091492  ...   \n1  0.861328  0.929199  0.880371   0.215171  0.199123  0.002224  0.567383  ...   \n2  0.797852  0.904297  0.880859   0.004181  0.002759  0.000802  0.009705  ...   \n3  0.567383  0.623535  0.621582   0.048873  0.088490  0.000660  0.268555  ...   \n4  0.805176  0.940430  0.872070   0.004644  0.002883  0.000030  0.008682  ...   \n5  0.765137  0.824219  0.824219   0.199310  0.238585  0.007103  0.711914  ...   \n6  0.329102  0.560547  0.477051   0.010393  0.014735  0.000467  0.038574  ...   \n7  1.000000  1.009766  1.009766   0.353483  0.215066  0.000811  0.561035  ...   \n8  0.391602  0.424561  0.424561   0.124748  0.209555  0.000269  0.647461  ...   \n9  0.359863  0.556152  0.359863   0.006518  0.003349  0.000008  0.009903  ...   \n\n   D_144_mean  D_144_std  D_144_min  D_144_max  D_144_last  D_145_mean  \\\n0    0.005283   0.002598   0.000610   0.009613    0.002970    0.005813   \n1    0.004218   0.002871   0.000027   0.009567    0.003170    0.004902   \n2    0.005113   0.003638   0.000129   0.009415    0.000834    0.004499   \n3    0.004768   0.002654   0.000492   0.009918    0.005558    0.005235   \n4    0.004380   0.002634   0.000633   0.009438    0.006943    0.004219   \n5    0.006168   0.002677   0.001140   0.009995    0.006943    0.004331   \n6    0.005720   0.002498   0.001686   0.009773    0.003704    0.005653   \n7    0.005934   0.002520   0.002050   0.009453    0.003349    0.005734   \n8    0.005054   0.003242   0.000765   0.009369    0.003349    0.739032   \n9    0.005898   0.003235   0.000322   0.009933    0.007107    0.005551   \n\n   D_145_std  D_145_min  D_145_max  D_145_last  \n0   0.003294   0.000996   0.009827    0.008530  \n1   0.002729   0.000796   0.009392    0.008514  \n2   0.002152   0.000443   0.006931    0.003445  \n3   0.003406   0.000029   0.009834    0.002983  \n4   0.003426   0.000083   0.009666    0.000905  \n5   0.002925   0.000672   0.009155    0.001446  \n6   0.002304   0.001265   0.009132    0.006275  \n7   0.003130   0.000675   0.009964    0.000675  \n8   0.025938   0.727539   0.824707    0.734375  \n9   0.002835   0.000503   0.009972    0.006271  \n\n[10 rows x 886 columns]",
      "text/html": "<div>\n<style scoped>\n    .dataframe tbody tr th:only-of-type {\n        vertical-align: middle;\n    }\n\n    .dataframe tbody tr th {\n        vertical-align: top;\n    }\n\n    .dataframe thead th {\n        text-align: right;\n    }\n</style>\n<table border=\"1\" class=\"dataframe\">\n  <thead>\n    <tr style=\"text-align: right;\">\n      <th></th>\n      <th>customer_ID</th>\n      <th>P_2_mean</th>\n      <th>P_2_std</th>\n      <th>P_2_min</th>\n      <th>P_2_max</th>\n      <th>P_2_last</th>\n      <th>D_39_mean</th>\n      <th>D_39_std</th>\n      <th>D_39_min</th>\n      <th>D_39_max</th>\n      <th>...</th>\n      <th>D_144_mean</th>\n      <th>D_144_std</th>\n      <th>D_144_min</th>\n      <th>D_144_max</th>\n      <th>D_144_last</th>\n      <th>D_145_mean</th>\n      <th>D_145_std</th>\n      <th>D_145_min</th>\n      <th>D_145_max</th>\n      <th>D_145_last</th>\n    </tr>\n  </thead>\n  <tbody>\n    <tr>\n      <th>0</th>\n      <td>0000099d6bd597052cdcda90ffabf56573fe9d7c79be5f...</td>\n      <td>0.933782</td>\n      <td>0.024194</td>\n      <td>0.868652</td>\n      <td>0.960449</td>\n      <td>0.934570</td>\n      <td>0.010702</td>\n      <td>0.024440</td>\n      <td>0.001082</td>\n      <td>0.091492</td>\n      <td>...</td>\n      <td>0.005283</td>\n      <td>0.002598</td>\n      <td>0.000610</td>\n      <td>0.009613</td>\n      <td>0.002970</td>\n      <td>0.005813</td>\n      <td>0.003294</td>\n      <td>0.000996</td>\n      <td>0.009827</td>\n      <td>0.008530</td>\n    </tr>\n    <tr>\n      <th>1</th>\n      <td>00000fd6641609c6ece5454664794f0340ad84dddce9a2...</td>\n      <td>0.899827</td>\n      <td>0.022097</td>\n      <td>0.861328</td>\n      <td>0.929199</td>\n      <td>0.880371</td>\n      <td>0.215171</td>\n      <td>0.199123</td>\n      <td>0.002224</td>\n      <td>0.567383</td>\n      <td>...</td>\n      <td>0.004218</td>\n      <td>0.002871</td>\n      <td>0.000027</td>\n      <td>0.009567</td>\n      <td>0.003170</td>\n      <td>0.004902</td>\n      <td>0.002729</td>\n      <td>0.000796</td>\n      <td>0.009392</td>\n      <td>0.008514</td>\n    </tr>\n    <tr>\n      <th>2</th>\n      <td>00001b22f846c82c51f6e3958ccd81970162bae8b007e8...</td>\n      <td>0.878418</td>\n      <td>0.028837</td>\n      <td>0.797852</td>\n      <td>0.904297</td>\n      <td>0.880859</td>\n      <td>0.004181</td>\n      <td>0.002759</td>\n      <td>0.000802</td>\n      <td>0.009705</td>\n      <td>...</td>\n      <td>0.005113</td>\n      <td>0.003638</td>\n      <td>0.000129</td>\n      <td>0.009415</td>\n      <td>0.000834</td>\n      <td>0.004499</td>\n      <td>0.002152</td>\n      <td>0.000443</td>\n      <td>0.006931</td>\n      <td>0.003445</td>\n    </tr>\n    <tr>\n      <th>3</th>\n      <td>000041bdba6ecadd89a52d11886e8eaaec9325906c9723...</td>\n      <td>0.598933</td>\n      <td>0.020082</td>\n      <td>0.567383</td>\n      <td>0.623535</td>\n      <td>0.621582</td>\n      <td>0.048873</td>\n      <td>0.088490</td>\n      <td>0.000660</td>\n      <td>0.268555</td>\n      <td>...</td>\n      <td>0.004768</td>\n      <td>0.002654</td>\n      <td>0.000492</td>\n      <td>0.009918</td>\n      <td>0.005558</td>\n      <td>0.005235</td>\n      <td>0.003406</td>\n      <td>0.000029</td>\n      <td>0.009834</td>\n      <td>0.002983</td>\n    </tr>\n    <tr>\n      <th>4</th>\n      <td>00007889e4fcd2614b6cbe7f8f3d2e5c728eca32d9eb8a...</td>\n      <td>0.891752</td>\n      <td>0.042316</td>\n      <td>0.805176</td>\n      <td>0.940430</td>\n      <td>0.872070</td>\n      <td>0.004644</td>\n      <td>0.002883</td>\n      <td>0.000030</td>\n      <td>0.008682</td>\n      <td>...</td>\n      <td>0.004380</td>\n      <td>0.002634</td>\n      <td>0.000633</td>\n      <td>0.009438</td>\n      <td>0.006943</td>\n      <td>0.004219</td>\n      <td>0.003426</td>\n      <td>0.000083</td>\n      <td>0.009666</td>\n      <td>0.000905</td>\n    </tr>\n    <tr>\n      <th>5</th>\n      <td>000084e5023181993c2e1b665ac88dbb1ce9ef621ec537...</td>\n      <td>0.794133</td>\n      <td>0.019159</td>\n      <td>0.765137</td>\n      <td>0.824219</td>\n      <td>0.824219</td>\n      <td>0.199310</td>\n      <td>0.238585</td>\n      <td>0.007103</td>\n      <td>0.711914</td>\n      <td>...</td>\n      <td>0.006168</td>\n      <td>0.002677</td>\n      <td>0.001140</td>\n      <td>0.009995</td>\n      <td>0.006943</td>\n      <td>0.004331</td>\n      <td>0.002925</td>\n      <td>0.000672</td>\n      <td>0.009155</td>\n      <td>0.001446</td>\n    </tr>\n    <tr>\n      <th>6</th>\n      <td>000098081fde4fd64bc4d503a5d6f86a0aedc425c96f52...</td>\n      <td>0.444636</td>\n      <td>0.065091</td>\n      <td>0.329102</td>\n      <td>0.560547</td>\n      <td>0.477051</td>\n      <td>0.010393</td>\n      <td>0.014735</td>\n      <td>0.000467</td>\n      <td>0.038574</td>\n      <td>...</td>\n      <td>0.005720</td>\n      <td>0.002498</td>\n      <td>0.001686</td>\n      <td>0.009773</td>\n      <td>0.003704</td>\n      <td>0.005653</td>\n      <td>0.002304</td>\n      <td>0.001265</td>\n      <td>0.009132</td>\n      <td>0.006275</td>\n    </tr>\n    <tr>\n      <th>7</th>\n      <td>0000d17a1447b25a01e42e1ac56b091bb7cbb06317be4c...</td>\n      <td>1.005859</td>\n      <td>0.003383</td>\n      <td>1.000000</td>\n      <td>1.009766</td>\n      <td>1.009766</td>\n      <td>0.353483</td>\n      <td>0.215066</td>\n      <td>0.000811</td>\n      <td>0.561035</td>\n      <td>...</td>\n      <td>0.005934</td>\n      <td>0.002520</td>\n      <td>0.002050</td>\n      <td>0.009453</td>\n      <td>0.003349</td>\n      <td>0.005734</td>\n      <td>0.003130</td>\n      <td>0.000675</td>\n      <td>0.009964</td>\n      <td>0.000675</td>\n    </tr>\n    <tr>\n      <th>8</th>\n      <td>0000f99513770170a1aba690daeeb8a96da4a39f11fc27...</td>\n      <td>0.406701</td>\n      <td>0.009081</td>\n      <td>0.391602</td>\n      <td>0.424561</td>\n      <td>0.424561</td>\n      <td>0.124748</td>\n      <td>0.209555</td>\n      <td>0.000269</td>\n      <td>0.647461</td>\n      <td>...</td>\n      <td>0.005054</td>\n      <td>0.003242</td>\n      <td>0.000765</td>\n      <td>0.009369</td>\n      <td>0.003349</td>\n      <td>0.739032</td>\n      <td>0.025938</td>\n      <td>0.727539</td>\n      <td>0.824707</td>\n      <td>0.734375</td>\n    </tr>\n    <tr>\n      <th>9</th>\n      <td>00013181a0c5fc8f1ea38cd2b90fe8ad2fa8cad9d9f13e...</td>\n      <td>0.447341</td>\n      <td>0.058662</td>\n      <td>0.359863</td>\n      <td>0.556152</td>\n      <td>0.359863</td>\n      <td>0.006518</td>\n      <td>0.003349</td>\n      <td>0.000008</td>\n      <td>0.009903</td>\n      <td>...</td>\n      <td>0.005898</td>\n      <td>0.003235</td>\n      <td>0.000322</td>\n      <td>0.009933</td>\n      <td>0.007107</td>\n      <td>0.005551</td>\n      <td>0.002835</td>\n      <td>0.000503</td>\n      <td>0.009972</td>\n      <td>0.006271</td>\n    </tr>\n  </tbody>\n</table>\n<p>10 rows × 886 columns</p>\n</div>"
     },
     "execution_count": 31,
     "metadata": {},
     "output_type": "execute_result"
    }
   ],
   "source": [
    "train_data = pd.read_csv('train_data.csv', dtype=dtype_dict)\n",
    "cat_features = [\n",
    "        \"B_30\",\n",
    "        \"B_38\",\n",
    "        \"D_114\",\n",
    "        \"D_116\",\n",
    "        \"D_117\",\n",
    "        \"D_120\",\n",
    "        \"D_126\",\n",
    "        \"D_63\",\n",
    "        \"D_64\",\n",
    "        \"D_66\",\n",
    "        \"D_68\",\n",
    "]\n",
    "\n",
    "features = train_data.drop([\"customer_ID\", \"S_2\"], axis = 1).columns.to_list()\n",
    "num_features = [col for col in features if col not in cat_features]\n",
    "\n",
    "data_num_agg = train_data.groupby(\"customer_ID\")[num_features].agg(['mean', 'std', 'min', 'max', 'last',])\n",
    "data_num_agg.columns = ['_'.join(x) for x in data_num_agg.columns]\n",
    "data_num_agg.reset_index(inplace=True)\n",
    "data_num_agg.head(10)\n",
    "\n",
    "\n"
   ],
   "metadata": {
    "collapsed": false,
    "ExecuteTime": {
     "end_time": "2023-05-30T16:09:13.015663Z",
     "start_time": "2023-05-30T16:06:52.029594Z"
    }
   }
  },
  {
   "cell_type": "code",
   "execution_count": 30,
   "outputs": [],
   "source": [],
   "metadata": {
    "collapsed": false,
    "ExecuteTime": {
     "end_time": "2023-05-30T16:06:41.905222Z",
     "start_time": "2023-05-30T16:06:41.877058Z"
    }
   }
  },
  {
   "cell_type": "code",
   "execution_count": 19,
   "outputs": [],
   "source": [],
   "metadata": {
    "collapsed": false,
    "ExecuteTime": {
     "end_time": "2023-05-30T13:18:17.824497Z",
     "start_time": "2023-05-30T13:18:17.820515Z"
    }
   }
  },
  {
   "cell_type": "code",
   "execution_count": 16,
   "outputs": [],
   "source": [],
   "metadata": {
    "collapsed": false,
    "ExecuteTime": {
     "end_time": "2023-05-30T13:09:28.739491Z",
     "start_time": "2023-05-30T13:09:28.661213Z"
    }
   }
  },
  {
   "cell_type": "code",
   "execution_count": null,
   "outputs": [],
   "source": [],
   "metadata": {
    "collapsed": false
   }
  }
 ],
 "metadata": {
  "kernelspec": {
   "display_name": "Python 3",
   "language": "python",
   "name": "python3"
  },
  "language_info": {
   "codemirror_mode": {
    "name": "ipython",
    "version": 2
   },
   "file_extension": ".py",
   "mimetype": "text/x-python",
   "name": "python",
   "nbconvert_exporter": "python",
   "pygments_lexer": "ipython2",
   "version": "2.7.6"
  }
 },
 "nbformat": 4,
 "nbformat_minor": 0
}

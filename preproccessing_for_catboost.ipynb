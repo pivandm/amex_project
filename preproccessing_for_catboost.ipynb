{
 "cells": [
  {
   "cell_type": "code",
   "execution_count": 7,
   "metadata": {
    "collapsed": true
   },
   "outputs": [],
   "source": [
    "import pandas as pd\n",
    "import os\n",
    "import gc\n",
    "import sys\n",
    "import pickle\n",
    "\n",
    "\n",
    "file = open('dtype_dict.txt', 'rb')\n",
    "dtype_dict = pickle.load(file)\n",
    "\n",
    "\n",
    "ipython_vars = [\"In\", \"Out\", \"exit\", \"quit\", \"get_ipython\", \"ipython_vars\"]\n",
    "categorical = ['B_30', 'B_38', 'D_114', 'D_116', 'D_117', 'D_120', 'D_126', 'D_63', 'D_64', 'D_66', 'D_68']\n",
    "def mem_usage_gb(df):\n",
    "    return round((df.memory_usage(deep=True).sum()/1073741824), 2)\n",
    "def file_mem_usage_gb(file):\n",
    "    return round((os.stat(file).st_size/1073741824), 2)"
   ]
  },
  {
   "cell_type": "code",
   "execution_count": 8,
   "outputs": [
    {
     "data": {
      "text/plain": "                                         customer_ID  P_2_mean   P_2_std  \\\n0  0000099d6bd597052cdcda90ffabf56573fe9d7c79be5f...  0.933594  0.024194   \n1  00000fd6641609c6ece5454664794f0340ad84dddce9a2...  0.899902  0.022097   \n2  00001b22f846c82c51f6e3958ccd81970162bae8b007e8...  0.878418  0.028837   \n3  000041bdba6ecadd89a52d11886e8eaaec9325906c9723...  0.599121  0.020082   \n4  00007889e4fcd2614b6cbe7f8f3d2e5c728eca32d9eb8a...  0.891602  0.042316   \n5  000084e5023181993c2e1b665ac88dbb1ce9ef621ec537...  0.793945  0.019159   \n6  000098081fde4fd64bc4d503a5d6f86a0aedc425c96f52...  0.444580  0.065091   \n7  0000d17a1447b25a01e42e1ac56b091bb7cbb06317be4c...  1.005859  0.003383   \n8  0000f99513770170a1aba690daeeb8a96da4a39f11fc27...  0.406738  0.009081   \n9  00013181a0c5fc8f1ea38cd2b90fe8ad2fa8cad9d9f13e...  0.447266  0.058662   \n\n    P_2_min   P_2_max  P_2_last  D_39_mean  D_39_std  D_39_min  D_39_max  ...  \\\n0  0.868652  0.960449  0.934570   0.010704  0.024440  0.001082  0.091492  ...   \n1  0.861328  0.929199  0.880371   0.215210  0.199123  0.002224  0.567383  ...   \n2  0.797852  0.904297  0.880859   0.004181  0.002759  0.000802  0.009705  ...   \n3  0.567383  0.623535  0.621582   0.048859  0.088490  0.000660  0.268555  ...   \n4  0.805176  0.940430  0.872070   0.004642  0.002883  0.000030  0.008682  ...   \n5  0.765137  0.824219  0.824219   0.199341  0.238585  0.007103  0.711914  ...   \n6  0.329102  0.560547  0.477051   0.010391  0.014735  0.000467  0.038574  ...   \n7  1.000000  1.009766  1.009766   0.353516  0.215066  0.000811  0.561035  ...   \n8  0.391602  0.424561  0.424561   0.124756  0.209555  0.000269  0.647461  ...   \n9  0.359863  0.556152  0.359863   0.006519  0.003349  0.000008  0.009903  ...   \n\n   D_144_mean  D_144_std  D_144_min  D_144_max  D_144_last  D_145_mean  \\\n0    0.005283   0.002598   0.000610   0.009613    0.002970    0.005814   \n1    0.004219   0.002871   0.000027   0.009567    0.003170    0.004902   \n2    0.005112   0.003638   0.000129   0.009415    0.000834    0.004498   \n3    0.004768   0.002654   0.000492   0.009918    0.005558    0.005234   \n4    0.004379   0.002634   0.000633   0.009438    0.006943    0.004219   \n5    0.006168   0.002677   0.001140   0.009995    0.006943    0.004330   \n6    0.005718   0.002498   0.001686   0.009773    0.003704    0.005653   \n7    0.005936   0.002520   0.002050   0.009453    0.003349    0.005733   \n8    0.005054   0.003242   0.000765   0.009369    0.003349    0.739258   \n9    0.005898   0.003235   0.000322   0.009933    0.007107    0.005550   \n\n   D_145_std  D_145_min  D_145_max  D_145_last  \n0   0.003294   0.000996   0.009827    0.008530  \n1   0.002729   0.000796   0.009392    0.008514  \n2   0.002152   0.000443   0.006931    0.003445  \n3   0.003406   0.000029   0.009834    0.002983  \n4   0.003426   0.000083   0.009666    0.000905  \n5   0.002925   0.000672   0.009155    0.001446  \n6   0.002304   0.001265   0.009132    0.006275  \n7   0.003130   0.000675   0.009964    0.000675  \n8   0.025938   0.727539   0.824707    0.734375  \n9   0.002835   0.000503   0.009972    0.006271  \n\n[10 rows x 886 columns]",
      "text/html": "<div>\n<style scoped>\n    .dataframe tbody tr th:only-of-type {\n        vertical-align: middle;\n    }\n\n    .dataframe tbody tr th {\n        vertical-align: top;\n    }\n\n    .dataframe thead th {\n        text-align: right;\n    }\n</style>\n<table border=\"1\" class=\"dataframe\">\n  <thead>\n    <tr style=\"text-align: right;\">\n      <th></th>\n      <th>customer_ID</th>\n      <th>P_2_mean</th>\n      <th>P_2_std</th>\n      <th>P_2_min</th>\n      <th>P_2_max</th>\n      <th>P_2_last</th>\n      <th>D_39_mean</th>\n      <th>D_39_std</th>\n      <th>D_39_min</th>\n      <th>D_39_max</th>\n      <th>...</th>\n      <th>D_144_mean</th>\n      <th>D_144_std</th>\n      <th>D_144_min</th>\n      <th>D_144_max</th>\n      <th>D_144_last</th>\n      <th>D_145_mean</th>\n      <th>D_145_std</th>\n      <th>D_145_min</th>\n      <th>D_145_max</th>\n      <th>D_145_last</th>\n    </tr>\n  </thead>\n  <tbody>\n    <tr>\n      <th>0</th>\n      <td>0000099d6bd597052cdcda90ffabf56573fe9d7c79be5f...</td>\n      <td>0.933594</td>\n      <td>0.024194</td>\n      <td>0.868652</td>\n      <td>0.960449</td>\n      <td>0.934570</td>\n      <td>0.010704</td>\n      <td>0.024440</td>\n      <td>0.001082</td>\n      <td>0.091492</td>\n      <td>...</td>\n      <td>0.005283</td>\n      <td>0.002598</td>\n      <td>0.000610</td>\n      <td>0.009613</td>\n      <td>0.002970</td>\n      <td>0.005814</td>\n      <td>0.003294</td>\n      <td>0.000996</td>\n      <td>0.009827</td>\n      <td>0.008530</td>\n    </tr>\n    <tr>\n      <th>1</th>\n      <td>00000fd6641609c6ece5454664794f0340ad84dddce9a2...</td>\n      <td>0.899902</td>\n      <td>0.022097</td>\n      <td>0.861328</td>\n      <td>0.929199</td>\n      <td>0.880371</td>\n      <td>0.215210</td>\n      <td>0.199123</td>\n      <td>0.002224</td>\n      <td>0.567383</td>\n      <td>...</td>\n      <td>0.004219</td>\n      <td>0.002871</td>\n      <td>0.000027</td>\n      <td>0.009567</td>\n      <td>0.003170</td>\n      <td>0.004902</td>\n      <td>0.002729</td>\n      <td>0.000796</td>\n      <td>0.009392</td>\n      <td>0.008514</td>\n    </tr>\n    <tr>\n      <th>2</th>\n      <td>00001b22f846c82c51f6e3958ccd81970162bae8b007e8...</td>\n      <td>0.878418</td>\n      <td>0.028837</td>\n      <td>0.797852</td>\n      <td>0.904297</td>\n      <td>0.880859</td>\n      <td>0.004181</td>\n      <td>0.002759</td>\n      <td>0.000802</td>\n      <td>0.009705</td>\n      <td>...</td>\n      <td>0.005112</td>\n      <td>0.003638</td>\n      <td>0.000129</td>\n      <td>0.009415</td>\n      <td>0.000834</td>\n      <td>0.004498</td>\n      <td>0.002152</td>\n      <td>0.000443</td>\n      <td>0.006931</td>\n      <td>0.003445</td>\n    </tr>\n    <tr>\n      <th>3</th>\n      <td>000041bdba6ecadd89a52d11886e8eaaec9325906c9723...</td>\n      <td>0.599121</td>\n      <td>0.020082</td>\n      <td>0.567383</td>\n      <td>0.623535</td>\n      <td>0.621582</td>\n      <td>0.048859</td>\n      <td>0.088490</td>\n      <td>0.000660</td>\n      <td>0.268555</td>\n      <td>...</td>\n      <td>0.004768</td>\n      <td>0.002654</td>\n      <td>0.000492</td>\n      <td>0.009918</td>\n      <td>0.005558</td>\n      <td>0.005234</td>\n      <td>0.003406</td>\n      <td>0.000029</td>\n      <td>0.009834</td>\n      <td>0.002983</td>\n    </tr>\n    <tr>\n      <th>4</th>\n      <td>00007889e4fcd2614b6cbe7f8f3d2e5c728eca32d9eb8a...</td>\n      <td>0.891602</td>\n      <td>0.042316</td>\n      <td>0.805176</td>\n      <td>0.940430</td>\n      <td>0.872070</td>\n      <td>0.004642</td>\n      <td>0.002883</td>\n      <td>0.000030</td>\n      <td>0.008682</td>\n      <td>...</td>\n      <td>0.004379</td>\n      <td>0.002634</td>\n      <td>0.000633</td>\n      <td>0.009438</td>\n      <td>0.006943</td>\n      <td>0.004219</td>\n      <td>0.003426</td>\n      <td>0.000083</td>\n      <td>0.009666</td>\n      <td>0.000905</td>\n    </tr>\n    <tr>\n      <th>5</th>\n      <td>000084e5023181993c2e1b665ac88dbb1ce9ef621ec537...</td>\n      <td>0.793945</td>\n      <td>0.019159</td>\n      <td>0.765137</td>\n      <td>0.824219</td>\n      <td>0.824219</td>\n      <td>0.199341</td>\n      <td>0.238585</td>\n      <td>0.007103</td>\n      <td>0.711914</td>\n      <td>...</td>\n      <td>0.006168</td>\n      <td>0.002677</td>\n      <td>0.001140</td>\n      <td>0.009995</td>\n      <td>0.006943</td>\n      <td>0.004330</td>\n      <td>0.002925</td>\n      <td>0.000672</td>\n      <td>0.009155</td>\n      <td>0.001446</td>\n    </tr>\n    <tr>\n      <th>6</th>\n      <td>000098081fde4fd64bc4d503a5d6f86a0aedc425c96f52...</td>\n      <td>0.444580</td>\n      <td>0.065091</td>\n      <td>0.329102</td>\n      <td>0.560547</td>\n      <td>0.477051</td>\n      <td>0.010391</td>\n      <td>0.014735</td>\n      <td>0.000467</td>\n      <td>0.038574</td>\n      <td>...</td>\n      <td>0.005718</td>\n      <td>0.002498</td>\n      <td>0.001686</td>\n      <td>0.009773</td>\n      <td>0.003704</td>\n      <td>0.005653</td>\n      <td>0.002304</td>\n      <td>0.001265</td>\n      <td>0.009132</td>\n      <td>0.006275</td>\n    </tr>\n    <tr>\n      <th>7</th>\n      <td>0000d17a1447b25a01e42e1ac56b091bb7cbb06317be4c...</td>\n      <td>1.005859</td>\n      <td>0.003383</td>\n      <td>1.000000</td>\n      <td>1.009766</td>\n      <td>1.009766</td>\n      <td>0.353516</td>\n      <td>0.215066</td>\n      <td>0.000811</td>\n      <td>0.561035</td>\n      <td>...</td>\n      <td>0.005936</td>\n      <td>0.002520</td>\n      <td>0.002050</td>\n      <td>0.009453</td>\n      <td>0.003349</td>\n      <td>0.005733</td>\n      <td>0.003130</td>\n      <td>0.000675</td>\n      <td>0.009964</td>\n      <td>0.000675</td>\n    </tr>\n    <tr>\n      <th>8</th>\n      <td>0000f99513770170a1aba690daeeb8a96da4a39f11fc27...</td>\n      <td>0.406738</td>\n      <td>0.009081</td>\n      <td>0.391602</td>\n      <td>0.424561</td>\n      <td>0.424561</td>\n      <td>0.124756</td>\n      <td>0.209555</td>\n      <td>0.000269</td>\n      <td>0.647461</td>\n      <td>...</td>\n      <td>0.005054</td>\n      <td>0.003242</td>\n      <td>0.000765</td>\n      <td>0.009369</td>\n      <td>0.003349</td>\n      <td>0.739258</td>\n      <td>0.025938</td>\n      <td>0.727539</td>\n      <td>0.824707</td>\n      <td>0.734375</td>\n    </tr>\n    <tr>\n      <th>9</th>\n      <td>00013181a0c5fc8f1ea38cd2b90fe8ad2fa8cad9d9f13e...</td>\n      <td>0.447266</td>\n      <td>0.058662</td>\n      <td>0.359863</td>\n      <td>0.556152</td>\n      <td>0.359863</td>\n      <td>0.006519</td>\n      <td>0.003349</td>\n      <td>0.000008</td>\n      <td>0.009903</td>\n      <td>...</td>\n      <td>0.005898</td>\n      <td>0.003235</td>\n      <td>0.000322</td>\n      <td>0.009933</td>\n      <td>0.007107</td>\n      <td>0.005550</td>\n      <td>0.002835</td>\n      <td>0.000503</td>\n      <td>0.009972</td>\n      <td>0.006271</td>\n    </tr>\n  </tbody>\n</table>\n<p>10 rows × 886 columns</p>\n</div>"
     },
     "execution_count": 8,
     "metadata": {},
     "output_type": "execute_result"
    }
   ],
   "source": [
    "train_data = pd.read_csv('train_data.csv', dtype=dtype_dict)\n",
    "numerical = train_data.drop(columns= categorical).columns.to_list()\n",
    "\n",
    "numerical.remove('customer_ID'); numerical.remove('S_2')\n",
    "\n",
    "train_num_agg = train_data.groupby(\"customer_ID\")[numerical].agg(['mean', 'std', 'min', 'max', 'last'])\n",
    "train_num_agg.columns = ['_'.join(x) for x in train_num_agg.columns]\n",
    "train_num_agg.reset_index(inplace = True)\n",
    "train_num_agg.head(10)"
   ],
   "metadata": {
    "collapsed": false
   }
  },
  {
   "cell_type": "code",
   "execution_count": 9,
   "outputs": [
    {
     "data": {
      "text/plain": "   B_30_count  B_30_last  B_30_nunique  B_38_count  B_38_last  B_38_nunique  \\\n0          13        0.0             1          13        2.0             1   \n1          13        0.0             1          13        2.0             1   \n2          13        0.0             1          13        1.0             1   \n3          13        0.0             1          13        2.0             1   \n4          13        0.0             1          13        1.0             2   \n5          13        0.0             1          13        2.0             2   \n6          13        0.0             3          13        3.0             3   \n7          13        0.0             1          13        3.0             2   \n8          13        1.0             1          13        7.0             3   \n9          13        0.0             1          13        1.0             1   \n\n   D_114_count  D_114_last  D_114_nunique  D_116_count  ...  D_63_nunique  \\\n0           13         1.0              1           13  ...             1   \n1           13         1.0              1           13  ...             1   \n2           13         1.0              2           13  ...             1   \n3           13         1.0              1           13  ...             1   \n4           13         1.0              1           13  ...             1   \n5           13         1.0              1           13  ...             1   \n6           11         0.0              1           11  ...             1   \n7           13         1.0              1           13  ...             1   \n8           13         0.0              1           13  ...             1   \n9           13         0.0              2           13  ...             1   \n\n   D_64_count  D_64_last  D_64_nunique  D_66_count  D_66_last  D_66_nunique  \\\n0          13          O             1           0        NaN             0   \n1          13          O             1           0        NaN             0   \n2          13          R             1           0        NaN             0   \n3          13          O             1           0        NaN             0   \n4          13          O             1          13        1.0             1   \n5          13          R             1           0        NaN             0   \n6          11          R             1           0        NaN             0   \n7          13          R             1           0        NaN             0   \n8          13          U             1          13        1.0             1   \n9          13          O             1           0        NaN             0   \n\n   D_68_count  D_68_last  D_68_nunique  \n0          13        6.0             1  \n1          13        6.0             1  \n2          13        6.0             1  \n3          13        3.0             3  \n4          13        6.0             1  \n5          13        6.0             1  \n6          11        3.0             2  \n7          13        5.0             1  \n8          13        6.0             2  \n9          13        5.0             1  \n\n[10 rows x 33 columns]",
      "text/html": "<div>\n<style scoped>\n    .dataframe tbody tr th:only-of-type {\n        vertical-align: middle;\n    }\n\n    .dataframe tbody tr th {\n        vertical-align: top;\n    }\n\n    .dataframe thead th {\n        text-align: right;\n    }\n</style>\n<table border=\"1\" class=\"dataframe\">\n  <thead>\n    <tr style=\"text-align: right;\">\n      <th></th>\n      <th>B_30_count</th>\n      <th>B_30_last</th>\n      <th>B_30_nunique</th>\n      <th>B_38_count</th>\n      <th>B_38_last</th>\n      <th>B_38_nunique</th>\n      <th>D_114_count</th>\n      <th>D_114_last</th>\n      <th>D_114_nunique</th>\n      <th>D_116_count</th>\n      <th>...</th>\n      <th>D_63_nunique</th>\n      <th>D_64_count</th>\n      <th>D_64_last</th>\n      <th>D_64_nunique</th>\n      <th>D_66_count</th>\n      <th>D_66_last</th>\n      <th>D_66_nunique</th>\n      <th>D_68_count</th>\n      <th>D_68_last</th>\n      <th>D_68_nunique</th>\n    </tr>\n  </thead>\n  <tbody>\n    <tr>\n      <th>0</th>\n      <td>13</td>\n      <td>0.0</td>\n      <td>1</td>\n      <td>13</td>\n      <td>2.0</td>\n      <td>1</td>\n      <td>13</td>\n      <td>1.0</td>\n      <td>1</td>\n      <td>13</td>\n      <td>...</td>\n      <td>1</td>\n      <td>13</td>\n      <td>O</td>\n      <td>1</td>\n      <td>0</td>\n      <td>NaN</td>\n      <td>0</td>\n      <td>13</td>\n      <td>6.0</td>\n      <td>1</td>\n    </tr>\n    <tr>\n      <th>1</th>\n      <td>13</td>\n      <td>0.0</td>\n      <td>1</td>\n      <td>13</td>\n      <td>2.0</td>\n      <td>1</td>\n      <td>13</td>\n      <td>1.0</td>\n      <td>1</td>\n      <td>13</td>\n      <td>...</td>\n      <td>1</td>\n      <td>13</td>\n      <td>O</td>\n      <td>1</td>\n      <td>0</td>\n      <td>NaN</td>\n      <td>0</td>\n      <td>13</td>\n      <td>6.0</td>\n      <td>1</td>\n    </tr>\n    <tr>\n      <th>2</th>\n      <td>13</td>\n      <td>0.0</td>\n      <td>1</td>\n      <td>13</td>\n      <td>1.0</td>\n      <td>1</td>\n      <td>13</td>\n      <td>1.0</td>\n      <td>2</td>\n      <td>13</td>\n      <td>...</td>\n      <td>1</td>\n      <td>13</td>\n      <td>R</td>\n      <td>1</td>\n      <td>0</td>\n      <td>NaN</td>\n      <td>0</td>\n      <td>13</td>\n      <td>6.0</td>\n      <td>1</td>\n    </tr>\n    <tr>\n      <th>3</th>\n      <td>13</td>\n      <td>0.0</td>\n      <td>1</td>\n      <td>13</td>\n      <td>2.0</td>\n      <td>1</td>\n      <td>13</td>\n      <td>1.0</td>\n      <td>1</td>\n      <td>13</td>\n      <td>...</td>\n      <td>1</td>\n      <td>13</td>\n      <td>O</td>\n      <td>1</td>\n      <td>0</td>\n      <td>NaN</td>\n      <td>0</td>\n      <td>13</td>\n      <td>3.0</td>\n      <td>3</td>\n    </tr>\n    <tr>\n      <th>4</th>\n      <td>13</td>\n      <td>0.0</td>\n      <td>1</td>\n      <td>13</td>\n      <td>1.0</td>\n      <td>2</td>\n      <td>13</td>\n      <td>1.0</td>\n      <td>1</td>\n      <td>13</td>\n      <td>...</td>\n      <td>1</td>\n      <td>13</td>\n      <td>O</td>\n      <td>1</td>\n      <td>13</td>\n      <td>1.0</td>\n      <td>1</td>\n      <td>13</td>\n      <td>6.0</td>\n      <td>1</td>\n    </tr>\n    <tr>\n      <th>5</th>\n      <td>13</td>\n      <td>0.0</td>\n      <td>1</td>\n      <td>13</td>\n      <td>2.0</td>\n      <td>2</td>\n      <td>13</td>\n      <td>1.0</td>\n      <td>1</td>\n      <td>13</td>\n      <td>...</td>\n      <td>1</td>\n      <td>13</td>\n      <td>R</td>\n      <td>1</td>\n      <td>0</td>\n      <td>NaN</td>\n      <td>0</td>\n      <td>13</td>\n      <td>6.0</td>\n      <td>1</td>\n    </tr>\n    <tr>\n      <th>6</th>\n      <td>13</td>\n      <td>0.0</td>\n      <td>3</td>\n      <td>13</td>\n      <td>3.0</td>\n      <td>3</td>\n      <td>11</td>\n      <td>0.0</td>\n      <td>1</td>\n      <td>11</td>\n      <td>...</td>\n      <td>1</td>\n      <td>11</td>\n      <td>R</td>\n      <td>1</td>\n      <td>0</td>\n      <td>NaN</td>\n      <td>0</td>\n      <td>11</td>\n      <td>3.0</td>\n      <td>2</td>\n    </tr>\n    <tr>\n      <th>7</th>\n      <td>13</td>\n      <td>0.0</td>\n      <td>1</td>\n      <td>13</td>\n      <td>3.0</td>\n      <td>2</td>\n      <td>13</td>\n      <td>1.0</td>\n      <td>1</td>\n      <td>13</td>\n      <td>...</td>\n      <td>1</td>\n      <td>13</td>\n      <td>R</td>\n      <td>1</td>\n      <td>0</td>\n      <td>NaN</td>\n      <td>0</td>\n      <td>13</td>\n      <td>5.0</td>\n      <td>1</td>\n    </tr>\n    <tr>\n      <th>8</th>\n      <td>13</td>\n      <td>1.0</td>\n      <td>1</td>\n      <td>13</td>\n      <td>7.0</td>\n      <td>3</td>\n      <td>13</td>\n      <td>0.0</td>\n      <td>1</td>\n      <td>13</td>\n      <td>...</td>\n      <td>1</td>\n      <td>13</td>\n      <td>U</td>\n      <td>1</td>\n      <td>13</td>\n      <td>1.0</td>\n      <td>1</td>\n      <td>13</td>\n      <td>6.0</td>\n      <td>2</td>\n    </tr>\n    <tr>\n      <th>9</th>\n      <td>13</td>\n      <td>0.0</td>\n      <td>1</td>\n      <td>13</td>\n      <td>1.0</td>\n      <td>1</td>\n      <td>13</td>\n      <td>0.0</td>\n      <td>2</td>\n      <td>13</td>\n      <td>...</td>\n      <td>1</td>\n      <td>13</td>\n      <td>O</td>\n      <td>1</td>\n      <td>0</td>\n      <td>NaN</td>\n      <td>0</td>\n      <td>13</td>\n      <td>5.0</td>\n      <td>1</td>\n    </tr>\n  </tbody>\n</table>\n<p>10 rows × 33 columns</p>\n</div>"
     },
     "execution_count": 9,
     "metadata": {},
     "output_type": "execute_result"
    }
   ],
   "source": [
    "train_cat_agg = train_data.groupby(\"customer_ID\")[categorical].agg(['count', 'last', 'nunique'])\n",
    "train_cat_agg.columns = ['_'.join(x) for x in train_cat_agg.columns]\n",
    "train_cat_agg.reset_index(inplace = True)\n",
    "train_cat_agg.drop(['customer_ID'], axis= 1, inplace= True)\n",
    "agg_cat_cols = train_cat_agg.columns\n",
    "train_cat_agg.head(10)"
   ],
   "metadata": {
    "collapsed": false
   }
  },
  {
   "cell_type": "code",
   "execution_count": 10,
   "outputs": [
    {
     "name": "stdout",
     "output_type": "stream",
     "text": [
      "Saved preprocessed train data\n",
      "Size of pandas DataFrame in GB: 1.41\n",
      "Size of saved CSV in GB: 3.47\n",
      "{'train_data': 1508728442, 'train_num_agg': 1366184145, 'train_cat_agg': 142544441, 'dtype_dict': 9312, 'file': 8360, 'agg_cat_cols': 3325, 'numerical': 1488, 'categorical': 152, 'file_mem_usage_gb': 136, 'mem_usage_gb': 136, 'pd': 72} 3017.48\n"
     ]
    }
   ],
   "source": [
    "train_data = pd.concat([train_num_agg, train_cat_agg], axis= 1)\n",
    "# train_data.to_csv('prep_catboost_train.csv', index=False)\n",
    "print('Saved preprocessed train data')\n",
    "print(f'Size of pandas DataFrame in GB: {mem_usage_gb(train_data)}')\n",
    "print(f'Size of saved CSV in GB: {file_mem_usage_gb(\"prep_catboost_train.csv\")}')\n",
    "mem = {\n",
    "    key: value\n",
    "    for key, value in sorted(\n",
    "        [\n",
    "            (x, sys.getsizeof(globals().get(x)))\n",
    "            for x in dir()\n",
    "            if not x.startswith(\"_\") and x not in sys.modules and x not in ipython_vars\n",
    "        ],\n",
    "        key=lambda x: x[1],\n",
    "        reverse=True,\n",
    "    )\n",
    "}\n",
    "print(mem, round(sum(mem.values()) / 1e6, 2))"
   ],
   "metadata": {
    "collapsed": false
   }
  },
  {
   "cell_type": "code",
   "execution_count": 11,
   "outputs": [
    {
     "name": "stdout",
     "output_type": "stream",
     "text": [
      "Delete train dataset and do gc\n",
      "{'dtype_dict': 9312, 'file': 8360, 'agg_cat_cols': 3325, 'numerical': 1488, 'mem': 640, 'categorical': 152, 'file_mem_usage_gb': 136, 'mem_usage_gb': 136, 'pd': 72} 0.02\n"
     ]
    }
   ],
   "source": [
    "del train_data\n",
    "del train_cat_agg\n",
    "del train_num_agg\n",
    "gc.collect()\n",
    "print('Delete train dataset and do gc')\n",
    "mem = {\n",
    "    key: value\n",
    "    for key, value in sorted(\n",
    "        [\n",
    "            (x, sys.getsizeof(globals().get(x)))\n",
    "            for x in dir()\n",
    "            if not x.startswith(\"_\") and x not in sys.modules and x not in ipython_vars\n",
    "        ],\n",
    "        key=lambda x: x[1],\n",
    "        reverse=True,\n",
    "    )\n",
    "}\n",
    "print(mem, round(sum(mem.values()) / 1e6, 2))"
   ],
   "metadata": {
    "collapsed": false
   }
  },
  {
   "cell_type": "code",
   "execution_count": 12,
   "outputs": [],
   "source": [
    "test_data = pd.read_csv('test_data.csv', dtype=dtype_dict)\n",
    "test_agg_num = test_data.groupby(\"customer_ID\")[numerical].agg(['mean', 'std', 'min', 'max', 'last'])\n",
    "test_agg_cat = test_data.groupby(\"customer_ID\")[categorical].agg(['count', 'last', 'nunique'])\n",
    "test_agg_num.columns = ['_'.join(x) for x in test_agg_num.columns]\n",
    "test_agg_num.reset_index(inplace = True)\n",
    "test_agg_cat.columns = ['_'.join(x) for x in test_agg_cat.columns]\n",
    "test_agg_cat.reset_index(inplace = True)\n",
    "test_agg_cat.drop(['customer_ID'], axis= 1, inplace= True)"
   ],
   "metadata": {
    "collapsed": false
   }
  },
  {
   "cell_type": "code",
   "execution_count": 13,
   "outputs": [
    {
     "name": "stdout",
     "output_type": "stream",
     "text": [
      "Saved preprocessed test data\n",
      "Size of pandas DataFrame in GB: 2.83\n",
      "Size of saved CSV in GB: 7.04\n",
      "{'test_data': 3039431934, 'test_agg_num': 2752596861, 'test_agg_cat': 286835217, 'dtype_dict': 9312, 'file': 8360, 'agg_cat_cols': 3325, 'numerical': 1488, 'mem': 360, 'categorical': 152, 'file_mem_usage_gb': 136, 'mem_usage_gb': 136, 'pd': 72} 6078.89\n"
     ]
    }
   ],
   "source": [
    "test_data = pd.concat([test_agg_num, test_agg_cat], axis= 1)\n",
    "# test_data.to_csv('prep_catboost_test.csv', index=False)\n",
    "print('Saved preprocessed test data')\n",
    "print(f'Size of pandas DataFrame in GB: {mem_usage_gb(test_data)}')\n",
    "print(f'Size of saved CSV in GB: {file_mem_usage_gb(\"prep_catboost_test.csv\")}')\n",
    "mem = {\n",
    "    key: value\n",
    "    for key, value in sorted(\n",
    "        [\n",
    "            (x, sys.getsizeof(globals().get(x)))\n",
    "            for x in dir()\n",
    "            if not x.startswith(\"_\") and x not in sys.modules and x not in ipython_vars\n",
    "        ],\n",
    "        key=lambda x: x[1],\n",
    "        reverse=True,\n",
    "    )\n",
    "}\n",
    "print(mem, round(sum(mem.values()) / 1e6, 2))"
   ],
   "metadata": {
    "collapsed": false
   }
  },
  {
   "cell_type": "code",
   "execution_count": 14,
   "outputs": [
    {
     "name": "stdout",
     "output_type": "stream",
     "text": [
      "Delete train dataset and do gc\n",
      "{'dtype_dict': 9312, 'file': 8360, 'agg_cat_cols': 3325, 'numerical': 1488, 'mem': 640, 'categorical': 152, 'file_mem_usage_gb': 136, 'mem_usage_gb': 136, 'pd': 72} 0.02\n"
     ]
    }
   ],
   "source": [
    "del test_data\n",
    "del test_agg_cat\n",
    "del test_agg_num\n",
    "gc.collect()\n",
    "print('Delete train dataset and do gc')\n",
    "mem = {\n",
    "    key: value\n",
    "    for key, value in sorted(\n",
    "        [\n",
    "            (x, sys.getsizeof(globals().get(x)))\n",
    "            for x in dir()\n",
    "            if not x.startswith(\"_\") and x not in sys.modules and x not in ipython_vars\n",
    "        ],\n",
    "        key=lambda x: x[1],\n",
    "        reverse=True,\n",
    "    )\n",
    "}\n",
    "print(mem, round(sum(mem.values()) / 1e6, 2))"
   ],
   "metadata": {
    "collapsed": false
   }
  },
  {
   "cell_type": "code",
   "execution_count": 14,
   "outputs": [],
   "source": [],
   "metadata": {
    "collapsed": false
   }
  }
 ],
 "metadata": {
  "kernelspec": {
   "display_name": "Python 3",
   "language": "python",
   "name": "python3"
  },
  "language_info": {
   "codemirror_mode": {
    "name": "ipython",
    "version": 2
   },
   "file_extension": ".py",
   "mimetype": "text/x-python",
   "name": "python",
   "nbconvert_exporter": "python",
   "pygments_lexer": "ipython2",
   "version": "2.7.6"
  }
 },
 "nbformat": 4,
 "nbformat_minor": 0
}

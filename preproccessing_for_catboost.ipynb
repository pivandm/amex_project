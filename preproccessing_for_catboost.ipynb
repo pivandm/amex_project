{
 "cells": [
  {
   "cell_type": "code",
   "execution_count": null,
   "metadata": {
    "collapsed": true
   },
   "outputs": [],
   "source": [
    "import pandas as pd\n",
    "import os\n",
    "import gc\n",
    "import sys\n",
    "import pickle\n",
    "\n",
    "\n",
    "file = open('dtype_dict.txt', 'rb')\n",
    "dtype_dict = pickle.load(file)\n",
    "file.close()\n",
    "\n",
    "ipython_vars = [\"In\", \"Out\", \"exit\", \"quit\", \"get_ipython\", \"ipython_vars\"]\n",
    "categorical = ['B_30', 'B_38', 'D_114', 'D_116', 'D_117', 'D_120', 'D_126', 'D_63', 'D_64', 'D_66', 'D_68']\n",
    "def mem_usage_gb(df):\n",
    "    return round((df.memory_usage(deep=True).sum()/1073741824), 2)\n",
    "def file_mem_usage_gb(file):\n",
    "    return round((os.stat(file).st_size/1073741824), 2)"
   ]
  },
  {
   "cell_type": "code",
   "execution_count": null,
   "outputs": [],
   "source": [
    "train_data = pd.read_csv('train_data.csv', dtype=dtype_dict)\n",
    "numerical = train_data.drop(columns= categorical).columns.to_list()\n",
    "\n",
    "numerical.remove('customer_ID'); numerical.remove('S_2')\n",
    "\n",
    "train_num_agg = train_data.groupby(\"customer_ID\")[numerical].agg(['mean', 'std', 'min', 'max', 'last'])\n",
    "train_num_agg.columns = ['_'.join(x) for x in train_num_agg.columns]\n",
    "train_num_agg.reset_index(inplace = True)\n",
    "train_num_agg.head(10)"
   ],
   "metadata": {
    "collapsed": false
   }
  },
  {
   "cell_type": "code",
   "execution_count": null,
   "outputs": [],
   "source": [
    "train_cat_agg = train_data.groupby(\"customer_ID\")[categorical].agg(['count', 'last', 'nunique'])\n",
    "train_cat_agg.columns = ['_'.join(x) for x in train_cat_agg.columns]\n",
    "train_cat_agg.reset_index(inplace = True)\n",
    "train_cat_agg.drop(['customer_ID'], axis= 1, inplace= True)\n",
    "agg_cat_cols = train_cat_agg.columns\n",
    "train_cat_agg.head(10)"
   ],
   "metadata": {
    "collapsed": false
   }
  },
  {
   "cell_type": "code",
   "execution_count": null,
   "outputs": [],
   "source": [
    "train_data = pd.concat([train_num_agg, train_cat_agg], axis= 1)\n",
    "# train_data.to_csv('prep_catboost_train.csv', index=False)\n",
    "print('Saved preprocessed train data')\n",
    "print(f'Size of pandas DataFrame in GB: {mem_usage_gb(train_data)}')\n",
    "print(f'Size of saved CSV in GB: {file_mem_usage_gb(\"prep_catboost_train.csv\")}')\n",
    "mem = {\n",
    "    key: value\n",
    "    for key, value in sorted(\n",
    "        [\n",
    "            (x, sys.getsizeof(globals().get(x)))\n",
    "            for x in dir()\n",
    "            if not x.startswith(\"_\") and x not in sys.modules and x not in ipython_vars\n",
    "        ],\n",
    "        key=lambda x: x[1],\n",
    "        reverse=True,\n",
    "    )\n",
    "}\n",
    "print(mem, round(sum(mem.values()) / 1e6, 2))"
   ],
   "metadata": {
    "collapsed": false
   }
  },
  {
   "cell_type": "code",
   "execution_count": null,
   "outputs": [],
   "source": [
    "del train_data\n",
    "del train_cat_agg\n",
    "del train_num_agg\n",
    "gc.collect()\n",
    "print('Delete train dataset and do gc')\n",
    "mem = {\n",
    "    key: value\n",
    "    for key, value in sorted(\n",
    "        [\n",
    "            (x, sys.getsizeof(globals().get(x)))\n",
    "            for x in dir()\n",
    "            if not x.startswith(\"_\") and x not in sys.modules and x not in ipython_vars\n",
    "        ],\n",
    "        key=lambda x: x[1],\n",
    "        reverse=True,\n",
    "    )\n",
    "}\n",
    "print(mem, round(sum(mem.values()) / 1e6, 2))"
   ],
   "metadata": {
    "collapsed": false
   }
  },
  {
   "cell_type": "code",
   "execution_count": null,
   "outputs": [],
   "source": [
    "test_data = pd.read_csv('test_data.csv', dtype=dtype_dict)\n",
    "test_agg_num = test_data.groupby(\"customer_ID\")[numerical].agg(['mean', 'std', 'min', 'max', 'last'])\n",
    "test_agg_cat = test_data.groupby(\"customer_ID\")[categorical].agg(['count', 'last', 'nunique'])\n",
    "test_agg_num.columns = ['_'.join(x) for x in test_agg_num.columns]\n",
    "test_agg_num.reset_index(inplace = True)\n",
    "test_agg_cat.columns = ['_'.join(x) for x in test_agg_cat.columns]\n",
    "test_agg_cat.reset_index(inplace = True)\n",
    "test_agg_cat.drop(['customer_ID'], axis= 1, inplace= True)"
   ],
   "metadata": {
    "collapsed": false
   }
  },
  {
   "cell_type": "code",
   "execution_count": null,
   "outputs": [],
   "source": [
    "test_data = pd.concat([test_agg_num, test_agg_cat], axis= 1)\n",
    "# test_data.to_csv('prep_catboost_test.csv', index=False)\n",
    "print('Saved preprocessed test data')\n",
    "print(f'Size of pandas DataFrame in GB: {mem_usage_gb(test_data)}')\n",
    "print(f'Size of saved CSV in GB: {file_mem_usage_gb(\"prep_catboost_test.csv\")}')\n",
    "mem = {\n",
    "    key: value\n",
    "    for key, value in sorted(\n",
    "        [\n",
    "            (x, sys.getsizeof(globals().get(x)))\n",
    "            for x in dir()\n",
    "            if not x.startswith(\"_\") and x not in sys.modules and x not in ipython_vars\n",
    "        ],\n",
    "        key=lambda x: x[1],\n",
    "        reverse=True,\n",
    "    )\n",
    "}\n",
    "print(mem, round(sum(mem.values()) / 1e6, 2))"
   ],
   "metadata": {
    "collapsed": false
   }
  },
  {
   "cell_type": "code",
   "execution_count": null,
   "outputs": [],
   "source": [
    "del test_data\n",
    "del test_agg_cat\n",
    "del test_agg_num\n",
    "gc.collect()\n",
    "print('Delete train dataset and do gc')\n",
    "mem = {\n",
    "    key: value\n",
    "    for key, value in sorted(\n",
    "        [\n",
    "            (x, sys.getsizeof(globals().get(x)))\n",
    "            for x in dir()\n",
    "            if not x.startswith(\"_\") and x not in sys.modules and x not in ipython_vars\n",
    "        ],\n",
    "        key=lambda x: x[1],\n",
    "        reverse=True,\n",
    "    )\n",
    "}\n",
    "print(mem, round(sum(mem.values()) / 1e6, 2))"
   ],
   "metadata": {
    "collapsed": false
   }
  },
  {
   "cell_type": "code",
   "execution_count": null,
   "outputs": [],
   "source": [
    "cat_cols = agg_cat_cols.tolist()\n",
    "file = open('cat_cols.txt', 'wb')\n",
    "pickle.dump(cat_cols, file)\n",
    "file.close()"
   ],
   "metadata": {
    "collapsed": false
   }
  },
  {
   "cell_type": "code",
   "execution_count": null,
   "outputs": [],
   "source": [],
   "metadata": {
    "collapsed": false
   }
  }
 ],
 "metadata": {
  "kernelspec": {
   "display_name": "Python 3",
   "language": "python",
   "name": "python3"
  },
  "language_info": {
   "codemirror_mode": {
    "name": "ipython",
    "version": 2
   },
   "file_extension": ".py",
   "mimetype": "text/x-python",
   "name": "python",
   "nbconvert_exporter": "python",
   "pygments_lexer": "ipython2",
   "version": "2.7.6"
  }
 },
 "nbformat": 4,
 "nbformat_minor": 0
}
